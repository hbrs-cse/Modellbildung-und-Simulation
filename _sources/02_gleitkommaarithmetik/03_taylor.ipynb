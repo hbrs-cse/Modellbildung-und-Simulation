{
 "cells": [
  {
   "cell_type": "markdown",
   "id": "e65ad3cb",
   "metadata": {},
   "source": [
    "````{grid} 2\n",
    "```{grid-item-card}\n",
    ":class-header: bg-light\n",
    "Voraussetzungen\n",
    "^^^\n",
    "- Programmier-Grundlagen\n",
    "```\n",
    "```{grid-item-card}\n",
    ":class-header: bg-light\n",
    "Lerninhalte\n",
    "^^^\n",
    "- Einblick in die Nutzung von Taylorpolynomen\n",
    "```\n",
    "````\n"
   ]
  },
  {
   "cell_type": "markdown",
   "id": "41ed3cae",
   "metadata": {
    "tags": []
   },
   "source": [
    "(taylor)=\n",
    "# Funktionen mit Taylorpolynomen berechnen\n",
    "\n",
    "Um Funktionen wie $\\sin(x)$, $\\cos(x)$ oder $\\ln(x)$ zu berechnen, können Sie einen Trick nutzen: Sie approximieren die Funktion als zusammengesetztes Polynom. Dieses Polynom ist nicht etwa ein beliebiges, experimentell bestimmtes Polynom, sondern ein Taylorpolynom. Diese ergeben sich aus einer \"nur\" endlich berechneten Taylorreihe. Die Taylorreihe kann jede glatte Funktion darstellen als\n",
    "\n",
    "$$f(x) = \\sum_{n=0}^{\\infty}\\frac{f^{(n)}(x_0)}{n!}(x-x_0)^n$$\n",
    "\n",
    ", mit $x_0$ dem *Entwicklungspunkt* der Reihe. Das Taylor*polynom* ist also\n",
    "\n",
    "$$f(x) \\approx T_{f,x_0}(x) = \\sum_{n=0}^{N}\\frac{f^{(n)}(x_0)}{n!}(x-x_0)^n$$\n",
    "\n",
    "Der durch den sogenannten *Abbruch bei $N$* gemachte Fehler ist nahe an $x_0$ noch überschaubar, kann aber bei größeren Abständen schnell sehr groß werden. Er lässt sich schätzen, in dieser Übung wollen wir aber einfach ein \"Gespür\" für die Genauigkeit der Taylorreihe erhalten. Nehmen wir dazu die Funktion $\\sin(\\varphi)$.\n",
    "\n",
    "```{admonition} Hinweis\n",
    "Anstelle der Approximation durch Taylorpolynome nutzen Taschenrechner den [CORDIC Algorithmus](https://de.wikipedia.org/wiki/CORDIC), der noch besser funktioniert. Den wollen wir hier einmal beiseite lassen und uns vorstellen, dass Taylorpolynome state-of-the-art sind.\n",
    "```\n",
    "\n",
    "## $\\sin(\\varphi)$ für kleine Winkel\n",
    "\n",
    "```{image} images/pendulum.png\n",
    ":alt: Name of image\n",
    ":width: 400px\n",
    ":align: center\n",
    "```\n",
    "\n",
    "In den Ingenieurswissenschaften ist häufig die Rede von der *Kleinwinkelnäherung* mit $\\sin(\\varphi) \\approx \\varphi$. Dies folgt daher, dass das Erste Taylorpolynom um $\\varphi_0 = 0$ den $\\sin(\\varphi)$ bis zu Winkeln von $5°$ (etwa $0.087$ Radiant) sehr gut annähert:\n",
    "\n",
    "$$\\begin{align}\n",
    "T_1 \\sin(\\varphi,0) &= \\sum_{n=0}^{1}\\frac{f^{(n)}(0)}{n!}(x-0)^n\\\\\n",
    "&= \\frac{f^{(0)}(0)}{0!}(\\varphi)^0 + \\frac{f^{(1)}(0)}{1!}(\\varphi)^1\\\\\n",
    "&= \\frac{\\sin(0)}{1}1 + \\frac{\\cos(0)}{1}\\varphi\\\\\n",
    "&= \\varphi\n",
    "\\end{align}$$\n",
    "\n",
    "Berechnen Sie die maximale (absolute) Abweichung der Kleinwinkelnäherung auf dem Intervall $\\varphi \\in [0,0.1]$ mit einer Auflösung von 100 Punkten. Überzeugen Sie sich davon mit einem kleinen Plot."
   ]
  },
  {
   "cell_type": "code",
   "execution_count": null,
   "id": "8522eb00",
   "metadata": {},
   "outputs": [],
   "source": [
    "phispan = ...\n",
    "sin_phi = ...\n",
    "T_1     = ...\n",
    "error   = ... % absolute error throughout the interval\n",
    "maxerror= ... % maximum error across interval\n",
    "plot(phispan, T_1, phispan, sin(phispan))\n",
    "figure\n",
    "plot(phispan, error)"
   ]
  },
  {
   "cell_type": "markdown",
   "id": "d46c0735-0503-45d6-8309-a8bf48c2bb24",
   "metadata": {},
   "source": [
    "## Wann versagt die Kleinwinkelnäherung?\n",
    "\n",
    "Erweitern Sie das Intervall auf $\\varphi \\in [-\\pi,\\pi]$. Wann überschreitet der Fehler eine Schranke `atol`?\n",
    "\n",
    "```{admonition} Tipp\n",
    ":class: tip\n",
    "Nutzen Sie hierfür die Kontrollstruktur `phispan(error<atol)`.\n",
    "```"
   ]
  },
  {
   "cell_type": "code",
   "execution_count": null,
   "id": "e54baf60-7b87-44bf-bebe-e7eb5a3043e0",
   "metadata": {},
   "outputs": [],
   "source": [
    "phispan = linspace(-pi,pi,1000);\n",
    "sin_phi = ...\n",
    "T_1     = ...\n",
    "error   = ... % absolute error throughout the interval\n",
    "maxerror= ... % maximum error across interval\n",
    "plot(phispan, T_1, phispan, sin(phispan), phispan, error)\n",
    "atol    = ...\n",
    "min(phispan(error<atol))\n",
    "max(phispan(error<atol))\n"
   ]
  },
  {
   "cell_type": "markdown",
   "id": "a28a33b7",
   "metadata": {
    "tags": []
   },
   "source": [
    "## $\\sin(\\varphi)$ mit Taylorpolynomen höheren Grades\n",
    "\n",
    "Vergleichen Sie nun Ihre Lösung mit der dritten und fünften Taylorpolynom ($N = 3$ und $N = 5$) auf dem Intervall $\\varphi = [0,\\pi/6]$. Schreiben Sie hierzu eine `function`, die die Taylorpolynome für beliebige Grade berechnet.\n",
    "\n",
    "Versuchen Sie, das Taylorpolynom $T_N \\sin(\\varphi,0)$ möglichst weit zu vereinfachen. Sollten Sie nicht weiter kommen, klappen Sie das Fenster aus.\n",
    "\n",
    "```{toggle}\n",
    "Nach einer kurzen Internetrecherche finden Sie folgende Vereinfachung der Taylorpolynome der Sinusfunktion (hier wird jedes gerade Glied der Taylorreihe übersprungen, da $\\sin(2n \\pi)=0$).\n",
    "\n",
    "$$T_K \\sin(\\varphi,0) = \\sum_{k=0}^K (-1)^k \\frac{\\varphi^{2k+1}}{(2k+1)!}$$\n",
    "\n",
    "Hier entspricht $K$ nicht mehr dem Grad des Taylorpolynoms, da jedes zweite Glied übersprungen wurde. Stattdessen ist $K= \\text{floor}(\\frac{N-1}{2})$.\n",
    "\n",
    "```"
   ]
  },
  {
   "cell_type": "code",
   "execution_count": null,
   "id": "1ee22e98-33e1-47e0-8202-caf9b8bf7200",
   "metadata": {},
   "outputs": [],
   "source": [
    "function taylor_sin(phi0,phispan,n)\n",
    "    ...\n",
    "end"
   ]
  },
  {
   "cell_type": "code",
   "execution_count": null,
   "id": "808aeac7",
   "metadata": {},
   "outputs": [],
   "source": [
    "phispan    = ...\n",
    "sin_phi    = ...\n",
    "T_1        = ...\n",
    "error_1    = ...\n",
    "maxerror_1 = ...\n",
    "T_3        = ...\n",
    "error_3    = ...\n",
    "maxerror_3 = ...\n",
    "T_5        = ...\n",
    "error_5    = ...\n",
    "maxerror_5 = ...\n",
    "plot(phispan, T_1, phispan, T_3, phispan, T_5, phispan, sin(phispan), phispan, error_1, phispan, error_3, phispan, error_5)"
   ]
  },
  {
   "cell_type": "markdown",
   "id": "c5bf58f3",
   "metadata": {},
   "source": [
    "## Ermittlung der notwendigen Entwicklungsgrade\n",
    "\n",
    "Nun wollen wir $\\sin(\\varphi)$ für das gesamte Intervall $\\varphi = [0,\\pi/2]$ also $0$ bis $90°$ mit Hilfe von Polynomen berechnen können. Wir wissen, dass Taschenrechner zehn Nachkommastellen ausgeben. Diese Toleranz wollen wir auch einhalten."
   ]
  },
  {
   "cell_type": "code",
   "execution_count": null,
   "id": "cb42737f",
   "metadata": {},
   "outputs": [],
   "source": [
    "atol      = ...\n",
    "n         = 0;\n",
    "phispan   = ...\n",
    "\n",
    "while ...\n",
    "    n      = n+1;\n",
    "    T_n    = ...\n",
    "    ...\n",
    "end\n",
    "\n",
    "maxerror\n",
    "plot(phispan, T_n, phispan, sin(phispan))\n",
    "legend(['T_', num2str(n)],'MATLAB-sin')"
   ]
  },
  {
   "cell_type": "markdown",
   "id": "3e4b98eb",
   "metadata": {},
   "source": [
    "```{image} images/T_15.png\n",
    ":alt: Name of image\n",
    ":width: 800px\n",
    ":align: center\n",
    "```\n",
    "\n",
    "## Genauigkeit vs. Rechenaufwand\n",
    "\n",
    "Gehen Sie davon aus, dass Sie den Sinus nun durch ein Polynom von Ordnung `N` approximiert und die Faktoren im Arbeitsspeicher abgelegt haben. \"Folgen\" Sie dem Rechner, wenn Sie $\\sin(\\varphi)$ so berechnen. Ermitteln Sie mit Stift und Papier die Anzahl von Rechenoperationen pro Funktionsaufruf."
   ]
  },
  {
   "cell_type": "markdown",
   "id": "e5e3a815-06ed-4ae7-8562-94e9c8156e52",
   "metadata": {},
   "source": [
    "## Berechnung über aneinander gekettete Taylorpolynome\n",
    "\n",
    "Bisher haben wir die Genauigkeit erhöht, indem wir den Polynomgrad erhöht haben. Alternativ können wir auch den Entwicklungspunkt $\\varphi_0$ verändern.\n",
    "\n",
    "Wir können also $\\sin(\\varphi)$ aus mehreren Taylorpolynomen mit unterschiedlichen Entwicklungspunkten $\\varphi_0$ zusammensetzen. Modifizieren Sie Ihr Skript so, dass die Berechnung der Faktoren zwischen Funktionswerten des Sinus durchgeführt wird, die Ihnen bereits bekannt sind:\n",
    "\n",
    "$$\\begin{align}\n",
    "\\sin(0)&=0, & \\\\\n",
    "\\sin(30°)&=\n",
    "\\sin\\left(\\frac{\\pi}{6}\\right)&=\n",
    "\\frac{1}{2},\\\\\n",
    "\\sin(45°)&=\n",
    "\\sin\\left(\\frac{\\pi}{4}\\right)&=\n",
    "\\frac{1}{\\sqrt{2}},\\\\\n",
    "\\sin(60°)&=\n",
    "\\sin\\left(\\frac{\\pi}{3}\\right)&=\n",
    "\\frac{\\sqrt{3}}{2},\\\\\n",
    "\\sin(90°)&=\n",
    "\\sin\\left(\\frac{\\pi}{2}\\right)&=\n",
    "1.\n",
    "\\end{align}$$\n",
    "\n",
    "Vergleichen Sie die beiden Herangehensweisen: Lohnt es sich, die Taylorpolynome über unterschiedliche Entwicklungspunkte (und damit unterschiedliche Intervalle) abzulegen? Wie viele Rechenoperationen werden nun pro Funktionsaufruf benötigt? Wie viele Kennwerte müssen Sie abspeichern?"
   ]
  },
  {
   "cell_type": "code",
   "execution_count": null,
   "id": "a25fb1da",
   "metadata": {},
   "outputs": [],
   "source": [
    "%% your code here"
   ]
  },
  {
   "cell_type": "markdown",
   "id": "758413c9",
   "metadata": {},
   "source": [
    "```{image} images/T_bits.png\n",
    ":alt: Name of image\n",
    ":width: 800px\n",
    ":align: center\n",
    "```\n",
    "\n",
    "```{admonition} Hinweis\n",
    "[Hier](https://share.streamlit.io/hbrs-cse/truncated-taylor-series/main) finden Sie eine sehr anschauliche Webanwendung mit einer Taylor-Approximation zum \"Herumspielen\".\n",
    "```"
   ]
  },
  {
   "cell_type": "markdown",
   "id": "3ac9f857",
   "metadata": {},
   "source": [
    "**Herzlichen Glückwunsch!** Sie haben geschafft, die Sinusfunktion **und** die Cosinusfunktion auf zehn Nachkommastellen genau zu berechnen, indem Sie im Speicher Ihres Taschenrechners lediglich einige Stützstellen, die Faktoren der Polynome sowie die Rechenvorschrift für die Symmetrien der Kreisfunktionen einspeichern."
   ]
  }
 ],
 "metadata": {
  "kernelspec": {
   "display_name": "Octave",
   "language": "octave",
   "name": "octave"
  },
  "language_info": {
   "file_extension": ".m",
   "help_links": [
    {
     "text": "GNU Octave",
     "url": "https://www.gnu.org/software/octave/support.html"
    },
    {
     "text": "Octave Kernel",
     "url": "https://github.com/Calysto/octave_kernel"
    },
    {
     "text": "MetaKernel Magics",
     "url": "https://metakernel.readthedocs.io/en/latest/source/README.html"
    }
   ],
   "mimetype": "text/x-octave",
   "name": "octave",
   "version": "5.2.0"
  }
 },
 "nbformat": 4,
 "nbformat_minor": 5
}
