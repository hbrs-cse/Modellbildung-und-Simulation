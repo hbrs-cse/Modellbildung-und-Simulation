{
 "cells": [
  {
   "cell_type": "markdown",
   "metadata": {},
   "source": [
    "````{grid} 2\n",
    "```{grid-item-card}\n",
    ":class-header: bg-light\n",
    "Voraussetzungen\n",
    "^^^\n",
    "- mathematische Grundlagen der Fouriertransformation\n",
    "```\n",
    "```{grid-item-card}\n",
    ":class-header: bg-light\n",
    "Lerninhalte\n",
    "^^^\n",
    "- Anwendung der Fouriertransformation als Frequenzfilter (digitaler Filter)\n",
    "```\n",
    "````\n"
   ]
  },
  {
   "cell_type": "markdown",
   "metadata": {},
   "source": [
    "(dft_filter)=\n",
    "# Filtern verrauschter Signale\n",
    "\n",
    "Analysieren Sie das Frequenz- und Amplitudenspektrum des Signals\n",
    "\n",
    "$$\n",
    "S = a_1 \\sin(2 \\pi f_1 t) + a_2 \\sin(2 \\pi f_2 t) + a_3 \\sin(2 \\pi f_3 t)\n",
    "$$\n",
    "\n",
    "mit $a_1 = 0.3$, $a_2 = 0.1$, $a_3=0.4$ und $f_1 = 50$ Hz, $f_2 = 40$ Hz und $f_3 = 30$ Hz und zufällig aufgeprägtem Rauschen. Machen Sie sich dazu mit der Matlab-Funktion `fft` vertraut und lassen Sie sich das Frequenzspektrum grafisch ausgeben.\n",
    "\n",
    "```{image} images/verrauschtesSignal.jpg\n",
    ":align: center\n",
    "```\n",
    "\n",
    "Verwenden Sie dann einen digitalen Filter, um das Rauschen des Signals zu unterdrücken und vergleichen anschließend das gefilterte mit dem unverrauschten Signal S. Wie könnten Sie den Filter konstruieren? Experimentieren Sie mit unterschiedlich stark verrauschten Signalen.\n",
    "\n",
    "```{admonition} Hinweis\n",
    "Das Signal mit normalverteiltem Rauschen können Sie wie folgt erzeugen:\n",
    "```"
   ]
  },
  {
   "cell_type": "code",
   "execution_count": null,
   "metadata": {},
   "outputs": [],
   "source": [
    "t = linspace(0, 0.1, 1000);\n",
    "S = a1*sin(2*pi*f1*t) + a2*sin(2*pi*f2*t) + a3*sin(2*pi*f3*t);\n",
    "S_noise = S + sqrt(noise_variance)*randn(size(t));"
   ]
  }
 ],
 "metadata": {
  "kernelspec": {
   "display_name": "Octave",
   "language": "octave",
   "name": "octave"
  },
  "language_info": {
   "file_extension": ".m",
   "help_links": [
    {
     "text": "GNU Octave",
     "url": "https://www.gnu.org/software/octave/support.html"
    },
    {
     "text": "Octave Kernel",
     "url": "https://github.com/Calysto/octave_kernel"
    },
    {
     "text": "MetaKernel Magics",
     "url": "https://metakernel.readthedocs.io/en/latest/source/README.html"
    }
   ],
   "mimetype": "text/x-octave",
   "name": "octave",
   "version": "5.2.0"
  }
 },
 "nbformat": 4,
 "nbformat_minor": 4
}
