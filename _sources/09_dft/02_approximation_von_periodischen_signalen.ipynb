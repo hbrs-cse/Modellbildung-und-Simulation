{
 "cells": [
  {
   "cell_type": "markdown",
   "metadata": {},
   "source": [
    "````{grid} 2\n",
    "```{grid-item-card}\n",
    ":class-header: bg-light\n",
    "Voraussetzungen\n",
    "^^^\n",
    "- mathematische Grundlagen der Fouriertransformation\n",
    "```\n",
    "```{grid-item-card}\n",
    ":class-header: bg-light\n",
    "Lerninhalte\n",
    "^^^\n",
    "- Implementierung einer diskreten Fouriertransformation\n",
    "```\n",
    "````\n"
   ]
  },
  {
   "cell_type": "markdown",
   "metadata": {},
   "source": [
    "(dft_intro)=\n",
    "# Approximation von periodischen Signalen\n",
    "\n",
    "## Aufgabe 1: Rechteckssignal\n",
    "\n",
    "Entwickeln Sie eine Matlab/Octave-Funktion, mit deren Hilfe Sie ein Rechtecksignal mit vorgegebener Frequenz `freq` durch Überlagerung von Sinus- und Kosinusfunktionen erzeugen können. Da Sie die dafür nötige Reihe nicht unendlich genau berechnen können, muss dabei die maximal auftretende Frequenz der verwendeten harmonischen Schwingungen $f_{max}$ beschränkt werden.\n",
    "\n",
    "*Verwenden Sie nicht die `fft` Funktion. Berechnen Sie die Koeffizienten von Hand vor.*\n",
    "\n",
    "```{image} images/rechteckSignal.png\n",
    ":align: center\n",
    "```\n"
   ]
  },
  {
   "cell_type": "code",
   "execution_count": null,
   "metadata": {
    "tags": [
     "remove-output"
    ]
   },
   "outputs": [],
   "source": [
    "%%file fourier_approx_rectangular.m\n",
    "function a = fourier_approx_rectangular(amplitude, freq, f_max)\n",
    "% calculates the complex Fourier coefficients of a periodic rectangular signal.\n",
    "%\n",
    "% amplitude denotes the amplitude of the input signal [unit implied]\n",
    "% freq denotes the frequency of the input signal [Hz]\n",
    "% f_max denotes the highest frequency to be used for the approximation [Hz]\n",
    "% \n",
    "%  INSERT CODE HERE\n",
    "%"
   ]
  },
  {
   "cell_type": "markdown",
   "metadata": {},
   "source": [
    "Betrachten Sie dann eine Periode des so erzeugten Signals und lösen diese mit 1000 Punkten auf. Wie groß ist für eine gegebene Amplitude und Frequenz die betraglich größte Abweichung für $f_{max}=10$ Hz, $f_{max} = 50$ Hz, $f_{max}=200$ Hz?"
   ]
  },
  {
   "cell_type": "code",
   "execution_count": null,
   "metadata": {},
   "outputs": [],
   "source": [
    "% SPACE FOR SOLUTION"
   ]
  },
  {
   "cell_type": "markdown",
   "metadata": {},
   "source": [
    "## Aufgabe 2: Sägezahnfunktion\n",
    "\n",
    "Wiederholen Sie Aufgabe 1 für die Sägezahnfunktion\n",
    "\n",
    "$$\n",
    "s(t) = 2Aft, \\:\\:\\:\\: t \\in \\left[-\\frac{T}{2}, \\frac{T}{2}\\:\\right)\n",
    "$$\n",
    "\n",
    "mit Amplitude $A$ und Frequenz $f=\\frac{1}{T}$.\n",
    "\n",
    "```{image} images/saegezahn.png\n",
    ":align: center\n",
    "```\n"
   ]
  },
  {
   "cell_type": "code",
   "execution_count": null,
   "metadata": {},
   "outputs": [],
   "source": [
    "%%file fourier_approx_rectangular.m\n",
    "function a = fourier_approx_sawtooth(amplitude, freq, f_max)\n",
    "% calculates the complex Fourier coefficients of a periodic sawtooth signal.\n",
    "%\n",
    "% amplitude denotes the amplitude of the input signal [unit implied]\n",
    "% freq denotes the frequency of the input signal [Hz]\n",
    "% f_max denotes the highest frequency to be used for the approximation [Hz]\n",
    "% \n",
    "%  INSERT CODE HERE\n",
    "%"
   ]
  },
  {
   "cell_type": "markdown",
   "metadata": {},
   "source": [
    "Betrachten Sie dann eine Periode des so erzeugten Signals und lösen diese mit 1000 Punkten auf. Wie groß ist für eine gegebene Amplitude und Frequenz die betraglich größte Abweichung für $f_{max}=10$ Hz, $f_{max} = 50$ Hz, $f_{max}=200$ Hz?"
   ]
  },
  {
   "cell_type": "code",
   "execution_count": null,
   "metadata": {},
   "outputs": [],
   "source": [
    "% SPACE FOR SOLUTION"
   ]
  }
 ],
 "metadata": {
  "kernelspec": {
   "display_name": "Octave",
   "language": "octave",
   "name": "octave"
  },
  "language_info": {
   "file_extension": ".m",
   "help_links": [
    {
     "text": "GNU Octave",
     "url": "https://www.gnu.org/software/octave/support.html"
    },
    {
     "text": "Octave Kernel",
     "url": "https://github.com/Calysto/octave_kernel"
    },
    {
     "text": "MetaKernel Magics",
     "url": "https://metakernel.readthedocs.io/en/latest/source/README.html"
    }
   ],
   "mimetype": "text/x-octave",
   "name": "octave",
   "version": "5.2.0"
  }
 },
 "nbformat": 4,
 "nbformat_minor": 4
}
