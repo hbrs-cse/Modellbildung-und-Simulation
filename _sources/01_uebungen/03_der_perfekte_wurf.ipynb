{
 "cells": [
  {
   "cell_type": "markdown",
   "metadata": {},
   "source": [
    "````{grid} 2\n",
    "```{grid-item-card}\n",
    ":class-header: bg-light\n",
    "Voraussetzungen\n",
    "^^^\n",
    "- Programmier-Grundlagen\n",
    "- Kinematik-Grundlagen\n",
    "```\n",
    "```{grid-item-card}\n",
    ":class-header: bg-light\n",
    "Lerninhalte\n",
    "^^^\n",
    "- vertiefte Übung der Modellbildung\n",
    "- Sensibilisierung für die mathematische Robustheit (Abweichung des Ergebnisses bei Abweichung der Eingabewerte) eines Modells\n",
    "```\n",
    "````\n"
   ]
  },
  {
   "cell_type": "markdown",
   "metadata": {
    "author": "Philipp Rosauer"
   },
   "source": [
    "(basketball)=\n",
    "# Der perfekte Wurf"
   ]
  },
  {
   "cell_type": "markdown",
   "metadata": {},
   "source": [
    "Man könnte annehmen, dass das (erfolgreiche) Werfen eines Freiwurfs für alle hochbezahlten Basketballstars eine reine Formalität ist. Erstaunlicherweise ist dem nicht so! Während der deutsche NBA Star Dirk Nowitzki in der Saison 2008/09 laut NBA Media Ventures (2009) immerhin eine Trefferquote von 89% hatte, gibt es andere NBA Superstars, die in dieser Hinsicht weniger erfolgreich sind. Ein prominentes Beispiel ist Shaquille O’Neal, der am Ende der Saison 2008/09 gerade einmal eine Trefferquote von 59% hatte, in seiner gesamten Karriere sogar nur eine Quote von 52.4%. Er ist kein Einzelfall: Fast ein Drittel der NBA-Spieler haben beim Freiwurf eine Trefferquote von weniger als 75%. Für uns stellt sich die Frage: Woher kommen diese Unterschiede und ist es eventuell möglich ein Modell zu erstellen, das den ’perfekten Wurf’ wiedergibt?\n",
    "\n",
    "```{image} https://upload.wikimedia.org/wikipedia/commons/f/f3/Three_point_shoot.JPG\n",
    ":alt: Wurf\n",
    ":align: center\n",
    "```\n",
    "<div style=\"text-align: right\"> Abbildung 1: \"Three point shoot by Sara Giauro (Phard Vomero Napoli) during FIBA Europe Cup Women Finals 2005 in Naples, Italy.\"<a href=\"https://commons.wikimedia.org/wiki/User:Finizio\" >Massimo Finizio</a>, <a href=\"https://creativecommons.org/licenses/by-sa/2.0/it/deed.en\" >[CC BY-SA 2.0]</a> via <a href=\"https://commons.wikimedia.org/wiki/File:Three_point_shoot.JPG\" > Wikimedia Commons</a></div> <br>"
   ]
  },
  {
   "cell_type": "markdown",
   "metadata": {},
   "source": [
    "## Modellbeschreibung\n",
    "In Abbildung 2 sind die Messungen eines aufgezeichneten Wurfes dargestellt. Der Ball geht ins Netz, wobei er knapp die Hände von Spieler B streift. Die Größe des Balles wird hier vernachlässigt und das Problem wird nur in zwei Dimensionen betrachtet. Der Ball vollführt eine geradlinige Bewegung in horizontaler Richtung und eine gleichförmig beschleunigte Bewegung in vertikaler Richtung. Das Koordinatensystem kann frei gewählt werden, hier wird der Ursprung an die Position des werfenden Spielers auf Bodenhöhe gelegt. Dabei soll die $x$-Achse in Richtung des Baseketballkorbes und die $y$-Achse nach oben zeigen.\n",
    "\n",
    "```{image} images/Perfekter_Wurf.png\n",
    ":alt: Wurf\n",
    ":width: 500px\n",
    ":align: center\n",
    "```\n",
    "\n",
    "<div style=\"text-align: right\"> Abbildung 2: Schematischer Basketballwurf mit Block.</div> <br>"
   ]
  },
  {
   "cell_type": "markdown",
   "metadata": {},
   "source": [
    "### Aufgabe 1: Aufstellen der Bewegungsgleichung\n",
    "Zunächst soll mit Bleistift und Papier die Grundlage geschaffen werden, um in den folgenden Aufgaben mit Hilfe von Matlab den Wurf eines Basketballes zu simulieren.\n",
    "Die Bewegungsgleichungen in $x$- und $y$-Richtung können leicht für die gegebene Bewegung hergeleitet werden.\n",
    "\n",
    "In $x$-Richtung wird der Ball nicht beschleunigt, er besitzt aber eine Anfangsgeschwindigkeit in $x$-Richtung $v_x$. Wegen der Wahl des Ursprungs gilt außerdem $x(t=0)=0$. "
   ]
  },
  {
   "cell_type": "markdown",
   "metadata": {},
   "source": [
    "a) Stellen Sie die Bewegungsgleichungen in x-Richtung auf.\n",
    "\n",
    "$x''(t) =$ \n",
    "\n",
    "$x'(t) =$ \n",
    "\n",
    "$x(t) =$"
   ]
  },
  {
   "cell_type": "markdown",
   "metadata": {},
   "source": [
    "In vertikaler Richtung wird der Ball mit der Erdbeschleunigung $g = 9.81 \\;\\mathrm{m/s^2}$ beschleunigt und besitzt eine Anfangsgeschwindigkeit in $y$-Richtung $v_y$ und eine Abwurfhöhe von $h_A$."
   ]
  },
  {
   "cell_type": "markdown",
   "metadata": {},
   "source": [
    "b) Stellen Sie die Bewegungsgleichungen in $y$-Richtung auf.\n",
    "\n",
    "$y''(t) =$\n",
    "\n",
    "$y'(t) =$ \n",
    "\n",
    "$y(t) =$ "
   ]
  },
  {
   "cell_type": "markdown",
   "metadata": {},
   "source": [
    "Mittels einfacher Trigonometrie können $x(t)$ und $y(t)$ als Funktionen des Abwurfwinkels $\\alpha$ und des Betrags $v_a$ ausgedrückt werden. Führen Sie sich diesen Zusammenhang, wenn nötig, mit Hilfe einer einfachen Skizze vor Augen."
   ]
  },
  {
   "cell_type": "markdown",
   "metadata": {},
   "source": [
    "c) Stellen Sie $x(t)$ und $y(t)$ als Funktionen des Abwurfwinkels dar.\n",
    "\n",
    "$x(t) =$\n",
    "\n",
    "$y(t) =$ "
   ]
  },
  {
   "cell_type": "markdown",
   "metadata": {},
   "source": [
    "## Modellierung\n",
    "Mit Hilfe der zuvor aufgestellen Bewegungsgleichungen sollen im Folgenden verschiedene Freiwurf-Szenarien simuliert werden."
   ]
  },
  {
   "cell_type": "markdown",
   "metadata": {},
   "source": [
    "### Aufgabe 2: Freiwurf eines punktförmigen Balles\n",
    "Schreiben Sie auf Basis der zuvor aufgestellten Bewegungsgleichungen ein Programm, in welchem Sie die Bahnkurve des Balls beim Freiwurf für beliebige Abwurfwinkel $\\alpha$ berechnen können. Am Ende dieser Seite steht dazu bereits ein Code-Gerüst. Dieses können Sie interaktiv auf dieser Seite nach und nach füllen und ausführen, oder in Matlab kopieren. Die Aufgaben sind so strukturiert, dass Sie Ihr Skript zur Lösung jeder weiteren Aufgabe erweitern können.\n",
    "\n",
    "Gehen Sie von einem punktförmigen Ball aus; einen gültigen Wurf erhalten Sie dann, wenn der Ball mittig im Korb landet. Binden Sie Korb und Brett in die Visualisierung ein. Verwenden Sie folgende Maße für die Beschreibung des Problems (Maße für alle Aufgabenteile):\n",
    "\n",
    "| Parameter | Wert $[\\mathrm{m}]$ |\n",
    "| - | - |\n",
    "| Abwurfhöhe | $2.31$ |\n",
    "| Korbhöhe | $3.05$ |\n",
    "| Korbradius | $0.225$ |\n",
    "| Wurfdistanz | $4.115$ |\n",
    "| Höhe Unterkante Brett | $2.9$ |\n",
    "| Vertikale Länge des Bretts | $1.05$ |\n",
    "| Abstand Brett-Korb | $0.15$ |\n",
    "\n",
    "\n"
   ]
  },
  {
   "cell_type": "markdown",
   "metadata": {},
   "source": [
    "#### a) Abwurfwinkel\n",
    "Überlegen Sie sich, welche Abwurfwinkel realistisch sind und legen Sie auf dieser Basis ein Intervall fest, für das Sie Würfe simulieren wollen. Plotten Sie innerhalb dieses Intervalls alle Bahnkurven im Abstand von 0.1 Grad. \n"
   ]
  },
  {
   "cell_type": "markdown",
   "metadata": {
    "tags": [
     "hide_input"
    ]
   },
   "source": [
    "```{image} images/basketball_1.png\n",
    ":alt: Ergebnis a.\n",
    ":align: center\n",
    "```\n",
    "\n",
    "<div style=\"text-align: right\"> Abbildung 3: Mögliche Flugbahnen des Basketballs bei einem Treffer mitten im Korb.</div> <br>"
   ]
  },
  {
   "cell_type": "markdown",
   "metadata": {},
   "source": [
    "#### b) Anpassen der Korbgröße\n",
    "Der Korb ist in der Realität größer als der Ball, so dass dieser für einen Treffer nicht exakt mittig durch den Korb fallen muss. Erweitern Sie ihr Programm so, dass der Ball an jedem Punkt durch den Korb fallen kann. Gehen Sie dann von $\\theta = 60^\\circ$ aus und variieren Sie die Anfangsgeschwindigkeit. Zwischen welchen Werten darf die Anfangsgeschwindigkeit nun für einen Treffer schwanken? Visualisieren Sie die Bahnkurve für die minimale, maximale und optimale (Ball landet mittig im Korb) Anfangsgeschwindigkeit. "
   ]
  },
  {
   "cell_type": "markdown",
   "metadata": {
    "tags": [
     "hide_input"
    ]
   },
   "source": [
    "```{image} images/basketball_2.png\n",
    ":alt: Ergebnis 2.\n",
    ":align: center\n",
    "```\n",
    "\n",
    "<div style=\"text-align: right\"> Abbildung 4: Grenzwerte möglicher Flugbahnen des Basketballs bei Treffern mittig im oder außen am Korb.</div> <br>"
   ]
  },
  {
   "cell_type": "markdown",
   "metadata": {},
   "source": [
    "#### c) Niemand ist perfekt!\n",
    "Niemand ist in der Lage den optimalen Abwurfwinkel bei jedem Wurf zu treffen, dieser schwankt in der Realität. Gehen Sie nun von $\\theta = 60^\\circ$ plus einem zufälligem Verwackler von $\\pm 5^\\circ$ (<u>im Mittel</u>, max. $\\pm 12^\\circ$) aus. Wie viele Treffer werden nach 1000 Würfen in etwa erzielt? (Mittelwert und Standardabweichung!)"
   ]
  },
  {
   "cell_type": "markdown",
   "metadata": {
    "tags": [
     "hide_input"
    ]
   },
   "source": [
    "```{image} images/basketball_3.png\n",
    ":alt: Ergebnis 3.\n",
    ":align: center\n",
    "```\n",
    "\n",
    "<div style=\"text-align: right\"> Abbildung 5: Flugbahnen mit abweichenden Abwurfwinkeln.</div> <br>"
   ]
  },
  {
   "cell_type": "markdown",
   "metadata": {},
   "source": [
    "#### d) Abweichungen in der Abwurfgeschwindigkeit\n",
    "Erweitern Sie Ihr Programm so, dass zusätzlich ein Fehler in der Abwurfgeschwindigkeit von $\\pm 0.5\\frac{\\mathrm{m}}{\\mathrm{s}}$ (<u>im Mittel</u>, max. $\\pm 1\\frac{\\mathrm{m}}{\\mathrm{s}}$) berücksichtigt wird. Wie viele Treffer werden mit dieser zusätzlichen Eigenschaft nach 1000 Würfen in etwa erzielt ($\\theta = 60^\\circ$)?"
   ]
  },
  {
   "cell_type": "markdown",
   "metadata": {
    "tags": [
     "hide_input"
    ]
   },
   "source": [
    "```{image} images/basketball_4.png\n",
    ":alt: Ergebnis 4.\n",
    ":align: center\n",
    "```\n",
    "\n",
    "<div style=\"text-align: right\"> Abbildung 6: Flugbahnen mit abweichenden Abwurfwinkeln und -geschwindigkeiten.</div> <br>"
   ]
  },
  {
   "cell_type": "markdown",
   "metadata": {},
   "source": [
    "#### e) Bank Shots erlaubt!\n",
    "Erweitern Sie Ihr Programm so, dass der Ball beim Auftreffen am Brett ideal elastisch zurückgestoßen wird. Wie viele Treffer werden nun erzielt ($\\theta = 60^\\circ$)? \n",
    "```{admonition} Hinweis \n",
    "Beachten Sie den Abstand zwischen Korb und Brett.\n",
    "```"
   ]
  },
  {
   "cell_type": "markdown",
   "metadata": {
    "tags": [
     "hide_input"
    ]
   },
   "source": [
    "```{image} images/basketball_5.png\n",
    ":alt: Ergebnis 5.\n",
    ":align: center\n",
    "```\n",
    "\n",
    "<div style=\"text-align: right\"> Abbildung 7: Mögliche Flugbahnen des Basketballs um den Korb direkt oder über das Brett zu treffen.</div> <br>"
   ]
  },
  {
   "cell_type": "markdown",
   "metadata": {},
   "source": [
    "#### f) Ausblick\n",
    "Nennen Sie mindestens drei Einflussfaktoren eines realen Basketballwurfes, die bisher nicht in das Modell eingeflossen sind. Beschreiben Sie kurz (3-5 Sätze) wie Sie das Modell um mindestens einen dieser Faktoren möglichst einfach erweitern könnten. Stellen Sie sich vor, Sie sind Coach und möchten Ihr Modell im Training einsetzen. Was kann Ihre Mannchaft aus Ihren Simulationen lernen? Schreiben Sie 3-5 Sätze dazu. Wie können Sie Ihr Modell durch Messungen im Training validieren? **keine Programmierung**"
   ]
  },
  {
   "cell_type": "code",
   "execution_count": null,
   "metadata": {
    "tags": [
     "hide_output"
    ]
   },
   "outputs": [],
   "source": [
    "% Umgebungskonstanten\n",
    "\n",
    "\n",
    "% Wurfparameter\n",
    "\n",
    "\n",
    "% Wurfwinkel\n",
    "%Vorgabe von Winkelintervallen\n",
    "\n",
    "\n",
    "% Wurfgeschwindigkeit\n",
    "\n",
    "\n",
    "% Visualisierungsparameter\n",
    "\n",
    "\n",
    "%%%% HAUPTPROGRAMM\n",
    "% Berechnung der Sollwinkel für alle Würfe\n",
    "\n",
    "% Berechnung der Sollgeschwindigkeit für alle Würfe\n",
    "\n",
    "\n",
    "% Berechnen der optimalen Geschwindigkeiten in m/s,\n",
    "% falls keine Geschwindigkeit vorgegeben\n",
    "\n",
    "\n",
    "% Hilfsvariablen\n",
    "\n",
    "\n",
    "% Schleife über mehrere Wurfserien\n",
    "for s=1:n_serien\n",
    "    \n",
    "    %Vorinitialisierung von Vektoren\n",
    "\n",
    "    \n",
    "    % Schleife über Würfe\n",
    "    for i = 1:n_wuerfe\n",
    "        \n",
    "        % Addieren von zufälligen Winkelabweichungen\n",
    "  \n",
    "        \n",
    "        % Addieren von Zufällige Geschwindigkeitsabweichungen\n",
    "\n",
    "        \n",
    "        % Berechnung der Ballhöhe am Brett\n",
    "\n",
    "        \n",
    "        % Trifft Ball das Brett?\n",
    " \n",
    "        \n",
    "        % Berechnung der Weite bei Korbhöhe\n",
    "\n",
    "        \n",
    "        % Zählen der direkten Treffer\n",
    "  \n",
    "        \n",
    "        % Zählen der Treffer über Brettabpraller\n",
    "\n",
    "        \n",
    "        % Berechnung der Trajektorien\n",
    "        \n",
    "    end\n",
    "    % Änderung der Trajektorien bei Abprallern\n",
    "\n",
    "    \n",
    "    % Plot der gewünschten Flugkurven\n",
    "\n",
    "    end\n",
    "    \n",
    "    \n",
    "    % Koordinatensystem\n",
    "\n",
    "    \n",
    "    % Plot des Korbes und des Brettes\n",
    "\n",
    "    \n",
    "    % Ausgabe der Trefferstatistik für diese Wurfserie\n",
    "\n",
    "    \n",
    "end\n",
    "\n",
    "% Statistik über alle Wurfserien\n",
    "\n",
    "\n"
   ]
  },
  {
   "cell_type": "markdown",
   "metadata": {},
   "source": [
    "\n"
   ]
  }
 ],
 "metadata": {
  "kernelspec": {
   "display_name": "Octave",
   "language": "octave",
   "name": "octave"
  },
  "language_info": {
   "file_extension": ".m",
   "help_links": [
    {
     "text": "GNU Octave",
     "url": "https://www.gnu.org/software/octave/support.html"
    },
    {
     "text": "Octave Kernel",
     "url": "https://github.com/Calysto/octave_kernel"
    },
    {
     "text": "MetaKernel Magics",
     "url": "https://metakernel.readthedocs.io/en/latest/source/README.html"
    }
   ],
   "mimetype": "text/x-octave",
   "name": "octave",
   "version": "5.2.0"
  }
 },
 "nbformat": 4,
 "nbformat_minor": 4
}
