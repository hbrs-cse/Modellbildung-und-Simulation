{
 "cells": [
  {
   "cell_type": "markdown",
   "metadata": {},
   "source": [
    "````{grid} 2\n",
    "```{grid-item-card}\n",
    ":class-header: bg-light\n",
    "Voraussetzungen\n",
    "^^^\n",
    "- Programmier-Grundlagen, insbesondere im Umgang mit Matritzen bzw. Arrays\n",
    "```\n",
    "```{grid-item-card}\n",
    ":class-header: bg-light\n",
    "Lerninhalte\n",
    "^^^\n",
    "- Softwareimplementierung von allgemein definierten Regeln und Verhaltensweisen\n",
    "- Implementierung von Auswahlmöglichkeiten\n",
    "- Umgang mit Funktionen und instanzierten Aufrufen innerhalb der Software\n",
    "- Visualisierung von Daten\n",
    "```\n",
    "````\n"
   ]
  },
  {
   "cell_type": "markdown",
   "metadata": {},
   "source": [
    "(gol)=\n",
    "# Game of Life\n",
    "\n",
    "Conway’s Game of Life (dt. Spiel des Lebens) wurde 1970 von dem Mathematiker John Horton Conway entwickelt und basiert auf einem zweidimensionalen zellulären Automaten.\n"
   ]
  },
  {
   "cell_type": "markdown",
   "metadata": {},
   "source": [
    "## Das Spielfeld\n",
    "\n",
    "Das Spielfeld besteht aus Feldern, die schachbrettartig in Zeilen und Spalten angeordnet sind und ist im Idealfall unendlich groß. Jedes Feld stellt einen zellulären Automaten dar und wird hier auch Zelle genannt.\n",
    "\n",
    "Zellen können einen von zwei Zuständen annehmen. Diese werden oft 'lebendig' bzw. 'tot' genannt. \n",
    "\n",
    "Beim Spielen des Spiels wird zunächst eine (zufällige) Anfangsgeneration von lebenden Zellen auf dem Spielfeld platziert. Jede Zelle hat genau acht Nachbarzellen, die zur Bestimmung der Folgegeneration berücksichtigt werden müssen. Die nächste Generation ergibt sich durch die Befolgung einfacher Regeln. \n",
    "\n",
    "```{image} images/GameOfLife_rnd_n100.gif\n",
    ":alt: GameOfLife\n",
    ":align: center\n",
    "```\n",
    "<div style=\"text-align: right\"> Abbildung 1: Beispiel für einen Game of Life Durchlauf mit zufälliger Startverteilung und n = 100 Iterationen.</div> <br>\n",
    "\n",
    "Das Spiel des Lebens kann mit Hilfe eines Computers simuliert (= gespielt) werden. Da in diesem Fall das Spielfeld immer endlich ist, muss es einen Rand haben, an dem die Regeln gesondert festgelegt werden müssen. \n",
    "Eine Möglichkeit ist, dass der Rand komplett durch tote/lebendige Zellen belegt ist. Eine Alternative sind sogenannte periodische Randbedingungen, bei denen alles, was das Spielfeld nach unten verlässt, oben wieder hereinkommt und umgekehrt bzw. alles, was das Spielfeld nach links verlässt, rechts wieder eintritt und umgekehrt."
   ]
  },
  {
   "cell_type": "markdown",
   "metadata": {},
   "source": [
    "## Die Spielregeln\n",
    "\n",
    "Die Folgegeneration wird für alle Zellen gleichzeitig berechnet und ersetzt die aktuelle Generation. Der Zustand einer Zelle (lebendig oder tot) in der Folgegeneration hängt nur vom aktuellen Zustand der Zelle selbst und den aktuellen Zuständen ihrer acht Nachbarzellen ab.\n",
    "\n",
    "Die von Conway ursprünglich verwendeten Regeln sind:\n",
    "\n",
    "- Eine tote Zelle mit genau drei lebenden Nachbarn wird in der Folgegeneration neu geboren\n",
    "\n",
    "\n",
    "- Lebende Zellen mit weniger als zwei lebenden Nachbarn sterben in der Folgegeneration an Einsamkeit\n",
    "\n",
    "\n",
    "- Eine lebende Zelle mit zwei oder drei lebenden Nachbarn bleibt in der Folgegeneration am Leben   \n",
    "\n",
    "\n",
    "- Lebende Zellen mit mehr als drei lebenden Nachbarn sterben in der Folgegeneration an Überbevölkerung\n",
    "    \n",
    "    \n",
    "    "
   ]
  },
  {
   "cell_type": "markdown",
   "metadata": {},
   "source": [
    "## Aufgabe 1\n",
    "\n",
    "Schreiben Sie einen Matlab Code, der ein quadratisches Spielfeld der Größe N x N anlegt. Implementieren Sie je eine Auswahl für verschiedene Anfangsgenerationen (siehe 1.2) bzw. verschiedene Spielfeldränder (siehe 1.3).\n",
    "\n",
    "\n",
    "### 1.1 Spielfeld\n",
    "\n",
    "Legen Sie fest, welche Größe Ihr quadratisches Spielfeld haben soll.\n",
    "\n",
    "\n"
   ]
  },
  {
   "cell_type": "code",
   "execution_count": null,
   "metadata": {},
   "outputs": [],
   "source": [
    "N = 10; % Größe des Spielfelds"
   ]
  },
  {
   "cell_type": "markdown",
   "metadata": {},
   "source": [
    "### 1.2 Anfangsgeneration\n",
    "\n",
    "Ermöglichen Sie eine Auswahl verschiedener Anfangsgenerationen:\n",
    "\n",
    "* Eine zufällige Verteilung von toten und lebendigen Zellen"
   ]
  },
  {
   "cell_type": "code",
   "execution_count": null,
   "metadata": {},
   "outputs": [],
   "source": [
    "% entweder Zufallsverteilung:\n",
    "% erzeugt ein quadratisches array der Größe (N x N) mit ganzzahligen Zufallswerten zwischen 0 und 1\n",
    "field = randi([0, 1], [N, N]); \n"
   ]
  },
  {
   "cell_type": "markdown",
   "metadata": {},
   "source": [
    "* Ein R-Pentomino in der Mitte des Spielfelds (siehe Abbildung 2). Hier soll die minimale Spielfeldgröße `N=10` betragen, selbst wenn `N` vorher kleiner gewählt wurde.\n",
    "\n",
    "   ```{image} images/GameOfLife_R_Pentomino.gif\n",
    "   :alt: R-Pentomino\n",
    "   :align: center\n",
    "   ```\n",
    "   <div style=\"text-align: right\"> Abbildung 2: Ein R-Pentomino in der Mitte des Spielfelds. Alle anderen Zellen haben hier den toten Zustand.</div> <br>"
   ]
  },
  {
   "cell_type": "code",
   "execution_count": null,
   "metadata": {},
   "outputs": [],
   "source": [
    "% R-Pentomino:\n",
    "field = R_pentomino(N);\n",
    "\n",
    "function field = R_pentomino(N)\n",
    "    if N < 10\n",
    "        N = 10;\n",
    "    end\n",
    "    \n",
    "    field = zeros(N, N);\n",
    "    mid = round(N/2);\n",
    "    field(mid-1, mid:mid+1) = 1;\n",
    "    ...\n",
    "    return\n",
    "end"
   ]
  },
  {
   "cell_type": "markdown",
   "metadata": {},
   "source": [
    "* Einen Glider in der Mitte des Spielfelds (siehe Abbildung 3). Auch hier soll die minimale Spielfeldgröße `N=10` betragen, selbst wenn `N` vorher kleiner gewählt wurde.\n",
    "\n",
    "   ```{image} images/GameOfLife_Glider.gif\n",
    "   :alt: Glider\n",
    "   :align: center\n",
    "   ```\n",
    "   <div style=\"text-align: right\"> Abbildung 3: Ein Glider in der Mitte des Spielfelds. Alle anderen Zellen haben hier den toten Zustand.</div> <br>"
   ]
  },
  {
   "cell_type": "code",
   "execution_count": null,
   "metadata": {},
   "outputs": [],
   "source": [
    "% Glider:\n",
    "field = Glider(N);\n",
    "\n",
    "function field = Glider(N)\n",
    "    if N < 10\n",
    "        N = 10;\n",
    "    end\n",
    "    \n",
    "    ...\n",
    "end"
   ]
  },
  {
   "cell_type": "markdown",
   "metadata": {},
   "source": [
    "* Ein Light Weight Spaceship (LWSS), Medium Weight Spaceship (MWSS) bzw. Heavy Weight Spaceship (HWSS) in der Mitte des Spielfelds (siehe Abbildunen 4-6). Hier soll die minimale Spielfeldgröße `N=20` betragen, selbst wenn `N` vorher kleiner gewählt wurde.\n",
    "\n",
    "   ```{image} images/GameOfLife_LWSS.gif\n",
    "   :alt: Light Weight Spaceship (LWSS)\n",
    "   :align: center\n",
    "   ```\n",
    "   <div style=\"text-align: right\"> Abbildung 4: Ein Light Weigth Spaceship (LWSS) in der Mitte des Spielfelds. Alle anderen Zellen haben hier den toten Zustand.</div> <br>\n",
    "   \n",
    "   \n",
    "   ```{image} images/GameOfLife_MWSS.gif\n",
    "   :alt: Medium Weight Spaceship (MWSS)\n",
    "   :align: center\n",
    "   ```\n",
    "   <div style=\"text-align: right\"> Abbildung 5: Ein Medium Weigth Spaceship (MWSS) in der Mitte des Spielfelds. Alle anderen Zellen haben hier den toten Zustand.</div> <br>\n",
    "   \n",
    "   \n",
    "   ```{image} images/GameOfLife_HWSS.gif\n",
    "   :alt: Heavy Weight Spaceship (HWSS)\n",
    "   :align: center\n",
    "   ```\n",
    "   <div style=\"text-align: right\"> Abbildung 6: Ein Heavy Weigth Spaceship (HWSS) in der Mitte des Spielfelds. Alle anderen Zellen haben hier den toten Zustand.</div> <br>"
   ]
  },
  {
   "cell_type": "code",
   "execution_count": null,
   "metadata": {},
   "outputs": [],
   "source": [
    "% Spaceships\n",
    "field = LWSS(N);\n",
    "\n",
    "function field = LWSS(N)\n",
    "    if N < 20\n",
    "        N = 20;\n",
    "    end\n",
    "    \n",
    "    ...\n",
    "end\n",
    "\n",
    "function field = MWSS(N)\n",
    "    ...\n",
    "end\n",
    "\n",
    "function field = HWSS(N)\n",
    "    ...\n",
    "end"
   ]
  },
  {
   "cell_type": "markdown",
   "metadata": {},
   "source": [
    "### 1.3 Spielfeldrand\n",
    "\n",
    "Realisieren Sie folgende Spielfeldränder, von denen immer genau eins ausgewählt sein soll:\n",
    "\n",
    "* Alle äußeren Zellen sind immer tot (`rule 1`)\n",
    "* Alle äußeren Zellen sind immer lebendig (`rule 2`)\n",
    "* Periodisches Spielfeld (siehe Abb. 7): Was links/rechts/oben/unten das Spielfeld verlässt kommt auf der gegenüberliegenden Seite wieder rein (`rule 3`)\n",
    "\n",
    "   ```{image} images/GameOfLife_PBC.png\n",
    "   :alt: Periodische Randbedingungen (periodic boundary conditions, PBC)\n",
    "   :align: center\n",
    "   ```\n",
    "   <div style=\"text-align: right\"> Abbildung 7: Beispiel für periodische Randbedingungen. Das Spielfelds wird oben/unten bzw. links/rechts an sich selbst kopiert. Etwas das z.B. rechts das Spielfeld verlassen würde kommt so auf der linken Seite wieder rein.</div> <br>   "
   ]
  },
  {
   "cell_type": "code",
   "execution_count": null,
   "metadata": {},
   "outputs": [],
   "source": [
    "rule = 1; % only dead cells\n",
    "% or\n",
    "%rule = 2; % only living cells\n",
    "% or\n",
    "%rule = 3; % PBC\n",
    "\n",
    "field = add_boundaries(field, rule, N);\n",
    "\n",
    "function field = add_boundaries(field, rule, N)\n",
    "% add field boundaries based on selected rule\n",
    "    if rule == 1\n",
    "    % boundaries are only dead cells (0)\n",
    "        top_bottom = zeros(1, N+2);\n",
    "        sides = zeros(N, 1);\n",
    "        \n",
    "        field = [top_bottom;\n",
    "                 sides field sides;\n",
    "                 top_bottom];\n",
    "                 \n",
    "    elseif rule == 2\n",
    "    % boundaries are only living cells (1)\n",
    "        ...\n",
    "    elseif rule == 3\n",
    "    % periodic boundary conditions (PBC)\n",
    "        ...\n",
    "    else\n",
    "    % rule is neither equal to 1, 2 or 3\n",
    "        ...\n",
    "    return\n",
    "end"
   ]
  },
  {
   "cell_type": "markdown",
   "metadata": {},
   "source": [
    "### 1.4 Visualisierung\n",
    "\n",
    "Lassen Sie sich die Startverteilung visuell darstellen."
   ]
  },
  {
   "cell_type": "code",
   "execution_count": null,
   "metadata": {},
   "outputs": [],
   "source": [
    "figure; hAxes = gca;\n",
    "imagesc(hAxes, field(2:end-1, 2:end-1)); % Der Rand, der über add_boundaries hinzugefügt wird, wird hier nicht mit anzeigt\n",
    "colormap(hAxes , [1 1 1; 0 1 0]);\n",
    "hold on\n",
    "pause(0.5)"
   ]
  },
  {
   "cell_type": "markdown",
   "metadata": {},
   "source": [
    "## Aufgabe 2\n",
    "\n",
    "Erweitern Sie Ihren Matlab Code nun so, dass für eine vorherbestimmte Anzahl an Iterationen jeweils die Folgegeneration bestimmt und anschließen angezeigt wird.\n",
    "\n",
    "Probieren Sie die verschiendenen Startverteilungen und Randbedingungen aus (vgl. Abb. 8-10)."
   ]
  },
  {
   "cell_type": "code",
   "execution_count": null,
   "metadata": {},
   "outputs": [],
   "source": [
    "Iterations = 100; %Anzahl an Spielrunden\n",
    "\n",
    "for i=1:Iterations\n",
    "    field = next_iteration(field, N)\n",
    "    \n",
    "    %plot\n",
    "    imagesc(hAxes, field(2:end-1, 2:end-1));\n",
    "    colormap(hAxes, [1 1 1; 0 1 0]);\n",
    "    hold on\n",
    "    \n",
    "    pause(0.1)\n",
    "end\n",
    "\n",
    "function field = next_iteration(field, N, rule)\n",
    "    new_field = zeros(N,N);    \n",
    "    % current field size (N+2)x(N+2) because boundaries were added previously\n",
    "    for i=2:N+1\n",
    "        for j=2:N+1\n",
    "            count = count_living_cells(field,i,j);             \n",
    "\n",
    "            % take aktion based on living or dead cell\n",
    "            new_field(i-1,j-1) = update_cell(field(i,j), count);                \n",
    "        end\n",
    "    end\n",
    "    \n",
    "    % add boundaries to the new field\n",
    "    new_field = add_boundaries(new_field, rule, N);\n",
    "\n",
    "    % make new_field the current field\n",
    "    field = new_field;\n",
    "    return\n",
    "end\n",
    "\n",
    "function count = count_living_cells(field, i, j)\n",
    "    count = 0;\n",
    "    % check number living neighbour cells\n",
    "    % add above the cell\n",
    "    count = count + sum(field(i-1,j-1:j+1));\n",
    "    % add below the cell\n",
    "    count = count + sum();\n",
    "    % add left side\n",
    "    ...\n",
    "    return\n",
    "end\n",
    "\n",
    "function val = update_cell(cell, count)\n",
    "    if cell == 1\n",
    "        % living cell\n",
    "        % if less than to living neighbours: cell dies\n",
    "        if count < 2\n",
    "            val = 0;\n",
    "        elseif count <= 3\n",
    "            % if 2 or 3 living neighbour cells: cell stays alive\n",
    "            val = ...;\n",
    "        else\n",
    "            % if more than 3 living neighbour cells: cell dies due\n",
    "            % to overpopulatoin\n",
    "            ...\n",
    "        end\n",
    "    else\n",
    "        % dead cell\n",
    "        ...\n",
    "    end\n",
    "    return\n",
    "end"
   ]
  },
  {
   "cell_type": "markdown",
   "metadata": {},
   "source": [
    "Abbildung 8 zeigt die Animation für ein mittig platziertes R-Pentomino. Das Spielfeld hat die Größe N=50 und die Anzahl der Folgegenerationen ist Iterations=100. Als Randbedinung wurde festgelegt, dass alle Zellen dort tot sind.\n",
    "\n",
    "   ```{image} images/GameOfLife_R_Pentomino_n100.gif\n",
    "   :alt: R-Pentomino_animation\n",
    "   :align: center\n",
    "   ```\n",
    "   <div style=\"text-align: right\"> Abbildung 8: Ein R-Pentomino in der Mitte eines 50x50 Spielfelds und 100 Folgegenerationen mit einem Rand auf dem alle Zellen tot sind.</div> <br>"
   ]
  },
  {
   "cell_type": "markdown",
   "metadata": {},
   "source": [
    "Abbildung 9 zeigt die Animation für ein mittig platzierten Glider. Das Spielfeld hat die Größe N=30 und die Anzahl der Folgegenerationen ist Iterations=100. Es wurden periodische Randbedingungen (periodic boundary conditions, PBC) gewählt.\n",
    "\n",
    "   ```{image} images/GameOfLife_Glider_n100.gif\n",
    "   :alt: Glider_animation\n",
    "   :align: center\n",
    "   ```\n",
    "   <div style=\"text-align: right\"> Abbildung 9: Ein Glider in der Mitte eines 30x30 Spielfelds und 100 Folgegenerationen mit PBC.</div> <br>"
   ]
  },
  {
   "cell_type": "markdown",
   "metadata": {},
   "source": [
    "Abbildung 10 zeigt die Animation für ein mittig platziertes Light Weight Spaceship (LWSS). Das Spielfeld hat die Größe N=30 und die Anzahl der Folgegenerationen ist Iterations=100. Es wurden periodische Randbedingungen (periodic boundary conditions, PBC) gewählt.\n",
    "\n",
    "   ```{image} images/GameOfLife_LWSS_n100.gif\n",
    "   :alt: LWSS_animation\n",
    "   :align: center\n",
    "   ```\n",
    "   <div style=\"text-align: right\"> Abbildung 10: Ein LWSSin der Mitte eines 30x30 Spielfelds und 100 Folgegenerationen mit PBC.</div> <br>"
   ]
  }
 ],
 "metadata": {
  "kernelspec": {
   "display_name": "Octave",
   "language": "octave",
   "name": "octave"
  },
  "language_info": {
   "file_extension": ".m",
   "help_links": [
    {
     "text": "GNU Octave",
     "url": "https://www.gnu.org/software/octave/support.html"
    },
    {
     "text": "Octave Kernel",
     "url": "https://github.com/Calysto/octave_kernel"
    },
    {
     "text": "MetaKernel Magics",
     "url": "https://metakernel.readthedocs.io/en/latest/source/README.html"
    }
   ],
   "mimetype": "text/x-octave",
   "name": "octave",
   "version": "5.2.0"
  }
 },
 "nbformat": 4,
 "nbformat_minor": 4
}
