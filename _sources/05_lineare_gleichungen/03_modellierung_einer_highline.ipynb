{
 "cells": [
  {
   "cell_type": "markdown",
   "metadata": {},
   "source": [
    "````{grid} 2\n",
    "```{grid-item-card}\n",
    ":class-header: bg-light\n",
    "Voraussetzungen\n",
    "^^^\n",
    "- Matrizen-Grundlagen\n",
    "- dynamische Kräfte-Gleichgewichte\n",
    "```\n",
    "```{grid-item-card}\n",
    ":class-header: bg-light\n",
    "Lerninhalte\n",
    "^^^\n",
    "- Lösung bekannter Modellgleichungen mithilfe von räumlicher Diskretisierung als Modellannahme\n",
    "- Vergleich und Bewertung iterativer Gleichungssystemlöser\n",
    "```\n",
    "````\n"
   ]
  },
  {
   "cell_type": "markdown",
   "metadata": {},
   "source": [
    "(highline_static)=\n",
    "# Modellierung einer Highline\n",
    "\n",
    "<iframe width=\"560\" height=\"315\" src=\"https://www.youtube.com/embed/C6MtzvQ5hZ8\" frameborder=\"0\" allow=\"accelerometer; autoplay; encrypted-media; gyroscope; picture-in-picture\" allowfullscreen></iframe>\n",
    "\n",
    "<div style=\"font-size:80%;color:grey\"> - Hinweis: Dieses Video ist von YouTube aus eingebunden und nicht Teil des frei lizenzierten Materials! - </div> <br>\n",
    "\n",
    "Mittels einer Reihenschaltung von Federdämpfer-Systemen lässt sich ein einfaches zweidimensionales Modell einer Highline erstellen.\n",
    "\n",
    "## Modellbeschreibung\n",
    "\n",
    "```{image} images/bridge.png\n",
    ":align: center\n",
    "```\n",
    "\n",
    "<div style=\"text-align: right\"> Abbildung 1: Die Highline wird als eine Kette von <b><i>N</i></b> Massepunkten modelliert, die jeweils mit Feder- und Dämpferelementen in horizontaler und vertikaler Richtung miteinader verbunden sind.</div> <br>"
   ]
  },
  {
   "cell_type": "markdown",
   "metadata": {},
   "source": [
    "(highline_static/balance_of_forces)=\n",
    "### Kräftebilanzierung\n",
    "\n",
    "Gehen Sie von einem *\"Urzustand\"* aus, in dem alle Massepunkte auf einer Linie liegen. Durch die Schwerkraft und das Einwirken äußerer Kräfte entstehen Verschiebungen $\\mathbf{z}_i = \\begin{bmatrix} x_i(t) \\\\ y_i(t) \\end{bmatrix}$ der Massepunkte weg von diesem Urzustand. Die Verschiebungen der Ankerpunkte seien konstant Null, $\\mathbf{z}_{0}=\\mathbf{z}_{N+1}=\\begin{bmatrix} 0 \\\\ 0 \\end{bmatrix}$.\n",
    "\n",
    "Angenommen jeder Massepunkt hat die Masse $m$ und die Federdämpferelemente haben die Steifigkeiten $k$ und Dämpfungskoeffizienten $d$. Durch Freischneiden und Kraftbilanzierung lassen sich für alle Massepunkte die Bewegungsgleichungen aufstellen. Sei $\\mathbf{F}_{i,\\text{ext}} \\in \\mathbb{R}^2$ die externe Kraft, die auf den Massepunkt mit Index $i$ wirkt. Dann gilt\n",
    "\n",
    "$$\n",
    "\\begin{align}\n",
    " m \\ddot{\\mathbf{z}}_0 &= 0 \\notag \\\\\n",
    " m \\ddot{\\mathbf{z}}_1 &= -k \\mathbf{z}_1 - d \\dot{\\mathbf{z}}_1 -k(\\mathbf{z}_1-\\mathbf{z}_2) - d(\\dot{\\mathbf{z}}_1-\\dot{\\mathbf{z}}_2) + \\mathbf{F}_{1,\\text{ext}} \\notag \\\\\n",
    " m \\ddot{\\mathbf{z}}_i &= k(\\mathbf{z}_{i-1}-\\mathbf{z}_{i}) + d(\\dot{\\mathbf{z}}_{i-1} - \\dot{\\mathbf{z}}_{i}) - k(\\mathbf{z}_{i}-\\mathbf{z}_{i+1}) - d(\\dot{\\mathbf{z}}_{i} -\\dot{\\mathbf{z}}_{i+1}) + \\mathbf{F}_{i,\\text{ext}}, \\hskip4em \\text{für } i=2,...,N-1 \\notag \\\\\n",
    " m \\ddot{\\mathbf{z}}_N &= -k \\mathbf{z}_N - d \\dot{\\mathbf{z}}_N + k(\\mathbf{z}_{N-1}-\\mathbf{z}_N) + d(\\dot{\\mathbf{z}}_{N-1}-\\dot{\\mathbf{z}}_N) + \\mathbf{F}_{N,\\text{ext}} \\notag \\\\\n",
    " m \\ddot{\\mathbf{z}}_{N+1} &= 0 \\notag\n",
    "\\end{align}\n",
    "$$\n",
    "\n",
    "Diese Gleichungen lassen sich in eine kompaktere Matrixschreibweise bringen. Dazu führen wir folgende Bezeichungen ein:\n",
    "\n",
    "$$ \\mathbf{z}=\\left[ \\begin{array}{c} \\mathbf{z}_1 \\\\ \\vdots \\\\ \\mathbf{z}_N \\end{array} \\right] \\in \\mathbb{R}^{2N}, \\quad \\mathbf{F}_{\\text{ext}} = \\left[ \\begin{array}{c} \\mathbf{F}_{1,\\text{ext}} \\\\ \\vdots \\\\ \\mathbf{F}_{N,\\text{ext}} \\end{array} \\right] \\in \\mathbb{R}^{2N}, \\quad M = \\left[ \\begin{array}{cccc} m & 0 & \\cdots & 0 \\\\ 0 & m & \\ddots & \\vdots \\\\ \\vdots & \\ddots & \\ddots & 0 \\\\ 0 & \\cdots & 0 & m \\end{array} \\right] \\in \\mathbb{R}^{2N \\times 2N} \\quad \\text{und} $$                                                                                                                                                                                                  \n",
    "\n",
    "$$S = \\left[ \\begin{array}{rrrrrrr}\n",
    "2 & 0 & -1 & 0 & \\cdots & \\cdots & 0  \\\\\n",
    "0 & 2 & 0 & -1 & \\ddots &  & \\vdots \\\\\n",
    "-1 & 0 & 2 & 0 & \\ddots & \\ddots & \\vdots \\\\\n",
    "0 & -1 & 0 & 2 & \\ddots & \\ddots & 0 \\\\\n",
    "\\vdots & \\ddots & \\ddots & \\ddots  & \\ddots & \\ddots & -1 \\\\\n",
    "\\vdots & & \\ddots & \\ddots  & \\ddots & \\ddots & 0 \\\\\n",
    "0 & \\cdots & \\cdots & 0 & -1 & 0 & 2\n",
    "\\end{array}  \\right] \\in \\mathbb{R}^{2N \\times 2N}.$$\n",
    "\n",
    "$M$ ist die *Massematrix*, $K = k \\cdot S$ die *Steifigkeitsmatrix* und $D=d \\cdot S$ die *Dämpfungsmatrix* des gekoppelten Systems. Die oben bereits hergeleiteten Bewegungsgleichungen nehmen die bekannte Form eines gedämpften, angetriebenen harmonischen Oszillators\n",
    "\n",
    "$$M \\ddot{\\mathbf{z}} + D\\dot{\\mathbf{z}} + K \\mathbf{z} = \\mathbf{F}_{\\text{ext}}$$\n",
    "\n",
    "an, nur dass die Koeffizienten $M, D$ und $K$ nun matrixwertig sind und die unbekannte Verschiebungsfunktion $\\mathbf{z}(t)$ vektorwertig mit $2N$ Einträgen ist: Ein Eintrag pro Raumrichtung und beweglichem Massepunkt der Highline."
   ]
  },
  {
   "cell_type": "markdown",
   "metadata": {},
   "source": [
    "### Ein stationärer Lastfall\n",
    "\n",
    "Es soll zunächst der stationäre Lastfall untersucht werden, bei dem nur die Schwerkraft auf die Highline wirkt, d.h. Sie gehen von einer konstanten Kraft\n",
    "$\\mathbf{F}_{i,\\text{ext}}=\\begin{bmatrix} 0 \\\\ -m g \\end{bmatrix}$\n",
    "mit $g=9.81\\;\\textrm{m}/\\textrm{s}^2$ sowie $\\ddot{\\mathbf{z}}=\\dot{\\mathbf{z}}=0$ aus. Dies entspricht dem Zustand, der sich nach langer Zeit aufgrund der Dämpfung einstellt. Die Differentialgleichung vereinfacht sich in diesem Fall zu einem linearen Gleichungssystem\n",
    "\n",
    "$$K \\mathbf{z} = \\mathbf{F}_{\\text{ext}}.$$\n",
    "\n",
    "Bei einer Highlinelänge von $L=50\\;\\textrm{m}$, einem Gesamtgewicht von $m_{\\text{ges}}=3.15\\;\\textrm{kg}$, sowie einer Gesamtsteifigkeit von $k_{\\text{ges}}=145.5\\;\\textrm{N}/\\textrm{m}$ ergeben sich für die Einzelmassen und Einzelsteifigkeiten\n",
    "\n",
    "$$ m = \\frac{m_{\\text{ges}}}{N} \\quad \\text{ und } \\quad k = N \\cdot k_{\\text{ges}}.$$\n",
    "\n",
    "Mit $\\mathbf{b} = \\left[ \\begin{array}{ccccccc} 0 & 1 & 0 & 1 & \\cdots & 0 & 1 \\end{array} \\right]^T \\in \\mathbb{R}^{2N}$\n",
    "lässt sich das lineare Gleichungssystem schreiben als\n",
    "\n",
    "$$\n",
    "\\begin{align}\n",
    " &K \\mathbf{z} = \\mathbf{F}_{\\text{ext}} \\notag \\\\\n",
    " \\Leftrightarrow \\quad&k \\cdot S \\mathbf{z} = -m \\cdot g \\cdot \\mathbf{b} \\notag \\\\\n",
    " \\Leftrightarrow \\quad&N \\cdot k_{\\text{ges}} S \\mathbf{z} = - \\frac{m_{\\text{ges}}\\cdot g}{N} \\mathbf{b} \\notag \\\\\n",
    " \\Leftrightarrow \\quad&S \\underbrace{\\left( - \\frac{N^2 \\cdot k_{\\text{ges}}}{m_{\\text{ges}}\\cdot g} \\mathbf{z}\\right)}_{:= \\tilde{\\mathbf{z}}} = \\mathbf{b} \\notag\n",
    "\\end{align}\n",
    "$$\n",
    "\n",
    "Demnach lassen sich die Verschiebungen der Massepunkte im stationären Lastfall berechnen, indem das lineare Gleichungssytem\n",
    "\n",
    "$$S \\tilde{\\mathbf{z}} =\\mathbf{b}$$\n",
    "\n",
    "gelöst wird. Die Verschiebungen $\\mathbf{z}$ erhält man aus der *entdimensionalisierten* Lösung $\\tilde{\\mathbf{z}}$ des Gleichunssystemes mittels\n",
    "\n",
    "$$\\mathbf{z} = - \\frac{m_{\\text{ges}}\\cdot g}{N^2 \\cdot k_{\\text{ges}}} \\tilde{\\mathbf{z}}.$$"
   ]
  },
  {
   "cell_type": "markdown",
   "metadata": {},
   "source": [
    "## Aufgabe 1 - Durchhang der Highline ohne Zusatzgewicht\n",
    "\n",
    "Lösen Sie das Gleichungssystem $S \\tilde{\\mathbf{z}} = \\mathbf{b}$ mit $S \\in \\mathbb{R}^{2N \\times 2N}$ und $\\mathbf{b} \\in \\mathbb{R}^{2N}$ für verschiedene Werte für $N$ mit Hilfe des Backslash-Operators `S\\b` und berechnen Sie anschließend die Verschiebung der Massepunkte $\\mathbf{z}$. Erzeugen Sie $S$ dazu im Sparse-Matrix-Format, wie in der vorherigen Übung beschrieben.\n",
    "\n",
    "```{admonition} Hinweis\n",
    "Klappen Sie die Codebox aus, um auf den Code für `plot_highline` zuzugreifen. Wenn Sie Ihren Code online ausführen, brauchen Sie die Funktion nicht initialisieren, da sie dem Kernel als Datei hinterlegt ist.\n",
    "```"
   ]
  },
  {
   "cell_type": "code",
   "execution_count": null,
   "metadata": {
    "tags": [
     "hide_input"
    ]
   },
   "outputs": [],
   "source": [
    "function handle = plot_highline(z, L)\n",
    "    % plots the highline according to the (x,y)-coordinates stored in the flat\n",
    "    % vector z = [x1,y1, x2, y2, x3, y3, ...] and the length L of the highline.\n",
    "\n",
    "    N = length(z)/2;\n",
    "\n",
    "    if N - floor(N) > 1e-15\n",
    "        error(\"The length of the input vector z must be divisble by 2!\");\n",
    "    end\n",
    "\n",
    "    positions_x = z(1:2:end)' + L*linspace(1/(N+1), 1 - 1/(N+1), N);\n",
    "    positions_y = z(2:2:end)';\n",
    "\n",
    "    positions_x = [0 positions_x L];\n",
    "    positions_y = [0 positions_y 0];\n",
    "\n",
    "    handle = plot(positions_x, positions_y);\n",
    "\n",
    "    xlabel('x [m]')\n",
    "    ylabel('y [m]')\n",
    "    title('highline displacement')\n",
    "\n",
    "end"
   ]
  },
  {
   "cell_type": "code",
   "execution_count": null,
   "metadata": {},
   "outputs": [],
   "source": [
    "% space for the solution\n",
    "\n",
    "% S = ...\n",
    "% b = ...\n",
    "\n",
    "\n",
    "% z = ...\n",
    "\n",
    "% plot the displacement of the slackline based on the solution vector z as well as the length of the slackline L\n",
    "% (the function plot_highline is provided for you, you do not need to implement this)\n",
    "plot_highline(z, L)\n",
    "\n",
    "% uncomment the following line to have equal spacing along the x- and y-axis\n",
    "%axis equal"
   ]
  },
  {
   "cell_type": "markdown",
   "metadata": {},
   "source": [
    " - Wie stark hängt die Highline an der tiefsten Stelle durch?\n",
    " - Wie hoch muss die Auflösung $N$ Ihrer Ansicht nach mindestens sein, um dem Ergebnis vertrauen zu können? Begründen Sie Ihre Antwort mit konkreten Zahlen!"
   ]
  },
  {
   "cell_type": "markdown",
   "metadata": {},
   "source": [
    "## Aufgabe 2 - Vergleich iterativer Gleichungssystemlöser\n",
    "\n",
    "Ab einer bestimmten Größe des Gleichungssystems sind iterative Verfahren zum Lösen von linearen Gleichungssystem besser geeignet als direkte Lösungsverfahren wie das LU-Verfahren.\n",
    "\n",
    "Prominente Vertreter iterativer Verfahren für lineare Gleichungssysteme sind das konjugierte Gradientenverfahren *(Matlab: `cgs`)*, das Minres-Verfahren *(Matlab: `minres`)* sowie das BiCGstab-Verfahren *(Matlab: `bicgstab`)*.\n",
    "\n",
    "Die Konvergenzgeschwindigkeit der iterativen Verfahren lässt sich durch Vorkonditionierung, z.B. mittels unvollständiger LU-Zerlegung, verbessern. Für das BiCGstab-Verfahren sieht der Befehl so aus:\n",
    "\n",
    "```octave\n",
    "\n",
    "% construct preconditioner \n",
    "option.thresh = 0.01;\n",
    "[L,U,P] = ilu(S,option);\n",
    "\n",
    "% calculate solution using preconditioned bicgstab\n",
    "zt = bicgstab(S,P*b,[],maxit,L,U);\n",
    "```\n",
    "\n",
    "Vergleichen Sie die zur Lösung des linearen Gleichungssystems $ S\\tilde{\\mathbf{z}} =\\mathbf{b}$ benötigte Rechenzeit des klassischen LU-Verfahrens\n",
    "\n",
    "```octave\n",
    "[L, U, P] = lu(S);\n",
    "y  = L\\P*b;\n",
    "zt = U\\y; \n",
    "```\n",
    "\n",
    "mit denen der drei iterativen Verfahren, jeweils mit und ohne Vorkonditionierung und für unterschiedliche $N$. Verwenden Sie das Speicherformat für dünnbesetzte Matrizen. Erstellen Sie zwei Tabellen, in denen Sie jeweils die benötigte Rechenzeit bzw. das Residuum `res = max(abs(b-S*zt))` eintragen:\n",
    "\n",
    "| Verfahren/N | 5 | 50 | 500 | ... |\n",
    "| -- | -- | -- | -- | -- |\n",
    "| LU | ... | ... | ... | ... |\n",
    "| cgs | ... | ... | ... | ... |\n",
    "| minres | ... | ... | ... | ... |\n",
    "| bicgstab | ... |... | ... | ... |\n",
    "| prec. cgs| ... |... | ... | ... |\n",
    "| prec. minres | ... | ... | ... | ... |\n",
    "| prec. bicgstab | ... |... | ... | ... |\n",
    "\n",
    " - Ab welcher Auflösung $N$ ist das Schnellste der sechs iterativen Verfahren schneller als das klassische LU-Verfahren? \n",
    "\n",
    "```{admonition} Tipp\n",
    ":class: tip\n",
    " - Verwenden Sie die Matlabbefehle `tic` und `toc` für die Zeitmessung. \n",
    " - Unter Umständen müssen Sie die maximal erlaubte Anzahl an Iterationen für die iterativen Verfahren anpassen.\n",
    " - Denken Sie daran, die Konstruktion des Vorkonditionierers in der Rechenzeit zu berücksichtigen!\n",
    "```"
   ]
  },
  {
   "cell_type": "code",
   "execution_count": 3,
   "metadata": {},
   "outputs": [],
   "source": [
    "% space for the solution\n"
   ]
  },
  {
   "cell_type": "markdown",
   "metadata": {},
   "source": [
    "## Aufgabe 3 - Simulation der Slacklinerin\n",
    "\n",
    "In einer sogenannten *quasistatischen* Simulation wird ein zeitabhängiger Prozess so simuliert, dass in jedem Zeitschritt ein stationärer Zustand berechnet wird. So wird die Dynamik (z.B. Oszillation der Slackline) vernachlässigt, was die Berechnung deutlich vereinfacht. Schließlich muss keine Differentialgleichung gelöst werden, es reicht eine Abfolge von linearen Gleichungssystemen zu lösen.\n",
    "\n",
    "```{image} images/slackline_animation.gif\n",
    ":alt: Slackline Animation\n",
    ":width: 800px\n",
    ":align: center\n",
    "```\n",
    "\n",
    "<div style=\"text-align: right\"> Abbildung 2: Animation der Slacklinerin und des Durchhangs des Seils beim Überqueren der Highline.</div> <br>\n",
    "\n",
    "Simulieren Sie, wie eine Slacklinerin die Highline von links nach rechts traversiert. Berechnen Sie dazu die statische Verschiebung der Slackline für unterschiedliche Positionen der Slacklinerin entlang der Highline. Gehen Sie von einem Gewicht von 70 kg aus.\n",
    "\n",
    "  - Treffen Sie eine angemessene Wahl für\n",
    "  \n",
    "    - die räumliche Diskretisierung $N$ der Slackline, sowie der Schrittweite der Slacklinerin; \n",
    "    - das Lösungsverfahren für das lineare Gleichungssystem;\n",
    "    - das Speicherformat der Matrix\n",
    "    \n",
    "    und begründen Sie Ihre Antwort.\n",
    "  - Plotten Sie die Kurve, die von den Füßen der Slacklinerin durchlaufen wird (Rote Linie in der Animation in Abbildung 2). Wie stark hängt die Slackline am tiefsten Punkt durch?"
   ]
  },
  {
   "cell_type": "code",
   "execution_count": 4,
   "metadata": {},
   "outputs": [],
   "source": [
    "% space for the solution\n"
   ]
  },
  {
   "cell_type": "markdown",
   "metadata": {},
   "source": [
    "```{admonition} Es geht weiter mit der Highline\n",
    ":class: tip\n",
    "Um die Highline dynamisch zu simulieren, sehen Sie sich die Übung [](highline_dynamic) an.\n",
    "```"
   ]
  }
 ],
 "metadata": {
  "kernelspec": {
   "display_name": "Octave",
   "language": "octave",
   "name": "octave"
  },
  "language_info": {
   "file_extension": ".m",
   "help_links": [
    {
     "text": "GNU Octave",
     "url": "https://www.gnu.org/software/octave/support.html"
    },
    {
     "text": "Octave Kernel",
     "url": "https://github.com/Calysto/octave_kernel"
    },
    {
     "text": "MetaKernel Magics",
     "url": "https://metakernel.readthedocs.io/en/latest/source/README.html"
    }
   ],
   "mimetype": "text/x-octave",
   "name": "octave",
   "version": "5.2.0"
  }
 },
 "nbformat": 4,
 "nbformat_minor": 4
}
