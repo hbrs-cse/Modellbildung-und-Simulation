{
 "cells": [
  {
   "cell_type": "markdown",
   "metadata": {},
   "source": [
    "````{grid} 2\n",
    "```{grid-item-card}\n",
    ":class-header: bg-light\n",
    "Voraussetzungen\n",
    "^^^\n",
    "- keine\n",
    "```\n",
    "```{grid-item-card}\n",
    ":class-header: bg-light\n",
    "Lerninhalte\n",
    "^^^\n",
    "- Matlab Skripte\n",
    "- If/else Abfragen\n",
    "- Schleifen\n",
    "- Funktionen\n",
    "- Grafische Ausgaben\n",
    "- Function Handles\n",
    "- Scope von Variablen\n",
    "- Rekursion\n",
    "```\n",
    "````\n"
   ]
  },
  {
   "cell_type": "markdown",
   "metadata": {},
   "source": [
    "(skripte_und_funktionen)=\n",
    "# Skripte und Funktionen\n",
    "\n",
    "Bisher haben wir Befehle im `Command Window` eingeben und festgestellt, dass alle Variablen im `Workspace` hinterlegt werden. In diesem Kapitel widmen wir uns dem `Editor`. Wir benutzen ihn, um Skripte und Funktionen zu schreiben. Beide werden als Textdateien mit der Endung `.m` gespeichert. Prinzipiell können wir diese Textdateien mit jedem beliebigen Texteditor schreiben, der Editor in Matlab bietet aber einige nützliche Funktionen. Allein *Syntax-Highlighting* kann schon sehr hilfreich sein.\n",
    "\n",
    "## Skripte\n",
    " \n",
    "Matlab-Skripte sind einfache Textdateien, die eine Abfolge von Matlab-Befehlen enthalten. Diese werden nacheinander abgearbeitet. \n",
    "\n",
    "Das `%`-Zeichen läutet in Matlab einen Kommentar ein. Kommentare helfen dabei, die Skripte nachvollziehbar zu machen. Wie in *ALLEN* Programmiersprachen gilt auch in Matlab: **Kommentieren Sie Ihren Code!**\n",
    "Es kommt nicht selten vor, dass man nach Wochen in ein altes Matlab-Skript schaut, sich fragt was man damals eigentlich gemacht hat und sich wünscht, man hätte es besser kommentiert."
   ]
  },
  {
   "cell_type": "code",
   "execution_count": 1,
   "metadata": {
    "tags": [
     "remove-output"
    ]
   },
   "outputs": [
    {
     "name": "stdout",
     "output_type": "stream",
     "text": [
      "Created file '/mnt/d/documents/modellbildung-und-simulation/content/00_einleitung/myScript.m'.\n"
     ]
    }
   ],
   "source": [
    "%%file myScript.m\n",
    "% Ein kleines Beispielskript\n",
    "% mit Kommentaren\n",
    "\n",
    "% Initialisiere Variablen a und b\n",
    "a = 5;\n",
    "b = 2*a;\n",
    "\n",
    "% Ändere Variable a\n",
    "a = a/2;\n",
    "\n",
    "% Ausgabe erzwingen, durch Weglassen des Semikolons am Ende der Zeile\n",
    "a\n",
    "b"
   ]
  },
  {
   "cell_type": "markdown",
   "metadata": {},
   "source": [
    "```{admonition} Hinweis \n",
    "*Die erste Zeile*\n",
    "\n",
    "`%%file myScript.m` \n",
    "\n",
    "*besagt nur, dass alles was folgt, Inhalt der Datei `myScript.m` ist. Der eigentliche Inhalt der Datei beginnt ab der darauf folgenden Zeile.*\n",
    "\n",
    "`% Ein kleines Beispielskript`.\n",
    "\n",
    "Dieses Skript wird mit dem `run` Befehl ausgeführt.\n",
    "```"
   ]
  },
  {
   "cell_type": "code",
   "execution_count": 2,
   "metadata": {},
   "outputs": [
    {
     "name": "stdout",
     "output_type": "stream",
     "text": [
      "a =  2.5000\n",
      "b =  10\n"
     ]
    }
   ],
   "source": [
    "run myScript.m"
   ]
  },
  {
   "cell_type": "markdown",
   "metadata": {},
   "source": [
    "Wir dürfen an dieser Stelle die Dateiendung `.m` weglassen. Tatsächlich ist der `run` Befehl auch nicht zwingend nötig. Die Befehle `run myScript.m`, `run myScript`, `myScript.m`, `myScript` haben alle denselben Effekt: Die Befehle in `myScript.m` werden ausgeführt.\n",
    "\n",
    "Im Matlab-Editor kann das aktuell geöffnete Skript mit `F5` oder per Mausklick auf den großen grünen Play-Button gestartet werden.\n",
    "\n",
    "```{image} images/matlab_run_button.png\n",
    ":alt: Interacte Mode Code-Cell\n",
    ":align: center\n",
    "```\n",
    "\n",
    "Es bietet sich an, in den ersten paar Zeilen jedes Skriptes zu beschreiben, welchem Zweck das Skript dient. Diese ersten Zeilen lassen sich mit dem `help`-Befehl ausgeben:"
   ]
  },
  {
   "cell_type": "code",
   "execution_count": 3,
   "metadata": {},
   "outputs": [
    {
     "name": "stdout",
     "output_type": "stream",
     "text": [
      "'myScript.m' is the file /mnt/d/documents/modellbildung-und-simulation/content/00_einleitung/myScript.m\n",
      "\n",
      " Ein kleines Beispielskript\n",
      " mit Kommentaren\n",
      "\n",
      "\n",
      "Additional help for built-in functions and operators is\n",
      "available in the online version of the manual.  Use the command\n",
      "'doc <topic>' to search the manual index.\n",
      "\n",
      "Help and information about Octave is also available on the WWW\n",
      "at http://www.octave.org and via the help@octave.org\n",
      "mailing list.\n"
     ]
    }
   ],
   "source": [
    "help myScript.m"
   ]
  },
  {
   "cell_type": "markdown",
   "metadata": {},
   "source": [
    "### for-Schleifen\n",
    "\n",
    "Wie in anderen Programmiersprachen, können in Matlab auch Schleifen verwendet werden. Die Syntax für eine for-Schleife ist:"
   ]
  },
  {
   "cell_type": "code",
   "execution_count": 1,
   "metadata": {},
   "outputs": [],
   "source": [
    "for i=1:5\n",
    "    f(i)=2^i;\n",
    "end"
   ]
  },
  {
   "cell_type": "markdown",
   "metadata": {},
   "source": [
    "Der Code zwischen der `for`-  und der `end`-Zeile wird fünfmal ausgeführt. Bei jeder Ausführung wird eine *Laufvariable* `i` um Eins erhöht. Wir greifen in diesem Beispiel in jedem Durchlauf auf die $i$-te Stelle eines Vektors $f$ zu und beschreiben diese Stelle mit $2^i$. Dabei wird der Vektor f automatisch in jedem Schleifendurchlauf um ein Element erweitert. Matlab macht den Vektor nur so groß, wie für die Ausführung des Befehls nötig ist. Es ist zu beachten, dass in Matlab auf das erste Element eines Vektors mit dem Index 1 zugegriffen wird.\n",
    "\n",
    "Es besteht die Möglichkeit die Schrittweite der Laufvariablen anzupassen. Auf diese Weise können auch Laufvariablen benutzt werden, die nicht ganzzahlig sind:"
   ]
  },
  {
   "cell_type": "code",
   "execution_count": 2,
   "metadata": {},
   "outputs": [
    {
     "name": "stdout",
     "output_type": "stream",
     "text": [
      "x =\n",
      "\n",
      "   1.0000e+00  -2.4493e-16\n",
      "\n",
      "x =\n",
      "\n",
      "  -1.8370e-16  -1.0000e+00\n",
      "\n",
      "x =\n",
      "\n",
      "  -1.0000e+00   1.2246e-16\n",
      "\n",
      "x =\n",
      "\n",
      "   6.1232e-17   1.0000e+00\n",
      "\n",
      "x =\n",
      "\n",
      "   1   0\n",
      "\n"
     ]
    }
   ],
   "source": [
    "for t=2*pi:-pi/2:0\n",
    "    x = [cos(t), sin(t)]\n",
    "end"
   ]
  },
  {
   "cell_type": "markdown",
   "metadata": {},
   "source": [
    "**Quiz:** Wie sieht der Vektor $f$ aus, der von folgender for-Schleife erzeugt wird?"
   ]
  },
  {
   "cell_type": "code",
   "execution_count": 6,
   "metadata": {},
   "outputs": [],
   "source": [
    "clear f\n",
    "for i=1:2:5\n",
    "    f(i)=2^i;\n",
    "end"
   ]
  },
  {
   "cell_type": "markdown",
   "metadata": {},
   "source": [
    "Bei for-Schleifen ist über die Laufvariable die Anzahl der Aufrufe vor dem Beginn der Schleife klar. Es ist zwar möglich, die Laufvariable selbst in der Schleife zu verändern, das sollte aber auf jeden Fall vermieden werden. Der Code wird dadurch nicht mehr intuitiv verständlich. Es ist eine wahrscheinliche Fehlerquelle.\n",
    "\n",
    "### while-Schleifen\n",
    "\n",
    "while-Schleifen bieten eine weitere Möglichkeit, einen Code-Block wiederholt auszuführen. Eine while-Schleife wird solange ausgeführt, bis eine Aussage nicht mehr zutrifft. Dabei muss den Programmierer:innen vorher nicht bekannt sein, wieviele Schleifendurchläufe dafür nötig sind."
   ]
  },
  {
   "cell_type": "code",
   "execution_count": 7,
   "metadata": {},
   "outputs": [
    {
     "name": "stdout",
     "output_type": "stream",
     "text": [
      " 0.24470\n"
     ]
    }
   ],
   "source": [
    "x = pi/2;\n",
    "while abs( sin(x)-x )/x > 0.01\n",
    "    x = 0.99*x;\n",
    "end\n",
    "disp(x)"
   ]
  },
  {
   "cell_type": "markdown",
   "metadata": {},
   "source": [
    "Die Anweisung `x = 0.99*x` wird solange ausgeführt, bis $\\frac{\\lvert \\sin(x) - x \\rvert}{x}$ nicht mehr größer als $0.01$ ist.\n",
    "Das kleine Programm schätzt auf eine etwas ungenaue Art ab, bis zu welchem Wert die Kleinwinkelnäherung $\\sin(x) \\approx x$ relative Fehler von unter $1 \\%$ liefert. \n",
    "\n",
    "**Challenge:** Fallen Ihnen Wege ein, die Abschätzung genauer zu gestalten?\n",
    "\n",
    "Eine for-Schleife kann immer in eine while-Schleife umgeschrieben werden. Folgende Code-Blöcke liefern das selbe Ergebnis:"
   ]
  },
  {
   "cell_type": "code",
   "execution_count": 8,
   "metadata": {},
   "outputs": [],
   "source": [
    "for i=1:5\n",
    "    f(i)=2^i;\n",
    "end"
   ]
  },
  {
   "cell_type": "code",
   "execution_count": 9,
   "metadata": {},
   "outputs": [],
   "source": [
    "i=1;\n",
    "while i<=5\n",
    "    f(i)=2^i;\n",
    "    i = i+1;\n",
    "end"
   ]
  },
  {
   "cell_type": "markdown",
   "metadata": {},
   "source": [
    "**Best Practice:** Verwenden Sie while-Schleifen, wenn die Anzahl der Durchläufe unbekannt ist und for-Schleifen, wenn sie bekannt ist."
   ]
  },
  {
   "cell_type": "markdown",
   "metadata": {},
   "source": [
    "### if-Abfragen\n",
    "\n",
    "Oft ist es nützlich, bestimmte Befehle nur auszuführen, wenn eine Bedingung erfüllt ist. Dies erreicht man mit if-Bedingungen."
   ]
  },
  {
   "cell_type": "code",
   "execution_count": 10,
   "metadata": {},
   "outputs": [
    {
     "name": "stdout",
     "output_type": "stream",
     "text": [
      "x =  1.4199\n"
     ]
    }
   ],
   "source": [
    "zaehler = rand();\n",
    "nenner = rand();\n",
    "if abs(nenner) > 1e-8\n",
    "    x = zaehler/nenner\n",
    "end"
   ]
  },
  {
   "cell_type": "markdown",
   "metadata": {},
   "source": [
    "Der Codeblock erstellt nur dann eine Variable `x`, wenn der Nenner des Bruchs größer als $10^{-8}$ ist. Wir sollten den Fall abfangen, wenn diese Bedingung mal nicht erfüllt wird. Dies erreicht man mit if-then-else-Bedingungen."
   ]
  },
  {
   "cell_type": "code",
   "execution_count": 11,
   "metadata": {},
   "outputs": [
    {
     "name": "stdout",
     "output_type": "stream",
     "text": [
      "x =  0.96087\n"
     ]
    }
   ],
   "source": [
    "zaehler = rand();\n",
    "nenner = rand();\n",
    "if abs(nenner) > 1e-8\n",
    "    x = zaehler/nenner\n",
    "else\n",
    "    x = 1\n",
    "end"
   ]
  },
  {
   "cell_type": "markdown",
   "metadata": {},
   "source": [
    "Es kann auch vorkommen, dass mehr als eine Bedingung abgefragt werden muss. In diesem Fall hilft eine if-then-else-if-else-Bedingung. Das kann zum Beispiel Sinn ergeben, wenn eine Variable eine Kategorie beschreibt, wie beispielsweise Tierarten."
   ]
  },
  {
   "cell_type": "code",
   "execution_count": 12,
   "metadata": {
    "tags": [
     "remove-output"
    ]
   },
   "outputs": [
    {
     "name": "stdout",
     "output_type": "stream",
     "text": [
      "Created file '/mnt/d/documents/modellbildung-und-simulation/content/00_einleitung/oldmcdonald.m'.\n"
     ]
    }
   ],
   "source": [
    "%%file oldmcdonald.m\n",
    "% make some animal noises\n",
    "\n",
    "animal = \"cow\";\n",
    "\n",
    "if strcmp(animal, \"cat\")\n",
    "    disp(\"Meaow\")\n",
    "elseif strcmp(animal,  \"dog\")\n",
    "    disp(\"Woof! Woof!\")\n",
    "elseif strcmp(animal,  \"cow\")\n",
    "    disp(\"Moooooh!\")\n",
    "elseif strcmp(animal,  \"kangaroo\")\n",
    "    disp(\"Gib mir eine Schnapspraline.\")\n",
    "else\n",
    "    disp([\"I don't know what kind of noise a \", animal, \" makes.\"])\n",
    "end"
   ]
  },
  {
   "cell_type": "code",
   "execution_count": 13,
   "metadata": {},
   "outputs": [
    {
     "name": "stdout",
     "output_type": "stream",
     "text": [
      "Moooooh!\n"
     ]
    }
   ],
   "source": [
    "run oldmcdonald"
   ]
  },
  {
   "cell_type": "markdown",
   "metadata": {},
   "source": [
    "In Matlab können wir Strings nicht mit `==` auf Gleichheit prüfen. Dafür stellt Matlab die Funktion `strcmp` bereit.\n",
    "\n",
    "Mit den bis hierher vorgestellten Werkzeugen können wir schon recht komplexe Programme schreiben. Das folgende iterative Programm sucht eine Nullstelle des Polynoms $y(x)= -x^4 + x^3 - x^2 + x + 1$ im Interval $[-1,1]$. Wir nutzen aus, dass wir wissen, dass die Funktion bei 1 positiv, und bei -1 negativ ist. Das heißt irgendwo dazwischen muss mindestens eine Nullstelle liegen."
   ]
  },
  {
   "cell_type": "code",
   "execution_count": 14,
   "metadata": {
    "tags": [
     "hide_input"
    ]
   },
   "outputs": [
    {
     "data": {
      "image/png": "[encoded data removed]",
      "text/plain": [
       "<IPython.core.display.Image object>"
      ]
     },
     "metadata": {},
     "output_type": "display_data"
    }
   ],
   "source": [
    "% plot f(x) = -x^4 + x^3 - x^2 + x + 1;\n",
    "x = linspace(-1,1,100);\n",
    "y = -x.^4 + x.^3 - x.^2 + x + 1;\n",
    "plot(x,y, 'LineWidth',5)\n",
    "set(gca,'XGrid', 'on', 'YGrid', 'on')\n",
    "xlabel('x')\n",
    "ylabel('y')\n",
    "title('y(x) = -x^4 + x^3 - x^2 + x + 1')"
   ]
  },
  {
   "cell_type": "markdown",
   "metadata": {},
   "source": [
    "Das Programm macht maximal 100 Iterationen, die über eine for-Schleife realisiert werden. In jeder Iteration wird die Größe des Intervalls um die Nullstelle mittels *Bisektion* halbiert. Über eine if-Bedingung wird untersucht, ob die gewünschte Genauigkeit erreicht wird. Wenn ja, wird die for-Schleife mit dem `break` Befehl unterbrochen."
   ]
  },
  {
   "cell_type": "code",
   "execution_count": 15,
   "metadata": {
    "tags": [
     "remove-output"
    ]
   },
   "outputs": [
    {
     "name": "stdout",
     "output_type": "stream",
     "text": [
      "Created file '/mnt/d/documents/modellbildung-und-simulation/content/00_einleitung/bisection.m'.\n"
     ]
    }
   ],
   "source": [
    "%%file bisection.m\n",
    "% find a zero of the polynomial \n",
    "%\n",
    "%      y(x)= -x^4 + x^3 - x^2 + x + 1\n",
    "%\n",
    "% in the interval [-1,1] using bisection\n",
    "\n",
    "%% input parameters:\n",
    "tolerance = 1e-8;    % if the absolute value of y(x) is smaller than this, we consider\n",
    "                     % the point x to be a zero.\n",
    "maxIterations = 100; % maximum number of iterations\n",
    "xlower = -1;         % lower bound of the interval\n",
    "xupper = 1;          % upper bound of the invertal. y(xlower) and y(xupper) must have\n",
    "                     % different signs!\n",
    "\n",
    "% this variable is set to true once the iteration converged\n",
    "converged = false;\n",
    "\n",
    "for iteration=1:maxIterations\n",
    "    \n",
    "    % take the middle between the two bounds\n",
    "    midpoint = 0.5*(xupper + xlower);\n",
    "    \n",
    "    % check the function value at this point\n",
    "    fmidpoint = -midpoint^4 + midpoint^3 - midpoint^2 + midpoint + 1;\n",
    "    \n",
    "    % if the function value is small enough, we are done\n",
    "    if abs(fmidpoint) < tolerance\n",
    "        converged = true;\n",
    "        break;\n",
    "    end\n",
    "    \n",
    "    % if we reach this point, we have not converged. \n",
    "    \n",
    "    % reset the limits and repeat\n",
    "    if fmidpoint > 0\n",
    "        xupper = midpoint;\n",
    "    else\n",
    "        xlower = midpoint;\n",
    "    end\n",
    "end\n",
    "\n",
    "result = midpoint;\n",
    "\n",
    "if converged\n",
    "    disp([\"Converged in \", num2str(iteration), \" iterations. The solution is \", num2str(result), \".\"])\n",
    "else\n",
    "    disp([\"No convergence to the specified tolerance of \", num2str(tolerance),  ...\n",
    "          \" within \", num2str(iteration), \" iterations. The current error is \", num2str(fmidpoint), \".\"])\n",
    "end"
   ]
  },
  {
   "cell_type": "code",
   "execution_count": 16,
   "metadata": {},
   "outputs": [
    {
     "name": "stdout",
     "output_type": "stream",
     "text": [
      "Converged in 25 iterations. The solution is -0.51879.\n"
     ]
    }
   ],
   "source": [
    "run bisection"
   ]
  },
  {
   "cell_type": "markdown",
   "metadata": {},
   "source": [
    "### Grafische Ausgabe\n",
    "\n",
    "Es gibt in Matlab eine Vielzahl von Methoden, um den Inhalt von Vektoren grafisch darzustellen. Die `plot` Funktion ist nützlich, um funktionale Zusammenhänge darzustellen. Sie nimmt als Eingabe zwei gleichgroße Vektoren `x` und `y`, wobei der erste die $x$-Koordinaten und der zweite die $y$-Koordinaten enthält."
   ]
  },
  {
   "cell_type": "code",
   "execution_count": 17,
   "metadata": {},
   "outputs": [
    {
     "data": {
      "image/png": "[encoded data removed]",
      "text/plain": [
       "<IPython.core.display.Image object>"
      ]
     },
     "metadata": {},
     "output_type": "display_data"
    }
   ],
   "source": [
    "x = linspace(-5,5,11);   % Ein Vektor mit Werten von -5 bis 5\n",
    "y = x.^2;                % Ein Vektor y mit den zugehörigen Funktionswerten \n",
    "\n",
    "plot(x, y);             % Erstellen einer grafischen Darstellung\n",
    "title('Mein erster plot y = x^2')\n",
    "xlabel('X-Achsenbeschriftung')\n",
    "ylabel('Y-Achsenbeschriftung')"
   ]
  },
  {
   "cell_type": "markdown",
   "metadata": {},
   "source": [
    "Über die vielen Funktionen rund um die Visualisierung und deren Optionen informieren Sie sich bitte in der Matlab Dokumentation. An dieser Stelle soll abschließend nur noch auf zwei Features aufmerksam gemacht werden:\n",
    "\n",
    " - Häufig möchte man mehrere Graphen in einem Koordinatensystem darstellen. Matlab überschreibt die Ergebnisse standardmäßig. Dieses Verhalten kann aber mit dem Befehl `hold on` ausgehebelt werden.\n",
    " - Das Koordinatensystem in Matlab ist ein Objekt vom Typ `axes`. Mit dem Befehl `gca`, kurz für *get current axes*, lässt sich ein *Handle* für das aktuell verwendete Koordinatensystem wiedergeben. Eigenschaften des Koordinatensystems lassen sich dann mit den Befehlen `set(gca, ...)` und `get(gca, ...)` abfragen bzw. ändern. Das ist ein nützliches Feature, wenn man tiefergreifendere Eigenschaften ändern möchte, als nur die Achsenbeschriftungen.\n",
    " \n",
    "Im Folgenden werden diese beiden Features in einem Skript benutzt, das für zehn verschiedene Parameter $D \\in [0.1, 1.0]$ die Funktion\n",
    "\n",
    "$$ y(x) = \\frac{1}{\\sqrt{(1-x^2)^2 + (2Dx)^2}} $$\n",
    "\n",
    "über das Interval $x \\in [0, 3]$ plottet.\n"
   ]
  },
  {
   "cell_type": "code",
   "execution_count": 18,
   "metadata": {
    "tags": [
     "remove-output"
    ]
   },
   "outputs": [
    {
     "name": "stdout",
     "output_type": "stream",
     "text": [
      "Created file '/mnt/d/documents/modellbildung-und-simulation/content/00_einleitung/resonance_catastrophe.m'.\n"
     ]
    }
   ],
   "source": [
    "%%file resonance_catastrophe.m\n",
    "% plot the resonance catastrophe curve \n",
    "%\n",
    "%     y(x) = 1./sqrt((1-x.^2).^2 + (2*D*x).^2)\n",
    "%\n",
    "% for different damping parameters D\n",
    "\n",
    "% x values of the plot = 500 equally spaced points in the interval [0, 3]\n",
    "x = linspace(0, 3, 500);\n",
    "\n",
    "% make sure that each new plot call does not overwrite old results\n",
    "hold on\n",
    "\n",
    "% plot 10 functions depending on a parameter D\n",
    "for D = 0.1:0.1:1\n",
    "\n",
    "    % set some variables denoting properties of the current plot\n",
    "    plotname = ['D = ', num2str(D)];              % name that shall appear in the legend\n",
    "    plotcolor = (1-D)*[1, 0, 0] + D*[0, 0, 1];    % RGB value that shall be used for the plot\n",
    "    \n",
    "    % plot the function with some additional options\n",
    "    plot(x, 1./sqrt((1-x.^2).^2 + (2*D*x).^2), ...\n",
    "         'DisplayName', plotname, ...\n",
    "         'Color', plotcolor, ...\n",
    "         'LineWidth', 5)\n",
    "    \n",
    "end\n",
    "\n",
    "% set some options for the current axis\n",
    "xlabel('\\Omega/\\omega_0', 'fontsize', 16)\n",
    "ylabel('(A_\\Omega*k)/F', 'fontsize', 16)\n",
    "set(gca, 'Box', 'on', 'XGrid', 'on', 'YGrid', 'on')\n",
    "\n",
    "% show a legend\n",
    "legend toggle\n"
   ]
  },
  {
   "cell_type": "code",
   "execution_count": 19,
   "metadata": {},
   "outputs": [
    {
     "data": {
      "image/png": "[encoded data removed]",
      "text/plain": [
       "<IPython.core.display.Image object>"
      ]
     },
     "metadata": {},
     "output_type": "display_data"
    }
   ],
   "source": [
    "run resonance_catastrophe.m"
   ]
  },
  {
   "cell_type": "markdown",
   "metadata": {},
   "source": [
    "## Funktionen\n",
    "\n",
    "Mit Skripten können wir also Algorithmen als eine Abfolge von Anweisungen umsetzen. Funktionen zeichnen sich, im Gegensatz zu Skripten, dadurch aus, dass es eine klare Trennung von Eingabe, Ausgabe und Anweisungen gibt. Dies bietet sich insbesondere dann an, wenn die Funktion einen Algorithmus repräsentiert, der oft an verschiedenen Stellen ausgeführt werden soll.\n",
    "\n",
    "### Eingabe und Ausgabe\n",
    "\n",
    "Funktionen werden in Matlab mit dem `function` Keyword eingeleitet. Das folgende m-File `oldmcdonald.m` definiert eine Funktion mit Namen `oldmcdonald`, die für einen Tiernamen `animal` als Eingabe einen Laut `sound` als Ausgabe ausgibt. Sowohl `animal` und `sound` werden als Strings definiert."
   ]
  },
  {
   "cell_type": "code",
   "execution_count": 20,
   "metadata": {
    "tags": [
     "remove-output"
    ]
   },
   "outputs": [
    {
     "name": "stdout",
     "output_type": "stream",
     "text": [
      "Created file '/mnt/d/documents/modellbildung-und-simulation/content/00_einleitung/oldmcdonald.m'.\n"
     ]
    }
   ],
   "source": [
    "%%file oldmcdonald.m\n",
    "function sound = oldmcdonald(animal)\n",
    "% oldmcdonald takes an input string \"animal\" and outputs a \"noise\"\n",
    "% corresponding to the input. If the animal is unknown, an \n",
    "% error is thrown.\n",
    "% \n",
    "% input:     animal can be any of [\"cat\", \"dog\", \"cow\", \"kangaroo\"]\n",
    "% output:    noise\n",
    "%\n",
    "    if strcmp(animal, \"cat\")\n",
    "        sound = \"Meaow\";\n",
    "    elseif strcmp(animal,  \"dog\")\n",
    "        sound = \"Woof! Woof!\";\n",
    "    elseif strcmp(animal,  \"cow\")\n",
    "        sound = \"Moooooh!\";\n",
    "    elseif strcmp(animal,  \"kangaroo\")\n",
    "        sound = \"Gib mir eine Schnapspraline.\";\n",
    "    else\n",
    "        error([\"I don't know what kind of noise a \", animal, \" makes.\"]);\n",
    "    end\n",
    "end"
   ]
  },
  {
   "cell_type": "markdown",
   "metadata": {},
   "source": [
    "**Wichtig:** Der Dateiname muss genau dem Funktionsnamen entsprechen.\n",
    "\n",
    "Wenn sich die Datei im aktuellen Arbeitsverzeichnis befindet, steht uns die Funktion für die Verwendung im Command Window oder in einem Skript zur Verfügung. Die Ausgabe können wir nun entweder der temporären Variable `ans` oder einer Variablen mit beliebigem Namen zuordnen:"
   ]
  },
  {
   "cell_type": "code",
   "execution_count": 21,
   "metadata": {},
   "outputs": [
    {
     "name": "stdout",
     "output_type": "stream",
     "text": [
      "ans = Meaow\n"
     ]
    }
   ],
   "source": [
    "oldmcdonald('cat')"
   ]
  },
  {
   "cell_type": "code",
   "execution_count": 22,
   "metadata": {},
   "outputs": [
    {
     "name": "stdout",
     "output_type": "stream",
     "text": [
      "noise = Woof! Woof!\n"
     ]
    }
   ],
   "source": [
    "noise = oldmcdonald('dog')"
   ]
  },
  {
   "cell_type": "code",
   "execution_count": 23,
   "metadata": {},
   "outputs": [
    {
     "name": "stdout",
     "output_type": "stream",
     "text": [
      "error: I don't know what kind of noise a penguin makes.\n",
      "error: called from\n",
      "    oldmcdonald at line 18 column 9\n"
     ]
    }
   ],
   "source": [
    "oldmcdonald('penguin')"
   ]
  },
  {
   "cell_type": "code",
   "execution_count": 24,
   "metadata": {},
   "outputs": [
    {
     "name": "stdout",
     "output_type": "stream",
     "text": [
      "'oldmcdonald' is a function from the file /mnt/d/documents/modellbildung-und-simulation/content/00_einleitung/oldmcdonald.m\n",
      "\n",
      " oldmcdonald takes an input string \"animal\" and outputs a \"noise\"\n",
      " corresponding to the input. If the animal is unknown, an \n",
      " error is thrown.\n",
      " \n",
      " input:     animal can be any of [\"cat\", \"dog\", \"cow\", \"kangaroo\"]\n",
      " output:    noise\n",
      "\n",
      "\n",
      "\n",
      "Additional help for built-in functions and operators is\n",
      "available in the online version of the manual.  Use the command\n",
      "'doc <topic>' to search the manual index.\n",
      "\n",
      "Help and information about Octave is also available on the WWW\n",
      "at http://www.octave.org and via the help@octave.org\n",
      "mailing list.\n"
     ]
    }
   ],
   "source": [
    "help oldmcdonald"
   ]
  },
  {
   "cell_type": "markdown",
   "metadata": {},
   "source": [
    "Jede Funktion muss in einer Datei mit demselben Namen der Funktion definiert werden. Für kleine Funktionen, die nur in einem bestimmten Skript verwendet werden, bietet Matlab/Octave die Möglichkeit, die Funktion *am Ende des Skriptes* zu definieren:"
   ]
  },
  {
   "cell_type": "code",
   "execution_count": 1,
   "metadata": {
    "tags": [
     "remove-output"
    ]
   },
   "outputs": [
    {
     "name": "stdout",
     "output_type": "stream",
     "text": [
      "Created file '/home/martin/Modellbildung-und-Simulation/content/00_einleitung/mylittlefarm.m'.\n"
     ]
    }
   ],
   "source": [
    "%%file mylittlefarm.m\n",
    "% make a bunch of noises using the oldmcdonald function from before\n",
    "\n",
    "% define some animals\n",
    "animals = {\"cat\", \"dog\", \"cow\", \"kangaroo\"};\n",
    "\n",
    "% let each animal have his or her say\n",
    "for i=1:numel(animals)\n",
    "    disp(oldmcdonald(animals(i)))\n",
    "end\n",
    "\n",
    "% define the function \"oldmcdonald\"\n",
    "function sound = oldmcdonald(animal)\n",
    "    if strcmp(animal, \"cat\")\n",
    "        sound = \"Meaow\";\n",
    "    elseif strcmp(animal,  \"dog\")\n",
    "        sound = \"Woof! Woof!\";\n",
    "    elseif strcmp(animal,  \"cow\")\n",
    "        sound = \"Moooooh!\";\n",
    "    elseif strcmp(animal,  \"kangaroo\")\n",
    "        sound = \"Gib mir eine Schnapspraline.\";\n",
    "    else\n",
    "        error([\"I don't know what kind of noise a \", animal, \" makes.\"]);\n",
    "    end\n",
    "end"
   ]
  },
  {
   "cell_type": "code",
   "execution_count": 26,
   "metadata": {},
   "outputs": [
    {
     "name": "stdout",
     "output_type": "stream",
     "text": [
      "Meaow\n",
      "Woof! Woof!\n",
      "Moooooh!\n",
      "Gib mir eine Schnapspraline.\n"
     ]
    }
   ],
   "source": [
    "run mylittlefarm"
   ]
  },
  {
   "cell_type": "markdown",
   "metadata": {},
   "source": [
    "Es ist zwingend notwendig, dass alle Funktionen am Ende eines Skriptes definiert werden.\n",
    "\n",
    "Anmerkung: Für die Liste `animals` in `mylittlefarm.m` wird keine Matrix verwendet, sondern eine sogenannte `cell`, die unterschiedlich große Variablen enthalten kann. Das erkennt man an der Verwendung der geschweiften Klammern `{}` anstelle der eckigen Klammern `[]`. Strings unterschiedlicher Länge können nicht in einer Matrix gespeichert werden, da sonst jeder Buchstabe einzeln hinterlegt wird."
   ]
  },
  {
   "cell_type": "markdown",
   "metadata": {},
   "source": [
    "### Scope von Variablen\n",
    "\n",
    "In dem obigen Beispiel geschieht die Trennung von Eingabe, Anweisungen und Ausgabe rein syntaktisch. Tatsächlich ist die Trennung aber stärker, da Funktionen die Sichtbarkeit von Variablen einschränken. Die Sichtbarkeit einer Variable in einem Code wird mit dem englischen Begriff *Scope* bezeichnet.\n",
    "\n",
    "Im Inneren einer Funktion sind ausschließlich die Variablen bekannt, die durch die Anweisungen im Funktionsblock erstellt wurden oder aus der Eingabe eingelesen wurden. Alle anderen Variablen, die sich zur Zeit der Ausführung im Workspace befinden, können nicht verwendet werden. Genauso sind alle Variablen, die durch Anweisungen im Funktionsblock erstellt werden, nicht im Workspace verwendbar. Auf diese Art und Weise werden keine Hilfsvariablen, die zur Lösung eines Problems innerhalb der Funktion dienen, nach außen sichtbar. Außerdem können nicht aus Versehen Variablen verwendet werden, die mit der Lösung des Problems nichts zutun haben.\n",
    "\n",
    "Am einfachsten lässt sich das demonstrieren, indem wir das Bisektionsskript als Funktion umschreiben."
   ]
  },
  {
   "cell_type": "code",
   "execution_count": 27,
   "metadata": {
    "tags": [
     "remove-output"
    ]
   },
   "outputs": [
    {
     "name": "stdout",
     "output_type": "stream",
     "text": [
      "Created file '/mnt/d/documents/modellbildung-und-simulation/content/00_einleitung/bisection.m'.\n"
     ]
    }
   ],
   "source": [
    "%%file bisection.m\n",
    "function result = bisection(xlower, xupper, tolerance, maxIterations)\n",
    "% find a zero of the polynomial \n",
    "%\n",
    "%      y(x)= -x^4 + x^3 - x^2 + x + 1\n",
    "%\n",
    "% in the interval xlower and xupper using bisection\n",
    "%\n",
    "% input:\n",
    "%   xlower:        lower bound for the zero.\n",
    "%   xupper:        upper bound for the zero. y(xupper) and y(xlower) must have \n",
    "%                  different signs!\n",
    "%   tolerance:     if the absolute value of y(x) is smaller than this, the point \n",
    "%                  x is considered to be a a zero.\n",
    "%   maxIterations: maximum number of iterations\n",
    "%\n",
    "% output:\n",
    "%   result:        the calculated zero of the given function\n",
    "\n",
    "% check if the bounds have function values with different signs\n",
    "fxlower =  -xlower^4 + xlower^3 - xlower^2 + xlower + 1;\n",
    "fxupper =  -xupper^4 + xupper^3 - xupper^2 + xupper + 1;\n",
    "if sign(fxupper) == sign(fxlower)\n",
    "    error(\"The bounds xlower and xupper must be chosen, such that their function values have different signs.\")\n",
    "end\n",
    "\n",
    "% this variable is set to true once the iteration converged\n",
    "converged = false;\n",
    "\n",
    "for iteration=1:maxIterations\n",
    "    \n",
    "    % take the middle between the two bounds\n",
    "    midpoint = 0.5*(xupper + xlower);\n",
    "    \n",
    "    % check the function value at this point\n",
    "    fmidpoint = -midpoint^4 + midpoint^3 - midpoint^2 + midpoint + 1;\n",
    "    \n",
    "    % if the function value is small enough, we are done\n",
    "    if abs(fmidpoint) < tolerance\n",
    "        converged = true;\n",
    "        break;\n",
    "    end\n",
    "    \n",
    "    % if we reach this point, we have not converged. \n",
    "    \n",
    "    % reset the limits and repeat\n",
    "    if fmidpoint > 0\n",
    "        xupper = midpoint;\n",
    "    else\n",
    "        xlower = midpoint;\n",
    "    end\n",
    "end\n",
    "\n",
    "result = midpoint;\n",
    "\n",
    "if converged\n",
    "    disp([\"Converged in \", num2str(iteration), \" iterations. The solution is \", num2str(result), \".\"])\n",
    "else\n",
    "    disp([\"No convergence to the specified tolerance of \", num2str(tolerance),  ...\n",
    "          \" within \", num2str(iteration), \" iterations. The current error is \", num2str(fmidpoint), \".\"])\n",
    "end"
   ]
  },
  {
   "cell_type": "markdown",
   "metadata": {},
   "source": [
    "Im Folgenden wird die neue Funktion verwendet. Die Grenzen `xlower` und `xupper` werden über die Variable `a` und `b` an die Funktion übergeben. Der Mittelpunkt des Startintervals wird in der Variable `midpoint` gespeichert."
   ]
  },
  {
   "cell_type": "code",
   "execution_count": 28,
   "metadata": {},
   "outputs": [
    {
     "name": "stdout",
     "output_type": "stream",
     "text": [
      "Converged in 25 iterations. The solution is -0.51879.\n",
      "0\n",
      "-0.51879\n"
     ]
    }
   ],
   "source": [
    "% define initial points and calculate the midpoint\n",
    "a = -1;\n",
    "b = 1;\n",
    "midpoint = (a+b)/2;\n",
    "\n",
    "res = bisection(a, b, 1e-8, 100);\n",
    "\n",
    "disp(midpoint)\n",
    "disp(res)"
   ]
  },
  {
   "cell_type": "markdown",
   "metadata": {},
   "source": [
    "Obwohl die Funktion ebenfalls eine Variable `midpoint` als Hilfsvariable in der Berechnung verwendet, bleibt die Variable außerhalb der Funktion unverändert. Die beiden Variablen befinden sich in unterschiedlichen *Scopes*. Aus demselben Grund kann während der Rechenvorschrift der Funktion auf keine Variablen mit dem Namen `a` oder `b` zurückgegriffen werden.\n",
    "\n",
    "Dieses Verhalten kann mit sogenannten globalen Variablen ausgehebelt werden, wie das folgende Beispiel demonstriert."
   ]
  },
  {
   "cell_type": "code",
   "execution_count": 2,
   "metadata": {
    "tags": [
     "remove-output"
    ]
   },
   "outputs": [
    {
     "name": "stdout",
     "output_type": "stream",
     "text": [
      "Created file '/home/jan/shares/Modellbildung-und-Simulation/content/00_einleitung/increment_a.m'.\n"
     ]
    }
   ],
   "source": [
    "%%file increment_a.m\n",
    "function increment_a(n)\n",
    "    global a\n",
    "    a = a + n;\n",
    "end"
   ]
  },
  {
   "cell_type": "code",
   "execution_count": 3,
   "metadata": {},
   "outputs": [
    {
     "name": "stdout",
     "output_type": "stream",
     "text": [
      "0\n",
      " 2\n",
      " 7\n"
     ]
    }
   ],
   "source": [
    "global a\n",
    "a = 0;\n",
    "disp(a)\n",
    "increment_a(2)\n",
    "disp(a)\n",
    "increment_a(5)\n",
    "disp(a)"
   ]
  },
  {
   "cell_type": "markdown",
   "metadata": {},
   "source": [
    "Überall dort, wo der *Scope* einer Variablen `x` erweitert werden soll, muss dies explizit durch die Zeile `global x` angegeben werden. In dem obigen Beispiel muss das also sowohl in der Funktion als auch im aufrufenden Skript geschehen.\n",
    "\n",
    "Globale Variablen sollten spärlich verwendet werden, da sie gerade die saubere Trennung von Eingabe, Ausgabe und Funktionskörper unterwandern und so für mögliche Fehlerquellen sorgen."
   ]
  },
  {
   "cell_type": "markdown",
   "metadata": {},
   "source": [
    "### Function Handles\n",
    "\n",
    "Neben Funktionen am Ende eines Skriptes und Funktionen in separaten m-Files, bietet Matlab die Möglichkeit Funktionen über sogenannte *Function Handles* zu definieren. Ein *Function Handle* ist eine Variable, in der die Funktion gespeichert wird. Function Handles eignen sich besonders, um kurze einzeilige Funktionen zu definieren."
   ]
  },
  {
   "cell_type": "code",
   "execution_count": 49,
   "metadata": {},
   "outputs": [],
   "source": [
    "myPolynomial = @(x) -x.^4 + x.^3 - x.^2 + x + 1;"
   ]
  },
  {
   "cell_type": "code",
   "execution_count": 33,
   "metadata": {},
   "outputs": [
    {
     "name": "stdout",
     "output_type": "stream",
     "text": [
      "ans = function_handle\n"
     ]
    }
   ],
   "source": [
    "class(myPolynomial)"
   ]
  },
  {
   "cell_type": "code",
   "execution_count": 34,
   "metadata": {},
   "outputs": [
    {
     "name": "stdout",
     "output_type": "stream",
     "text": [
      "ans = -3\n"
     ]
    }
   ],
   "source": [
    "myPolynomial(-1)"
   ]
  },
  {
   "cell_type": "code",
   "execution_count": 35,
   "metadata": {},
   "outputs": [
    {
     "name": "stdout",
     "output_type": "stream",
     "text": [
      "ans =  1\n"
     ]
    }
   ],
   "source": [
    "myPolynomial(1)"
   ]
  },
  {
   "cell_type": "markdown",
   "metadata": {},
   "source": [
    "Mit einem vorangestellten `@(x)` wird deklariert, dass `x` als Eingabeparameter für die Funktion interpretiert werden soll. Hier kann man auch eine Abhängigkeit von mehreren Variablen deklarieren, z.B."
   ]
  },
  {
   "cell_type": "code",
   "execution_count": 5,
   "metadata": {},
   "outputs": [
    {
     "name": "stdout",
     "output_type": "stream",
     "text": [
      "ans =  1.4142\n"
     ]
    }
   ],
   "source": [
    "norm2d = @(x,y) sqrt(x.^2 + y.^2);\n",
    "norm2d(1,1)"
   ]
  },
  {
   "cell_type": "markdown",
   "metadata": {},
   "source": [
    "Da die Funktion nun als Variable im Workspace gespeichert ist, können wir sie wie andere Variablen verwenden. Wir können sie auch als Eingabe an eine weitere Funktion übergeben. So könnten wir zum Beispiel die Bisektionsfunktion so anpassen, dass sie als Eingabe eine beliebige Funktion in Form eines Function Handles erhält. Dadurch können wir mit unserer Funktion Nullstellen beliebiger Funktionen finden. Die einzige Voraussetzung ist, dass wir die Nullstelle durch ein Intervall sinnvoll eingeklammert haben und sich der Function Handle für alle Zwischenwerte auswerten lässt."
   ]
  },
  {
   "cell_type": "code",
   "execution_count": 7,
   "metadata": {
    "tags": [
     "remove-output"
    ]
   },
   "outputs": [
    {
     "name": "stdout",
     "output_type": "stream",
     "text": [
      "Created file '/home/jan/shares/Modellbildung-und-Simulation/content/00_einleitung/bisection.m'.\n"
     ]
    }
   ],
   "source": [
    "%%file bisection.m\n",
    "function result = bisection(f, xlower, xupper, tolerance, maxIterations)\n",
    "% bisection finds a zero of a function f in the interval xlower and xupper \n",
    "% using bisection\n",
    "%\n",
    "% input:\n",
    "%   f:             a function handle to the function f\n",
    "%   xlower:        lower bound for the zero.\n",
    "%   xupper:        upper bound for the zero. y(xupper) and y(xlower) must have \n",
    "%                  different signs!\n",
    "%   tolerance:     if the absolute value of y(x) is smaller than this, the point \n",
    "%                  x is considered to be a a zero.\n",
    "%   maxIterations: maximum number of iterations\n",
    "%\n",
    "% output:\n",
    "%   result:        the calculated zero of the given function\n",
    "\n",
    "% check if the bounds have function values with different signs\n",
    "if sign(f(xupper)) == sign(f(xlower))\n",
    "    error(\"The bounds xlower and xupper must be chosen, such that their function values have different signs.\")\n",
    "end\n",
    "\n",
    "% this variable is set to true once the iteration converged\n",
    "converged = false;\n",
    "\n",
    "for iteration=1:maxIterations\n",
    "    \n",
    "    % take the middle between the two bounds\n",
    "    midpoint = 0.5*(xupper + xlower);\n",
    "    \n",
    "    % check the function value at this point\n",
    "    fmidpoint = f(midpoint);\n",
    "    \n",
    "    % if the function value is small enough, we are done\n",
    "    if abs(fmidpoint) < tolerance\n",
    "        converged = true;\n",
    "        break;\n",
    "    end\n",
    "    \n",
    "    % if we reach this point, we have not converged. \n",
    "    \n",
    "    % reset the limits and repeat\n",
    "    if fmidpoint > 0\n",
    "        xupper = midpoint;\n",
    "    else\n",
    "        xlower = midpoint;\n",
    "    end\n",
    "end\n",
    "\n",
    "result = midpoint;\n",
    "\n",
    "if converged\n",
    "    disp([\"Converged in \", num2str(iteration), \" iterations. The solution is \", num2str(result), \".\"])\n",
    "else\n",
    "    disp([\"No convergence to the specified tolerance of \", num2str(tolerance),  ...\n",
    "          \" within \", num2str(iteration), \" iterations. The current error is \", num2str(fmidpoint), \".\"])\n",
    "end"
   ]
  },
  {
   "cell_type": "markdown",
   "metadata": {},
   "source": [
    "Nicht nur haben wir die Funktion stark erweitert, da sie nun Nullstellen beliebiger Funktionen finden kann, wir haben auch eine potentielle Fehlerquelle beseitigt: Bisher wurde die Funktionsvorschrift des Polynoms an drei Stellen des Algorithmus verwendet. Wenn die Funktion nun geändert werden soll, passiert es schnell, dass sie nicht an allen Stellen geändert wird. In der neuen Version kann das nicht passieren, da überall die Funktion `f` aus der Eingabe verwendet wird.\n",
    "\n",
    "Die weiter oben über ein Function Handle definierte Funktion `myPolynomial` kann nun als Eingabe verwendet werden:"
   ]
  },
  {
   "cell_type": "code",
   "execution_count": 52,
   "metadata": {},
   "outputs": [
    {
     "name": "stdout",
     "output_type": "stream",
     "text": [
      "Converged in 40 iterations. The solution is -0.51879.\n",
      "ans = -0.51879\n"
     ]
    }
   ],
   "source": [
    "bisection(myPolynomial, -1, 1, 1e-12, 100)"
   ]
  },
  {
   "cell_type": "markdown",
   "metadata": {},
   "source": [
    "**Quiz**: Finden Sie die erste positive Nullstelle der Funktion $f(x)=-\\cos(-\\frac{1}{3}x^2 - \\frac{1}{10}x + 1)$. "
   ]
  },
  {
   "cell_type": "code",
   "execution_count": 45,
   "metadata": {
    "tags": [
     "hide_input"
    ]
   },
   "outputs": [
    {
     "data": {
      "image/png": "[encoded data removed]",
      "text/plain": [
       "<IPython.core.display.Image object>"
      ]
     },
     "metadata": {},
     "output_type": "display_data"
    }
   ],
   "source": [
    "%plot f(x)= -cos(-0.33*x.^2-0.1*x +1)\n",
    "x = 0:pi/2000:2*pi;\n",
    "plot(x,-cos(-0.33*x.^2-0.1*x +1),'LineWidth',10)\n",
    "xlabel('x')\n",
    "ylabel('y')\n",
    "xlim([0,2*pi])\n",
    "set(gca, 'Box', 'on', 'XGrid', 'on', 'YGrid', 'on')"
   ]
  },
  {
   "cell_type": "code",
   "execution_count": 39,
   "metadata": {},
   "outputs": [],
   "source": [
    "% space for quiz answer\n"
   ]
  },
  {
   "cell_type": "markdown",
   "metadata": {},
   "source": [
    "Aus Funktionen, die über ein m-File definiert wurden, lassen sich auch Function Handles erzeugen.\n",
    "\n",
    "Function Handles lassen sich durch ein vorangestelltes `@` vor dem Funktionsnamen erzeugen. Im folgenden Beispiel wird ein Function Handle `h` für die Funktion `bisection` erstellt. Die Funktion `bisection` wird anschließend mittelbar über das Function Handle `h` aufgerufen, um eine Nullstelle der Funktion $f(x) = 2x - \\frac{1}{3}$ aufzufinden."
   ]
  },
  {
   "cell_type": "code",
   "execution_count": 8,
   "metadata": {},
   "outputs": [
    {
     "name": "stdout",
     "output_type": "stream",
     "text": [
      "h = @bisection\n",
      "ans = function_handle\n",
      "Converged in 27 iterations. The solution is 0.165.\n",
      "ans =  0.16500\n"
     ]
    }
   ],
   "source": [
    "h = @bisection\n",
    "class(h)\n",
    "h(@(x) 2*x-0.33, 0, 1, 1e-8, 100)"
   ]
  },
  {
   "cell_type": "markdown",
   "metadata": {},
   "source": [
    "### Rekursion\n",
    "\n",
    "Zum Schluss sei noch angemerkt, dass Funktionen sich selbst aufrufen können. In vielen Fällen, in denen sich diese *Rekursion* anwenden lässt, sorgt ein rekursiver Aufruf für eine sehr kurze, prägnante Schreibweise. So lässt sich die Fakultät wieder über eine Auswertung der Fakuktät definieren:\n",
    "\n",
    "$$ n! = n \\cdot (n-1)! $$\n",
    "\n",
    "für alle $n \\in \\mathbb{N}$ und $0! = 1$.\n",
    "\n",
    "Als weiteres Beispiel für eine Rekursion sei die ursprüngliche Fibonacci-Folge angegeben. Die ersten beiden Zahlen der Fibonacci-Folge $a_n$ sind $a_1 = 1, a_2 = 1$. Alle weiteren Zahlen ergeben sich aus der Summe der beiden vorherigen:\n",
    "\n",
    "$$ a_{n} = a_{n-1} + a_{n-2}.$$\n",
    "\n",
    "Die ersten paar Zahlen der Fibonacci-Folge sind demnach:\n",
    "\n",
    "$$1,1,2,3,5,8,13,...$$\n",
    "\n",
    "Das folgende Programm berechnet die $n$-te Fibonacci-Zahl:"
   ]
  },
  {
   "cell_type": "code",
   "execution_count": 41,
   "metadata": {
    "tags": [
     "remove-output"
    ]
   },
   "outputs": [
    {
     "name": "stdout",
     "output_type": "stream",
     "text": [
      "Created file '/mnt/d/documents/modellbildung-und-simulation/content/00_einleitung/fibonacci.m'.\n"
     ]
    }
   ],
   "source": [
    "%%file fibonacci.m\n",
    "function out = fibonacci(n)\n",
    "    if (n<3)\n",
    "        out = 1;\n",
    "    else\n",
    "        out = fibonacci(n-1) + fibonacci(n-2);\n",
    "    end;\n",
    "end"
   ]
  },
  {
   "cell_type": "code",
   "execution_count": 42,
   "metadata": {},
   "outputs": [
    {
     "name": "stdout",
     "output_type": "stream",
     "text": [
      "ans =  610\n"
     ]
    }
   ],
   "source": [
    "fibonacci(15)"
   ]
  },
  {
   "cell_type": "markdown",
   "metadata": {},
   "source": [
    "Die if-then-else-Anweisung garantiert, dass die Rekursion terminiert, da die Funktion im Funktionskörper immer nur für kleinere Zahlen aufgerufen wird.\n",
    "\n",
    "**Zusatzfrage:** Wie ist der Algorithmus hinsichtlich der verwendeten Rechenoperationen zu bewerten? Ist er effizient implementiert oder lässt sich da etwas verbessern?"
   ]
  }
 ],
 "metadata": {
  "kernelspec": {
   "display_name": "Octave",
   "language": "octave",
   "name": "octave"
  },
  "language_info": {
   "file_extension": ".m",
   "help_links": [
    {
     "text": "GNU Octave",
     "url": "https://www.gnu.org/software/octave/support.html"
    },
    {
     "text": "Octave Kernel",
     "url": "https://github.com/Calysto/octave_kernel"
    },
    {
     "text": "MetaKernel Magics",
     "url": "https://metakernel.readthedocs.io/en/latest/source/README.html"
    }
   ],
   "mimetype": "text/x-octave",
   "name": "octave",
   "version": "5.2.0"
  }
 },
 "nbformat": 4,
 "nbformat_minor": 4
}
