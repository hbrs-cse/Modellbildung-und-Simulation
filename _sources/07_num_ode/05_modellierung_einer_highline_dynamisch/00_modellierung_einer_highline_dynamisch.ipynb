{
 "cells": [
  {
   "cell_type": "markdown",
   "id": "4169bbb1-66ad-4d02-a6df-497de31451be",
   "metadata": {},
   "source": [
    "````{grid} 2\n",
    "```{grid-item-card}\n",
    ":class-header: bg-light\n",
    "Voraussetzungen\n",
    "^^^\n",
    "- statische Modellierung einer Highline ({ref}`highline_static`)\n",
    "- Reduktion von DGLs höherer Ordnung auf ein System von DGLs erster Ordnung\n",
    "- Umgang mit aufgeteilten Programmroutinen\n",
    "```\n",
    "```{grid-item-card}\n",
    ":class-header: bg-light\n",
    "Lerninhalte\n",
    "^^^\n",
    "- zeitliche und räumliche Diskretisierung dynamischer Systeme\n",
    "- Aufstellen von Differentialgleichungssystemen\n",
    "- Lösung der Systemgleichungen mit ODE Lösern\n",
    "```\n",
    "````\n"
   ]
  },
  {
   "cell_type": "markdown",
   "id": "9d559bc0",
   "metadata": {},
   "source": [
    "(highline_dynamic)=\n",
    "# Modellierung einer Highline - Zeitliche Auflösung\n",
    "\n",
    "Sie kennen dieses Modell einer Highline bereits aus dem Kapitel zu linearen Gleichungen. Alle wichtigen Informationen finden Sie in dem Kapitel {ref}`highline_static`, genauer {ref}`highline_static/balance_of_forces`."
   ]
  },
  {
   "cell_type": "markdown",
   "id": "f117ab25",
   "metadata": {},
   "source": [
    "## Neu: Die dynamische Simulation\n",
    "\n",
    "Anstatt einen stationären Lastfall zu betrachten und so die Gleichung zu $S \\tilde{\\mathbf{z}} =\\mathbf{b}$ zu vereinfachen, betrachten wir weiterhin die oben stehende Gleichung inklusive der Dämpfungsmatrix $\\mathbf{D}$. Die $L = 50 \\text{ m}$ lange Highline wird mit $N = 100$ Elementen diskretisiert.\n",
    "\n",
    "Nehmen Sie als Gesamtgewicht $m_{ges} = 3.15 \\text{ kg}$, als Dämpfung der Elemente $d = 10 \\,\\frac{\\text{Ns}}{\\text{m}}$ und als Steifigkeit der Elemente $k = 2\\cdot10^4 \\,\\frac{\\text{N}}{\\text{m}}$ an.\n",
    "\n",
    "Zur Erinnerung, das Gleichungssystem und die Matrizen sind:\n",
    "\n",
    "$$M \\ddot{\\mathbf{z}} + D\\dot{\\mathbf{z}} + K \\mathbf{z} = \\mathbf{F}_{\\text{ext}}, K = k \\cdot S, D=d \\cdot S, $$\n",
    "\n",
    "$$ \\mathbf{z}=\\left[ \\begin{array}{c} \\mathbf{z}_1 \\\\ \\vdots \\\\ \\mathbf{z}_N \\end{array} \\right] \\in \\mathbb{R}^{2N}, \\quad \\mathbf{F}_{\\text{ext}} = \\left[ \\begin{array}{c} \\mathbf{F}_{1,\\text{ext}} \\\\ \\vdots \\\\ \\mathbf{F}_{N,\\text{ext}} \\end{array} \\right] \\in \\mathbb{R}^{2N}, \\quad M = \\left[ \\begin{array}{cccc} m & 0 & \\cdots & 0 \\\\ 0 & m & \\ddots & \\vdots \\\\ \\vdots & \\ddots & \\ddots & 0 \\\\ 0 & \\cdots & 0 & m \\end{array} \\right] \\in \\mathbb{R}^{2N \\times 2N} \\quad \\text{und} $$\n",
    "\n",
    "$$S = \\left[ \\begin{array}{rrrrrrr}\n",
    "2 & 0 & -1 & 0 & \\cdots & \\cdots & 0  \\\\\n",
    "0 & 2 & 0 & -1 & \\ddots &  & \\vdots \\\\\n",
    "-1 & 0 & 2 & 0 & \\ddots & \\ddots & \\vdots \\\\\n",
    "0 & -1 & 0 & 2 & \\ddots & \\ddots & 0 \\\\\n",
    "\\vdots & \\ddots & \\ddots & \\ddots  & \\ddots & \\ddots & -1 \\\\\n",
    "\\vdots & & \\ddots & \\ddots  & \\ddots & \\ddots & 0 \\\\\n",
    "0 & \\cdots & \\cdots & 0 & -1 & 0 & 2\n",
    "\\end{array}  \\right] \\in \\mathbb{R}^{2N \\times 2N}.$$"
   ]
  },
  {
   "cell_type": "markdown",
   "id": "4d52dcd8",
   "metadata": {},
   "source": [
    "## Aufgabe 1\n",
    "\n",
    "Lösen Sie die Differentialgleichung mit der Matlab–Routine `ode15s` auf einem Zeitinterval von 40 Sekunden. Als externe Kraft $\\mathbf{F}_{ext}$ soll zunächst nur die Schwerkraft auf die Highline-Knoten wirken. Verwenden Sie $\\mathbf{z}(0)=\\mathbf{\\dot{z}}(0)=0$ als Anfangsbedingungen. Zunächst nehmen wir $\\mathbf{F}_{ext} = \\text{const.} = \\mathbf{F}_g$ an.\n",
    "\n",
    "```{admonition} Tipp\n",
    ":class: tip\n",
    "\n",
    "- Bringen Sie die DGL auf die Form\n",
    "\n",
    "$$\\mathbf{\\dot{q}}=F(t,\\mathbf{q})\\text{, mit } \\mathbf{q} = \\left[ \\begin{array}{c} \\mathbf{q}_0 \\\\ \\mathbf{q}_1 \\end{array} \\right] := \\left[ \\begin{array}{c} \\mathbf{z} \\\\ \\mathbf{\\dot{z}} \\end{array} \\right] \\in \\mathbb{R}^{4N}$$\n",
    "\n",
    "mit einer geeigneten Funktion $F:\\mathbb{R}^{4N}\\to\\mathbb{R}^{4N}$\n",
    "- Mit Ihrem Parameter `L` und den Ausgaben `[t,q]` aus `ode15s` können Sie die hinterlegte Funktion `animate_highline(L,t,q)` nutzen, um sich eine Animation Ihrer Simulation anzeigen zu lassen. Keine Sorge: In dieser Teilaufgabe darf die Auslenkung der Highline noch unrealistisch hoch sein.\n",
    "- Holen Sie sich Inspiration aus den vorherigen Aufgaben, insbesondere aus der Simulation eines Raketenstarts.\n",
    "- Sie müssen $k$ anhand der Dehnbarkeit abhängig von der Länge Ihrer Elemente berechnen.\n",
    "\n",
    "```"
   ]
  },
  {
   "cell_type": "code",
   "execution_count": null,
   "id": "36c3f4eb",
   "metadata": {
    "tags": []
   },
   "outputs": [],
   "source": [
    "% space for the solution\n",
    "\n",
    "% S = ...\n",
    "% M = ...\n",
    "% K = ...\n",
    "% D = ...\n",
    "% F = ...\n",
    "\n",
    "% z = ...\n",
    "% q = ...\n",
    "% tspan = ...\n",
    "% q0 = ...\n",
    "\n",
    "%highlineode = ...\n",
    "\n",
    "[t,q] = ode15s(highlineode,tspan,q0);"
   ]
  },
  {
   "cell_type": "markdown",
   "id": "6df32e57",
   "metadata": {},
   "source": [
    "```{admonition} Hinweis\n",
    "Die Animation kann nicht interaktiv auf dieser Seite laufen. Laden Sie sich die Dateien herunter und rechnen Sie lokal auf Ihrem Computer.\n",
    "```"
   ]
  },
  {
   "cell_type": "code",
   "execution_count": null,
   "id": "4b19b2e4",
   "metadata": {
    "tags": [
     "hide_input"
    ]
   },
   "outputs": [],
   "source": [
    "function animate_highline(L,t,q,person_on_highline)\n",
    "\n",
    "dt = 0.2;                % time step size for animation\n",
    "Ta = min(t);           % start time\n",
    "Te = max(t);           % end time\n",
    "\n",
    "N = floor(size(q,2)/4);  % get number of mass points from q\n",
    "n = 2*N;\n",
    "\n",
    "%% animating\n",
    "timestep=0;\n",
    "for ti=Ta:dt:Te\n",
    "    timestep = timestep + 1;\n",
    "    \n",
    "    %get current displacement (interp1 is too slow)\n",
    "    [~,i]=min(abs(t-ti));\n",
    "    qi = q(i,:);\n",
    "    \n",
    "    %position of mass points = initial position + displacement\n",
    "    positions_x = qi(1:2:n)+L*linspace(1/(N+1),1-1/(N+1),N);\n",
    "    positions_y = qi(2:2:n);\n",
    "    \n",
    "    % x and y values of the highline nodes\n",
    "    Xvalues=[0 positions_x L];\n",
    "    Yvalues=[0 positions_y 0];\n",
    "    \n",
    "    if nargin>3\n",
    "        % positions of the pedestrians\n",
    "        posx = person_on_highline.positions(ti);\n",
    "        posy = interp1(Xvalues,Yvalues,posx);\n",
    "        if posx < L\n",
    "            posxs(timestep) = posx;\n",
    "            posys(timestep) = posy;\n",
    "        else\n",
    "            posxs(timestep) = L;\n",
    "            posys(timestep) = 0;\n",
    "        end\n",
    "    end\n",
    "    \n",
    "    %% plot the animation of the highline with pedestrians\n",
    "    cla;\n",
    "    hold on\n",
    "    plot(Xvalues,Yvalues,'-b', 'linewidth',1.5);\n",
    "    if nargin>3\n",
    "        scatter(posx,posy,50,'fill');\n",
    "        plot(posxs,posys,'-r', 'linewidth', 1.5);\n",
    "    end\n",
    "    %axis equal\n",
    "    box on\n",
    "    ylim([-1.5,0.1]);\n",
    "    xlim([0,L]);\n",
    "    title(['t = ',num2str(ti,'%1.2f'),' s'])\n",
    "    xlabel('horizontal direction [m]')\n",
    "    ylabel('vertical direction [m]')\n",
    "    \n",
    "    drawnow\n",
    "end"
   ]
  },
  {
   "cell_type": "code",
   "execution_count": null,
   "id": "3d63d695",
   "metadata": {
    "tags": []
   },
   "outputs": [],
   "source": [
    "% plot the displacement of the slackline based on the solution vector z as well as the length of the slackline L\n",
    "% (the function animate_highline is provided for you, you do not need to implement this)\n",
    "animate_highline(L,t,q)"
   ]
  },
  {
   "cell_type": "markdown",
   "id": "85f9510f",
   "metadata": {
    "tags": []
   },
   "source": [
    "```{image} images/animated_highline.gif\n",
    ":alt: Highline Animation beim Einschwingen\n",
    ":width: 400px\n",
    ":align: center\n",
    "```\n",
    "<div style=\\\"text-align: right\\\"> Abbildung 1: So sollte die sich einschwingende Highline aussehen. </div> <br>"
   ]
  },
  {
   "cell_type": "markdown",
   "id": "b999f452",
   "metadata": {},
   "source": [
    "## Aufgabe 2\n",
    "\n",
    "Modifizieren Sie Ihr Skript so, dass zusätzlich zur Schwerkraft $\\mathbf{F}_g$ eine Anregung durch Wind $\\mathbf{F}_w$ sowie eine Anregung $\\mathbf{F}_p$ durch den Highliner modeliert wird, also\n",
    "\n",
    "$$\\mathbf{F}_{ext}(t) = \\mathbf{F}_g + \\mathbf{F}_w(t) + \\mathbf{F}_p(t).$$\n",
    "\n",
    "Simple Modelle für den Highliner und den Wind sind für Sie in `wind.m` und `person_on_highline.m` hinterlegt. Diese können Sie mit den Befehlen"
   ]
  },
  {
   "cell_type": "code",
   "execution_count": null,
   "id": "5793bff4",
   "metadata": {
    "tags": [
     "hide_input"
    ]
   },
   "outputs": [],
   "source": [
    "classdef person_on_highline < handle\n",
    "    % person_on_highline is an object to create the excitation caused by\n",
    "    % a person on a highline.\n",
    "    properties\n",
    "        N;                  % no. of nodes of the highline (i.e. mass points)\n",
    "        L;                  % length of the highline [m]\n",
    "        weight = 75;        % weight of the person\n",
    "        velocity = 0.4;     % velocity of the person [m/s]\n",
    "    end\n",
    "    methods\n",
    "        %% constructor (creates the object)\n",
    "        function p = person_on_highline(N,L)\n",
    "            p.N = N;\n",
    "            p.L = L;\n",
    "        end % constructor\n",
    "        \n",
    "        %% excitation function\n",
    "        function F = excitation(obj,t)\n",
    "            \n",
    "            % allocate output vector\n",
    "            F=zeros(2*obj.N,1);\n",
    "            \n",
    "            %length of a highline segment between two nodes\n",
    "            seglen = obj.L/(obj.N+1);\n",
    "            \n",
    "            %position of the person\n",
    "            x=obj.velocity*t;\n",
    "            \n",
    "            %restrict position and weight to the highline\n",
    "            weight=obj.weight(x<=obj.L);\n",
    "            x=x(x<=obj.L);\n",
    "            \n",
    "            if ~isempty(x)\n",
    "            %find the two nearest nodes to the person\n",
    "                N0=floor(x/seglen);\n",
    "                N1=ceil(x/seglen);\n",
    "\n",
    "                %distribute the weight of the person to the two\n",
    "                %nearest nodes\n",
    "                a=(x-N0*seglen)/seglen;\n",
    "                if N0>0 && N0<obj.N+1\n",
    "                    F(2*N0)=-(1-a)*weight*9.81;\n",
    "                end\n",
    "                if N1>0 && N1<obj.N+1\n",
    "                    F(2*N1)=-a*weight*9.81;\n",
    "                end\n",
    "            end\n",
    "        end %excitation function\n",
    "        \n",
    "        %% positions(t) returns the horizontal position of the person\n",
    "        function x = positions(obj,t) %animate_highline can also be used with pedestrians.m, so the plural is kept\n",
    "            \n",
    "            %position of the person\n",
    "            x=obj.velocity*t;\n",
    "            \n",
    "            %restrict position to the highline\n",
    "            x=x(x<obj.L);\n",
    "        end %positions\n",
    "    end% methods\n",
    "end"
   ]
  },
  {
   "cell_type": "code",
   "execution_count": null,
   "id": "5e3ae38e",
   "metadata": {
    "tags": [
     "hide_input"
    ]
   },
   "outputs": [],
   "source": [
    "classdef wind < handle\n",
    "    % wind is an object to create the excitation caused by\n",
    "    % wind on a highline.\n",
    "    properties\n",
    "        amplitude = 0.1;        % amplitude of the nodal forces due to wind [N]\n",
    "        frequency = 5.39506;    % frequency of the nodal forces due to wind [1/s]\n",
    "        weights;                % nodal weights for the force evaluation\n",
    "    end\n",
    "    methods\n",
    "        %% constructor (creates the object)\n",
    "        function w = wind(N)\n",
    "            w.weights = (1-linspace(-1,1,2*N).^2)';\n",
    "        end % constructor\n",
    "        %% excitation function\n",
    "        function F = excitation(obj,t)\n",
    "            \n",
    "            F=obj.amplitude*obj.weights*sin(obj.frequency*t);\n",
    "            \n",
    "        end %excitation function\n",
    "    end% methods\n",
    "end"
   ]
  },
  {
   "cell_type": "code",
   "execution_count": null,
   "id": "adcff017",
   "metadata": {
    "tags": []
   },
   "outputs": [],
   "source": [
    "storm = wind(N);\n",
    "highliner = person_on_highline(N,L);"
   ]
  },
  {
   "cell_type": "markdown",
   "id": "32c9a224",
   "metadata": {},
   "source": [
    "initialisieren. Achten Sie dazu auf die korrekte Belegung von `N` und `L`. Anschließend erhalten Sie $\\mathbf{F}_w(t)$ und $\\mathbf{F}_p(t)$ über die Ausdrücke\n",
    "\n",
    "$\\mathbf{F}_w(t) = $`storm.excitation(t)`,\n",
    "\n",
    "$\\mathbf{F}_p(t) = $`highliner.excitation(t)`.\n",
    "\n",
    "```{admonition} Hinweis\n",
    "Sollten Sie offline in Octave arbeiten, speichern Sie `wind.m` und `person_on_highline.m` in separaten Dateien.\n",
    "```\n",
    "\n",
    "Simulieren Sie die Highline für den Zeitraum, den die Person zur Überquerung benötigt. Erstellen Sie eine Animation mit dem Befehl `animate_highline(...)`."
   ]
  },
  {
   "cell_type": "markdown",
   "id": "6ef04d6d",
   "metadata": {
    "tags": []
   },
   "source": [
    "```{image} images/animated_highline_with_wind.gif\n",
    ":alt: Highline Animation mit Wind\n",
    ":width: 800px\n",
    ":align: center\n",
    "```\n",
    "<div style=\\\"text-align: right\\\"> Abbildung 2: Animation nur mit Wind (mit `animate_highline(L,t,q)`). </div> <br>"
   ]
  },
  {
   "cell_type": "markdown",
   "id": "a463fe99",
   "metadata": {},
   "source": [
    "```{image} images/animated_highline_with_person.gif\n",
    ":alt: Highline Animation mit Highliner\n",
    ":width: 800px\n",
    ":align: center\n",
    "```\n",
    "\n",
    "<div style=\\\"text-align: right\\\">Abbildung 3: Animation mit Wind und Person auf der Highline (mit `animate_highline(L,t,q,highliner)`). </div> <br>"
   ]
  },
  {
   "cell_type": "markdown",
   "id": "c2691d38",
   "metadata": {},
   "source": [
    "## Aufgabe 3\n",
    "\n",
    "Modifizieren Sie Ihr Skript, sodass es die folgenden Plots erstellt:\n",
    "\n",
    "- Ein Plot, der die Verschiebung der Mitte der Highline über die Zeit darstellt.\n",
    "- Ein Plot, der die Beschleunigungen der Mitte der Highline über die Zeit darstellt.\n",
    "\n",
    "Gibt es eine einfache Maßnahme, mit der für die gegebene Anregung $\\mathbf{F}_{ext}$ die Schwingungsamplitude\n",
    "der Highline verringert werden kann? Belegen Sie Ihre Antwort möglichst mit Simulationsergebnissen. Wie gut lässt sich Ihre Maßnahme in der Praxis umsetzen?"
   ]
  },
  {
   "cell_type": "markdown",
   "id": "091578db",
   "metadata": {},
   "source": [
    "## Aufgabe 4\n",
    "\n",
    "Reale Slacklines haben eine Dehnung von etwa $15 \\,\\text{%}$ bei $15 \\,\\text{kN}$ und ein Gewicht von etwa $60 \\,\\frac{\\text{g}}{\\text{m}}$ (je nach Modell).\n",
    "\n",
    "- Wie können Sie die Dehnung in die Federsteifigkeit für variable $L$ übertragen? Können Sie unabhängig von $N$ die gleichen Ergebnisse erzielen?\n",
    "- Probieren Sie anstelle von `ode15s` den 'klassischen' Löser `ode45` aus. Warum benötigt dieser so lang und warum ist `ode15s` so viel performanter? Lassen Sie sich dazu Eckdaten der Löser ausgeben.\n",
    "- Wirkt die Dämpfung realistisch? Lässt sich das System auch mit einer geringeren Dämpfung gut simulieren?"
   ]
  }
 ],
 "metadata": {
  "kernelspec": {
   "display_name": "Octave",
   "language": "octave",
   "name": "octave"
  },
  "language_info": {
   "file_extension": ".m",
   "help_links": [
    {
     "text": "GNU Octave",
     "url": "https://www.gnu.org/software/octave/support.html"
    },
    {
     "text": "Octave Kernel",
     "url": "https://github.com/Calysto/octave_kernel"
    },
    {
     "text": "MetaKernel Magics",
     "url": "https://metakernel.readthedocs.io/en/latest/source/README.html"
    }
   ],
   "mimetype": "text/x-octave",
   "name": "octave",
   "version": "5.2.0"
  }
 },
 "nbformat": 4,
 "nbformat_minor": 5
}
