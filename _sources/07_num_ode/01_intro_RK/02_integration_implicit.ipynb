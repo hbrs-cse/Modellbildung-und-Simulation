{
 "cells": [
  {
   "cell_type": "markdown",
   "id": "4e2b907b-19e9-4f9c-84ee-c7529d31e173",
   "metadata": {},
   "source": [
    "````{grid} 2\n",
    "```{grid-item-card}\n",
    ":class-header: bg-light\n",
    "Voraussetzungen\n",
    "^^^\n",
    "- Traktrix\n",
    "- Explizite Integrationsverfahren von gewöhnlichen Differentialgleichungen\n",
    "```\n",
    "```{grid-item-card}\n",
    ":class-header: bg-light\n",
    "Lerninhalte\n",
    "^^^\n",
    "- Implizite Integrationsverfahren von gewöhnlichen Differentialgleichungen\n",
    "```\n",
    "````"
   ]
  },
  {
   "cell_type": "markdown",
   "id": "b16180e7-497d-4c0f-b7a2-0a98fc0262b9",
   "metadata": {},
   "source": [
    "(integration_rk_imp)=\n",
    "# Integration von ODEs mit impliziten Verfahren\n",
    "\n",
    "Wir wollen in diesem Kapitel wieder die Traktrix\n",
    "\n",
    "$$f(x,y(x)) = y'(x) = - \\frac{y}{\\sqrt{d^2-y^2(x)}}$$\n",
    "\n",
    "lösen, diesmal mit impliziten Verfahren."
   ]
  },
  {
   "cell_type": "markdown",
   "id": "43dc0039-6577-49cb-a644-ece01a2981c7",
   "metadata": {},
   "source": [
    "## Aufgabe 1: Die rechte Rechteckregel\n",
    "\n",
    "Die rechte Rechteckregel lautet\n",
    "\n",
    "$$\\int_{x_i}^{x_{i+1}}f(x,y(x))dx \\approx h \\cdot f(x_{i+1},y_{i+1}).$$\n",
    "\n",
    "Daraus leiten wir für die ODE\n",
    "\n",
    "$$y_{i+1} \\approx y_i + h \\cdot f(x_{i+1},y_{i+1})$$\n",
    "\n",
    "ab. Diese Gleichung können wir nach $0$ umstellen, wodurch wir anstelle der ODE ein Nullstellenproblem für jeden Schritt lösen müssen.\n",
    "\n",
    "$$0 = - y_{i+1} + y_i + h \\cdot f(x_{i+1},y_{i+1}) := g(y_{i+1})$$\n",
    "\n",
    "Die Nullstelle der Funktion $g(y_{i+1})$ ist also unser gesuchter nächster Schritt.\n",
    "\n",
    "`````{admonition} Hinweis\n",
    "Dieses Vorgehen entspricht dem **impliziten Eulerverfahren**, das in dem Kapitel {ref}`euler_stability` weiter dikutiert wird.\n",
    "\n",
    "````{admonition} Vergleich mit der numerischen Integration skalarer Funktionen\n",
    ":class: dropdown\n",
    "Auch die impliziten Verfahren lassen sich mit der Integration algebraischer Funktionen vergleichen. Für die Integration einer bekannten Funktion $f(x)$:\n",
    "\n",
    "```{image} images/quadratur_rechteck_rechts_x.png\n",
    ":alt: Name of image\n",
    ":width: 500px\n",
    ":align: center\n",
    "```\n",
    "Abbildung 1: Integral einer bekannten Funktion mit der rechten Rechteckregel.\n",
    "\n",
    "Und für die Integration einer Funktion $f(x,y)=y'$:\n",
    "\n",
    "```{image} images/quadratur_rechteck_rechts_xdot.png\n",
    ":alt: Name of image\n",
    ":width: 500px\n",
    ":align: center\n",
    "```\n",
    "Abbildung 2: Integration einer Differentialgleichung mit der rechten Rechteckregel. Das Vektorfeld (rote Pfeile), das die Differentialgleichung an beliebigen Punkten $(x,y)$ beschreibt, wird immer am rechten Rand des diskretisierten Intervalls ($x_1, x_2, ...$) ausgewertet, um auf den nächsten Startwert zu schließen (blaue Pfeile). Dabei wird hier die ideale Lösung (blau gestrichelt) überschätzt.\n",
    "\n",
    "````\n",
    "\n",
    "````{admonition} Butcher-Tableau\n",
    ":class: dropdown\n",
    "$\\begin{array}\n",
    "{c|c}\n",
    "1&1\\\\\n",
    "\\hline\n",
    "& 1\n",
    "\\end{array}$\n",
    "\n",
    "Hier kommt zum ersten Mal eine 1 oben links vor. Diese bedeutet, dass bereits $K_1$ von der Stelle $x_i + 1 \\cdot h$ ausgeht. Außerdem steht zum ersten Mal in der oberen Zeile eine zusätzliche 1. Diese bedeutet, dass auch die \"Schätzung\" für $y$ in $K_1$ von $y_i + 1 \\cdot h \\cdot K_1$ ausgeht.\n",
    "````\n",
    "`````\n",
    "\n",
    "Implementieren Sie das implizite Eulerverfahren für die Traktrix.\n",
    "\n",
    "```{admonition} Tipp\n",
    ":class: tip\n",
    "Eine Matlab-Routine zum Finden von Nullstellen, nämlich `fzero`, kennen Sie bereits aus {ref}`newton_aufgaben`. Dafür müssen Sie aus Ihrem function handle für $g(x_i,x_{i+1})$ ein spezifisches function handle $\\~g(x_{i+1})$ definieren.\n",
    "```"
   ]
  },
  {
   "cell_type": "code",
   "execution_count": null,
   "id": "21333c42-674e-4a15-9f03-3f28b57387f4",
   "metadata": {},
   "outputs": [],
   "source": [
    "% your code here\n",
    "y0    = 1;\n",
    "n     = 20; % number of timesteps\n",
    "tmax  = 10;\n",
    "tspan = linspace(0,tmax,n);\n",
    "h     = tmax/(n-1);\n",
    "g     = @(yip1,yi) -yip1 + yi + h*...;\n",
    "y     = zeros(n);\n",
    "y(1)  = y0;\n",
    "for i = 2:n\n",
    "    t    = tspan(i);\n",
    "    y(i) = fzero(@(yip1) g(yip1,y(i-1)));\n",
    "end\n",
    "\n",
    "plot(tspan,y)"
   ]
  },
  {
   "cell_type": "markdown",
   "id": "55a81fba-6d33-49c5-9f28-bfb077c3641b",
   "metadata": {},
   "source": [
    "## Aufgabe 2: Die bessere Trapezregel (implizit gelöst)\n",
    "\n",
    "In der {ref}`centroidal_integration` haben Sie die linke Rechteckregel genutzt, um Ihre Werte für die Stützstelle der Mittelpunktsregel zu schätzen, und sind bei einem Runge-Kutta-Verfahren 2. Ordnung gelandet. Lösen Sie nun die Trapezregel, bei der Sie den Funktionswert am rechten Rand des Intervalls wie oben implizit lösen.\n",
    "\n",
    "````{admonition} Hinweis\n",
    "\n",
    "Zur Erinnerung die Trapezregel:\n",
    "\n",
    "$$\\int_{x_i}^{x_{i+1}}f(x,y(x))dx \\approx \\frac{1}{2}h \\cdot \\left(f(x_i,y_i) + f(x_{i+1},y_{i+1})\\right)$$\n",
    "\n",
    "```{image} images/quadratur_trapez_x.png\n",
    ":alt: Name of image\n",
    ":width: 500px\n",
    ":align: center\n",
    "```\n",
    "Abbildung 3: Integral einer bekannten Funktion mit der Trapezregel.\n",
    "\n",
    "\n",
    "```{admonition} Butcher-Tableau\n",
    ":class: dropdown\n",
    "\n",
    "$\\begin{array}\n",
    "{c|cc}\n",
    "0\\\\\n",
    "1&\\frac{1}{2}&\\frac{1}{2}\\\\\n",
    "\\hline\n",
    "& \\frac{1}{2} & \\frac{1}{2}\n",
    "\\end{array}$\n",
    "\n",
    "Anders als im impliziten Eulerverfahren ist $K_1$ einfach $= f(x_i + 0\\cdot h,y_i + 0 \\cdot h \\cdot K_1)$. Allerdings fließt in $K_2$ $K_2$ selber ein.\n",
    "\n",
    "$$K_2 = f(x_i + 1\\cdot h,y_i + h \\cdot (\\frac{1}{2} \\cdot K_1 + \\frac{1}{2} \\cdot K_2)$$\n",
    "\n",
    "Daher muss wieder implizit gelöst werden. $y_{i+1}$ wird dann zwischen $K_1$ und $K_2$ mit je der Hälfte gleich gewichtet.\n",
    "\n",
    "**Merke:** Die Butcher-Tableaus impliziter Verfahren erkennt man daran, dass sie keine reine untere Dreiecksmatrizen sind.\n",
    "```\n",
    "\n",
    "````"
   ]
  },
  {
   "cell_type": "code",
   "execution_count": null,
   "id": "08621ddd-3ba2-4c1d-8aa2-c65845c54fba",
   "metadata": {
    "tags": []
   },
   "outputs": [],
   "source": [
    "% your code here"
   ]
  }
 ],
 "metadata": {
  "kernelspec": {
   "display_name": "Octave",
   "language": "octave",
   "name": "octave"
  },
  "language_info": {
   "file_extension": ".m",
   "help_links": [
    {
     "text": "GNU Octave",
     "url": "https://www.gnu.org/software/octave/support.html"
    },
    {
     "text": "Octave Kernel",
     "url": "https://github.com/Calysto/octave_kernel"
    },
    {
     "text": "MetaKernel Magics",
     "url": "https://metakernel.readthedocs.io/en/latest/source/README.html"
    }
   ],
   "mimetype": "text/x-octave",
   "name": "octave",
   "version": "5.2.0"
  }
 },
 "nbformat": 4,
 "nbformat_minor": 5
}
