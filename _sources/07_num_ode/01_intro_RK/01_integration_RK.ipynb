{
 "cells": [
  {
   "cell_type": "markdown",
   "id": "80a29e11-5caa-4505-827a-94a33dd2b55c",
   "metadata": {},
   "source": [
    "````{grid} 2\n",
    "```{grid-item-card}\n",
    ":class-header: bg-light\n",
    "Voraussetzungen\n",
    "^^^\n",
    "- Schwingungen\n",
    "- Numerische Integration analytischer Funktionen\n",
    "```\n",
    "```{grid-item-card}\n",
    ":class-header: bg-light\n",
    "Lerninhalte\n",
    "^^^\n",
    "- Explizite Integrationsverfahren von gewöhnlichen Differentialgleichungen\n",
    "```\n",
    "````"
   ]
  },
  {
   "cell_type": "markdown",
   "id": "5b207cff",
   "metadata": {
    "tags": []
   },
   "source": [
    "(integration_rk_exp)=\n",
    "# Integration von ODEs mit expliziten Verfahren\n",
    "\n",
    "Gewöhnliche Differentialgleichungen (Ordinary Differential Equations, **ODE**s) können oft nicht analytisch gelöst werden.\n",
    "\n",
    "Während die harmonische Schwingungsgleichung\n",
    "\n",
    "$$\\ddot x + \\omega_0^2\\cdot x = 0$$\n",
    "\n",
    "eine analytische Lösung besitzt, hat das inverse Tangentenproblem (auch Traktrix genannt)\n",
    "\n",
    "$$y' \\cdot \\sqrt{d^2-y^2} = - y$$\n",
    "\n",
    "schon keine klare analytische Lösung mehr. In der Praxis begegnen uns viele Fälle, in denen sich zwar eine Differentialgleichung aufstellen, aber nicht analytisch lösen lässt."
   ]
  },
  {
   "cell_type": "markdown",
   "id": "f48336df-89a0-4ed1-a461-6fa565cfddbd",
   "metadata": {
    "tags": []
   },
   "source": [
    "````{admonition} Was war nochmal ein inverses Tangentenproblem?\n",
    ":class: dropdown\n",
    "\n",
    "Gottfried Wilhelm Leibniz beschäftigte sich um 1676 mit geometrischen Problemen.\n",
    "Beim sogenannten inversen Tangentenproblem zog er die Uhrenkette seiner Taschenuhr entlang der Schreibtischkante und fragte sich, auf welcher Bahnkurve $y(x)$ sich die Uhr bewegt.\n",
    "\n",
    "```{image} images/LeipnizUhrInvTangProblem.gif\n",
    ":alt: LeipnizUhrInvTangProblem\n",
    ":align: center\n",
    "```\n",
    "Abbildung 1: Leipniz' Taschenuhrenproblem. An der Kette (rot gestrichelt, konstante Länge) wird die Taschenuhr (roter Kreis) gezogen. Sie beschreibt eine Bahnkurve (blau), die als Differentialgleichung beschrieben wird.\n",
    "\n",
    "Dabei machte er die Beobachtung, dass die Uhrenkette immer tangential an der Bahnkurve anliegt. Damit stimmen $y'(x)$ und die Steigung der Geraden entlang der Kette überein und für eine Kette der Länge $L$ erhalten wir  \n",
    "\n",
    "$$y'(x) = - \\frac{y(x)}{\\sqrt{d^2-y^2(x)}}.$$\n",
    "\n",
    "Die Bahnkurve $y(x)$ hängt natürlich davon ab, auf welcher Höhe die Uhr in $x=0$ positioniert wird. Daher muss noch ein Anfangswert $y(0)=y_0$ festlegt werden.\n",
    "\n",
    "```{admonition} Hinweis\n",
    "Mit senkrechter Kette, d.h. $y(0)=d$ kann nicht gestartet werden, weil in dem Fall der Nenner null wird. Daher legen wir den Anfangswert z.B. auf $y(0)=0.99 d$ fest. \n",
    "```\n",
    "````"
   ]
  },
  {
   "cell_type": "markdown",
   "id": "81c11dcb",
   "metadata": {
    "tags": []
   },
   "source": [
    "## Wichtige Begriffe\n",
    "\n",
    "### Explizite Formulierungen\n",
    "\n",
    "Die Traktrix können wir nach $y'$ umformen zu\n",
    "\n",
    "$$y'(x) = - \\frac{y(x)}{\\sqrt{d^2-y^2(x)}}.$$\n",
    "\n",
    "Wenn wir die ODE in der Form\n",
    "\n",
    "$$y'(x) = f(x,y(x))$$\n",
    "\n",
    "schreiben, sprechen wir von einer **expliziten Formulierung**. Diese Form ist besonders interessant für uns, denn wir können unsere Kenntnisse aus der numerischen Integration auf sie anwenden. Das ist besonders hilfreich, wenn wir die Funktion, wie die Traktrix, nicht analytisch integrieren können.\n",
    "\n",
    "### Schrittweise Integration\n",
    "\n",
    "Wie die numerische Integration bekannter Funktionen können wir $y'(x)$ über das Teilintervall $[x_i,x_{i+1}]$ integrieren.\n",
    "\n",
    "$$y(x_{i+1})-y(x_i) = \\int_{x_i}^{x_{i+1}}f(x,y(x))dx$$\n",
    "\n",
    "Durch Umstellen nach $y_{i+1} = y(x_{i+1})$ erhalten wir nach jedem Teilintervall einen neuen Funktionswert für $y_{i+1}$.\n",
    "\n",
    "$$y_{i+1} = y_i + \\int_{x_i}^{x_{i+1}} f(x,y(x))dx$$\n",
    "\n",
    "Für die schrittweise Integration führen wir außerdem ein\n",
    "\n",
    "$$h = x_{i+1} - x_i.$$\n",
    "\n",
    "### Anfangswertprobleme\n",
    "\n",
    "Mit der Annahme, dass $y_{i+1} = f(y_i)$ ist, müssen wir ein $y_0$ festlegen, von dem aus wir starten. Für das Taschenuhrenbeispiel ist es einfach $(0,d)$. Für andere ODEs, wie die Schwingungsgleichung, müssen wir Anfangswerte sinnvoll festlegen. Für das Pendel heißt das, wie hoch es anfangs hängt und wie schnell es sich bewegt. Bei ODEs sprechen wir daher auch von Anfangswertproblemen (AWPs oder IVPs, Initial Value Problems).\n",
    "\n",
    "Jetzt müssen wir noch das Integral geeignet approximieren."
   ]
  },
  {
   "cell_type": "markdown",
   "id": "760549d4-ef3b-4501-99ff-8f8e38b26c1c",
   "metadata": {
    "tags": []
   },
   "source": [
    "## Aufgabe 1: Linke Rechteckregel\n",
    "\n",
    "Für die Integration bekannter Funktionen entspricht die linke Rechteckregel einem Rechteck unter dem Punkt $x_i$:\n",
    "\n",
    "```{image} images/quadratur_rechteck_x.png\n",
    ":alt: Name of image\n",
    ":width: 400px\n",
    ":align: center\n",
    "```\n",
    "Abbildung 2: Integral einer bekannten Funktion mit der linken Rechteckregel.\n",
    "\n",
    "Bei der Integration einer ODE entspricht die linke Rechteckregel dem Vektorpfeil (der Ableitung) im Punkt $(x_i,y_i)$:\n",
    "\n",
    "```{image} images/quadratur_rechteck_xdot.png\n",
    ":alt: Name of image\n",
    ":width: 500px\n",
    ":align: center\n",
    "```\n",
    "Abbildung 3: Integration einer Differentialgleichung mit der linken Rechteckregel. Das Vektorfeld (rote Pfeile), das die Differentialgleichung an beliebigen Punkten $(x,y)$ beschreibt, wird immer am linken Rand des diskretisierten Intervalls ($x_0, x_1, ...$) ausgewertet, um auf den nächsten Startwert zu schließen (blaue Pfeile). Dabei wird hier die ideale Lösung (blau gestrichelt) unterschätzt.\n",
    "\n",
    "Wenden Sie die linke Rechteckregel\n",
    "\n",
    "$$\\int_{x_i}^{x_{i+1}}f(x,y(x)) dx \\approx h \\cdot f(x_i,y_i)$$\n",
    "\n",
    "auf die Traktrix an. In dem Code ist in Zeile 8 bereits `x=xspan(i)` definiert. Das kommt in der Traktrix nicht vor, ist aber für andere Gleichungen $f(x,y)$ sehr relevant, wie Sie weiter unten sehen werden.\n",
    "\n",
    "Was passiert bei $x=0$? Wie können Sie dem Problem ausweichen?\n",
    "\n",
    "````{admonition} Hinweis\n",
    "Dieses Vorgehen entspricht dem **expliziten Eulerverfahren**, das in dem Kapitel {ref}`euler_stability` weiter dikutiert wird. Die rechte Rechteckregel entspricht dem **impliziten Eulerverfahren**, das in dem Kapitel {ref}`integration_RK_imp` behandelt wird.\n",
    "\n",
    "```{admonition} Butcher-Tableau\n",
    ":class: dropdown\n",
    "\n",
    "Die hier behandelten Integrationsverfahren lassen sich mithilfe von Butcher-Tableaus leicht übersichtlich anordnen. Für das explizite Eulerverfahren lautet das Butcher-Tableau:\n",
    "\n",
    "$\\begin{array}\n",
    "{c|c}\n",
    "0\\\\\n",
    "\\hline\n",
    "& 1\n",
    "\\end{array}$\n",
    "\n",
    "Die 0 oben links bedeutet, dass für den ersten Zwischenwert (hier gibt es nur einen) die Stelle $x_i$  verwendet wird. Die 1 unten rechts bedeutet, dass das Ergebnis aus der ersten Zeile zu 100 % in $y_{i+1}$ eingeht. Komplexere Butcher-Tableaus werden weiter unten zusammen mit den zugehörigen Verfahren erläutert.\n",
    "```\n",
    "````"
   ]
  },
  {
   "cell_type": "code",
   "execution_count": null,
   "id": "78585f47",
   "metadata": {
    "tags": []
   },
   "outputs": [],
   "source": [
    "% your code here\n",
    "y0    = 1;\n",
    "n     = 20; % number of timesteps\n",
    "xmax  = 10;\n",
    "xspan = linspace(0,xmax,n);\n",
    "y     = zeros(1,n);\n",
    "for i = 1:n-1\n",
    "    x    = xspan(i);\n",
    "    y(i) = ...\n",
    "end\n",
    "\n",
    "plot(xspan,y)"
   ]
  },
  {
   "cell_type": "markdown",
   "id": "41f8110c-6aee-4b3a-9bde-6d0ef25e5761",
   "metadata": {
    "tags": []
   },
   "source": [
    "## Mehrstufige Verfahren\n",
    "\n",
    "(centroidal_integration)=\n",
    "## Aufgabe 2: Mittelpunktsregel\n",
    "\n",
    "Um eine größere Genauigkeit zu erreichen, wenden Sie die Mittelpunktsregel an.\n",
    "\n",
    "$$\\int_{x_i}^{x_{i+1}}f\\left(x,y(x)\\right)dx \\approx h \\cdot f\\left(x_{i+\\frac{1}{2}},y\\left(x_i\\right)\\right)$$\n",
    "\n",
    "```{image} images/quadratur_mittelpunkt_x.png\n",
    ":alt: Name of image\n",
    ":width: 400px\n",
    ":align: center\n",
    "```\n",
    "Abbildung 4: Integral einer bekannten Funktion mit der Mittelpunktregel.\n",
    "\n",
    "Hieraus ergibt sich für die schrittweise Integration\n",
    "\n",
    "$$y_{i+1} \\approx y_i + h \\cdot f\\left(\\frac{x_i+x_{i+1}}{2},y\\left(x_i\\right)\\right).$$\n",
    "\n",
    "Hierbei ist $\\frac{x_i+x_{i+1}}{2}$ gleichbedeutend mit $x_{i+\\frac{1}{2}}$, beziehungsweise $x_i + \\frac{1}{2}h$. Wir verwenden weiter unten vor allem die letzte Form.\n",
    "\n",
    "```{image} images/quadratur_mittelpunkt_xdot.png\n",
    ":alt: Name of image\n",
    ":width: 500px\n",
    ":align: center\n",
    "```\n",
    "Abbildung 5: Integration einer Differentialgleichung mit der Mittelpunktregel. Das Vektorfeld (rote Pfeile), das die Differentialgleichung an beliebigen Punkten $(x,y)$ beschreibt, wird zwischen zwei Punkten des diskretisierten Intervalls ($x_{1/2}, x_{3/2}, ...$) ausgewertet (dicke rote Pfeile), um auf die Steigung zu schließen (blaue Pfeile). Dabei wird die Lösung schon deutlich besser angenähert.\n",
    "\n",
    "```{admonition} Hinweis\n",
    "Kopieren Sie Ihren Code in die neue Codebox oder auf Ihrem Rechner in eine neue Datei, um die Lösungen der verschiedenen Verfahren später vergleichen zu können. Übernehmen Sie die Anpassung für `x`.\n",
    "```"
   ]
  },
  {
   "cell_type": "code",
   "execution_count": null,
   "id": "d902f10a-7ef9-49de-a2b9-9e36b5f6b8ed",
   "metadata": {
    "tags": []
   },
   "outputs": [],
   "source": [
    "% your code here"
   ]
  },
  {
   "cell_type": "markdown",
   "id": "00bdff83-3e8c-4322-9bad-57357f3255e5",
   "metadata": {},
   "source": [
    "Streng genommen können Sie für die Approximation nicht $y(x_i)$ verwenden, sondern müssen $y\\left(x_{i+1/2}\\right)$ schätzen. Verwenden Sie dazu die linke Rechteckregel von oben.\n",
    "\n",
    "$$y\\left(x_{i+\\frac{1}{2}}\\right) = y_{i+\\frac{1}{2}} = y_i + \\frac{h}{2} f(x_i,y_i)$$\n",
    "\n",
    "Wir führen zur besseren Übersicht $K_1$ für die linke und $K_2$ für die mittlere Stützstelle ein und kommen zu\n",
    "\n",
    "$$K_1 := f(x_i,y_i)$$\n",
    "$$K_2 := f\\left(x_i+\\frac{1}{2}h,y_i + \\frac{h}{2} K_1\\right)$$\n",
    "$$y_{i+1} \\approx y_i + h \\cdot K_2.$$\n",
    "\n",
    "Übernehmen Sie die verbesserte Stützstelle $K_2$ in Ihrem Code. In der Abbildung sehen Sie, wie sich die verbesserte Ableitung auswirkt. Die kleinen blauen Pfeile beschreiben die Ableitung $f(x,y(x))$ an ausgewählten Stellen im Raum ausgewertet, da die ODE von der Zeit *und* dem Funktionswert abhängen kann.\n",
    "\n",
    "```{image} images/vectorfield_animated_traktrix_RK2.gif\n",
    ":alt: Name of image\n",
    ":width: 800px\n",
    ":align: center\n",
    "```\n",
    "Abbildung 6: Lösung der Traktrix (orange) mit explizitem Eulerverfahren (dunkelblau) und einem Runke-Kutta-Verfahren zweiter Ordnung (lila). Die Differentialgleichung kann an beliebigen Punkten $(x,y)$ ausgewertet werden (hellblaue Pfeile). Für die RK Lösung wird zuerst die Steigung am linken Rand ausgewertet (roter Pfeil), anschließend an dessen Hälfte die Steigung ermittelt (grüner Pfeil) und zuletzt diese Steigung am Startpunkt angesetzt.\n",
    "\n",
    "````{admonition} Hinweis\n",
    ":class: dropdown\n",
    "Dieses Vorgehen entspricht einem **Runge-Kutta-Verfahren 2. Ordnung**. Für die Kosinus-Funktion (also die Integration der Sinus-Funktion) klappt das Verfahren sogar noch besser:\n",
    "\n",
    "```{image} images/vectorfield_animated_cos_RK2.gif\n",
    ":alt: Name of image\n",
    ":width: 800px\n",
    ":align: center\n",
    "```\n",
    "Abbildung 7: Lösung der Funktion $y' = f(x,y) = \\sin(x)$ mit der Lösung $y = \\cos(x)$ (orange) mit explizitem Eulerverfahren (dunkelblau) und einem Runke-Kutta-Verfahren zweiter Ordnung (lila). Die Differentialgleichung kann an beliebigen Punkten $(x,y)$ ausgewertet werden (hellblaue Pfeile). Für die RK Lösung wird zuerst die Steigung am linken Rand ausgewertet (roter Pfeil), anschließend an dessen Hälfte die Steigung ermittelt (grüner Pfeil) und zuletzt diese Steigung am Startpunkt angesetzt.\n",
    "\n",
    "```{admonition} Butcher-Tableau\n",
    "Das Butcher-Tableau für dieses Runge-Kutta-Verfahren 2. Ordnung lautet\n",
    "\n",
    "$\\begin{array}\n",
    "{c|cc}\n",
    "0\\\\\n",
    "\\frac{1}{2} & \\frac{1}{2}\\\\\n",
    "\\hline\n",
    "& 0 & 1\n",
    "\\end{array}.$\n",
    "\n",
    "Hier kann zwischen den zwei Faktoren $K_1$ und $K_2$ unterschieden werden. $K_1$ wird in der ersten Zeile direkt aus $f(x_i,y_i)$ übernommen, fließt aber 0-fach in $y_{i+1}$ ein. $K_2$ dagegen geht auf $x_i+\\frac{1}{2}h$ (die linke $\\frac{1}{2}$) und schätzt $y_{i+\\frac{1}{2}}$ mit $y_i + \\frac{1}{2} h K_1$ (die rechte $\\frac{1}{2}$).\n",
    "\n",
    "Wir hätten also für das explizite Eulerverfahren oben\n",
    "\n",
    "$$K_1 := f(x_i + 0\\cdot h,y_i + 0\\cdot h)$$\n",
    "$$y_{i+1} \\approx y_i + 1 \\cdot h \\cdot K_1.$$\n",
    "\n",
    "schreiben können. Und für das RK-2 Verfahren\n",
    "\n",
    "$$K_1 := f(x_i + 0\\cdot h,y_i + 0\\cdot h)$$\n",
    "$$K_2 := f\\left(x_i+\\frac{1}{2}h,y_i + \\frac{h}{2} K_1\\right)$$\n",
    "$$y_{i+1} \\approx y_i + h \\cdot (0 \\cdot K_1 + 1\\cdot K_2).$$\n",
    "\n",
    "```\n",
    "\n",
    "````"
   ]
  },
  {
   "cell_type": "code",
   "execution_count": null,
   "id": "6ef32bfe-32b0-4d9e-8128-401ae89cb3e9",
   "metadata": {},
   "outputs": [],
   "source": [
    "% your code here"
   ]
  },
  {
   "cell_type": "markdown",
   "id": "1a6f8214",
   "metadata": {},
   "source": [
    "## Anwendung auf höherstufige Verfahren\n",
    "\n",
    "Formulieren wir die Simpsonregel\n",
    "\n",
    "$$\\int_{x_i}^{x_{i+1}} f(x,y(x)) dx \\approx \\frac{x_{i+1} - x_i}{6}\\left(f(x_i,y_i)+4 f\\left(x_{i+\\frac{1}{2}},y_i\\right)+f(x_{i+1},y_i)\\right)$$\n",
    "\n",
    "um zu\n",
    "\n",
    "$$y_{i+1} \\approx y_i + h \\cdot \\left(\\frac{1}{6} \\cdot f\\left(x_i,y_i\\right) + \\frac{4}{6} \\cdot f\\left(x_i+\\frac{1}{2}h,y_i\\right) + \\frac{1}{6} \\cdot f\\left(x_i+h,y_i\\right)\\right).$$\n",
    "\n",
    "Außerdem benennen wir die drei verwendeten Stufenwerte als $K_1, K_2, K_3$, also\n",
    "\n",
    "$$\\begin{align}K_1 &= f\\left(x_i,y_i\\right)\\\\ K_2 &= f\\left(x_i+\\frac{1}{2}h,y_i\\right)\\\\ K_3 &= f\\left(x_i+h,y_i\\right).\\end{align}$$"
   ]
  },
  {
   "cell_type": "markdown",
   "id": "9ea1518a-713f-43a8-b2e6-8290a525543d",
   "metadata": {},
   "source": [
    "Wir können das aber noch besser: Bisher haben wir angenommen, dass wir $y_i$ auch für die mittlere Stützstelle $K_2 = f\\left(x_i+\\frac{1}{2}h,y_i\\right)$ und die rechte Stützstelle $K_3 = f\\left(x_i+h,y_i\\right)$ verwenden können. Wir haben aber schon eine Approximation, für die Stelle $x_{i+\\frac{1}{2}}$. Mit $\\frac{h}{2}$ multipliziert, können wir $K_1$ nutzen, um mit der linken Rechteckregel $y_{i+\\frac{1}{2}}$ zu approximieren:\n",
    "\n",
    "$$K_2 = f\\left(x_i+\\frac{1}{2}h,y_i + \\frac{h}{2}\\cdot f(x_i,y_i)\\right) = f\\left(x_i+\\frac{1}{2}h,y_i + h\\cdot\\frac{1}{2}K_1\\right).$$\n",
    "\n",
    "Genauso verwenden wir für $K_3$ zusätzlich auch $K_2$ als Stützstelle:\n",
    "\n",
    "$$\\begin{align} & \\\\ & \\end{align}\n",
    "K_3 = f\\left(x_i + h, y_i + h \\cdot \\left(-1 \\cdot K_1 + 2 \\cdot K_2 \\right)\\right).$$\n",
    "\n",
    "Setzen wir das zurück in die Simpsonregel ein, ergibt sich ein Runge-Kutta-Verfahren der Ordnung 3:\n",
    "\n",
    "$$y_{i+1} = y_i + h \\cdot \\left(\\frac{1}{6}K_1 + \\frac{4}{6}K_2 + \\frac{1}{6}K_3\\right)$$\n",
    "\n",
    "In der Abbildung sehen Sie, wie die einzelnen Faktoren das Ergebnis für eine Traktrix ergeben. Da die Auswertungsstelle für $K_3$ unschön ist, finden Sie darunter auch die Aufstellung der Faktoren für eine Kosinus-Funktion."
   ]
  },
  {
   "cell_type": "markdown",
   "id": "3c7c21bb-ddf8-4efc-8d1a-36237c83fc9b",
   "metadata": {},
   "source": [
    "```{image} images/vectorfield_animated_traktrix.gif\n",
    ":alt: Name of image\n",
    ":width: 800px\n",
    ":align: center\n",
    "```\n",
    "Abbildung 8: Lösung der Traktrix (orange) mit explizitem Eulerverfahren (dunkelblau) und einem Runke-Kutta-Verfahren dritter Ordnung (lila). Die Differentialgleichung kann an beliebigen Punkten $(x,y)$ ausgewertet werden (hellblaue Pfeile). Für die RK Lösung werden in verschiedenen Schritten die Faktoren $K_1, K_2, K_3$ ermittelt und zuletzt gewichtet mit $\\frac{1}{6},\\frac{4}{6},\\frac{1}{6}$ aneinandergereiht, um zum ersten Schritt zu gelangen.\n",
    "\n",
    "```{image} images/vectorfield_animated_cos.gif\n",
    ":alt: Name of image\n",
    ":width: 600px\n",
    ":align: center\n",
    "```\n",
    "Abbildung 9: Lösung der Funktion $y' = f(x,y) = \\sin(x)$ mit der Lösung $y = \\cos(x)$ (orange) mit explizitem Eulerverfahren (dunkelblau) und einem Runke-Kutta-Verfahren dritter Ordnung (lila). Die Differentialgleichung kann an beliebigen Punkten $(x,y)$ ausgewertet werden (hellblaue Pfeile). Für die RK Lösung werden in verschiedenen Schritten die Faktoren $K_1, K_2, K_3$ ermittelt und zuletzt gewichtet mit $\\frac{1}{6},\\frac{4}{6},\\frac{1}{6}$ aneinandergereiht, um zum ersten Schritt zu gelangen.\n",
    "\n",
    "```{admonition} Butcher-Tableau\n",
    ":class: dropdown\n",
    "\n",
    "Das Butcher-Tableau für dieses Runge-Kutta-Verfahren 3. Ordnung lautet\n",
    "\n",
    "$\\begin{array}\n",
    "{c|ccc}\n",
    "0\\\\\n",
    "\\frac{1}{2} & \\frac{1}{2}\\\\\n",
    "1 &-1 &2 \\\\\n",
    "\\hline\n",
    "& \\frac{1}{6} &\\frac{4}{6} &\\frac{1}{6}\n",
    "\\end{array}.$\n",
    "\n",
    "In der dritten Zeile findet nun Beachtung, dass in $K_3$\n",
    "\n",
    "- $x_i + 1\\cdot h$ die Stelle ist,\n",
    "- $K_1$ minus-1-mal und\n",
    "- $K_2$ plus-2-mal in die Schätzung von $y$ einfließt,\n",
    "- und für $y_{i+1}$ die Faktoren mit $\\frac{1}{6}$ beziehungsweise $\\frac{4}{6}$ einfließen.\n",
    "\n",
    "```\n",
    "\n",
    "```{admonition} Hinweis\n",
    "Verwechseln Sie nicht die mehr*stufigen* Verfahren mit Mehr*schritt*verfahren. Letztere verwenden zusätzlich zu $y_i$ auch vorherige Auswertungen $y_{i-c\\cdot h}$.\n",
    "```"
   ]
  },
  {
   "cell_type": "markdown",
   "id": "fb230b1c",
   "metadata": {},
   "source": [
    "(integration_rk3)=\n",
    "## Aufgabe 3: Implementierung des Runge-Kutta-Verfahrens 3. Ordnung\n",
    "\n",
    "Passen Sie Ihren Code so an, dass zur Lösung anstelle des expliziten Eulerverfahrens das RK-Verfahren 3. Ordnung verwendet wird."
   ]
  },
  {
   "cell_type": "code",
   "execution_count": null,
   "id": "e183d65d",
   "metadata": {},
   "outputs": [],
   "source": [
    "% your code here"
   ]
  },
  {
   "cell_type": "markdown",
   "id": "4c0f431f-e66e-4187-9a1e-b3e9eaf147b7",
   "metadata": {},
   "source": [
    "## Aufgabe 4: Ordnungen der Verfahren\n",
    "\n",
    "Die Ordnung $\\mathcal{O(h)}$ gibt an, wie sich ein Fehler bei Verkleinerung der Schrittweite ändern. Ein Verfahren 2. Ordnung, $\\mathcal{O}(h^2)$ hat also bei Halbierung der Schrittweite nur noch ein Viertel des Fehlers.\n",
    "\n",
    "Ermitteln Sie nun **experimentell** die Ordnungen der von Ihnen entwickelten Verfahren anhand der Traktrix:\n",
    "\n",
    "- explizites Eulerverfahren (Linke Rechteckregel)\n",
    "- Mittelpunktsregel ohne Schätzung von $y_{i+\\frac{1}{2}}$\n",
    "- Runge-Kutta-Verfahren 2. Ordnung (Mittelpunktsregel mit Schätzung von $y_{i+\\frac{1}{2}})$\n",
    "- Runge-Kutta-Verfahren 3. Ordnung (Simpsonregel)"
   ]
  },
  {
   "cell_type": "code",
   "execution_count": null,
   "id": "732fb09b-54ab-41f0-b8bd-9a58066408c2",
   "metadata": {},
   "outputs": [],
   "source": [
    "% your code here"
   ]
  }
 ],
 "metadata": {
  "kernelspec": {
   "display_name": "Octave",
   "language": "octave",
   "name": "octave"
  },
  "language_info": {
   "file_extension": ".m",
   "help_links": [
    {
     "text": "GNU Octave",
     "url": "https://www.gnu.org/software/octave/support.html"
    },
    {
     "text": "Octave Kernel",
     "url": "https://github.com/Calysto/octave_kernel"
    },
    {
     "text": "MetaKernel Magics",
     "url": "https://metakernel.readthedocs.io/en/latest/source/README.html"
    }
   ],
   "mimetype": "text/x-octave",
   "name": "octave",
   "version": "5.2.0"
  }
 },
 "nbformat": 4,
 "nbformat_minor": 5
}
