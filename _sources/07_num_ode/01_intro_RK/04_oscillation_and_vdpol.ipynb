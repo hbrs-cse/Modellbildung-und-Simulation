{
 "cells": [
  {
   "cell_type": "markdown",
   "id": "50e6c578-0f93-42db-b41a-b35635089a34",
   "metadata": {},
   "source": [
    "````{grid} 2\n",
    "```{grid-item-card}\n",
    ":class-header: bg-light\n",
    "Voraussetzungen\n",
    "^^^\n",
    "- Runge-Kutta-Verfahren zur numerischen Integration von gewöhnlichen Differentialgleichungen\n",
    "```\n",
    "```{grid-item-card}\n",
    ":class-header: bg-light\n",
    "Lerninhalte\n",
    "^^^\n",
    "- Lösen von mehrdimensionalen gewöhnlichen Differentialgleichungen\n",
    "```\n",
    "````\n"
   ]
  },
  {
   "cell_type": "markdown",
   "id": "bdfbdc33-c101-4796-890a-6d342f11c3c1",
   "metadata": {},
   "source": [
    "(ode_systems)=\n",
    "# Systeme von ODEs\n",
    "\n",
    "## Aufgabe 1: Schwingung eines Pendels\n",
    "\n",
    "Die Schwingungsgleichung eines Pendels lernen Sie auch in dem Kapitel {ref}`harmonic_oscillation` kennen. Da lösen Sie sie mit `ode45`.\n",
    "\n",
    "Nun gehen Sie einen Schritt weiter:\n",
    "\n",
    "- Stellen Sie die Schwingungsgleichung für sowohl mit als auch ohne Kleinwinkelnäherung auf.\n",
    "- Formen Sie die resultierende ODE zweiter Ordnung in ein System von zwei ODEs um.\n",
    "- Implementieren Sie nun eines Ihrer Verfahren aus den Kapitel {ref}`integration_rk_exp` und {ref}`integration_rk_imp` zum Lösen der von Ihnen hergeleiteten Differentialgleichungen. Dazu muss Ihr Code auch mit Systemen von ODEs umgehen können.\n",
    "\n",
    "````{admonition} Zur Erinnerung das Fadenpendel\n",
    ":class: dropdown\n",
    "\n",
    "```{image} images/pendulum.png\n",
    ":alt: Name of image\n",
    ":width: 400px\n",
    ":align: center\n",
    "```\n",
    "Abbildung 1: Das Pendel als klassisches Schwingungsbeispiel. Eingezeichnet sind die Trägheitskräfte (rot), eingeprägte und Zwangskräfte (gelb) und Maße und Variablen (blau). Das Pendel ist im ausgelenkten (schwarz) und hängenden (grau) Zustand dargestellt.\n",
    "````"
   ]
  },
  {
   "cell_type": "code",
   "execution_count": null,
   "id": "9d6c37e0-ef93-4692-aafb-d681f9f6ccc1",
   "metadata": {},
   "outputs": [],
   "source": [
    "%your code here"
   ]
  },
  {
   "cell_type": "markdown",
   "id": "3e43c3c9-3c52-4773-8bc8-3ca5db83c888",
   "metadata": {},
   "source": [
    "## Aufgabe 2: Die van-der-Pol Gleichung\n",
    "\n",
    "Die van-der-Pol Gleichung lautet\n",
    "\n",
    "$$\\ddot{x} - \\varepsilon(1-x^2)\\dot{x} + x = 0.$$\n",
    "\n",
    "Analog zu dem Fadenpendel kann $x$ als ein Winkel beziehungsweise eine Auslenkung interpretiert werden. Die van-der-Pol Gleichung stellt ein besonderes Problem für numerische Verfahren dar. Testen Sie anhand dieser Gleichung Ihre Lösungsverfahren und plotten Sie Ihr Ergebnis. Nehmen Sie auch die Dauern Ihrer Verfahren auf. Ihre Lösung könnte beispielsweise so aussehen:\n",
    "\n",
    "```{image} images/vdP_comparison_1.png\n",
    ":alt: Name of image\n",
    ":width: 400px\n",
    ":align: center\n",
    "```\n",
    "\n",
    "```{image} images/vdP_comparison_2.png\n",
    ":alt: Name of image\n",
    ":width: 400px\n",
    ":align: center\n",
    "```\n",
    "\n",
    "Abbildung 2: Schwingung und Phasenraum verschiedener Lösungen der van-der-Pol Gleichung. Das explizite Eulerverfahren (rote Punkte) zeigt eine deutliche höhere Amplitude und verschobene Periode. Die Lösung mit einem Runge-Kutta-Verfahren dritter Ordnung (gelbe Striche) liegt sehr nah bei der sehr genauen Lösung von `ode45` (blaue Linie)."
   ]
  },
  {
   "cell_type": "code",
   "execution_count": null,
   "id": "25bbf6e4-8a83-4862-94da-7fbb1e6b7132",
   "metadata": {},
   "outputs": [],
   "source": [
    "%your code here"
   ]
  },
  {
   "cell_type": "markdown",
   "id": "807a70e9-667a-418e-ad0f-da5fa52084fa",
   "metadata": {},
   "source": [
    "## Aufgabe 3: Die inhomogene van-der-Pol Gleichung\n",
    "\n",
    "Ein schwingfähiges System kann periodisch angeregt werden. Das ist besonders interessant für Resonanzfälle, die gewünscht oder unerwünscht sein können. Für eine periodisch angeregte van-der-Pol Schwingung lautet die Gleichung\n",
    "\n",
    "$$\\ddot{x} - \\varepsilon(1-x^2)\\dot{x} + x = A \\cos(\\omega t + \\varphi_0).$$"
   ]
  }
 ],
 "metadata": {
  "kernelspec": {
   "display_name": "Octave",
   "language": "octave",
   "name": "octave"
  },
  "language_info": {
   "file_extension": ".m",
   "help_links": [
    {
     "text": "GNU Octave",
     "url": "https://www.gnu.org/software/octave/support.html"
    },
    {
     "text": "Octave Kernel",
     "url": "https://github.com/Calysto/octave_kernel"
    },
    {
     "text": "MetaKernel Magics",
     "url": "https://metakernel.readthedocs.io/en/latest/source/README.html"
    }
   ],
   "mimetype": "text/x-octave",
   "name": "octave",
   "version": "5.2.0"
  }
 },
 "nbformat": 4,
 "nbformat_minor": 5
}
