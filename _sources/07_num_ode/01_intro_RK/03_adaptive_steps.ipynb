{
 "cells": [
  {
   "cell_type": "markdown",
   "id": "eabe9236-0f3c-464e-b943-ea34952e2fce",
   "metadata": {},
   "source": [
    "````{grid} 2\n",
    "```{grid-item-card}\n",
    ":class-header: bg-light\n",
    "Voraussetzungen\n",
    "^^^\n",
    "- Runge-Kutta-Verfahren zur numerischen Integration von gewöhnlichen Differentialgleichungen\n",
    "```\n",
    "```{grid-item-card}\n",
    ":class-header: bg-light\n",
    "Lerninhalte\n",
    "^^^\n",
    "- Grundkenntnisse der adaptiven Schrittweitensteuerung\n",
    "```\n",
    "````\n"
   ]
  },
  {
   "cell_type": "markdown",
   "id": "18c89dfd-b8e1-4e82-b275-8f91080b3097",
   "metadata": {},
   "source": [
    "(rk_adaptive_steps)=\n",
    "# Adaptive Schrittweitensteuerung\n",
    "\n",
    "ODE-Lösungsroutinen nutzen *adaptive Schrittweitensteuerungen*, um an sensiblen Stellen der Lösung möglichst nicht zu divergieren und um an weniger sensiblen Stellen den Rechenaufwand gering zu halten. Aufbauend auf den Kapiteln zu Runge-Kutta-Verfahren ist naheliegend, die Schrittweite zu halbieren und zu testen, ob Konvergenz erreicht wurde. Anders gesagt:\n",
    "\n",
    "## \"Lohnt es sich noch, die Schrittweite zu verkleinern?\"\n"
   ]
  },
  {
   "cell_type": "markdown",
   "id": "7cbbeab5-c2af-469e-9bc0-e08f5655746a",
   "metadata": {},
   "source": [
    "Wir wissen, dass mit einer kleineren Schrittweite $h$ ein genaueres Ergebnis für $y_{i+1}$ zu erwarten ist. Beim expliziten Eulerverfahren hat der Gesamtfehler eine Größenordnung $\\mathcal{O}(h)$, also halbiert sich der Fehler bei Halbierung der Schrittweite. Das können wir nutzen, um zu prüfen, ob die bisherige Schrittweite klein genug war.\n",
    "\n",
    "## Aufgabe 1: Adaptive Schrittweitensteuerung durch Halbierung\n",
    "\n",
    "Implementieren Sie eine adaptive Schrittweitensteuerung indem Sie die Schrittweite des expliziten Eulerverfahrens halbieren bis die Lösung hinreichend konvergiert."
   ]
  },
  {
   "cell_type": "code",
   "execution_count": null,
   "id": "f27b02cc-ed75-4bd4-b652-0fb384cdd90e",
   "metadata": {},
   "outputs": [],
   "source": [
    "function ydot = dgl(y,d)\n",
    "    ydot = -y/sqrt(d^2-y^2);\n",
    "end\n",
    "\n",
    "d     = 1;\n",
    "y0    = 0.999*d;\n",
    "xmax  = 10;\n",
    "i     = 1;\n",
    "h0    = 0.5;\n",
    "x     = 0;\n",
    "rtol  = 1e-5;\n",
    "hmin  = 1e-5;\n",
    "\n",
    "y(1)  = y0;\n",
    "while x < xmax\n",
    "    ...\n",
    "    y_alt    = ...\n",
    "    while ...\n",
    "        h     = h/2;\n",
    "        y_neu = ...\n",
    "        err   = ...\n",
    "        y_alt = y_neu;\n",
    "    end\n",
    "    x        = x + h;\n",
    "    xspan(i) = x;\n",
    "    y(i)     = y_neu;\n",
    "end\n",
    "\n",
    "plot(xspan,y)"
   ]
  },
  {
   "cell_type": "markdown",
   "id": "882b6741-c1b1-43b9-957b-1e55ab3fa0c2",
   "metadata": {},
   "source": [
    "## \"Ist die Ordnung meines Verfahrens ausreichend?\"\n",
    "\n",
    "Das [Dormand-Prince Verfahren](https://en.wikipedia.org/wiki/Dormand%E2%80%93Prince_method) ist in `ode45` implementiert. Es fragt anders als wir in Aufgabe 1: \"Ist die Ordnung meines Verfahrens ausreichend?\" Dafür werden zwei Lösungen berechnet und durch den Vergleich der Fehler geschätzt. Diese nennen sich dann *eingebettete* Verfahren.\n",
    "\n",
    "Ein großer Vorteil ist, dass sich die neue Schrittweite schätzen lässt. Das hierfür notwendige Verfahren niedrigerer Ordnung lässt sich für Runge-Kutta-Verfahren immer durch eine Abwandlung der Gewichte finden. Dann lässt sich herleiten, dass für die neue Schrittweite gilt:\n",
    "\n",
    "$$h_\\text{neu} = h \\left\\lVert\\frac{y_{m+1}-\\hat{y}_{m+1}}{\\text{tol}}\\right\\rVert^{-\\frac{1}{p}}.$$\n",
    "\n",
    "Dabei ist $y_{m+1}$ das Ergebnis des Verfahrens höherer Ordnung, $\\hat{y}_{m+1}$ das des Verfahrens niedrigerer Ordnung, $\\text{tol}$ die Fehlertoleranz und $p$ die höhere der beiden Ordnungen.\n",
    "\n",
    "Ein Beispiel für ein eingebettetes Verfahren mit einer adaptiven Schrittweitensteuerung ist im ausklappbaren Fenster angegeben."
   ]
  },
  {
   "cell_type": "code",
   "execution_count": null,
   "id": "9de35740-57cb-483f-a709-f207605cedd8",
   "metadata": {
    "tags": [
     "hide_input"
    ]
   },
   "outputs": [],
   "source": [
    "function [T,Y] = rk3_simple(fcn,tspan,y0,atol,rtol)\n",
    "%-------------------------------------------------------------------------\n",
    "%-- fcn: ode-function\n",
    "%-- tspan: time interval\n",
    "%-- y0: initial values\n",
    "%-- atol,rtol: tolerances\n",
    "%-------------------------------------------------------------------------\n",
    "%-- Initialization -------------------------------------------------------\n",
    " nfevals = 0; nsteps = 0; nrejected = 0; %-- statistics\n",
    " uround=eps; fac1=0.2; fac2=6.0;   %-- could be altered\n",
    "%-- Method's coefficients\n",
    " stage = 3; b = [1/6;1/6;2/3];  bd = [1/2;1/2;0];\n",
    " a = [0;1;1/2]; alpha = [0,0,0;1,0,0;1/4,1/4,0];\n",
    "% --Preparations for output-parameter [T,Y] ------------------------------\n",
    " neq = length(y0); t0=tspan(1); tend=tspan(end); y(:,1) = y0; t=t0; T=t0; Y=y'; \n",
    "%-- INITIAL PREPARATIONS for stepsize --------\n",
    " if (tend <= t0) error('tend<= t0 !!'); end\n",
    " hmax=abs(tend-t0)/10; hinit=1.0e-6*abs(tend-t0);  h=min(hinit,hmax);  \n",
    "%-- The main integration loop ---------------------------------------------\n",
    " done = false;  reject = false; K=zeros(neq,stage);\n",
    " while ~done\n",
    "    if (t+0.1*h == t) || (abs(h) <= uround)    %-- stepsize to small\n",
    "        fprintf('Error exit of rk3_simple at time t=%15g: step size to small h=%15g \\n',t,h);\n",
    "        break\n",
    "    end\n",
    "    if (t+h) >= tend\n",
    "       h=tend-t;\n",
    "    else\n",
    "       h=min(h,0.5*(tend-t));\n",
    "    end\n",
    "%---- integration step --------\n",
    "    if reject==false      \n",
    "        K(:,1) = fcn(t,y); nfevals = nfevals+1;\n",
    "    end\n",
    "    for i=2:stage\n",
    "       sum_K = K*alpha(i,:)';\n",
    "       K(:,i) = fcn(t+h*a(i),y+h*sum_K); nfevals=nfevals+1; \n",
    "    end\n",
    "    sum_1 = h*K*b; sum_2 = h*K*bd; ynew = y + sum_1;\n",
    "%---- error test -----------\n",
    "    SK = atol + rtol.*max(abs(y),abs(ynew));\n",
    "    err = sum( ((sum_1-sum_2)./SK).^2 ); err = max(realmin,sqrt(err/neq));\n",
    "    fac = 0.9 * err^(-1/3);  fac=min(fac2,max(fac1,fac)); hnew=h*fac;\n",
    "    if (err <= 1.0)  % --- STEP IS ACCEPTED  -------\n",
    "      reject = false; nsteps = nsteps+1; told = t; t=t+h; \n",
    "      if (abs(tend-t) < uround) done=true; end  %-- succesfull integration --\n",
    "      y = ynew; T=[T;t]; Y=[Y;ynew']; \n",
    "    else            % --- STEP IS REJECTED ------- \n",
    "      reject = true; nrejected = nrejected+1;  \n",
    "    end\n",
    "    h = min(hnew,hmax);\n",
    "%---------\n",
    " end\n",
    "%---------\n",
    " fprintf('%g successful steps\\n', nsteps);\n",
    " fprintf('%g failed attempts\\n', nrejected);\n",
    " fprintf('%g function evaluations\\n', nfevals);\n",
    "end"
   ]
  },
  {
   "cell_type": "markdown",
   "id": "d04a3e8b-5039-4bb8-8d8b-7749e5e51057",
   "metadata": {},
   "source": [
    "## Aufgabe 2: Adaptive Schrittweitensteuerung mit eingebetteten Verfahren\n",
    "\n",
    "Gegeben seien für ein eingebettetes Verfahren die Runge-Kutta-Verfahren mit folgenden Butcher-Tableaus (die Herleitung aus den Ordnungsbedingungen bleibt Ihnen hier erspart). Für die Ordnung $p=3$:\n",
    "\n",
    "$\\begin{array}\n",
    "{c|ccc}\n",
    "0\\\\\n",
    "1 & 1\\\\\n",
    "\\frac{1}{2} &\\frac{1}{4} &\\frac{1}{4} \\\\\n",
    "\\hline\n",
    "& \\frac{1}{6} &\\frac{1}{6} &\\frac{4}{6}\n",
    "\\end{array}.$\n",
    "\n",
    "Für die Ordnung $\\hat{p}=2$:\n",
    "\n",
    "$\\begin{array}\n",
    "{c|ccc}\n",
    "0\\\\\n",
    "1 & 1\\\\\n",
    "\\frac{1}{2} &\\frac{1}{4} &\\frac{1}{4} \\\\\n",
    "\\hline\n",
    "& \\frac{1}{2} &\\frac{1}{2} &0\n",
    "\\end{array}.$\n",
    "\n",
    "```{admonition} Butcher-Tabelaus eingebetteter Verfahren\n",
    ":class: dropdown\n",
    "Beide Tableaus lassen sich auch zusammenfassen:\n",
    "\n",
    "$\\begin{array}\n",
    "{c|ccc}\n",
    "0 \\\\\n",
    "1 & 1 \\\\\n",
    "\\frac{1}{2} & \\frac{1}{4} & \\frac{1}{4} \\\\\n",
    "\\hline\n",
    "p=3 & \\frac{1}{6} & \\frac{1}{6} & \\frac{4}{6}\\\\\n",
    "\\hline\n",
    "\\hat{p}=2 & \\frac{1}{2} & \\frac{1}{2} & 0\n",
    "\\end{array}$\n",
    "```\n",
    "\n",
    "- Leiten Sie aus den Butcher-Tableaus die Koeffizienten für $K_1 ... K_3$, $y_{i+1}$ und $\\hat{y}_{i+1}$ her.\n",
    "- Ändern Sie Ihren Code aus {ref}`integration_rk_exp` zu einem eingebetteten Verfahren ab.\n",
    "- Vergleichen Sie das Ergebnis, insbesondere die Laufzeit, mit Ihrem Code aus Aufgabe 1."
   ]
  },
  {
   "cell_type": "code",
   "execution_count": null,
   "id": "6ef126b6-9b89-4e39-817a-ecc6263b68d5",
   "metadata": {},
   "outputs": [],
   "source": [
    "%your code here"
   ]
  }
 ],
 "metadata": {
  "kernelspec": {
   "display_name": "Octave",
   "language": "octave",
   "name": "octave"
  },
  "language_info": {
   "file_extension": ".m",
   "help_links": [
    {
     "text": "GNU Octave",
     "url": "https://www.gnu.org/software/octave/support.html"
    },
    {
     "text": "Octave Kernel",
     "url": "https://github.com/Calysto/octave_kernel"
    },
    {
     "text": "MetaKernel Magics",
     "url": "https://metakernel.readthedocs.io/en/latest/source/README.html"
    }
   ],
   "mimetype": "text/x-octave",
   "name": "octave",
   "version": "5.2.0"
  }
 },
 "nbformat": 4,
 "nbformat_minor": 5
}
