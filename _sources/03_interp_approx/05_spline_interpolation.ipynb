{
 "cells": [
  {
   "cell_type": "markdown",
   "metadata": {},
   "source": [
    "````{grid} 2\n",
    "```{grid-item-card}\n",
    ":class-header: bg-light\n",
    "Voraussetzungen\n",
    "^^^\n",
    "- mathematische Grundlagen der Spline Interpolation\n",
    "```\n",
    "```{grid-item-card}\n",
    ":class-header: bg-light\n",
    "Lerninhalte\n",
    "^^^\n",
    "- Anwendung der Spline Interpolation\n",
    "```\n",
    "````\n"
   ]
  },
  {
   "cell_type": "markdown",
   "metadata": {
    "author": "Martin Kliemank"
   },
   "source": [
    "# Spline-Interpolation\n",
    "\n",
    "Im Handwerk ist die Straklatte (engl.: *Spline*) ein zentrales Werkzeug für das Entwerfen von Geometrien. Der große Vorteil ist, dass allein durch die Definition einzelner Punkte eine durchgängige Geometrie definiert werden kann, die keine Kanten enthält. Diese kann einfach reproduziert werden, indem die Punkte wieder aufgezeichnet werden und eine ähnliche Latte (dabei ist in erster Linie die Länge entscheidend) um die Punkte gelegt wird. Siehe [Wikipedia](https://de.wikipedia.org/wiki/Straklatte) für eine bildliche Darstellung.\n",
    "\n",
    "Auch in CAD Standards wie STEP (.stp Dateien) wird diese Methode verwendet, um digitale Geometrien zu definieren, siehe [hier](https://www.mbx-if.org/cax/cax_stepLib.php).\n",
    "\n",
    "Sie erhalten nun für Ihre Linie die folgenden Punkte (siehe Abbildung):\n",
    "\n",
    "| $x [cm]$ | 0   | 0.5 | 1 | 1.5 | 2 | 2.5 |\n",
    "|:-------|:---|:---|:---|:---|:---|:---|\n",
    "| $y [cm]$ | 0.0 | 1.0 | 0.8 | 1.8 | 1.6 | 2.4  |\n",
    "\n",
    "\n",
    "```{image} images/spline_spline.png\n",
    ":width: 400px\n",
    ":height: 315px\n",
    ":align: center\n",
    "```\n",
    "Abbildung 1: Verlauf der Straklatte (braun) um die angegebenen Punkte (schwarz) mit Kontaktpunkten (rot). Hier wurden Polynome dritten Grades verwendet.\n",
    "\n",
    "Diese Punkte sollen nun interpoliert werden, um möglichst genaue Werte über den gesamten Verlauf zu erhalten (**Verwenden Sie hierbei keine fertige Matlab Spline-Funktion benutzen - Finger weg von der Spline-Toolbox!**). Dazu wird jedes Teilintervall mit einem geeigneten Polynom genähert.\n",
    "\n",
    "## Aufgabe 1\n",
    "\n",
    "Konstruieren Sie eine quadratische Splinefunktion durch die ersten drei Punkte mit Bleistift und Papier.\n",
    "Bestimmen Sie die Koeffizienten der gesuchten Funktionen $y_i(x) = a_i + b_i(x-x_i) + c_i(x-x_i)^2, i \\in [1,n_\\text{Punkte}-1]$.\n",
    "\n",
    "```{admonition} Hinweis\n",
    "Zur eindeutigen Bestimmung der einzelnen Polynome sind drei Bedingungen notwendig. Zwei sind durch\n",
    "den Anfangs- und Endpunkt des jeweiligen Intervalls gegeben. Um Knicke in der gesamten Spline zu vermeiden\n",
    "wird zusätzlich gefordert, dass die ersten Ableitungen an den Intervallgrenzen übereinstimmen\n",
    "(dritte Bedingung). Welche Randbedingung ist für die erste Ableitung an der Einspannung zu wählen?\n",
    "```\n",
    "\n",
    "## Aufgabe 2\n",
    "\n",
    " - Implementieren Sie eine Matlab-Funktion `function yfine = quadraticSpline(x, y, xfine, bc)`, die für gegebene x- und y-Werte sowie Randbedingung an den von `xfine` definierten Punkten die entsprechenden y-Werte des Splines berechnet."
   ]
  },
  {
   "cell_type": "code",
   "execution_count": 1,
   "metadata": {
    "tags": [
     "remove-output"
    ]
   },
   "outputs": [
    {
     "name": "stdout",
     "output_type": "stream",
     "text": [
      "Created file '/home/martin/Modellbildung-und-Simulation/content/05_interp_approx/quadraticSpline.m'.\n"
     ]
    }
   ],
   "source": [
    "%%file quadraticSpline.m\n",
    "function yfine = quadraticSpline(x, y, xfine, bc)\n",
    "% yfine = quadraticSpline(x, y, xfine, bc) calculates the quadratic spline going through the\n",
    "% points defined by xi and yi and evaluates the spline at the points in xfine.\n",
    "\n",
    "...\n",
    "\n",
    "end"
   ]
  },
  {
   "cell_type": "markdown",
   "metadata": {},
   "source": [
    "- Testen Sie die Funktionalität mit der bereitgestellten *Test Suite* `test_quadraticSpline.m`, siehe unten. Es reicht zunächst, dass die ersten fünf der Unit Tests erfolgreich sind. **Challenge:** Schaffen Sie es, alle neun Unit Tests zu erfüllen?"
   ]
  },
  {
   "cell_type": "code",
   "execution_count": null,
   "metadata": {},
   "outputs": [],
   "source": [
    "% test the quadraticSpline function\n",
    "moxunit_runtests test_quadraticSpline.m"
   ]
  },
  {
   "cell_type": "markdown",
   "metadata": {},
   "source": [
    " - Nun soll der Spline Verlauf mit einer Schrittweite von 1 mm interpoliert werden. Erstellen Sie dazu ein Skript, in welchem Ihre Funktion auf die obigen Messwerte angewandt wird. Stellen Sie die interpolierte Spline in einem Plot dar."
   ]
  },
  {
   "cell_type": "code",
   "execution_count": null,
   "metadata": {},
   "outputs": [],
   "source": [
    "%script to apply function to the given values\n",
    "\n",
    "%uncomment to equalize axis:\n",
    "%axis equal"
   ]
  },
  {
   "cell_type": "markdown",
   "metadata": {},
   "source": [
    "## Aufgabe 3 (Zusatzaufgabe):\n",
    "\n",
    " - Nutzen Sie Ihren Code aus Aufgabe 2 um eine Funktion `yfine = cubicSpline(x,y,xfine,bc)` zu erstellen.\n",
    " - Nutzen Sie die `Spline` Funktion von Matlab, um eigene Unit Tests für Ihre `cubicSpline` funktion zu schreiben (einfache Vergleiche für einige Test-Sets an Punkten genügen)."
   ]
  },
  {
   "cell_type": "code",
   "execution_count": null,
   "metadata": {},
   "outputs": [],
   "source": [
    "%%file cubicSpline.m\n",
    "function yfine = cubicSpline(x,y,xfine,bc)\n",
    "\n",
    "...\n",
    "\n",
    "end"
   ]
  },
  {
   "cell_type": "code",
   "execution_count": null,
   "metadata": {},
   "outputs": [],
   "source": [
    "%%file test_cubicSpline.m\n",
    "%unit tests using Spline\n",
    "\n",
    "% test the quadraticSpline function\n"
   ]
  },
  {
   "cell_type": "code",
   "execution_count": null,
   "metadata": {},
   "outputs": [],
   "source": [
    "% test the cubicSpline function\n",
    "moxunit_runtests test_cubicSpline.m"
   ]
  }
 ],
 "metadata": {
  "kernelspec": {
   "display_name": "Octave",
   "language": "octave",
   "name": "octave"
  },
  "language_info": {
   "file_extension": ".m",
   "help_links": [
    {
     "text": "GNU Octave",
     "url": "https://www.gnu.org/software/octave/support.html"
    },
    {
     "text": "Octave Kernel",
     "url": "https://github.com/Calysto/octave_kernel"
    },
    {
     "text": "MetaKernel Magics",
     "url": "https://metakernel.readthedocs.io/en/latest/source/README.html"
    }
   ],
   "mimetype": "text/x-octave",
   "name": "octave",
   "version": "5.2.0"
  }
 },
 "nbformat": 4,
 "nbformat_minor": 4
}
