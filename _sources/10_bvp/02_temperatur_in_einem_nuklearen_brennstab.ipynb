{
 "cells": [
  {
   "cell_type": "markdown",
   "metadata": {},
   "source": [
    "````{grid} 2\n",
    "```{grid-item-card}\n",
    ":class-header: bg-light\n",
    "Voraussetzungen\n",
    "^^^\n",
    "- mathematische Grundlagen von Randwertproblemen\n",
    "- Ableitungsregeln in mehrdimensionalen ODEs höherer Ordnung\n",
    "- Reduktion von ODEs höherer Ordnung\n",
    "```\n",
    "```{grid-item-card}\n",
    ":class-header: bg-light\n",
    "Lerninhalte\n",
    "^^^\n",
    "- Anwendung der mathematischen Grundlagen von ODEs höherer Ordnung auf thermodynamische Modellgleichungen\n",
    "```\n",
    "````\n"
   ]
  },
  {
   "cell_type": "markdown",
   "metadata": {},
   "source": [
    "(rod_temp)=\n",
    "# Temperatur in einem nuklearen Brennstab\n",
    "\n",
    "Der Brennstab eines Nuklearreaktors ist eine brennstoffgefüllte zylindrische Hülle. Innerhalb des Zylinders und auch in der Hülle entsteht Hitze durch Kernreaktionen. Die äußere Oberfläche des Zylinders wird von fließendem Wasser auf $T_\\infty = 473\\;\\textrm{K}$ heruntergekühlt.\n",
    "\n",
    "```{image} images/brennstab.png\n",
    ":width: 400px\n",
    ":align: center\n",
    "```\n",
    "\n",
    "Der Wärmeübergangskoeffizient ist $h =10^4 \\; \\textrm{W}/(\\textrm{m}^2\\mathrm{K})$. Die thermische Leitfähigkeit des Hüllenmaterials ist $k = 16.75  \\; \\textrm{W}/(\\textrm{mK})$. Der innere Radius des Stabes beträgt $R=1.5 \\cdot 10^{-2}\\;\\textrm{m}$ und die Dicke der Hülle um den Brennstab $w = 3 \\cdot 10^{-3}\\;\\textrm{m}$.\n",
    "\n",
    "| Konstante | Symbol | Wert | Einheit |\n",
    "| - | - | - | - |\n",
    "| Wärmeübergangskoeffizient | $h$ | $10^4$ | $\\frac{\\textrm{W}}{\\textrm{m}^2\\textrm{K}}$ |\n",
    "| Thermische Leitfähigkeit | $k$ | $16.75$ | $\\frac{\\textrm{W}}{\\textrm{mK}}$ |\n",
    "| Wassertemperatur | $T_\\infty$ | $473$ | $\\textrm{K}$ |\n",
    "| Radius des Stabes | $R$ |  $1.5 \\cdot 10^{-2}$ | $\\textrm{m}$ |\n",
    "| Hülle des Stabes | $w$ |  $3 \\cdot 10^{-3}$ | $\\textrm{m}$ |\n",
    "\n",
    "Die **Temperaturverteilung in der Hülle** kann durch Lösen der folgenden Differentialgleichung beschrieben werden:\n",
    "\n",
    "\n",
    "$$\n",
    "\\frac{\\mathrm{d}}{\\mathrm{d}r} \\left( r k \\frac{\\mathrm{d}T}{\\mathrm{d}r} \\right) = -10^8 \\cdot e^{-\\frac{r}{R}}\n",
    "$$\n",
    "\n",
    "für $R \\leq r \\leq R + w$. Die Randbedingungen sind\n",
    "\n",
    "$$\n",
    "\\begin{align}\n",
    "&\\frac{\\mathrm{d}T}{\\mathrm{d}r}(r=R) = - \\frac{6.32 \\cdot 10^5 \\mathrm{W}\\mathrm{m}^{-2}}{k} \\notag \\\\\n",
    "&\\frac{\\mathrm{d}T}{\\mathrm{d}r}(r=R+w) = - \\frac{h}{k}(T(r=R+w) - T_\\infty) \\notag\n",
    "\\end{align}\n",
    "$$\n",
    "\n",
    "Lösen Sie die Differentialgleichung mit der Matlab-Routine `bvp4c`."
   ]
  }
 ],
 "metadata": {
  "kernelspec": {
   "display_name": "Octave",
   "language": "octave",
   "name": "octave"
  },
  "language_info": {
   "file_extension": ".m",
   "help_links": [
    {
     "text": "GNU Octave",
     "url": "https://www.gnu.org/software/octave/support.html"
    },
    {
     "text": "Octave Kernel",
     "url": "https://github.com/Calysto/octave_kernel"
    },
    {
     "text": "MetaKernel Magics",
     "url": "https://metakernel.readthedocs.io/en/latest/source/README.html"
    }
   ],
   "mimetype": "text/x-octave",
   "name": "octave",
   "version": "5.2.0"
  }
 },
 "nbformat": 4,
 "nbformat_minor": 4
}
