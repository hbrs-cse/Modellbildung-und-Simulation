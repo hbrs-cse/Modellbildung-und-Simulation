{
 "cells": [
  {
   "cell_type": "markdown",
   "metadata": {},
   "source": [
    "````{grid} 2\n",
    "```{grid-item-card}\n",
    ":class-header: bg-light\n",
    "Voraussetzungen\n",
    "^^^\n",
    "- mathematische Grundlagen von Randwertproblemen\n",
    "- Reduktion von ODEs höherer Ordnung\n",
    "- Bisektionsverfahren\n",
    "```\n",
    "```{grid-item-card}\n",
    ":class-header: bg-light\n",
    "Lerninhalte\n",
    "^^^\n",
    "- Implementierung einer Routine zum Lösen von Randwertproblemen mittels Schießverfahren\n",
    "```\n",
    "````\n"
   ]
  },
  {
   "cell_type": "markdown",
   "metadata": {},
   "source": [
    "(hanging_cable)=\n",
    "# Durchhang eines flexiblen Kabels\n",
    "\n",
    "Ein flexibles Kabel einheitlicher Dichte ist an zwei Punkten $y(0) = 10\\;\\mathrm{m}$ und $y(20) = 15\\;\\mathrm{m}$ aufgehängt. Die Form des Kabels folgt der Differentialgleichung\n",
    "\n",
    "$$\n",
    "\\frac{\\mathrm{d}^2y}{\\mathrm{d}x^2} = C \\sqrt{1+ \\left( \\frac{\\mathrm{d}y}{\\mathrm{d}x} \\right)^2}\n",
    "$$\n",
    "\n",
    "wobei $C=0.041\\;\\mathrm{m}^{-1}$ eine Konstante ist, die das Kabelgewicht pro Einheitslänge sowie den horizontalen Spannungsanteil im tiefsten Punkt des Kabels enthält.\n",
    "\n",
    "```{image} images/flexible_cable.png\n",
    ":alt: Kabel\n",
    ":width: 400px\n",
    ":align: center\n",
    "```\n",
    "\n",
    "## Aufgabe 1\n",
    "\n",
    "Verwenden Sie die Matlab-Routine `bvp4c` um den Verlauf des Kabels zwischen $x = 0\\;\\mathrm{m}$ und $x = 20 \\;\\mathrm{m}$ zu bestimmen."
   ]
  },
  {
   "cell_type": "markdown",
   "metadata": {},
   "source": [
    "## Aufgabe 2\n",
    "\n",
    "Lösen Sie das Randwertproblem nun mit dem so genannten **Schießverfahren**. Wählen Sie hierzu zwei Schätzungen für die unbekannten Ableitungen $\\frac{\\mathrm{d}y}{\\mathrm{d}x}$ bei $x=0$. *Schießen* Sie auf $x=20$, indem Sie die Differentialgleichung als Anfangswertproblem mit `ode45` für beide Schätzwerte $\\frac{\\mathrm{d}y}{\\mathrm{d}x}$ lösen. Vergleichen Sie die getroffenen $y(x=20)$-Werte mit dem Zielwert $y(x=20)=15$. Wenn eine Ihrer Schätzungen den Zielwert unterschätzt, und die andere den Zielwert überschätzt, können Sie sich mittels Bisektionsverfahren dem tatsächlichen Wert für $\\frac{\\mathrm{d}y}{\\mathrm{d}x}(x=0)$ nähern. Führen Sie eine Bisektion durch, um sich dem Zielwert bis auf `tol` $= 0.01\\;\\textrm{m}$ zu nähern."
   ]
  },
  {
   "cell_type": "code",
   "execution_count": null,
   "metadata": {},
   "outputs": [],
   "source": [
    "%%file bvpsm.m\n",
    "function sol = bvpsm(odefun, x, ybc, yp_lower, yp_upper, tol, max_iter)\n",
    "% this functions solves a boundary value problem with dirichlet boundary conditions using\n",
    "% the shooting method.\n",
    "%\n",
    "% Internally, the bisection method is used to dermine the slope af the left boundary.\n",
    "%\n",
    "% INPUTS:\n",
    "%    - odefun is a function handle  for the right-hand side of the scalar ode \n",
    "%      of second order y'' = f(t,y,y').\n",
    "%    - x=[xa, xb] is a 1x2 vector containing the start and end value for the interval, on \n",
    "%      on which the BVP is to be solved\n",
    "%    - ybc=[ya, yb] is the a 1x2 vector containing the Dirichlet boundary conditions of the BVP.\n",
    "%    - yp_lower is a lower estimate of the slope of y and yp_upper is an upper estimate of the \n",
    "%      slope of y at xa. These values are needed by the shooting method.\n",
    "%    - tol is a tolerance for the right boundary condition. The problem is considered as solved,\n",
    "%      if abs(y(xb)-yb) < tol\n",
    "%    - max_iter are the maximum number of iterations for determining the slope at xa\n",
    "%\n",
    "% OUTPUTS:\n",
    "%    - sol is the solution structure, as it is returned by the initial value problem solvers\n",
    "%      such as ode45\n",
    "\n",
    "% PUT YOUR IMPLEMENTATION HERE"
   ]
  },
  {
   "cell_type": "markdown",
   "metadata": {},
   "source": [
    "```{admonition} Hinweis\n",
    "In dem Kapitel {ref}`skripte_und_funktionen` wurde eine Funktion für das Bisektionsverfahren entwickelt. Verwenden Sie diese Funktion in Ihrer Implementierung, um das Rad nicht neu erfinden zu müssen.\n",
    "```"
   ]
  },
  {
   "cell_type": "code",
   "execution_count": null,
   "metadata": {},
   "outputs": [],
   "source": [
    "% SPACE FOR SOLUTION: Apply the function bvpsm to solve the BVP of the flexible cable."
   ]
  }
 ],
 "metadata": {
  "kernelspec": {
   "display_name": "Octave",
   "language": "octave",
   "name": "octave"
  },
  "language_info": {
   "file_extension": ".m",
   "help_links": [
    {
     "text": "GNU Octave",
     "url": "https://www.gnu.org/software/octave/support.html"
    },
    {
     "text": "Octave Kernel",
     "url": "https://github.com/Calysto/octave_kernel"
    },
    {
     "text": "MetaKernel Magics",
     "url": "https://metakernel.readthedocs.io/en/latest/source/README.html"
    }
   ],
   "mimetype": "text/x-octave",
   "name": "octave",
   "version": "5.2.0"
  }
 },
 "nbformat": 4,
 "nbformat_minor": 4
}
