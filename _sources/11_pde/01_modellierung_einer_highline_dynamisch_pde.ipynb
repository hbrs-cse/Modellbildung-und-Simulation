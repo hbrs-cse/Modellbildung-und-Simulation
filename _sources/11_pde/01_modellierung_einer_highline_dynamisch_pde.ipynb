{
 "cells": [
  {
   "cell_type": "markdown",
   "id": "eb34add1-c280-48b5-b16f-077af9f90f07",
   "metadata": {},
   "source": [
    "````{grid} 2\n",
    "```{grid-item-card}\n",
    ":class-header: bg-light\n",
    "Voraussetzungen\n",
    "^^^\n",
    "- Aufgaben {ref}`highline_static` und {ref}`highline_dynamic`\n",
    "- mathematische Grundlagen von PDEs und der Linienmethode\n",
    "```\n",
    "```{grid-item-card}\n",
    ":class-header: bg-light\n",
    "Lerninhalte\n",
    "^^^\n",
    "- Aufstellen partieller Differentialgleichungen\n",
    "- Diskretisierung\n",
    "- Numerische Lösung von partiellen Differentialgleichungen\n",
    "- Demonstration der Ähnlichkeit der Diskretisierung der Linienmethode zur diskretisierten Modellannahme in der bisherigen Modellierung einer Highline\n",
    "```\n",
    "````\n"
   ]
  },
  {
   "cell_type": "markdown",
   "id": "635e9cd3",
   "metadata": {},
   "source": [
    "(highline_dynamic_PDE)=\n",
    "# Modellierung einer Highline - Die Lösung als PDE\n",
    "\n",
    "Wie in dem Kapitel {ref}`highline_dynamic` wollen wir nun die Highline aus dem Kapitel {ref}`highline_static` als partielle Differentialgleichung (Partial Differential Equation, PDE) lösen. Im Unterschied zu den gewöhnlichen Differentialgleichungen gibt es hier Ableitungen nach mehr als einer Variablen, häufig nach Raumgrößen und der Zeit (z.B. $\\frac{\\partial f(t,x)}{\\partial t}, \\frac{\\partial f(t,x)}{\\partial x}$)."
   ]
  },
  {
   "cell_type": "markdown",
   "id": "bf1dbc74",
   "metadata": {},
   "source": [
    "Auch wenn es nicht so aussah, beinhaltet bereits die Kräftebilanzierung aus {ref}`highline_static` eine partielle Differentialgleichung. Allgemein lässt sich die Highline gemäß {cite}`Oprandi2020` als PDE aufstellen.\n",
    "\n",
    "$$\\rho_L \\cdot \\mathbf{\\ddot{z}} = E \\cdot A \\cdot \\mathbf{z}_{xx} + c \\cdot \\mathbf{\\dot{z}}_{xx} + \\Delta\\mathbf{F}(t)$$\n",
    "\n",
    "```{admonition} Hinweis \n",
    "- Die Gleichung ist ein partielles Kräftegleichgewicht der $\\Delta\\mathbf{F} = \\left[\\frac{kg}{s^2}\\right]$, mit $\\Delta = \\frac{\\partial^2}{\\partial x^2}+\\frac{\\partial^2}{\\partial y^2}$ dem Laplace-Operator (in unserem Fall nur in 2D).\n",
    "- $\\frac{\\partial^2 z}{\\partial x^2}$ ist die Dehnung des Seils. $\\frac{\\partial z}{\\partial x}$ wäre die Steigung des Seils.\n",
    "- $\\rho_L$ ist die Dichte der Highline bezogen auf die Länge, also $\\rho_L=\\rho \\cdot A=\\frac{m_{ges}}{L} \\left[\\frac{kg}{m}\\right]$.\n",
    "- $c \\cdot \\mathbf{\\dot{z}}_{xx}$ ist die Dämpfung der Highline. Die Dämpfung ist schwer aus den Stoffeigenschaften, wie der Viskosität, herzuleiten, weshalb üblicherweise Annahmen getroffen werden müssen. In {cite}`Oprandi2020` handelt es sich um eine Gitarrensaite, die durch die Luft eine lineare Dämpfung $c \\cdot \\mathbf{\\dot{z}}$ erfährt. In unserem Fall hängt die Dämpfung durch die Annahme der Feder-Masse-Dämpfer-Elemente vom Geschwindigkeitsgradienten entlang der Highline ab. Wir nehmen also an, dass $c = d \\cdot dx$ mit $dx$ der Länge der Dämpfer-Elemente und $[c] = \\text{Ns}$. Anstelle von $c$ könnte aber auch eine nichtlineare Dämpfung und eine Abhängigkeit von anderen Faktoren angenommen werden.\n",
    "- $E$ ist der Modul der Highline\n",
    "- $A$ ist der Querschnitt der Highline\n",
    "- Andere Schreibweisen wären\n",
    "\n",
    "$$\\rho_L \\frac{\\partial^2 \\mathbf{z}}{\\partial t^2} = E \\cdot A \\cdot \\frac{\\partial^2 \\mathbf{z}}{\\partial x^2} + c \\frac{\\partial^3 \\mathbf{z}}{\\partial x^2 \\partial t} + \\Delta\\mathbf{F}(t)$$\n",
    "\n",
    "oder\n",
    "\n",
    "$$\\rho_L \\mathbf{z}_{tt} = E \\cdot \\mathbf{z}_{xx} + \\mu_L \\mathbf{z}_{xxt} + \\Delta\\mathbf{F}(t).$$\n",
    "\n",
    "- Die Ableitung nach dem Ort $\\frac{\\partial}{\\partial x}$ ist nicht zu verwechseln mit der einzelnen Raumkoordinaten $x$.\n",
    "```"
   ]
  },
  {
   "cell_type": "markdown",
   "id": "45c1fac5",
   "metadata": {},
   "source": [
    "Um diese PDE in ein System von ODEs zu überführen, muss ein sogenannter Differenzenstern für die Ortsableitungen gebildet werden. Im Eindimensionalen ist ein möglicher Differenzenstern für die zweite Ableitung der zentrale Differenzenquotient.\n",
    "\n",
    "$$\\frac{\\partial^2 f}{\\partial x^2} \\approx \\frac{f(x-h)-2f(x)+f(x+h)}{h^2}.$$\n",
    "\n",
    "Nachdem wir elementweise für $i = 1,...N$ diskretisieren ist der zentrale Differenzenquotient\n",
    "\n",
    "$$\\frac{\\partial^2 \\mathbf{z}_i}{\\partial x^2} = \\frac{\\mathbf{z}_{i-1}-2\\mathbf{z}_i+\\mathbf{z}_{i+1}}{dx^2}.$$\n",
    "\n",
    "Damit wird die PDE zu\n",
    "\n",
    "$$\\rho_L \\mathbf{\\ddot{z}}_i = \\frac{E \\cdot A}{dx^2} (\\mathbf{z}_{i-1}-2\\mathbf{z}_i+\\mathbf{z}_{i+1}) + \\frac{c}{dx^2} (\\mathbf{\\dot{z}}_{i-1}-2\\mathbf{\\dot{z}}_i+\\mathbf{\\dot{z}}_{i+1}) + \\Delta\\mathbf{F}(t).$$"
   ]
  },
  {
   "cell_type": "markdown",
   "id": "3afb5e32",
   "metadata": {},
   "source": [
    "_Das erinnert uns schon ein bisschen an eine Gleichung, die wir bereits kennen..._\n",
    "\n",
    "Mit $m_{ges} = m \\cdot N$ und $N = \\frac{L}{dx}$ wird $\\rho_L = \\frac{m_{ges}}{L} = \\frac{m}{dx}$, mit $m$ der Masse pro Masseelement.\n",
    "\n",
    "Mit $\\frac{E \\cdot A}{dx} = k$, $\\frac{c}{dx} = d$ und $\\Delta\\mathbf{F} = \\frac{\\mathbf{F}_{\\text{i,ext}}(t)}{dx}$ wird aus der PDE \n",
    "\n",
    "$$\\frac{m}{dx} {\\mathbf{\\ddot{z}}_i} = \\frac{k}{dx} (\\mathbf{z}_{i-1}-2\\mathbf{z}_i+\\mathbf{z}_{i+1}) + \\frac{d}{dx} (\\mathbf{\\dot{z}}_{i-1}-2\\mathbf{\\dot{z}}_i+\\mathbf{\\dot{z}}_{i+1}) + \\frac{1}{dx}\\mathbf{F}_{\\text{i,ext}}(t)$$\n",
    "\n",
    "Nach dem Kürzen von $\\frac{1}{dx}$ (die PDE war bezogen auf ein relatives Ortsintervall) entsteht die bekannte Gleichung aus dem Kapitel {ref}`highline_static`:\n",
    "\n",
    "$$m \\ddot{\\mathbf{z}}_i = k(\\mathbf{z}_{i-1}-\\mathbf{z}_{i}) + d(\\dot{\\mathbf{z}}_{i-1} - \\dot{\\mathbf{z}}_{i}) - k(\\mathbf{z}_{i}-\\mathbf{z}_{i+1}) - d(\\dot{\\mathbf{z}}_{i} -\\dot{\\mathbf{z}}_{i+1}) + \\mathbf{F}_{i,\\text{ext}}$$"
   ]
  },
  {
   "cell_type": "markdown",
   "id": "006751cb",
   "metadata": {},
   "source": [
    "Für den ersten und den letzten Massenpunkt ($i=1$ und $i=N$) sind zusätzlich die Geschwindigkeit und Verschiebung der Massenpunkte an den Rändern für die finiten Differenzen notwendig. Es entsteht also ein System mit $N+4$ Unbekannten (beziehungsweise $2N+8$ Unbekannte, falls wir die Vektoren in ihre Raumrichtungen zerlegen) und nur $N$ Gleichungen.\n",
    "\n",
    "Daher müssen Randbedingungen festgelegt werden. Diese sind für die Highline ganz logisch und einfach festzulegen: Die  Geschwindigkeit und Verschiebung der äußeren Elemente sind natürlich $\\mathbf{z}_0=\\mathbf{z}_{N+1}=0, \\mathbf{\\dot{z}}_0=\\mathbf{\\dot{z}}_{N+1}=0$.\n",
    "\n",
    "```{admonition} Hinweis \n",
    "Diese Randbedingungen werden Dirichlet-Randbedingungen genannt. Andere bekannte RBs sind die Neumann-RB, die die Ortsableitungen an den Rändern festlegen.\n",
    "```"
   ]
  },
  {
   "cell_type": "markdown",
   "id": "f9926847",
   "metadata": {},
   "source": [
    "Damit werden die Gleichungen für $i=1$ und $i=N$ etwas kürzer und wir erhalten das Gleichungssystem für die verbleibenden Unbekannten $\\mathbf{z}_1,...,\\mathbf{z}_N$\n",
    "\n",
    "$$\n",
    "\\begin{align}\n",
    " m \\ddot{\\mathbf{z}}_1 &= -k \\mathbf{z}_1 - d \\dot{\\mathbf{z}}_1 -k(\\mathbf{z}_1-\\mathbf{z}_2) - d(\\dot{\\mathbf{z}}_1-\\dot{\\mathbf{z}}_2) + \\mathbf{F}_{1,\\text{ext}} \\notag \\\\\n",
    " m \\ddot{\\mathbf{z}}_i &= k(\\mathbf{z}_{i-1}-\\mathbf{z}_{i}) + d(\\dot{\\mathbf{z}}_{i-1} - \\dot{\\mathbf{z}}_{i}) - k(\\mathbf{z}_{i}-\\mathbf{z}_{i+1}) - d(\\dot{\\mathbf{z}}_{i} -\\dot{\\mathbf{z}}_{i+1}) + \\mathbf{F}_{i,\\text{ext}}, \\hskip4em \\text{für } i=2,...,N-1 \\notag \\\\\n",
    " m \\ddot{\\mathbf{z}}_N &= -k \\mathbf{z}_N - d \\dot{\\mathbf{z}}_N + k(\\mathbf{z}_{N-1}-\\mathbf{z}_N) + d(\\dot{\\mathbf{z}}_{N-1}-\\dot{\\mathbf{z}}_N) + \\mathbf{F}_{N,\\text{ext}} \\notag\\end{align}\n",
    "$$\n",
    "\n",
    ", für das wir die Lösung bereits gelernt haben.\n",
    "\n",
    "```{admonition} Hinweis \n",
    "Diese Lösungsstrategie nennt sich übrigens **Linienmethode**:\n",
    "\n",
    "Die Ortsableitungen in der PDE werden durch finite Differenzenquotienten ersetzt. Zusammen mit den Randbedingungen ergibt sich ein System gewöhnlicher Differentialgleichungen.\n",
    "```"
   ]
  },
  {
   "cell_type": "markdown",
   "id": "a05cfe7b",
   "metadata": {},
   "source": [
    "## Literatur\n",
    "\n",
    "```{bibliography}\n",
    ":filter: docname in docnames\n",
    "```"
   ]
  }
 ],
 "metadata": {
  "kernelspec": {
   "display_name": "Octave",
   "language": "octave",
   "name": "octave"
  },
  "language_info": {
   "file_extension": ".m",
   "help_links": [
    {
     "text": "GNU Octave",
     "url": "https://www.gnu.org/software/octave/support.html"
    },
    {
     "text": "Octave Kernel",
     "url": "https://github.com/Calysto/octave_kernel"
    },
    {
     "text": "MetaKernel Magics",
     "url": "https://metakernel.readthedocs.io/en/latest/source/README.html"
    }
   ],
   "mimetype": "text/x-octave",
   "name": "octave",
   "version": "5.2.0"
  }
 },
 "nbformat": 4,
 "nbformat_minor": 5
}
