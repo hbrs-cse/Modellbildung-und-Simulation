{
 "cells": [
  {
   "cell_type": "markdown",
   "metadata": {},
   "source": [
    "````{grid} 2\n",
    "```{grid-item-card}\n",
    ":class-header: bg-light\n",
    "Voraussetzungen\n",
    "^^^\n",
    "- Programmier-Grundlagen\n",
    "- Matrizen-Grundlagen inklusive Eigenwerte\n",
    "```\n",
    "```{grid-item-card}\n",
    ":class-header: bg-light\n",
    "Lerninhalte\n",
    "^^^\n",
    "- Berechnung von Eigenwerten mithilfe der QR-Zerlegung (Diagonalisierung)\n",
    "```\n",
    "````\n"
   ]
  },
  {
   "cell_type": "markdown",
   "metadata": {},
   "source": [
    "(qr_eigen)=\n",
    "# Das QR-Verfahren"
   ]
  },
  {
   "cell_type": "markdown",
   "metadata": {},
   "source": [
    "Folgender iterativer Algorithmus liegt dem sogenanneten *QR-Verfahren* zur Berechnung der Eigenwerte einer Matrix zugrunde:\n",
    "\n",
    " 1. Setze $A^{(0))}=A$\n",
    " 2. Berechne $Q^{(k)}$ und $R^{(k)}$, so dass\n",
    " \n",
    "    $$\n",
    "    A^{(k)}=Q^{(k)}R^{(k)} \\hspace{1cm} \\text{ für alle } k=0,1,...\n",
    "    $$\n",
    "    \n",
    " 3. Setze $A^{(k+1)}=R^{(k)}Q^{(k)}$"
   ]
  },
  {
   "cell_type": "markdown",
   "metadata": {},
   "source": [
    "## Aufgabe 1 - Implementieren Sie den QR-Algorithmus\n",
    "\n",
    "Schreiben Sie eine Funktion, die dieses Verfahren implementiert, um die Eigenwerte einer Matrix zu berechnen. Brechen Sie die Iteration ab, sobald eine maximale Anzahl an Iterationen erreicht wurde oder die relative Änderung $\\frac{\\|diag(A^{(k)}) - diag(A^{(k-1)})\\|}{\\|diag(A^{(k)})\\|}$ eine vom Benutzer vorgegebene Toleranz unterschreitet."
   ]
  },
  {
   "cell_type": "code",
   "execution_count": null,
   "metadata": {
    "tags": [
     "remove-output"
    ]
   },
   "outputs": [],
   "source": [
    "%%file my_eig.m\n",
    "function E = my_eig(A, maxiter, tol)\n",
    "% Find a few eigenvalues and eigenvectors of a matrix\n",
    "%\n",
    "%   E = my_eig(A, maxiter, tol) returns a a column vector E containing the eigenvalues of \n",
    "%   a square matrix A. The entries are sorted from largest to smallest magnitude\n",
    "%\n",
    "% Internally, an implementation of the QR algorithm is used.\n",
    "%\n",
    "%   maxiter is the maximum number of iterations\n",
    "%   tol is a user defined tolerance. The iteration stops if norm(A - Aprev)/norm(A) falls below this threshold\n",
    "\n",
    "% INSERT CODE HERE\n"
   ]
  },
  {
   "cell_type": "markdown",
   "metadata": {},
   "source": [
    "```{admonition} Hinweis\n",
    "Verwenden Sie für die Berechnung der *QR-Zerlegung* die Matlab/Octave-Funktion `qr`.\n",
    "```\n",
    "\n",
    "Überprüfen Sie ob Ihre Funktion die Testfälle in `test_my_eig.m` besteht:"
   ]
  },
  {
   "cell_type": "code",
   "execution_count": null,
   "metadata": {},
   "outputs": [],
   "source": [
    "moxunit_runtests test_my_eig.m;"
   ]
  },
  {
   "cell_type": "markdown",
   "metadata": {},
   "source": [
    "## Aufgabe 2 - Testen Sie Ihre Funktion von Hand\n",
    "\n",
    "Berechnen Sie die Eigenwerte der Matrix\n",
    "\n",
    "$$\n",
    "\\Phi = \\begin{bmatrix}\n",
    "2 & -\\frac{1}{2} & 0 & -\\frac{1}{2} \\\\\n",
    "0 & 4 & 0 & 2 \\\\\n",
    "- \\frac{1}{2} & 0 & 6 & \\frac{1}{2} \\\\\n",
    "0 & 0 & 1 & 9\n",
    "\\end{bmatrix}\n",
    "$$\n",
    "\n",
    "mit der Matlab/Octave-Funktion `eig` und vergleichen Sie das Ergebnis mit der Ausgabe Ihrer Funktion `my_eig`."
   ]
  }
 ],
 "metadata": {
  "kernelspec": {
   "display_name": "Octave",
   "language": "octave",
   "name": "octave"
  },
  "language_info": {
   "file_extension": ".m",
   "help_links": [
    {
     "text": "GNU Octave",
     "url": "https://www.gnu.org/software/octave/support.html"
    },
    {
     "text": "Octave Kernel",
     "url": "https://github.com/Calysto/octave_kernel"
    },
    {
     "text": "MetaKernel Magics",
     "url": "https://metakernel.readthedocs.io/en/latest/source/README.html"
    }
   ],
   "mimetype": "text/x-octave",
   "name": "octave",
   "version": "5.2.0"
  }
 },
 "nbformat": 4,
 "nbformat_minor": 4
}
