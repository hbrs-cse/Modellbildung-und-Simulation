{
 "cells": [
  {
   "cell_type": "markdown",
   "metadata": {},
   "source": [
    "````{grid} 2\n",
    "```{grid-item-card}\n",
    ":class-header: bg-light\n",
    "Voraussetzungen\n",
    "^^^\n",
    "- Programmier-Grundlagen\n",
    "- einfache Annäherungsformeln für Integrale\n",
    "```\n",
    "```{grid-item-card}\n",
    ":class-header: bg-light\n",
    "Lerninhalte\n",
    "^^^\n",
    "- Grundlagen und Realisierung numerischer Integration\n",
    "- Grundlagen und Realisierung numerischer Schrittweitensteuerung\n",
    "- Validierung von Programmroutinen mittels Unit Tests\n",
    "```\n",
    "````"
   ]
  },
  {
   "cell_type": "markdown",
   "metadata": {},
   "source": [
    "(num_int)=\n",
    "# Numerische Integration (mit Schrittweitensteuerung)\n",
    "\n",
    "## Aufgabe 1: Vorarbeit mit Stift und Papier\n",
    "\n",
    "Entwickeln Sie mit Stift und Papier (und am besten auch einer Skizze) die Trapezregel zur numerischen Approximation von Integralen beliebiger Funktionen auf beliebigen Intervallen.\n",
    "\n",
    "## Aufgabe 2: Numerische Integration\n",
    "Die Simpson-Regel erweitert dieses Konzept. Statt einer Geraden wird hier zur Approximation eine Parabel durch die Randpunkte und den Mittelpunkt des Intervals gelegt und der Flächeninhalt darunter bestimmt. So kann die Fehlerordnung der Approximation erhöht werden. Die Integrationsformel lautet dann\n",
    " \n",
    "$$\\int_{x_i}^{x_{i+1}} f(x) dx = \\frac{x_{i+1} - x_i}{6}\\left(f(x_i)+4f\\left(\\frac{x_i+x_{i+1}}{2}\\right)+f(x_{i+1})\\right).$$\n",
    "\n",
    "```{image} images/quadratur_simpson.png\n",
    ":alt: Name of image\n",
    ":width: 400px\n",
    ":align: center\n",
    "```\n",
    "\n",
    "Schreiben Sie ein Programm zur numerischen Berechnung von $\\int_{a}^{b} f(x) dx$ mit der zusammengesetzten Simpson- und Trapezregel. Das heißt, beide Regeln werden auf einzelne Teilintervalle angewendet und die Ergebnisse zum Gesamtintegral aufsummiert. Vergleichen Sie die Lösungen für verschiedene Funktionen (beispielsweise $e^{-x}, \\sin(x), x^2, ...$).\n",
    " \n",
    "```{admonition} Achtung\n",
    ":class: warning\n",
    "Denken Sie daran, dass Eingaben nicht immer mit der Funktionsweise Ihrer Funktion kompatibel sein müssen! Wie geht Ihre Funktion beispielsweise mit der Polstelle um, wenn jemand $\\int_{-1}^{1} \\frac{1}{x} dx$ berechnen möchte? Überlegen Sie sich eine Abbruchbedingung für den Fehlerfall!\n",
    "```"
   ]
  },
  {
   "cell_type": "code",
   "execution_count": null,
   "metadata": {},
   "outputs": [],
   "source": [
    "%%file numInt.m\n",
    "%function [I, dt]= numInt(f,a,b,tol)\n",
    "% Compute numeric integral of f on [a, b] to tolerance tol via Simpson's rule. Step width is regulated via comparison to result of Trapezoidal rule.\n",
    "% Inputs: function, lower boundary, upper boundary, tolerance\n",
    "% Output: integration result, step size\n",
    "\n",
    "function [I, dt] = numInt(f,a,b,tol)\n",
    "% insert your code here\n",
    "end"
   ]
  },
  {
   "cell_type": "markdown",
   "metadata": {},
   "source": [
    "## Aufgabe 3: Integration mit Schrittweitensteuerung\n",
    "\n",
    "Nun soll die Anzahl der verwendeten Teilintervalle so lange verdoppelt werden, bis die Differenz zwischen Simpson- und Trapezregel kleiner als die vom Benutzer vorgegebenen Toleranz `tol` ist.\n",
    "  \n",
    "Der *Vergleich der beiden Ergebnisse* ermöglicht es, abzuschätzen, bei welcher Anzahl an Teilintervallen die gewünschte Genauigkeit erreicht wird. Durch eine derartige Schrittweitensteuerung kann zusätzlicher Rechenaufwand durch zu kleine Schrittweiten vermieden werden und trotzdem auf allen Intervallen die geforderte Genauigkeit erreicht werden.\n",
    "\n",
    "## Aufgabe 4: Test der Funktionsweise\n",
    "Testen Sie Ihre Funktion mit dem Unit Test. Sie sollten zumindest die ersten fünf der acht Anforderungen erfüllen."
   ]
  },
  {
   "cell_type": "code",
   "execution_count": null,
   "metadata": {},
   "outputs": [],
   "source": [
    "test_numInt()"
   ]
  },
  {
   "cell_type": "markdown",
   "metadata": {},
   "source": [
    "Den Quellcode des Unit Tests können Sie hier ausklappen. Sehen Sie sich das Kapitel [](content:references:unit_testing_intro) an, um Ihre Erinnerung an Unit Tests aufzufrischen.\n",
    "\n",
    "Es werden die Ergebnisse von sieben Funktionen anhand der analytischen Lösungen (bzw. der numerisch zu erwartenden Reaktion) getestet. Der Vergleich läuft über die Funktion `assertVectorsAlmostEqual()`.\n",
    "\n",
    "1. $\\int_0^1 x dx = 0.5$\n",
    "2. $\\int_{-1}^1 x dx = 0.5$. Hier sollte `df` = 2 sein.\n",
    "3. $\\int_0^1 x^5+x dx = \\frac{2}{3}$. Hier sollte `df`= $2^{-10}$ sein.\n",
    "4. $\\int_{-1}^1 e^x dx = e - \\frac{1}{e}$. Hier sollte `df`= $2^{-9}$ sein.\n",
    "5. $\\int_{-1}^1 (1-cos(-0.33x^2-0.1x +1)) dx$. Hier ist eine Schrittweitensteuerung notwendig. Das Ergebnis wird mit der Matlab-Routine `integral()` getestet.\n",
    "6. Das Integral sollte auch von rechts nach links funktionieren für $\\int_1^0 x dx = 0.5$.\n",
    "7. Für $\\int_{-0.5}^{1} \\frac{1}{x} dx$ dürfte die Schrittweite schnell zu klein werden. Dafür testet `test_numInt`, ob `numInt.m` für dieses Integral eine Fehlermeldung auswirft. Das geschieht mit `assertExceptionThrown`.\n",
    "8. Ebenso sollte $\\int_{-1}^{1} \\frac{1}{x} dx = 0$ sein.\n",
    "\n",
    "Klappen Sie die Box aus, um `test_numInt` näher anzusehen."
   ]
  },
  {
   "cell_type": "code",
   "execution_count": null,
   "metadata": {
    "tags": [
     "hide_input"
    ]
   },
   "outputs": [],
   "source": [
    "function test_suite=test_numInt\n",
    "% initialize unit tets\n",
    "    try\n",
    "        test_functions=localfunctions();\n",
    "    catch\n",
    "    end\n",
    "    initTestSuite;\n",
    "\n",
    "%%%%%%%%%%%%%%%%%%%%%%%\n",
    "%     Basic tests     %\n",
    "%%%%%%%%%%%%%%%%%%%%%%%\n",
    "\n",
    "function test_numInt_basic\n",
    "% test function of basic function\n",
    "    a = 0;\n",
    "    b = 1;\n",
    "    f = @(x) x;\n",
    "    tol = 10^-6;\n",
    "    [I, df] = numInt(f,a,b,tol);\n",
    "    assertVectorsAlmostEqual(I,0.5)\n",
    "    \n",
    "function test_numInt_negativeStartOfInterval\n",
    "% test function of negative start of interval\n",
    "    a = -1;\n",
    "    b = 1;\n",
    "    f = @(x) x;\n",
    "    tol = 10^-6;\n",
    "    [I, df] = numInt(f,a,b,tol);\n",
    "    assertVectorsAlmostEqual([I, df],[0, 2])\n",
    "    \n",
    "function test_numInt_moreComplexFunction\n",
    "% test function of x^5 + x\n",
    "    a = 0;\n",
    "    b = 1;\n",
    "    f = @(x) x^5+x;\n",
    "    tol = 10^-6;\n",
    "    [I, df] = numInt(f,a,b,tol);\n",
    "    assertVectorsAlmostEqual([I, df],[2/3, 2^-10]) \n",
    "    \n",
    "function test_numInt_stepsWidth\n",
    "% test function of exp(x) to see if step width is correct\n",
    "    a = -1;\n",
    "    b = 1;\n",
    "    f = @(x) exp(x);\n",
    "    tol = 10^-6;\n",
    "    [I, df] = numInt(f,a,b,tol);\n",
    "    % !!! width (2^-9) determined via testing !!! 0.001953125000000\n",
    "    assertVectorsAlmostEqual([I, df],[exp(1) - 1/exp(1), 2^-9]) \n",
    "    \n",
    "function test_numInt_stepsWidth_2\n",
    "% test function of 1-cos(-0.33*x.^2-0.1*x +1) where step width control is necessary\n",
    "    a = 0;\n",
    "    b = 10;\n",
    "    f = @(x) 1-cos(-0.33*x.^2-0.1*x +1);\n",
    "    tol = 10^-6;\n",
    "    [I, df] = numInt(f,a,b,tol);\n",
    "    assertVectorsAlmostEqual(I,integral(f, a, b)) \n",
    "    \n",
    "%%%%%%%%%%%%%%%%%%%%%%%\n",
    "% More advanced tests %\n",
    "%%%%%%%%%%%%%%%%%%%%%%%\n",
    "\n",
    "function test_numInt_invertedInterval\n",
    "% test function of inverted interval (start after end)\n",
    "    a = 1;\n",
    "    b = 0;\n",
    "    f = @(x) x;\n",
    "    tol = 10^-6;\n",
    "    [I, df] = numInt(f,a,b,tol);\n",
    "    assertVectorsAlmostEqual(I,-0.5)\n",
    "  \n",
    "function test_numInt_poleInIntervall\n",
    "% test function of 1/x\n",
    "    a = -0.5;\n",
    "    b = 1;\n",
    "    f = @(x) 1/x;\n",
    "    tol = 10^-6;\n",
    "    assertExceptionThrown(@() numInt(f,a,b,tol))\n",
    "    \n",
    "function test_numInt_symmetricIntegral\n",
    "% test function of 1/x\n",
    "    a = -1;\n",
    "    b = 1;\n",
    "    f = @(x) 1/x;\n",
    "    tol = 10^-6;\n",
    "    [I, df] = numInt(f,a,b,tol);\n",
    "    assertVectorsAlmostEqual(I,0)"
   ]
  },
  {
   "cell_type": "markdown",
   "metadata": {},
   "source": [
    "## Aufgabe 5: Vergleich mit der Praxis\n",
    "\n",
    "Vergleichen Sie Ihre Ergebnisse auch mit der Matlab-Routine `Integral`. Überlegen Sie sich dazu wichtige Kenngrößen und Testfunktionen.\n",
    "\n",
    "```{admonition} Hinweis\n",
    "Neben der reinen Funktion, die Sie jetzt offensichtlich sehr gut realisiert haben, hat der Code allerdings noch weitere Qualitätskriterien. Ein wichtiges Kriterium ist z. B. der Rechenaufwand bzw. die Zeit, die eine Ausführung benötigt. \n",
    "Dieser kann hier noch optimiert werden, indem die berechneten Werte aus der jeweils vorherigen Iteration weiterverwendet werden, wodurch in jeder Iteration nur ein Drittel so viele Werte berechnet werden wie in der einfachen Implementierung. Aber das soll Ihnen vorläufig erspart bleiben.\n",
    "```"
   ]
  }
 ],
 "metadata": {
  "author": "Martin Kliemank",
  "kernelspec": {
   "display_name": "Octave",
   "language": "octave",
   "name": "octave"
  },
  "language_info": {
   "file_extension": ".m",
   "help_links": [
    {
     "text": "GNU Octave",
     "url": "https://www.gnu.org/software/octave/support.html"
    },
    {
     "text": "Octave Kernel",
     "url": "https://github.com/Calysto/octave_kernel"
    },
    {
     "text": "MetaKernel Magics",
     "url": "https://metakernel.readthedocs.io/en/latest/source/README.html"
    }
   ],
   "mimetype": "text/x-octave",
   "name": "octave",
   "version": "5.2.0"
  }
 },
 "nbformat": 4,
 "nbformat_minor": 4
}
