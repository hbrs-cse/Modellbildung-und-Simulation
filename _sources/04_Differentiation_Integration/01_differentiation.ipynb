{
 "cells": [
  {
   "cell_type": "markdown",
   "id": "aee70927-bfdd-4cad-a84e-062c889e9226",
   "metadata": {},
   "source": [
    "````{grid} 2\n",
    "```{grid-item-card}\n",
    ":class-header: bg-light\n",
    "Voraussetzungen\n",
    "^^^\n",
    "- Programmier-Grundlagen\n",
    "```\n",
    "```{grid-item-card}\n",
    ":class-header: bg-light\n",
    "Lerninhalte\n",
    "^^^\n",
    "- Grundlagen und Realisierung numerischer Differentiation\n",
    "- Herleitung von Differenzenquotienten\n",
    "- Bewertung von Genauigkeit und Aufwand von Differenzenquotienten\n",
    "```\n",
    "````"
   ]
  },
  {
   "cell_type": "markdown",
   "id": "9768c934",
   "metadata": {
    "jp-MarkdownHeadingCollapsed": true,
    "tags": []
   },
   "source": [
    "(numdiff)=\n",
    "# Numerische Differentiation\n",
    "\n",
    "Um Ableitungen von Funktionen zu approximieren, die wir analytisch nicht berechnen können oder wollen, verwenden wir **Differenzenquotienten**. Im Wesentlichen unterscheiden wir zwischen\n",
    "\n",
    "- *Vorwärtsdifferenzen*, die für die Ableitung am Punkt x Funktionswerte größer als x mit einbeziehen, zum Beispiel $f'(x) \\approx \\frac{f(x+dx) - f(x)}{dx}$,\n",
    "```{image} images/diff_left.png\n",
    ":alt: Name of image\n",
    ":width: 400px\n",
    ":align: center\n",
    "```\n",
    "- *Zentrale Differenzen*, die Funktionswerte größer und kleiner als x mit einbeziehen, zum Beispiel $f'(x) \\approx \\frac{f(x+dx) - f(x-dx)}{2 dx}$, und\n",
    "```{image} images/diff_centre.png\n",
    ":alt: Name of image\n",
    ":width: 400px\n",
    ":align: center\n",
    "```\n",
    "- *Rückwärtsdifferenzen*, die Funktionswerte kleiner als x mit einbeziehen, zum Beispiel $f'(x) \\approx \\frac{f(x) - f(x-dx)}{dx}$.\n",
    "```{image} images/diff_right.png\n",
    ":alt: Name of image\n",
    ":width: 400px\n",
    ":align: center\n",
    "```\n",
    "\n",
    "Differenzenquotienten können für beliebig hohe Ableitungen gebildet werden. Der Fehler wird mit geringerer Schrittweite $dx$ kleiner. Wie stark der Fehler kleiner wird, beschreibt die Fehlerordnung $\\mathcal{O}$. Zum Beispiel ist für quadratische Fehlerordnung, bezeichnet durch $\\mathcal{O}(dx^2)$, bei halber Schrittweite der Fehler nur ein Viertel so groß, also $dx_2 = \\frac{dx_1}{2} \\rightarrow \\epsilon_2 = \\frac{\\epsilon_1}{2^2}$.\n",
    "\n",
    "```{admonition} Hinweis\n",
    "Anstelle von $dx$ wird oft auch $h$ als Symbol für die Schrittweite verwendet.\n",
    "```"
   ]
  },
  {
   "cell_type": "markdown",
   "id": "f584a4c8",
   "metadata": {},
   "source": [
    "## Aufgabe 1\n",
    "\n",
    "Stellen Sie eine Übersicht und Bewertung verschiedener Differenzenquotienten für verschiedene Ableitungen auf. Schreiben Sie dazu ein Skript, das für eine Auswahl von Funktionen die numerische Approximation an einigen Stellen mit Ihrer analytischen Lösung vergleicht. Suchen Sie sich einige Beispiele für Differenzenquotienten aus den Lehrunterlagen oder von [Wikipedia](https://de.wikipedia.org/wiki/Differenzenquotient).\n",
    "\n",
    "Beantworten Sie für einige Ableitungen erster und zweiter Ordnung die folgenden Fragen:\n",
    "\n",
    "- Welche Funktionstypen lassen sich mit bestimmten Differenzenquotienten besonders gut lösen? Welche besonders schlecht?\n",
    "- Wie teuer sind höhere Fehlerordnungen? Lohnen sich die zusätzlichen Funktionsauswertungen?"
   ]
  },
  {
   "cell_type": "code",
   "execution_count": null,
   "id": "6aaf3791",
   "metadata": {},
   "outputs": [],
   "source": [
    "%%%your code here%%%"
   ]
  },
  {
   "cell_type": "markdown",
   "id": "3ff1f6bc",
   "metadata": {},
   "source": [
    "## Aufgabe 2\n",
    "\n",
    "- Erstellen Sie nun für die Differenzenquotienten jeweils eine Test-Funktion.\n",
    "- Lagern Sie Ihren Test so aus, dass Sie für beliebige Funktionen die eingegebene analytische Lösung mit der numerischen Lösung vergleichen können.\n",
    "- Werten Sie anstatt für diskrete Werte, nun für ganze Intervalle die durchschnittliche und die maximale Abweichung `meandiff`, `maxdiff` von der analytischen Lösung aus.\n",
    "- Werten Sie die benötigte Zeit `time` und die Anzahl an Funktionsauswertungen `n` aus.\n",
    "- Verringern Sie die Anzahl der Funktionsauswertungen, indem Sie diese wiederverwenden.\n",
    "\n",
    "```{admonition} Hinweis\n",
    "Bei sehr komplexen Funktionen ist die Verringerung von Funktionsauswertungen entscheidend für die Performanz Ihres Programms.\n",
    "```"
   ]
  },
  {
   "cell_type": "code",
   "execution_count": null,
   "id": "37d30477",
   "metadata": {},
   "outputs": [],
   "source": [
    "% f is function\n",
    "% g is first derivative\n",
    "% h is second derivative\n",
    "% t is relevant interval\n",
    "% dx is stepsize\n",
    "\n",
    "function [meandiff, maxdiff, time, n] = test_<Name_Differenzenquotient>(f,g,h,t,dx)\n",
    "tic;\n",
    "\n",
    "time = toc;\n",
    "end"
   ]
  }
 ],
 "metadata": {
  "kernelspec": {
   "display_name": "Octave",
   "language": "octave",
   "name": "octave"
  },
  "language_info": {
   "file_extension": ".m",
   "help_links": [
    {
     "text": "GNU Octave",
     "url": "https://www.gnu.org/software/octave/support.html"
    },
    {
     "text": "Octave Kernel",
     "url": "https://github.com/Calysto/octave_kernel"
    },
    {
     "text": "MetaKernel Magics",
     "url": "https://metakernel.readthedocs.io/en/latest/source/README.html"
    }
   ],
   "mimetype": "text/x-octave",
   "name": "octave",
   "version": "5.2.0"
  }
 },
 "nbformat": 4,
 "nbformat_minor": 5
}
