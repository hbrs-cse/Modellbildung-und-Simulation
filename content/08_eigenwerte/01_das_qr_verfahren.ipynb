{
 "cells": [
  {
   "cell_type": "markdown",
   "metadata": {},
   "source": [
    "# Das QR Verfahren"
   ]
  },
  {
   "cell_type": "markdown",
   "metadata": {},
   "source": [
    "Folgender iterativer Algorithmus liegt dem sogenanneten *QR-Verfahren* zur Berechnung der Eigenwerte einer Matrix zugrunde:\n",
    "\n",
    " 1. Setze $A^{(0))}=A$\n",
    " 2. Berechne $Q^{(k)}$ und $R^{(k)}$, so dass\n",
    " \n",
    "    $$\n",
    "    A^{(k)}=Q^{(k)}R^{(k)} \\hspace{1cm} \\text{ für alle } k=0,1,...\n",
    "    $$\n",
    "    \n",
    " 3. Setze $A^{(k+1)}=R^{(k)}Q^{(k)}$"
   ]
  },
  {
   "cell_type": "markdown",
   "metadata": {},
   "source": [
    "## Aufgabe 1 - Implementieren Sie den QR-Algorithmus\n",
    "\n",
    "Schreiben Sie eine Funktion, die dieses Verfahren implementiert um die Eigenwerte einer Matrix zu berechnen. Brechen Sie die Iteration ab sobald eine maximale Anzahl an Iterationen erreicht wurde, oder die relative Änderung $\\frac{\\|diag(A^{(k)}) - diag(A^{(k-1)})\\|}{\\|diag(A^{(k)})\\|}$ eine vom Benutzer vorgegebene Toleranz unterschreitet."
   ]
  },
  {
   "cell_type": "code",
   "execution_count": 6,
   "metadata": {
    "tags": [
     "remove-output"
    ]
   },
   "outputs": [
    {
     "name": "stdout",
     "output_type": "stream",
     "text": [
      "Created file '/mnt/c/Users/jan/Documents/Vorlesungen/Modellbildung-und-Simulation/content/08_eigenwerte/my_eig.m'.\n"
     ]
    }
   ],
   "source": [
    "%%file my_eig.m\n",
    "function E = my_eig(A, maxiter, tol)\n",
    "% Find a few eigenvalues and eigenvectors of a matrix\n",
    "%\n",
    "%   E = my_eig(A, maxiter, tol) returns a a column vector E containing the eigenvalues of \n",
    "%   a square matrix A. The entries are sorted from largest to smallest magnitude\n",
    "%\n",
    "% Internally, an implementation of the QR algorithm is used.\n",
    "%\n",
    "%   maxiter is the maximum number of iterations\n",
    "%   tol is a user defined tolerance. The iteration stops if norm(A - Aprev)/norm(A) falls below this threshold\n",
    "\n",
    "% INSERT CODE HERE\n"
   ]
  },
  {
   "cell_type": "markdown",
   "metadata": {},
   "source": [
    "```{admonition} Hinweis\n",
    "Verwenden Sie für die Berechnung der *QR-Zerlegung* die Matlab/Octave-Funktion `qr`.\n",
    "```\n",
    "\n",
    "Überprüfen Sie ob ihrer Funktion die Testfälle in `test_my_eig.m` besteht:"
   ]
  },
  {
   "cell_type": "code",
   "execution_count": 38,
   "metadata": {},
   "outputs": [
    {
     "name": "stdout",
     "output_type": "stream",
     "text": [
      "suite: 3 tests\n",
      "...\n",
      "--------------------------------------------------\n",
      "\n",
      "OK (passed=3)\n"
     ]
    }
   ],
   "source": [
    "moxunit_runtests test_my_eig.m;"
   ]
  },
  {
   "cell_type": "markdown",
   "metadata": {},
   "source": [
    "## Aufgabe 2 - Testen Sie ihre Funktion von Hand\n",
    "\n",
    "Berechnen Sie die Eigenwerte der Matrix\n",
    "\n",
    "$$\n",
    "\\Phi = \\begin{bmatrix}\n",
    "2 & -\\frac{1}{2} & 0 & -\\frac{1}{2} \\\\\n",
    "0 & 4 & 0 & 2 \\\\\n",
    "- \\frac{1}{2} & 0 & 6 & \\frac{1}{2} \\\\\n",
    "0 & 0 & 1 & 9\n",
    "\\end{bmatrix}\n",
    "$$\n",
    "\n",
    "mit der Matlab/Octave-Funktion `eig`und vergleichen Sie das Ergebnis mit der Ausgabe ihrer Funktion `my_eig`."
   ]
  }
 ],
 "metadata": {
  "kernelspec": {
   "display_name": "Octave",
   "language": "octave",
   "name": "octave"
  },
  "language_info": {
   "file_extension": ".m",
   "help_links": [
    {
     "text": "GNU Octave",
     "url": "https://www.gnu.org/software/octave/support.html"
    },
    {
     "text": "Octave Kernel",
     "url": "https://github.com/Calysto/octave_kernel"
    },
    {
     "text": "MetaKernel Magics",
     "url": "https://metakernel.readthedocs.io/en/latest/source/README.html"
    }
   ],
   "mimetype": "text/x-octave",
   "name": "octave",
   "version": "5.2.0"
  }
 },
 "nbformat": 4,
 "nbformat_minor": 4
}
