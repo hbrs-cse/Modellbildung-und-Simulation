{
 "cells": [
  {
   "cell_type": "markdown",
   "metadata": {},
   "source": [
    "# Lineare Approximation\n",
    "\n",
    "Erzeugen Sie sich auf Basis folgender Geradengleichung $ y = 2.2 x - 3.1 $ Werte im Intervall $x \\in [0,10]$. Modifizieren Sie die entsprechenden y-Werte so, dass Sie **normalverteilt**  mit Standardabweichung 1 von der exakten Geradengleichung abweichen (Abbildung). Gehen Sie dabei zunächst von $n=100$ Messwerten aus.\n",
    "\n",
    "<img src=\"../images/approx.png\" width=\"600\" />\n",
    "\n",
    "Schreiben Sie ein Programm mit dessen Hilfe Sie eine Regressionsgerade durch die zuvor erzeugten Punkte legen können. **Verwenden Sie für diese Aufgabe NICHT die `polyfit`-Funktion!** Berechnen Sie statt dessen die Koeffizienten der Regressionsgeraden direkt mit Hilfe der Messpunkte, *vgl. Vorlesung.*\n",
    "\n",
    "Stellen Sie Messpunkte, Regressionsgerade und die exakte Geradengleichung in einem plot dar. Was passiert mit der Regressionsgerade bei kleinen bzw. großen $n$? (Sie sollten sich selbst überlegen, was \"klein\" bzw. was \"groß\" bedeutet.)\n"
   ]
  },
  {
   "cell_type": "code",
   "execution_count": null,
   "metadata": {},
   "outputs": [],
   "source": [
    "% SPACE FOR THE SOLUTION\n"
   ]
  }
 ],
 "metadata": {
  "kernelspec": {
   "display_name": "Octave",
   "language": "octave",
   "name": "octave"
  },
  "language_info": {
   "file_extension": ".m",
   "help_links": [
    {
     "text": "GNU Octave",
     "url": "https://www.gnu.org/software/octave/support.html"
    },
    {
     "text": "Octave Kernel",
     "url": "https://github.com/Calysto/octave_kernel"
    },
    {
     "text": "MetaKernel Magics",
     "url": "https://metakernel.readthedocs.io/en/latest/source/README.html"
    }
   ],
   "mimetype": "text/x-octave",
   "name": "octave",
   "version": "4.2.2"
  }
 },
 "nbformat": 4,
 "nbformat_minor": 2
}
