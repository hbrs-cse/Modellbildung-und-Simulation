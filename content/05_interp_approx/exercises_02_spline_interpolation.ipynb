{
 "cells": [
  {
   "cell_type": "markdown",
   "metadata": {},
   "source": [
    "# Spline-Interpolation am Biegebalken\n",
    "\n",
    "Der Biegebalken mit einseitiger fester Einspannung ist ein Standardlastfall, der Ihnen aus der technischen\n",
    "Mechanik bekannt ist.\n",
    "\n",
    "<img src=\"../images/spline_interpolation.png\" width=\"400\" height=\"315\" />\n",
    "\n",
    "Messungen der Biegelinie an verschiedenen Punkten ergaben folgende Werte:\n",
    "\n",
    "| $x [m]$ | 0   | 0.5 | 1 | 1.5 | 2 |\n",
    "|:-------|:---|:---|:---|:---|:---|\n",
    "| $z [m]$ | 0.00 | 0.0125 | 0.05 | 0.1125 | 0.2  |\n",
    "\n",
    "Schreiben Sie ein Programm in dem Sie die gesamte Biegelinie des Balkens mit einem Spline interpolieren.\n",
    "Dabei wird jedes Teilintervall mit einem geeigneten Polynom genähert (**Hierbei keine fertige MATLABSpline-Funktion benutzen - Finger weg von der Spline-Toolbox!**). Der Einfachheit halber werden hier\n",
    "Polynome vom Grad zwei verwendet.\n",
    "\n",
    "Zur eindeutigen Bestimmung der einzelnen Polynome sind drei Bedingungen notwendig. Zwei sind durch\n",
    "den Anfangs- und Endpunkt des jeweiligen Intervalls gegeben. Um Knicke im gesamten Spline zu vermeiden\n",
    "wird zusätzlich gefordert, dass die ersten Ableitungen an den Intervallgrenzen übereinstimmen\n",
    "(dritte Bedingung). Welche Randbedingung ist für die erste Ableitung an der Einspannung zu wählen?\n",
    "Stellen Sie die Messpunkte und den interpolierten Spline in einem plot dar."
   ]
  },
  {
   "cell_type": "code",
   "execution_count": 1,
   "metadata": {},
   "outputs": [],
   "source": [
    "%SPACE FOR THE (WELL DOCUMENTED) SOLUTION\n",
    "\n"
   ]
  }
 ],
 "metadata": {
  "kernelspec": {
   "display_name": "Octave",
   "language": "octave",
   "name": "octave"
  },
  "language_info": {
   "file_extension": ".m",
   "help_links": [
    {
     "text": "GNU Octave",
     "url": "https://www.gnu.org/software/octave/support.html"
    },
    {
     "text": "Octave Kernel",
     "url": "https://github.com/Calysto/octave_kernel"
    },
    {
     "text": "MetaKernel Magics",
     "url": "https://metakernel.readthedocs.io/en/latest/source/README.html"
    }
   ],
   "mimetype": "text/x-octave",
   "name": "octave",
   "version": "4.2.2"
  }
 },
 "nbformat": 4,
 "nbformat_minor": 2
}
