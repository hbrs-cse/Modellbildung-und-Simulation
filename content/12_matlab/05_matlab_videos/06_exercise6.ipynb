{
 "cells": [
  {
   "cell_type": "markdown",
   "id": "200220a2",
   "metadata": {},
   "source": [
    "# 6. Numerische Differentiation und Integration\n",
    "\n",
    "In dieser Übung geht es um das numerische Berechnen der Ableitung bzw. des Integrals. Dabei wird auch auf vergangene Übungen zurückgefriffen. So müssen zum Beispiel Messwertlücken zunächst interpoliert werden, bevor eine Änderungsrate berechnet werden kann.\n",
    "\n",
    "## Situation\n",
    "\n",
    "Die numerische Berechnung von Ableitungen und Integralen spielt für die Berechnung und Simulation technischer Systeme eine entscheidende Rolle. Genauso entscheidend ist es aber auch, Einschränkungen und Grenzen der eingesetzten Hard- und Software zu kennen.\n",
    "\n",
    "Daher ist das Thema dieser Übung numerische Differentiation und Quadratur.\n",
    "\n",
    "## Differentiation 1\n",
    "\n",
    "Berechnen Sie nach dem Ansatz in der Vorlesung (auch bekannt als „h-Methode“) numerisch die Ableitungen der u.g. Funktionen an den genannten Stellen.\n",
    "\n",
    "Dazu soll eine MATLAB-function angelegt werden, welche als Eingang ein beliebiges function-handle sowie den Ort $x0$ erhält und als Ausgang den Wert der Ableitung bei $x0$ zurückgibt.\n",
    "\n",
    "Um den Einfluss der Schrittweite h zu prüfen sollen auch dafür verschiedene Werte verwendet werden.\n",
    "\n",
    "$$x_0=0,1,10,100,1000$$\n",
    "\n",
    "$$h=10^{-4},10^{-8},10^{-12},10^{-16}$$\n",
    "\n",
    "Berechnen Sie zur Bewertung der Ergebnisse die analytischen Ableitungen und stellen Sie die Werte gegenüber.\n",
    "\n",
    "$$f_1 (x)=e^{x^2}$$\n",
    "\n",
    "$$f_2 (x)=\\ln⁡(x)$$\n",
    "\n",
    "$$f_3 (x)= \\sin⁡(x)$$\n",
    "\n",
    "```{admonition} Tipp\n",
    ":class: tip\n",
    "Nutzen Sie zum Abarbeiten der verschiedenen Werte eine Schleife.\n",
    "```"
   ]
  },
  {
   "cell_type": "code",
   "execution_count": null,
   "id": "2d21653c",
   "metadata": {},
   "outputs": [],
   "source": [
    "% your code here"
   ]
  },
  {
   "cell_type": "markdown",
   "id": "7eae9365",
   "metadata": {},
   "source": [
    "## Differentiation 2\n",
    "\n",
    "Bei der Durchführung verschiedener Messreihen sind jeweils folgende Werte ermittelt worden:\n",
    "\n",
    "| t | -4 | 6 | 5 | 1 | 3 |\n",
    "|---|---|---|---|---|---|\n",
    "| y | 1 | 1 | 5 | 8 | 4 |\n",
    "\n",
    "| t | 0 | 1.5708 | 3.1416 | 4.7124 | 6.2832 |\n",
    "|---|---|---|---|---|---|\n",
    "| y | 0 | 1 | 0 | -1 | 0 |\n",
    "\n",
    "| t | 0 | 2.5 | 5.0 | 7.5 | 10 |\n",
    "|---|---|---|---|---|---|\n",
    "| y | 1 | 1 | 1 | 0 | 0 |\n",
    "\n",
    "Für eine simple Änderungsauswertung kann zunächst der Befehl `diff` getestet werden. Er gibt den Wert einer Änderung von $y_i$ zu $y_{i+1}$ aus.\n",
    "\n",
    "Da die Funktionswerte hier aber nur an bestimmten Stellen bekannt sind, muss ein Interpolationspolynom zur Approximation einer Ableitung verwendet werden.\n",
    "\n",
    "Schreiben Sie eine `function`, welche als Eingang $x$- und $y$-Wertepaare sowie einen Abfrageort $x0$ enthält. Die `function` soll dann ein Interpolationspolynom bestimmen und dessen Ableitung an der Stelle $x0$ zurückgeben.\n",
    "\n",
    "```{admonition} Tipp\n",
    ":class: tip\n",
    "Die Koeffizienten des abgeleiteten Polynomes, z.B. mit den Koeffizienten\n",
    "$p = [a, b, c]$, können mittels `polyder(p)` bestimmt werden.\n",
    "\n",
    "Schauen Sie auch nochmals in die Unterlagen in [](content:references:matlab_polynomfitting).\n",
    "```"
   ]
  },
  {
   "cell_type": "code",
   "execution_count": null,
   "id": "a1741bc3",
   "metadata": {},
   "outputs": [],
   "source": [
    "% your code here\n",
    "function fdot = derivate(f,x0)\n",
    "end"
   ]
  },
  {
   "cell_type": "markdown",
   "id": "54c39197",
   "metadata": {},
   "source": [
    "## Quadratur\n",
    "\n",
    "Berechnen Sie die Fläche welche zwischen den beiden Funktionen $f_1$ und $f_2$ im Intervall $[0,3]$ aufgespannt wird.\n",
    "\n",
    "$$f_1(x) = e^{\\frac{x}{2}}$$\n",
    "$$f_2(x) = 4\\sin(x)$$\n",
    "\n",
    "```{admonition} Tipp\n",
    ":class: tip\n",
    "Ermitteln Sie zunächst die Schnittpunkte mit einem Newtonverfahren (z.B. `fsolve`) und verwenden Sie dann die Routine `integral`.\n",
    "```"
   ]
  },
  {
   "cell_type": "code",
   "execution_count": null,
   "id": "3209bc73",
   "metadata": {},
   "outputs": [],
   "source": [
    "% your code here"
   ]
  },
  {
   "cell_type": "markdown",
   "id": "1eceb24d",
   "metadata": {},
   "source": [
    "## Lösung\n",
    "\n",
    "<iframe width=\"560\" height=\"315\" src=\"https://www.youtube.com/embed/l3Ft9GxORmw\" frameborder=\"0\" allow=\"accelerometer; autoplay; encrypted-media; gyroscope; picture-in-picture\" allowfullscreen></iframe>\n",
    "<div style=\"text-align: right;font-size:80%;color:grey\"> - Hinweis: Dieses Video ist von YouTube aus eingebunden und nicht Teil des frei lizenzierten Materials! - </div> <br>\n",
    "\n",
    "\n",
    "Hier finden Sie auserdem den **Code** der Lösung.\n",
    "\n",
    "**Differentiation 1:**"
   ]
  },
  {
   "cell_type": "code",
   "execution_count": null,
   "id": "7173c8dc",
   "metadata": {
    "tags": [
     "hide_input"
    ]
   },
   "outputs": [],
   "source": [
    "%% Hauptprogramm\n",
    "function main\n",
    "    % Definition der Schrittweite h als globale Variable\n",
    "    global h\n",
    "    % Verschiedene Testpunkte x0\n",
    "    x0 = [0;1;10;100;1000];\n",
    "    % Berechnung der Ableitung mit verschiedenen Schrittweiten h\n",
    "    for i = [4,8,12,16]\n",
    "        h = 10^(-i);\n",
    "        % Ausgabe von jeweils numerischer und analytischer Ableitung\n",
    "        [ableit(@f1,x0),df1(x0)]\n",
    "    end\n",
    "end\n",
    "\n",
    "%% Numerische Berechnung der Ableitung\n",
    "function dy = ableit(f,x0)\n",
    "    global h\n",
    "    dy = (f(x0+h)-f(x0))/h;\n",
    "end\n",
    "\n",
    "%% Testfunktion: Exponentialfunktion\n",
    "% Funktion f\n",
    "function y = f1(x)\n",
    "    y = exp(x.^2);\n",
    "end\n",
    "% Ableitung df\n",
    "function dy = df1(x)\n",
    "    dy = 2*x.*exp(x.^2);\n",
    "end"
   ]
  },
  {
   "cell_type": "markdown",
   "id": "e4b598fc",
   "metadata": {},
   "source": [
    "**Differentiation 2:**"
   ]
  },
  {
   "cell_type": "code",
   "execution_count": null,
   "id": "54078067",
   "metadata": {
    "tags": [
     "hide_input"
    ]
   },
   "outputs": [],
   "source": [
    "%% Hauptprogramm\n",
    "% Tipp: Schauen Sie sich hierzu auch nochmals Übung 3 (Polynomfitting) an.\n",
    "function main\n",
    "    %-- Messreihe t/y (siehe Aufgabenblatt)\n",
    "    t = [-4,6,5,1,3];\n",
    "    y = [1,-1,5,8,4];\n",
    "    %-- Erzeugung äquidistanter Zeitwerte zwischen tmin und tmax\n",
    "    xp = linspace(min(t),max(t),100);\n",
    "    %-- Gesuchter Ort (kann frei gewählt werden)\n",
    "    x0 = 2;\n",
    "    %-- Plot der Messreihe\n",
    "    hold off\n",
    "    plot(t,y,'rx','LineWidth',2)\n",
    "    grid on\n",
    "    hold on\n",
    "    %-- Berechnung Interpolationspolynomkoeffizienten 4. Grades\n",
    "    %  (weil 5 Messwerte verfügbar sind)\n",
    "    p = polyfit(t,y,4);\n",
    "    yp = polyval(p,xp);\n",
    "    %-- Plot des Polynoms\n",
    "    plot(xp,yp)\n",
    "    %-- Berechnung der Ableitungskoeffizienten des Polynoms\n",
    "    dp = polyder(p);\n",
    "    dy = polyval(dp,xp);\n",
    "    %-- Plot der Polynomableitung\n",
    "    plot(xp,dy)\n",
    "    %-- Berechnung des Ableitungswertes bei x0 mit eigener Funktion (s.u.)\n",
    "    dy = ableit2(t,y,x0)\n",
    "end\n",
    "\n",
    "%% Berechnung der Ableitung des Interpolationspolynoms\n",
    "function dy = ableit2(x,y,x0)\n",
    "    % Interpolationspolynom\n",
    "    N = length(x);\n",
    "    p = polyfit(x,y,N-1);\n",
    "    % Ableitungskoeffizienten\n",
    "    dp = polyder(p);\n",
    "    % Wert der Ableitung bei x0\n",
    "    dy = polyval(dp,x0);\n",
    "end"
   ]
  },
  {
   "cell_type": "markdown",
   "id": "76920fb9",
   "metadata": {},
   "source": [
    "**Quadratur:**"
   ]
  },
  {
   "cell_type": "code",
   "execution_count": null,
   "id": "f10e6789",
   "metadata": {
    "tags": [
     "hide_input"
    ]
   },
   "outputs": [],
   "source": [
    "%% Hauptprogramm\n",
    "function main\n",
    "    %-- Definition eines Plot-Intervalls (sodass eingeschlossene Fläche\n",
    "    %   sichtbar ist)\n",
    "    xp = linspace(0,3,100);\n",
    "    %-- Plot von f1 und f2\n",
    "    hold off\n",
    "    plot(xp,f1(xp));\n",
    "    hold on\n",
    "    plot(xp,f2(xp));\n",
    "    %-- Berechnung der Schnittpunkte zwischen f1 und f2 mittels\n",
    "    %   Newtonverfahren fsolve.\n",
    "    %   Die Startwerte 0.2 und 0.3 sind durch Ablesen am obigen Plot\n",
    "    %   gewählt worden.\n",
    "    xa = fsolve(@df,0.3);\n",
    "    xb = fsolve(@df,2.2);\n",
    "    %-- Berechnung des Integrals zwischen den gerade berechneten Grenzen xa\n",
    "    %   und xb mithilfe der Routine \"integral\".\n",
    "    A = integral(@df,xa,xb)\n",
    "end\n",
    "\n",
    "%% Differenzfunktion f1-f2\n",
    "function y = df(x)\n",
    "    y = f2(x)-f1(x);\n",
    "end\n",
    "\n",
    "%% Funktion f1\n",
    "function y = f1(x)\n",
    "    y = exp(x./2);\n",
    "end\n",
    "\n",
    "%% Funktion f2\n",
    "function y = f2(x)\n",
    "    y = 4*sin(x);\n",
    "end"
   ]
  }
 ],
 "metadata": {
  "kernelspec": {
   "display_name": "Octave",
   "language": "octave",
   "name": "octave"
  },
  "language_info": {
   "file_extension": ".m",
   "help_links": [
    {
     "text": "GNU Octave",
     "url": "https://www.gnu.org/software/octave/support.html"
    },
    {
     "text": "Octave Kernel",
     "url": "https://github.com/Calysto/octave_kernel"
    },
    {
     "text": "MetaKernel Magics",
     "url": "https://metakernel.readthedocs.io/en/latest/source/README.html"
    }
   ],
   "mimetype": "text/x-octave",
   "name": "octave",
   "version": "6.2.0"
  }
 },
 "nbformat": 4,
 "nbformat_minor": 5
}
