{
 "cells": [
  {
   "cell_type": "markdown",
   "metadata": {},
   "source": [
    "# Lineare Interpolation\n",
    "\n",
    "```{image} images/linear_interpolation.png\n",
    ":width: 400px\n",
    ":height: 315px\n",
    ":align: center\n",
    "```\n",
    "\n",
    "Gegeben seien die Messpunkte $(t_i; y_i)$, $i = 1; ..; n$ eines Versuches. Dabei bezeichnet $t_i$ einen Messzeitpunkt aus dem Intervall $[a; b]$ und $y_i$ den dazu gehörigen Messwert. Programmieren Sie eine Funktion, die für ein beliebiges $t \\in [a; b]$ einen Wert liefert, der auf der Verbindungslinie der benachbarten Messpunkte $(t_j ; y_j)$ und $(t_{j+1}; y_{j+1})$ liegt (lineare Interpolation).\n",
    "\n",
    "Arbeiten Sie mit folgenden Angaben:  \n",
    "$n = 11, [a; b] = [0; 1]$\n",
    "\n",
    "| $t_i$ | 0   | 0.1 | 0.2 | 0.3 | 0.4 | 0.5 | 0.6 | 0.7 | 0.8 | 0.9 | 1.0 |\n",
    "|:-------|:---|:---|:---|:---|:---|:---|:---|:---|:---|:---|:---|\n",
    "| $y_i$ | 0.00 | 0.31 | 0.59 | 0.81 | 0.95  | 1.00 | 0.95 | 0.81 | 0.59 | 0.31 | 0.00 |\n",
    "\n",
    "Erstellen Sie dazu zunächst eine (gut dokumentierte) Funktion für die Interpolation:"
   ]
  },
  {
   "cell_type": "code",
   "execution_count": null,
   "metadata": {},
   "outputs": [],
   "source": [
    "%%file linint.m\n",
    "function y=linint(t,tv,yv)\n",
    "% Die Funktion linint interpoliert die in den Vektoren abgelegten Daten tv,yv linear.\n",
    "% Dazu sollten die Daten in tv sortiert sein und ein t zwischen dem ersten\n",
    "% und letzten Eintrag von tv eingegeben werden\n",
    "%\n",
    "% Eingabeparameter: tv, yv = Zeitpunkte und Messwerte,\n",
    "% t = gewünschter Auswertezeitpunkt\n",
    "% Ausgabeparameter: y = linear interpolierter Messwert zum Zeitpunkt t\n",
    "%\n",
    "%\n"
   ]
  },
  {
   "cell_type": "markdown",
   "metadata": {},
   "source": [
    "... und dann ein Hauptprogramm, in welchem Sie die Funktion aufrufen und die Daten bereitstellen:"
   ]
  },
  {
   "cell_type": "code",
   "execution_count": null,
   "metadata": {},
   "outputs": [],
   "source": [
    "% zunächst werden zwei Vektoren tv und yv definiert,\n",
    "% die alle Daten von t und y enthalten\n",
    "%\n",
    "tv=[ 0, 0.1, 0.2, 0.3, 0.4, 0.5, 0.6, 0.7, 0.8, 0.9, 1.0];\n",
    "yv=[ 0.00, 0.31, 0.59, 0.81, 0.95, 1.00, 0.95, 0.81, 0.59, 0.31, 0.00];\n",
    "%\n",
    "% Dann können sie Ihre Funktion linint testen, z.B. mit t=0.15\n",
    "%\n",
    "t=0.15;\n",
    "y=linint(t,tv,yv)"
   ]
  },
  {
   "cell_type": "markdown",
   "metadata": {},
   "source": [
    "Schreiben Sie das Programm nun so um, dass Sie die oben dargestellte Visualisierung erhalten."
   ]
  },
  {
   "cell_type": "markdown",
   "metadata": {},
   "source": [
    "## Spielbeispiel\n",
    "\n",
    "Unten finden Sie eine kleine Demonstration verschiedener Interpolationsverfahren zum \"Herumspielen\". Klicken Sie <a href=\"https://share.streamlit.io/PhiSpel/spielbeispiel-interpolation/main\" target=\"_blank\">hier</a>, um die Seite in einem neuen Tab zu öffnen."
   ]
  },
  {
   "cell_type": "markdown",
   "metadata": {},
   "source": [
    "<!DOCTYPE html>\n",
    "<html>\n",
    "<body margin = \"0\">\n",
    "\n",
    "<iframe src=\"https://share.streamlit.io/PhiSpel/spielbeispiel-interpolation/main\" width=\"100%\" height=\"700\" frameborder=\"0\">\n",
    "  <p>Your browser does not support iframes.</p>\n",
    "</iframe>\n",
    "\n",
    "</body>\n",
    "</html>"
   ]
  },
  {
   "cell_type": "markdown",
   "metadata": {},
   "source": [
    "<div style=\"text-align: left;font-size:80%;color:grey\"> - Hinweis: Diese Seite ist von Streamlit eingebunden und unterliegt der dort angegebenen Lizenz! -\n"
   ]
  }
 ],
 "metadata": {
  "kernelspec": {
   "display_name": "Octave",
   "language": "octave",
   "name": "octave"
  },
  "language_info": {
   "file_extension": ".m",
   "help_links": [
    {
     "text": "GNU Octave",
     "url": "https://www.gnu.org/software/octave/support.html"
    },
    {
     "text": "Octave Kernel",
     "url": "https://github.com/Calysto/octave_kernel"
    },
    {
     "text": "MetaKernel Magics",
     "url": "https://metakernel.readthedocs.io/en/latest/source/README.html"
    }
   ],
   "mimetype": "text/x-octave",
   "name": "octave",
   "version": "4.2.2"
  }
 },
 "nbformat": 4,
 "nbformat_minor": 4
}
