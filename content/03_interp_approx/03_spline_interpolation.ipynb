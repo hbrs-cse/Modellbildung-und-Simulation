{
 "cells": [
  {
   "cell_type": "markdown",
   "metadata": {
    "author": "Martin Kliemank"
   },
   "source": [
    "# Spline-Interpolation\n",
    "\n",
    "Der Biegebalken mit einseitiger fester Einspannung ist ein Standardlastfall, der Ihnen aus der technischen Mechanik bekannt ist.\n",
    "\n",
    "```{image} images/spline_interpolation_inks.svg\n",
    ":width: 400px\n",
    ":height: 315px\n",
    ":align: center\n",
    "```\n",
    "\n",
    "Messungen der Biegelinie an verschiedenen Punkten ergaben folgende Werte:\n",
    "\n",
    "| $x [m]$ | 0   | 0.5 | 1 | 1.5 | 2 |\n",
    "|:-------|:---|:---|:---|:---|:---|\n",
    "| $z [m]$ | 0.00 | 0.0125 | 0.05 | 0.1125 | 0.2  |\n",
    "\n",
    "Die Messwerte sollen nun interpoliert werden, um möglichst genaue Werte über den gesamten Verlauf zu erhalten (**Hierbei keine fertige MATLAB Spline-Funktion benutzen - Finger weg von der Spline-Toolbox!**). Dazu wird jedes Teilintervall mit einem geeigneten Polynom genähert. Der Einfachheit halber werden hier Polynome vom Grad zwei verwendet.\n",
    "\n",
    "## Aufgabe 1\n",
    "\n",
    "Konstruieren sie eine quadratische Splinefunktion durch die Anfangs- und Endpunkte der Teilintervalle (alles Bleistift und Papier!).\n",
    "Bestimmen sie die Koeffizienten der gesuchten Parabeln $z_i(x) = a_i + b_i(x-x_i) + c_i(x-x_i)^2, i \\in [0,2]$.\n",
    "\n",
    "```{admonition} Hinweis\n",
    "Zur eindeutigen Bestimmung der einzelnen Polynome sind drei Bedingungen notwendig. Zwei sind durch\n",
    "den Anfangs- und Endpunkt des jeweiligen Intervalls gegeben. Um Knicke im gesamten Spline zu vermeiden\n",
    "wird zusätzlich gefordert, dass die ersten Ableitungen an den Intervallgrenzen übereinstimmen\n",
    "(dritte Bedingung). Welche Randbedingung ist für die erste Ableitung an der Einspannung zu wählen?\n",
    "```\n",
    "\n",
    "\n",
    "## Aufgabe 2\n",
    "\n",
    " - Implementieren Sie eine Matlab-Funktion `function zfine = quadraticSpline(x, z, xfine, bc)`, die für gegebene x- und z-Werte sowie Randbedingung an den von `xfine` definierten Punkten die entsprechenden z-Werte des Splines berechnet."
   ]
  },
  {
   "cell_type": "code",
   "execution_count": 1,
   "metadata": {
    "tags": [
     "remove-output"
    ]
   },
   "outputs": [
    {
     "name": "stdout",
     "output_type": "stream",
     "text": [
      "Created file '/home/martin/Modellbildung-und-Simulation/content/05_interp_approx/quadraticSpline.m'.\n"
     ]
    }
   ],
   "source": [
    "%%file quadraticSpline.m\n",
    "function zfine = quadraticSpline(x, z, xfine, bc)\n",
    "% z = quadraticSpline(x, z, xfine, bc) calculates the quadratic spline going through the\n",
    "% points defined by xi and zi and evaluates the spline at the points in xfine.\n",
    "\n",
    "...\n",
    "\n",
    "end"
   ]
  },
  {
   "cell_type": "markdown",
   "metadata": {},
   "source": [
    "- Testen Sie die Funktionalität mit der bereitgestellten *test suite* `test_quadraticSpline.m`, siehe unten. Es reicht zunächst, dass die ersten 5 der unit tests erfolgreich sind. **Challenge:** Schaffen Sie es, alle 9 unit tests zu erfüllen?"
   ]
  },
  {
   "cell_type": "code",
   "execution_count": null,
   "metadata": {},
   "outputs": [],
   "source": [
    "% test the quadraticSpline function\n",
    "moxunit_runtests test_quadraticSpline.m"
   ]
  },
  {
   "cell_type": "markdown",
   "metadata": {},
   "source": [
    "Klappen Sie die Box aus, um `test_quadraticSpline.m` näher anzusehen."
   ]
  },
  {
   "cell_type": "code",
   "execution_count": null,
   "metadata": {
    "tags": [
     "hide_input"
    ]
   },
   "outputs": [],
   "source": [
    "function test_suite=test_quadraticSpline\n",
    "% initialize unit tets\n",
    "    try\n",
    "        test_functions=localfunctions();\n",
    "    catch\n",
    "    end\n",
    "    initTestSuite;\n",
    "\n",
    "%%%%%%%%%%%%%%%%%%%%%%%\n",
    "%     Basic tests     %\n",
    "%%%%%%%%%%%%%%%%%%%%%%%\n",
    " \n",
    "%% WIP: check more values on know parabola?\n",
    "\n",
    "function test_quadraticSpline_Std05\n",
    "% test function of quadraticSpline on Standardparabola\n",
    "    z = [0, 1];\n",
    "    x = [0, 1];\n",
    "    assertVectorsAlmostEqual(quadraticSpline(x,z,0,0),0)\n",
    "    \n",
    "function test_quadraticSpline_Std0\n",
    "% test function of quadraticSpline on Standardparabola\n",
    "    z = [0, 1];\n",
    "    x = [0, 1];\n",
    "    assertVectorsAlmostEqual(quadraticSpline(x,z,0.5,0),0.25)\n",
    "    \n",
    "function test_quadraticSpline_Std1\n",
    "% test function of quadraticSpline on Standardparabola\n",
    "    z = [0, 1];\n",
    "    x = [0, 1];\n",
    "    assertVectorsAlmostEqual(quadraticSpline(x,z,1,0),1)\n",
    "\n",
    "function test_quadraticSpline_Task\n",
    "% test function of quadraticSpline on more complex Parabola from given task\n",
    "    z = [0, 0.0125, 0.05, 0.1125, 0.2];\n",
    "    x = 0:0.5:2;\n",
    "    assertVectorsAlmostEqual(quadraticSpline(x,z,0.35,0),0.006125)\n",
    "\n",
    "function test_quadraticSpline_Derivate\n",
    "% test if Derivates on edge of intervals are equal\n",
    "    x = [0, 0.25, 1];\n",
    "    z = [0, 0.0625, 1];\n",
    "    zDer1 = 10^10*(quadraticSpline(x,z,0.25+10^-10,0)-quadraticSpline(x,z,0.25,0));\n",
    "    zDer2 = 10^10*(quadraticSpline(x,z,0.25,0)-quadraticSpline(x,z,0.25-10^-10,0));\n",
    "    assertVectorsAlmostEqual(zDer1,zDer2)    \n",
    "    \n",
    "%%%%%%%%%%%%%%%%%%%%%%%\n",
    "% More advanced tests %\n",
    "%%%%%%%%%%%%%%%%%%%%%%%\n",
    "\n",
    "function test_quadraticSpline_exception_outofbounds\n",
    "% test if exceptions are thrown for xfine outside x\n",
    "    x = [0, 1];\n",
    "    z = [0, 1];\n",
    "    assertExceptionThrown(@()quadraticSpline(x,z,-1,0));\n",
    "    \n",
    "function test_quadraticSpline_exception_xzSizeDifference\n",
    "% test if exceptions are thrown if x and z are of different size // not\n",
    "% proper value pairs\n",
    "    x = [0, 1];\n",
    "    z = [0, 0.5, 1];\n",
    "    assertExceptionThrown(@()quadraticSpline(x,z,0.3,0));\n",
    "    \n",
    "function test_quadraticSpline_exception_xNotSorted\n",
    "% test if exceptions are thrown if x is not ordered\n",
    "    x = [0 , 0.8, 0.3, 1];\n",
    "    z = [0, 0.64, 0.09, 1];\n",
    "    assertExceptionThrown(@()quadraticSpline(x,z,0.5,0));\n",
    "    \n",
    "function test_quadraticSpline_array\n",
    "% test if quadraticSpline works on array inputs\n",
    "    x = [0, 1];\n",
    "    z = [0, 1];\n",
    "    assertVectorsAlmostEqual(quadraticSpline(x,z,[0.2, 0.02, 0.45, 0.78],0),[0.04,   0.0004,   0.2025,   0.6084])"
   ]
  },
  {
   "cell_type": "markdown",
   "metadata": {},
   "source": [
    " - Nun soll der Biegungsverlauf des gesamten Balkens mit einer Schrittweite von 1 mm interpoliert werden. Erstellen Sie dazu ein Skript, in welchem Ihre Funktion auf die obigen Messwerte angewandt wird. Stellen Sie den interpolierten Spline bzw. die Biegelinie in einem Plot dar."
   ]
  },
  {
   "cell_type": "code",
   "execution_count": null,
   "metadata": {},
   "outputs": [],
   "source": [
    "%script to apply function to the given values\n",
    "\n",
    "%uncomment to equalize axis:\n",
    "%axis equal"
   ]
  },
  {
   "cell_type": "markdown",
   "metadata": {},
   "source": [
    "## Spielbeispiel\n",
    "\n",
    "Unten finden Sie eine Demonstration verschiedener Interpolationsverfahren zum \"Herumspielen\". **Die Darstellung in einem eigenen Tab ist sehr zu empfehlen.** Klicken Sie <a href=\"https://share.streamlit.io/PhiSpel/spielbeispiel-interpolation/main\" target=\"_blank\">**hier**</a>, um die Seite in einem neuen Tab zu öffnen."
   ]
  },
  {
   "cell_type": "markdown",
   "metadata": {},
   "source": [
    "<!DOCTYPE html>\n",
    "<html>\n",
    "<body margin = \"0\">\n",
    "\n",
    "<iframe src=\"https://share.streamlit.io/PhiSpel/spielbeispiel-interpolation/main\" width=\"100%\" height=\"700\" frameborder=\"0\">\n",
    "  <p>Your browser does not support iframes.</p>\n",
    "</iframe>\n",
    "\n",
    "</body>\n",
    "</html>"
   ]
  },
  {
   "cell_type": "markdown",
   "metadata": {},
   "source": [
    "<div style=\"text-align: left;font-size:80%;color:grey\"> - Hinweis: Diese Seite ist von Streamlit eingebunden und unterliegt der dort angegebenen Lizenz! -\n"
   ]
  }
 ],
 "metadata": {
  "kernelspec": {
   "display_name": "Octave",
   "language": "octave",
   "name": "octave"
  },
  "language_info": {
   "file_extension": ".m",
   "help_links": [
    {
     "text": "GNU Octave",
     "url": "https://www.gnu.org/software/octave/support.html"
    },
    {
     "text": "Octave Kernel",
     "url": "https://github.com/Calysto/octave_kernel"
    },
    {
     "text": "MetaKernel Magics",
     "url": "https://metakernel.readthedocs.io/en/latest/source/README.html"
    }
   ],
   "mimetype": "text/x-octave",
   "name": "octave",
   "version": "6.2.0"
  }
 },
 "nbformat": 4,
 "nbformat_minor": 4
}
