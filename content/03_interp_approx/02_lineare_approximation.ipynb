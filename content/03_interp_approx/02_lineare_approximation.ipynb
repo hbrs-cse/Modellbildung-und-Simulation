{
 "cells": [
  {
   "cell_type": "markdown",
   "metadata": {},
   "source": [
    "# Lineare Approximation\n",
    "\n",
    "## Aufgabe 1\n",
    "Erzeugen Sie sich auf Basis folgender Geradengleichung $ y = 2.2 x - 3.1 $ Werte im Intervall $x \\in [0,10]$. Modifizieren Sie die entsprechenden y-Werte so, dass diese **normalverteilt** von der exakten Geradengleichung abweichen (Abbildung). Gehen Sie dabei zunächst von $n=100$ Messwerten aus.\n",
    "\n",
    "```{image} images/approx.png\n",
    ":width: 600px\n",
    ":align: center\n",
    "```"
   ]
  },
  {
   "cell_type": "code",
   "execution_count": null,
   "metadata": {},
   "outputs": [],
   "source": [
    "n=100\n",
    "x=linspace(0,10,n)\n",
    "\n",
    "y=f(x)              %Erzeugen der y-Werte mittels zu erstellender Funktion f(x)\n",
    "y=y+randn(size(y))  %Erstellen des Störsignals"
   ]
  },
  {
   "cell_type": "markdown",
   "metadata": {
    "tags": []
   },
   "source": [
    "## Aufgabe 2\n",
    "\n",
    "Sie haben eben die Messwerte simuliert. Sie wollen diese Punkte nun mit Hilfe eines Polynoms approximieren. Schreiben Sie dazu ein Programm, welches eine Regressionsgerade durch diese Punkte legt. \n",
    "<br>\n",
    "*Verwenden Sie dabei **nicht** die polyfit-Funktion! Berechnen Sie stattdessen die Koeffizienten der Regressionsgeraden.*"
   ]
  },
  {
   "cell_type": "markdown",
   "metadata": {},
   "source": [
    "```{admonition} Kurzer Rückblick in die Vorlesung\n",
    ":class: dropdown\n",
    "Die Gleichungen\n",
    "\n",
    "$$\n",
    "\\sum_{j=0}^m  a_j \\sum_{i=0}^n   x_i^{j+k} = \\sum_{i=0}^n y_i \\, x_i^k \\, , \\; \n",
    "k=0,...,m\n",
    "$$\n",
    "nennen wir die Normalengleichungen.  \n",
    "Sie definieren ein lineares Gleichungssystem für die Koeffizienten $a_k$.\n",
    "<br> <br>\n",
    "Für den Polynomgrad $m=1$ ergibt sich beispielsweise das System:\n",
    "\n",
    "$$\n",
    "\\begin{pmatrix}  n+1 & \\sum x_i  \\\\ \\sum x_i & \\sum x_i^2 \\end{pmatrix}  \n",
    "\\begin{pmatrix} a_0 \\\\  a_1  \\end{pmatrix}  =\n",
    "\\begin{pmatrix}  \\sum y_i \\\\  \\sum y_i x_i   \\end{pmatrix} \n",
    "$$\n",
    "\n",
    "Dabei entspricht $n+1=$ der Anzahl der Messwerte.\n",
    "\n",
    "```"
   ]
  },
  {
   "cell_type": "code",
   "execution_count": null,
   "metadata": {},
   "outputs": [],
   "source": [
    "% SPACE FOR THE SOLUTION"
   ]
  },
  {
   "cell_type": "markdown",
   "metadata": {},
   "source": [
    "## Aufgabe 3\n",
    "\n",
    "Stellen Sie Messpunkte, Regressionsgerade und die exakte Geradengleichung nun in einem Plot dar. \n",
    "\n",
    "Testen Sie außerdem, was mit der Regressionsgerade bei kleinem bzw. großem $n$ passiert.\n",
    "Überlegen Sie sich dabei selbst, was \"klein\" bzw. \"groß\" bedeutet.\n",
    "\n",
    "```{image} images/approx.gif\n",
    ":width: 500px\n",
    ":align: center\n",
    "```"
   ]
  },
  {
   "cell_type": "code",
   "execution_count": null,
   "metadata": {},
   "outputs": [],
   "source": [
    "% SPACE FOR THE SOLUTION"
   ]
  },
  {
   "cell_type": "markdown",
   "metadata": {},
   "source": [
    "## Spielbeispiel\n",
    "\n",
    "Unten finden Sie eine kleine Demonstration verschiedener Approximationsverfahren zum \"Herumspielen\". Klicken Sie <a href=\"https://share.streamlit.io/PhiSpel/spielbeispiel-approximation/main\" target=\"_blank\">hier</a>, um die Seite in einem neuen Tab zu öffnen."
   ]
  },
  {
   "cell_type": "markdown",
   "metadata": {},
   "source": [
    "<!DOCTYPE html>\n",
    "<html>\n",
    "<body margin = \"0\">\n",
    "\n",
    "<iframe src=\"https://share.streamlit.io/PhiSpel/spielbeispiel-approximation/main\" width=\"100%\" height=\"700\" frameborder=\"0\">\n",
    "  <p>Your browser does not support iframes.</p>\n",
    "</iframe>\n",
    "\n",
    "</body>\n",
    "</html>"
   ]
  },
  {
   "cell_type": "markdown",
   "metadata": {},
   "source": [
    "<div style=\"text-align: left;font-size:80%;color:grey\"> - Hinweis: Diese Seite ist von Streamlit eingebunden und unterliegt der dort angegebenen Lizenz! -\n"
   ]
  }
 ],
 "metadata": {
  "kernelspec": {
   "display_name": "Octave",
   "language": "octave",
   "name": "octave"
  },
  "language_info": {
   "file_extension": ".m",
   "help_links": [
    {
     "text": "GNU Octave",
     "url": "https://www.gnu.org/software/octave/support.html"
    },
    {
     "text": "Octave Kernel",
     "url": "https://github.com/Calysto/octave_kernel"
    },
    {
     "text": "MetaKernel Magics",
     "url": "https://metakernel.readthedocs.io/en/latest/source/README.html"
    }
   ],
   "mimetype": "text/x-octave",
   "name": "octave",
   "version": "4.2.2"
  }
 },
 "nbformat": 4,
 "nbformat_minor": 4
}
