{
 "cells": [
  {
   "cell_type": "markdown",
   "metadata": {},
   "source": [
    "````{grid} 2\n",
    "```{grid-item-card}\n",
    ":class-header: bg-light\n",
    "Voraussetzungen\n",
    "^^^\n",
    "- mathematische Grundlagen der linearen Approximation\n",
    "```\n",
    "```{grid-item-card}\n",
    ":class-header: bg-light\n",
    "Lerninhalte\n",
    "^^^\n",
    "- Realisierung einer Routine zur linearen Approximation\n",
    "```\n",
    "````\n"
   ]
  },
  {
   "cell_type": "markdown",
   "metadata": {},
   "source": [
    "(linapp)=\n",
    "# Lineare Approximation\n",
    "\n",
    "## Aufgabe 1\n",
    "Erzeugen Sie sich auf Basis folgender Geradengleichung $ y = 2.2 x - 3.1 $ Werte im Intervall $x \\in [0,10]$. Modifizieren Sie die entsprechenden y-Werte so, dass diese **normalverteilt** von der exakten Geradengleichung abweichen (Abbildung). Gehen Sie dabei zunächst von $n=100$ Messwerten aus.\n",
    "\n",
    "```{image} images/approx.png\n",
    ":width: 600px\n",
    ":align: center\n",
    "```\n",
    "\n",
    "<div style=\"text-align: right\"> Abbildung 1: Normalverteilt um die Gerade <b><i>y(x)</i></b> gestreute Werte als Punktewolke. </div> <br>"
   ]
  },
  {
   "cell_type": "code",
   "execution_count": null,
   "metadata": {},
   "outputs": [],
   "source": [
    "n=100\n",
    "x=linspace(0,10,n)\n",
    "\n",
    "y=f(x)              %Erzeugen der y-Werte mittels zu erstellender Funktion f(x)\n",
    "y=y+randn(size(y))  %Erstellen des Störsignals"
   ]
  },
  {
   "cell_type": "markdown",
   "metadata": {
    "tags": []
   },
   "source": [
    "## Aufgabe 2\n",
    "\n",
    "Sie haben eben (in Aufgabe 1) die Messwerte simuliert. Sie wollen diese Punkte nun mit Hilfe eines Polynoms approximieren. ",
    "Schreiben Sie dazu ein Programm, welches eine Regressionsgerade durch diese Punkte legt. \n",
    "<br>\n",
    "*Verwenden Sie dabei **nicht** die polyfit-Funktion! Berechnen Sie stattdessen die Koeffizienten der Regressionsgeraden.*"
   ]
  },
  {
   "cell_type": "markdown",
   "metadata": {},
   "source": [
    "```{admonition} Kurzer Rückblick\n",
    ":class: dropdown\n",
    "Die Gleichungen\n",
    "\n",
    "$$\n",
    "\\sum_{j=0}^m  a_j \\sum_{i=0}^n   x_i^{j+k} = \\sum_{i=0}^n y_i \\, x_i^k \\, , \\; \n",
    "k=0,...,m\n",
    "$$\n",
    "nennen wir die Normalengleichungen.  \n",
    "Sie definieren ein lineares Gleichungssystem für die Koeffizienten $a_k$.\n",
    "<br> <br>\n",
    "Für den Polynomgrad $m=1$ ergibt sich beispielsweise das System:\n",
    "\n",
    "$$\n",
    "\\begin{pmatrix}  n+1 & \\sum x_i  \\\\ \\sum x_i & \\sum x_i^2 \\end{pmatrix}  \n",
    "\\begin{pmatrix} a_0 \\\\  a_1  \\end{pmatrix}  =\n",
    "\\begin{pmatrix}  \\sum y_i \\\\  \\sum y_i x_i   \\end{pmatrix} \n",
    "$$\n",
    "\n",
    "Dabei entspricht $n+1=$ der Anzahl der Messwerte.\n",
    "\n",
    "```"
   ]
  },
  {
   "cell_type": "code",
   "execution_count": null,
   "metadata": {},
   "outputs": [],
   "source": [
    "% SPACE FOR THE SOLUTION"
   ]
  },
  {
   "cell_type": "markdown",
   "metadata": {},
   "source": [
    "## Aufgabe 3\n",
    "\n",
    "Stellen Sie nun die Messpunkte, die Regressionsgerade und die exakte Geradengleichung in einem Plot graphisch dar (siehe Abbildung 2). \n",
    "\n",
    "Testen Sie außerdem, wie sich die Regressionsgerade (also die Approximation der Messpunkte) bei kleinem bzw. großem $n$ verhält.\n",
    "Überlegen Sie sich dabei selbst, was \"klein\" bzw. \"groß\" bedeutet und begründen Sie ihre Wahl. Gibt es Werte für $n$ für die diese Art der Approximation ungeeignet ist?\n",
    "\n",
    "```{image} images/approx.gif\n",
    ":width: 500px\n",
    ":align: center\n",
    "```\n",
    "\n",
    "<div style=\"text-align: right\"> Abbildung 2: Die Gerade <i>y(x)</i> (blau gestrichelt). Darum normalverteilt gestreute Werte als Punktewolke (blau) und die aus den Punkten linear approximierte Gerade (orange). </div> <br>"
   ]
  },
  {
   "cell_type": "code",
   "execution_count": null,
   "metadata": {},
   "outputs": [],
   "source": [
    "% SPACE FOR THE SOLUTION"
   ]
  }
 ],
 "metadata": {
  "kernelspec": {
   "display_name": "Octave",
   "language": "octave",
   "name": "octave"
  },
  "language_info": {
   "file_extension": ".m",
   "help_links": [
    {
     "text": "GNU Octave",
     "url": "https://www.gnu.org/software/octave/support.html"
    },
    {
     "text": "Octave Kernel",
     "url": "https://github.com/Calysto/octave_kernel"
    },
    {
     "text": "MetaKernel Magics",
     "url": "https://metakernel.readthedocs.io/en/latest/source/README.html"
    }
   ],
   "mimetype": "text/x-octave",
   "name": "octave",
   "version": "5.2.0"
  }
 },
 "nbformat": 4,
 "nbformat_minor": 4
}
