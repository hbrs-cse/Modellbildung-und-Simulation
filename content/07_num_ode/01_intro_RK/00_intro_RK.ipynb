{
 "cells": [
  {
   "cell_type": "markdown",
   "id": "d8190f80-72e9-4dfd-974f-ed64e9bce65a",
   "metadata": {},
   "source": [
    "# Einführung in numerische Integrationsverfahren von ODEs\n",
    "\n",
    "In diesen Übungsaufgaben werden implizite und explizite Runge-Kutta-Verfahren auf der Basis der numerischen Integration bekannter Funktionen eingeführt."
   ]
  }
 ],
 "metadata": {
  "kernelspec": {
   "display_name": "Octave",
   "language": "octave",
   "name": "octave"
  },
  "language_info": {
   "file_extension": ".m",
   "help_links": [
    {
     "text": "GNU Octave",
     "url": "https://www.gnu.org/software/octave/support.html"
    },
    {
     "text": "Octave Kernel",
     "url": "https://github.com/Calysto/octave_kernel"
    },
    {
     "text": "MetaKernel Magics",
     "url": "https://metakernel.readthedocs.io/en/latest/source/README.html"
    }
   ],
   "mimetype": "text/x-octave",
   "name": "octave",
   "version": "5.2.0"
  }
 },
 "nbformat": 4,
 "nbformat_minor": 5
}
