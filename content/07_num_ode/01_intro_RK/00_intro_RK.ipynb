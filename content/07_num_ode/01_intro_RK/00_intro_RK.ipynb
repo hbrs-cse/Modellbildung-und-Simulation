{
 "cells": [
  {
   "cell_type": "markdown",
   "id": "d8190f80-72e9-4dfd-974f-ed64e9bce65a",
   "metadata": {},
   "source": [
    "# Einführung in numerische Integrationsverfahren von ODEs\n",
    "\n",
    "In diesen Übungsaufgaben werden implizite und explizite Runge-Kutta-Verfahren auf der Basis der numerischen Integration bekannter Funktionen eingeführt."
   ]
  }
 ],
 "metadata": {
  "kernelspec": {
   "display_name": "Octave",
   "language": "octave",
   "name": "octave"
  },
  "language_info": {
   "name": ""
  }
 },
 "nbformat": 4,
 "nbformat_minor": 5
}
