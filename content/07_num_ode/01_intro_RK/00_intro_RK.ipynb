# Einführung in numerische Integrationsverfahren von ODEs

In diesen Übungsaufgaben werden implizite und explizite Runge-Kutta-Verfahren auf der Basis der numerischen Integration bekannter Funktionen eingeführt.
