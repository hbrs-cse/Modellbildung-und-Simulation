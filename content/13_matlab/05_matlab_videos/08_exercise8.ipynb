{
 "cells": [
  {
   "cell_type": "markdown",
   "id": "7b177ae8",
   "metadata": {},
   "source": [
    "# 8. Gewöhnliche Differentialgleichungen und Event-Detektion\n",
    "\n",
    "In dieser Übung geht es weiter mit ODEs.\n",
    "Es wird der Bremsvorgang von einem bzw. mehreren Fahrzeugen simuliert.\n",
    "\n",
    "Dabei sollen allerdings auch bestimmte Ereignisse - Events - erkannt werden, wie z.B. die Kollision zweier Fahrzeuge.\n",
    "\n",
    "## 1.Bremsvorgang (1)\n",
    "\n",
    "Auf einer Versuchsstrecke fährt ein Auto mit $13.9\\frac{\\text{m}}{\\text{s}}$ (ca. $50\\frac{\\text{km}}{\\text{h}}$). Nach dem Auslösen eines Signals betätigt der Fahrer die Bremse (Reaktionszeit $1s$).\n",
    "Das Auto wird anschließend mit einer konstanten Gegenbeschleunigung von $8\\frac{\\text{m}}{\\text{s}^2}$ zum Stillstand gebracht.\n",
    "\n",
    "Stellen Sie eine Differentialgleichung für die Bewegung des Autos auf, implementieren Sie diese, unter Berücksichtigung der Reaktionszeit, in MATLAB und plotten Sie die Bewegung des Fahrzeugs über 5 Sekunden.\n",
    "\n",
    "```{admonition} Hinweis\n",
    "Zur Vereinfachung der Simulation werden zunächst keine Reibkräfte o.ä. angenommen. Betrachten Sie das Auto als Massepunkt, welcher sich gemäß dem 2. Newtonschen Axiom ($\\vec{F}=m\\cdot \\vec{a}$) verhält.\n",
    "```"
   ]
  },
  {
   "cell_type": "code",
   "execution_count": null,
   "id": "b141026a",
   "metadata": {},
   "outputs": [],
   "source": [
    "function main\n",
    "    x0 = [0;13.9];\n",
    "    tspan = [0,5];\n",
    "    [t,x] = ode45(@ode,tspan,x0);\n",
    "end\n",
    "\n",
    "function dx = ode(t,x)\n",
    "    % Hier die DGL(s) einfügen\n",
    "end"
   ]
  },
  {
   "cell_type": "markdown",
   "id": "917c9015",
   "metadata": {},
   "source": [
    "## 2.Bremsvorgang (2)\n",
    "\n",
    "Im ersten Teil ließ sich der Bremsweg bzw. die Bremsdauer am Plot grob ablesen. Nun sollen diese Werte numerisch bestimmt werden und die Simulation bei Stillstand des Autos abgebrochen werden.\n",
    "\n",
    "Ergänzen Sie Ihr Programm um eine Event-function, welche die Simulation bei $v=0$ abbricht.\n",
    "\n",
    "```{admonition} Hinweis\n",
    "Event-`functions` müssen dem Solver über die ODE-`options` mitgeteilt werden (vgl. hierzu auch die MATLAB-documentation).\n",
    "```"
   ]
  },
  {
   "cell_type": "code",
   "execution_count": null,
   "id": "b8112410",
   "metadata": {},
   "outputs": [],
   "source": [
    "function main\n",
    "    x0 = [0;13.9];\n",
    "    tspan = [0,5];\n",
    "    options = odeset('Events',@events);\n",
    "    [t,x] = ode45(@ode,tspan,x0,options);\n",
    "end\n",
    "\n",
    "function dx = ode(t,x)\n",
    "    % Hier die DGL(s) einfügen\n",
    "end\n",
    "\n",
    "function [value,isterminal,direction] = events(t,x)\n",
    "    % t und x sind je Zeitpunkt und Ergebnis des\n",
    "    % aktuellen Simulationschritts\n",
    "    value = % Dieser Wert wird auf Null geprüft\n",
    "    isterminal = % Bricht Simulation bei value == 0 ab\n",
    "    direction = % Prüft die Richtung des Nulldurchgangs\n",
    "end"
   ]
  },
  {
   "cell_type": "markdown",
   "id": "254fdc9a",
   "metadata": {},
   "source": [
    "## 3.Bremsvorgang (3)\n",
    "\n",
    "Ergänzen Sie die Differentialgleichung des Autos um eine Geschwindigkeitsabhängige Gegenkraft $F(v)=0.1v$.\n",
    "\n",
    "1. Welche Differenz ergibt sich im Vergleich zum alten Bremsweg?\n",
    "2. Wie lange dauert es, bis sich das Auto bei diesem fiktionalen Widerstand ohne zu Bremsen auf $30\\frac{\\text{km}}{\\text{h}}$ verlangsamt hat?\n",
    "3. Ergänzen Sie die Event-`function` oben so, dass die Simulation bei $v = 0$ abgebrochen wird, aber Zeitpunkt und Ort für $v = 30\\frac{\\text{km}}{\\text{h}}$ auch erkannt werden.\n",
    "\n",
    "## 4. Bremsvorgang von zwei Fahrzeugen (1)\n",
    "\n",
    "Ergänzen Sie Ihr ODE-System um ein zweites Set an Gleichungen, welche die Bewegung eines weiteren, baugleichen Fahrzeuges beschreiben.\n",
    "\n",
    "Die Fahrzeuge fahren parallel auf der Teststrecke und beginnen den Bremsvorgang, inkl. $1\\,\\text{s}$ Reaktionszeit, zum selben Zeitpunkt.\n",
    "Allerdings fährt das zweite Auto anfangs mit $19.4\\frac{\\text{m}}{\\text{s}}$ (ca. $70\\frac{\\text{km}}{\\text{h}}$).\n",
    "\n",
    "Welchen Abstand haben die Fahrzeuge, wenn das langsamere Auto bereits angehalten hat?"
   ]
  },
  {
   "cell_type": "code",
   "execution_count": null,
   "id": "39a672c7",
   "metadata": {},
   "outputs": [],
   "source": [
    "function main\n",
    "    x0 = [0; 13.9; 0; 19.4];\n",
    "    tspan = [0,5];\n",
    "    options = odeset('Events',@events);\n",
    "    [t,x] = ode45(@ode,tspan,x0);\n",
    "end\n",
    "\n",
    "function dx = ode(t,x)\n",
    "    % Hier die DGL(s) einfügen\n",
    "    dx(1,1) = % ...\n",
    "    dx(2,1) = % ...\n",
    "    dx(3,1) = % ...\n",
    "    dx(4,1) = % ...\n",
    "end"
   ]
  },
  {
   "cell_type": "markdown",
   "id": "3011004b",
   "metadata": {},
   "source": [
    "## 5. Zusatz: Bremsvorgang von zwei Fahrzeugen (2)\n",
    "\n",
    "Nun fahren beide Fahrzeuge hintereinander (mit Reibverlust aus 3.). Das vordere Fahrzeug fährt mit $50\\,\\text{m}$ Abstand voraus und hat durch eine Baustelle eine Geschwindigkeit von $70\\frac{\\text{km}}{\\text{h}}$. Der hintere Wagen nähert sich mit $130\\frac{\\text{km}}{\\text{h}}$.\n",
    "\n",
    "Durch ein plötzliches Ereignis müssen beide Fahrzeuge zeitgleich bremsen ($a= -8 \\frac{\\text{m}}{\\text{s}^2}$).\n",
    "\n",
    "1. Nach wie viel Sekunden bzw. Metern kommt es zur Kollision?\n",
    "\n",
    "2. Wie viel Abstand hätte der hintere Fahrer halten müssen, damit er bei Stillstand noch $1\\,\\text{m}$ Abstand zum vorausfahrenden Fahrzeug gehabt hätte?\n",
    "\n",
    "```{admonition} Hinweis\n",
    "Ergänzen Sie die ODE-`function` zunächst so, dass die Fahrzeuge nach Stillstand ($v=0$) nicht rückwärts fahren.\n",
    "\n",
    "Prüfen Sie dann die zurückgelegten Wegstrecken, nachdem beide Fahrzeuge zum Halt gekommen sind.\n",
    "```"
   ]
  },
  {
   "cell_type": "markdown",
   "id": "25716fe7",
   "metadata": {},
   "source": [
    "## Lösung\n",
    "\n",
    "<iframe width=\"560\" height=\"315\" src=\"https://www.youtube.com/embed/JGY49u0H4wQ\" frameborder=\"0\" allow=\"accelerometer; autoplay; encrypted-media; gyroscope; picture-in-picture\" allowfullscreen></iframe>"
   ]
  }
 ],
 "metadata": {
  "kernelspec": {
   "display_name": "Octave",
   "language": "octave",
   "name": "octave"
  },
  "language_info": {
   "file_extension": ".m",
   "help_links": [
    {
     "text": "GNU Octave",
     "url": "https://www.gnu.org/software/octave/support.html"
    },
    {
     "text": "Octave Kernel",
     "url": "https://github.com/Calysto/octave_kernel"
    },
    {
     "text": "MetaKernel Magics",
     "url": "https://metakernel.readthedocs.io/en/latest/source/README.html"
    }
   ],
   "mimetype": "text/x-octave",
   "name": "octave",
   "version": "6.2.0"
  }
 },
 "nbformat": 4,
 "nbformat_minor": 5
}
