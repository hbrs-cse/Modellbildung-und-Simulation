{
 "cells": [
  {
   "cell_type": "markdown",
   "id": "f96b7b86",
   "metadata": {},
   "source": [
    "(content:references:matlab_polynomfitting)=\n",
    "# 3. Polynomfitting\n",
    "\n",
    "Ziel dieser Übung ist das Fitting von Messdaten mittels Polynomen. Dazu soll der Benutzer im zu schreibenden Programm die notwendigen Stützstellen per Mauseingabe vorgeben können. Anschließend soll ein Polynom mit frei wählbarem Grad an die Messwerte gefittet werden.\n",
    "\n",
    "## Situation\n",
    "\n",
    "Für ein Simulations- und Optimierungsprogramm müssen Messwertverläufe in Form von Kennlinien bereitgestellt werden (Polynome).\n",
    "\n",
    "Zunächst muss dazu ein Programm geschrieben werden, welches Polynome eines beliebigen Grades auf Basis von gegebenen Stützpunkten berechnet.\n",
    "\n",
    "Diese Stützpunkte sollen dann vorerst von einem Benutzer händisch vorgegeben werden können.\n",
    "\n",
    "Zum Abschluss sollen optimale Polynome mit vorgefertigten MATLAB-Routinen berechnet werden.\n",
    "\n",
    "<a href=\"https://raw.githubusercontent.com/hbrs-cse/Modellbildung-und-Simulation/master/content/13_matlab/05_matlab_videos/files/MW_01.txt\" download>MW_01.txt</a>\n",
    "\n",
    "<a href=\"https://raw.githubusercontent.com/hbrs-cse/Modellbildung-und-Simulation/master/content/13_matlab/05_matlab_videos/files/MW_02.txt\" download>MW_02.txt</a>\n",
    "\n",
    "<a href=\"https://raw.githubusercontent.com/hbrs-cse/Modellbildung-und-Simulation/master/content/13_matlab/05_matlab_videos/files/MW_03.txt\" download>MW_03.txt</a>\n",
    "\n",
    "## 1. Polynomgenerator\n",
    "\n",
    "Erzeugen Sie ein neues Skript und legen Sie dort eine neue function `main` an.\n",
    "Legen Sie außerdem eine Variable n für den Grad der zu erzeugenden Polynome an.\n",
    "Erzeugen Sie nun $n+1$ zufällige x- sowie y-Werte."
   ]
  },
  {
   "cell_type": "code",
   "execution_count": null,
   "id": "48b61409",
   "metadata": {},
   "outputs": [],
   "source": [
    "%% file main.m\n",
    "\n",
    "x = 10*rand(n+1,1);"
   ]
  },
  {
   "cell_type": "markdown",
   "id": "6a1b12d8",
   "metadata": {},
   "source": [
    "Legen Sie nun eine weitere function `fitpoly` mit 3 Eingabe- und 1 Rückgabewerten an.\n",
    "\n",
    "Die Funktion soll am Ende dynamisch die Polynomkoeffizienten ermitteln."
   ]
  },
  {
   "cell_type": "code",
   "execution_count": null,
   "id": "7997c453",
   "metadata": {},
   "outputs": [],
   "source": [
    "%% file fitpoly.m\n",
    "\n",
    "% x – x-Werte, y – y-Werte, n – Grad des Polynoms\n",
    "function p = fitpoly(x,y,n)\n",
    "\n",
    "% your code here"
   ]
  },
  {
   "cell_type": "markdown",
   "id": "7a323baf",
   "metadata": {},
   "source": [
    "Polynome haben generell folgende Form ($n+1$ Koeffizienten bei Grad $n$):\n",
    "\n",
    "$$f(x)=p_{n+1} x^n + p_n x^{n-1}+p_{n-1} x^{n-2} + \\dots + p_1$$\n",
    "\n",
    "Bei Eingabe eines der x-Werte soll das Polynom den entsprechenden y-Wert zurückgeben. Dadurch ergibt sich ein lineares Gleichungssystem (LGS).\n",
    "\n",
    "Stellen Sie dieses LGS in Matrix-Form ($Ax = b$) auf und versuchen Sie dessen Struktur in das MATLAB-Skript zu übertragen.\n",
    "Wie kann die Matrix $A$ abhängig von $n$ dynamisch erstellt werden?\n",
    "\n",
    "In der Variablen $p$ sollen schließlich die ermittelten Koeffizienten zurückgegeben werden.\n",
    "\n",
    "```{admonition} Tipp\n",
    ":class: tip\n",
    "Nutzen Sie eine `for`-Schleife zur Erzeugung der Matrix.\n",
    "```\n",
    "\n",
    "## 2. Polynomevaluierung\n",
    "\n",
    "Um die Richtigkeit der berechneten Koeffizienten zu prüfen wird eine Funktion benötigt, welche die ermittelten Polynome an den entsprechenden x-Werten auswertet.\n",
    "\n",
    "Legen Sie dazu eine neue function `evalpoly` mit 2 Eingangs- und 1 Rückgabewert an."
   ]
  },
  {
   "cell_type": "code",
   "execution_count": null,
   "id": "200f46e5",
   "metadata": {},
   "outputs": [],
   "source": [
    "%% file evalpoly.m\n",
    "\n",
    "% p – Polynomkoeffizienten, x - Abfragestellen\n",
    "function y = evalpoly(p,x)\n",
    "\n",
    "% your code here"
   ]
  },
  {
   "cell_type": "markdown",
   "id": "15cd78d6",
   "metadata": {},
   "source": [
    "Für die Polynome gilt allgemein weiterhin die o.g. Formel. Erzeugen Sie also ein Programm, welches basierend auf einer variablen Anzahl von Polynomkoeffizienten entsprechende y-Werte berechnet und zurückgibt.\n",
    "\n",
    "## Benutzerdefinierte Polynome\n",
    "\n",
    "Laden Sie die Messwerte in Ihr Programm (in der `main`-function) und plotten Sie diese.\n",
    "Anschließend soll mittels der Funktion `ginput` eine Benutzereingabe möglich sein, über welche die Polynomstützpunkte händisch definiert werden.\n",
    "\n",
    "Diese sollen schließlich ausgewertet und das entsprechende Polynom geplottet werden.\n",
    "\n",
    "_Pseudocode:_"
   ]
  },
  {
   "cell_type": "code",
   "execution_count": null,
   "id": "ac4df722",
   "metadata": {},
   "outputs": [],
   "source": [
    "% Hauptprogramm\n",
    "function main\n",
    "\tn = 3; % Gewünschter Grad des Polynoms\n",
    "\tImport der Messwerte\n",
    "\t% Öffnen eines figure-Fensters und ggf. Löschen von \n",
    "\t% bestehendem Inhalt\n",
    "\tfigure(1)\n",
    "\tclf\n",
    "\tPlotten der Messwerte\n",
    "\thold on\n",
    "\ti = 1; % Zählvariable\n",
    "\twhile i<n\n",
    "1: Abfragen Mausklick mit „ginput“ und Speichern von x- und y-Koordinaten in Matrix\n",
    "2: Plot des Klicks mit rotem „X“\n",
    "\t\ti = i+1;\n",
    "end\n",
    "1: Aufruf von „fitpoly“ mit den eingegebenen x/y-Koordinaten und Rückgabe der Polynomkoeffizienten p\n",
    "2: Aufruf von „evalpoly“ zur Auswertung des Polynoms p an allen gemessenen x-Werten\n",
    "3: Plot des Polynoms\n",
    "end\n",
    "% Berechnet Polynomkoeffizienten vom Grad n\n",
    "function p = fitpoly(x,y,n)\n",
    "\tBerechnung der Polynomkoeffizienten nach Aufgabe 1\n",
    "end\n",
    "% Wertet Polynom mit Koeffizienten p an Stellen x aus\n",
    "function y = evalpoly(p,x)\n",
    "\tErmittlung der Funktionswerte von p an Stelle x\n",
    "end"
   ]
  },
  {
   "cell_type": "markdown",
   "id": "9b812967",
   "metadata": {},
   "source": [
    "## 4. Polynomberechnung mit MATLAB-Routine `polyfit`\n",
    "\n",
    "Ähnlich der eingangs erstellten Funktionen arbeiten auch die MATLAB-Routinen `polyfit` und `polyval`. Der Vorteil liegt u.a. darin, dass `polyfit` für ein Polynom vom Grad $n$ auch mehr als $n+1$ Wertepaare verwenden kann. `Polyfit` versucht dann den Abstand zwischen Mess- und Funktionswerten auf ein Minimum zu optimieren.\n",
    "\n",
    "Lassen Sie nun also für die vorhandenen Messwerte Polynome mittels `polyfit` berechnen, werten diese mit `polyval` zu den gemessenen Zeitpunkten aus und plotten das Resultat über die ursprünglichen Werte."
   ]
  },
  {
   "cell_type": "code",
   "execution_count": null,
   "id": "ac4c5e6d",
   "metadata": {},
   "outputs": [],
   "source": [
    "% Erzeugt Polynom vom Grad n basierend auf x/y-\n",
    "% Wertepaaren\n",
    "p = polyfit(x,y,n);\n",
    "% Wertet Polynom p an den entsprechenden x-Stellen aus\n",
    "y = polyval(p,x);"
   ]
  },
  {
   "cell_type": "markdown",
   "id": "d78c8660",
   "metadata": {},
   "source": [
    "```{image} images/polyval_results.png\n",
    ":alt: polyval results\n",
    ":width: 600px\n",
    ":align: center\n",
    "```\n",
    "\n",
    "## 5. Zusatz: Güte-Berechnung\n",
    "\n",
    "Berechnen Sie die Güte der erzeugten Polynome (sowohl benutzerdefiniert als auch mit `polyfit`). Ein Maß dazu ist der Abstand zwischen Mess- und berechneten Werten.\n",
    "\n",
    "Nutzen Sie dazu die Formel des quadratischen Mittels:\n",
    "\n",
    "$$err=\\sqrt{\\frac{1}{n} \\sum_{i=1}^n{(y_\\text{mess}-y_\\text{poly})^2}}$$"
   ]
  },
  {
   "cell_type": "code",
   "execution_count": null,
   "id": "54811ce8",
   "metadata": {},
   "outputs": [],
   "source": [
    "% your code here"
   ]
  },
  {
   "cell_type": "markdown",
   "id": "c556e853",
   "metadata": {},
   "source": [
    "## Lösung\n",
    "\n",
    "<iframe width=\"560\" height=\"315\" src=\"https://www.youtube.com/embed/El1QkXVgt3A\" frameborder=\"0\" allow=\"accelerometer; autoplay; encrypted-media; gyroscope; picture-in-picture\" allowfullscreen></iframe>\n",
    "<div style=\"text-align: right;font-size:80%;color:grey\"> - Hinweis: Dieses Video ist von YouTube aus eingebunden und nicht Teil des frei lizenzierten Materials! - </div> <br>\n",
    "\n"
   ]
  }
 ],
 "metadata": {
  "kernelspec": {
   "display_name": "Octave",
   "language": "octave",
   "name": "octave"
  },
  "language_info": {
   "file_extension": ".m",
   "help_links": [
    {
     "text": "GNU Octave",
     "url": "https://www.gnu.org/software/octave/support.html"
    },
    {
     "text": "Octave Kernel",
     "url": "https://github.com/Calysto/octave_kernel"
    },
    {
     "text": "MetaKernel Magics",
     "url": "https://metakernel.readthedocs.io/en/latest/source/README.html"
    }
   ],
   "mimetype": "text/x-octave",
   "name": "octave",
   "version": "6.2.0"
  }
 },
 "nbformat": 4,
 "nbformat_minor": 5
}
