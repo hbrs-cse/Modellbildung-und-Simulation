{
 "cells": [
  {
   "cell_type": "markdown",
   "id": "f6165ad2",
   "metadata": {},
   "source": [
    "# 2. Messwerte filtern und interpolieren\n",
    "\n",
    "In dieser Übung werden Messwerte eines Signals importiert und gefiltert. Da die Messwerte zum Teil lückenhaft sind, werden die fehlenden Stellen außerdem noch interpoliert.\n",
    "\n",
    "## Situation\n",
    "\n",
    "An zwei Schaltungen wurden unterschiedliche Messungen durchgeführt. Die Ergebnisse liegen als Excel-Dateien vor und sollen nun mithilfe von MATLAB ausgewertet werden.\n",
    "Beachten Sie, dass es durch einen zeitweiligen Ausfall der Messtechnik u.U. zu Schwierigkeiten bei der Auswertung kommen kann.\n",
    "\n",
    "<a href=\"https://github.com/joergbrech/Modellbildung-und-Simulation/raw/master/content/13_matlab/05_matlab_videos/files/Sig1_measure.xlsx\" download>Sig1_measure.xlsx</a>\n",
    "\n",
    "<a href=\"https://github.com/joergbrech/Modellbildung-und-Simulation/raw/master/content/13_matlab/05_matlab_videos/files/Sig2_measure.xlsx\" download>Sig2_measure.xlsx</a>"
   ]
  },
  {
   "cell_type": "markdown",
   "id": "50ef0256",
   "metadata": {},
   "source": [
    "## 1. Datenimport\n",
    "\n",
    "Importieren Sie `Sig1_measure.xlsx` mit dem Befehl `xlsread`. Legen Sie ggf. zusätzliche Variablen für Zeit- und Spannungswerte an. Beachten Sie die Hinweise aus Übung 1 zum Datenimport.\n",
    "\n",
    "Öffnen Sie Messung parallel in Excel. Was genau importiert MATLAB?"
   ]
  },
  {
   "cell_type": "code",
   "execution_count": null,
   "id": "195d5387",
   "metadata": {},
   "outputs": [],
   "source": [
    "M = xlsread(‘Dateiname.txt‘);"
   ]
  },
  {
   "cell_type": "markdown",
   "id": "86d6bf93",
   "metadata": {},
   "source": [
    "## 2. Daten visualisieren\n",
    "\n",
    "Plotten Sie das Signal über die Zeit (`M` aus Aufgabe 1 ist eine 2000x2 Matrix).\n",
    "Beschriften Sie die Achsen mit $t [s]$ und $U [V]$ und erzeugen Sie ein Gitter im Hintergrund."
   ]
  },
  {
   "cell_type": "code",
   "execution_count": null,
   "id": "e88b87a0",
   "metadata": {},
   "outputs": [],
   "source": [
    "% your code here"
   ]
  },
  {
   "cell_type": "markdown",
   "id": "45605fb3",
   "metadata": {},
   "source": [
    "## 3. Erste Datenauswertung\n",
    "\n",
    "Bestimmen Sie den Zeitanteil in Prozent, in welcher das Signal „High“ ist; also einen Wert von etwa 5V hat.\n",
    "\n",
    "Durchlaufen Sie hierzu die Messwerte mittels einer for-Schleife und zählen Sie jedes Mal, wenn der aktuelle Messwert größer als z.B. 4 ist.\n",
    "\n",
    "Teilen Sie dann diese Summe durch die Gesamtanzahl der Messwerte.\n",
    "\n",
    "_Pseudocode:_\n",
    "\n",
    "```\n",
    "% s = Zählvariable, N = Anzahl Messwerte, y = Messwerte\n",
    "\n",
    "s = 0;\n",
    "for i = 1 bis N\n",
    "Wenn Messwert an Stelle i größer 4, dann:\n",
    "\t\ts an Stelle i um +1 erhöhen\n",
    "end\t\n",
    "s = s/N\n",
    "```\n",
    "\n",
    "Messen Sie die Zeit zur Ausführung dieses Code-Abschnitts, indem Sie in der Zeile davor das Wort `tic` und in der Zeile danach das Wort `toc` ergänzen."
   ]
  },
  {
   "cell_type": "code",
   "execution_count": null,
   "id": "480a8d92",
   "metadata": {},
   "outputs": [],
   "source": [
    "% your code here"
   ]
  },
  {
   "cell_type": "markdown",
   "id": "5b134685",
   "metadata": {},
   "source": [
    "## 4. Vermeidung der `for`-Schleife\n",
    "\n",
    "Schleifen in MATLAB tendieren dazu recht langsam zu sein.\n",
    "Versuchen Sie den „High“-Anteil des Signals nun nur mit dem Befehl `sum` statt der `for`-Schleife zu berechnen.\n",
    "\n",
    "```{admonition} Tipp\n",
    ":class: tip\n",
    "Das folgende Beispiel gibt die Anzahl der Zahlen größer 3 im Bereich 1 bis 5 aus.\n",
    "```"
   ]
  },
  {
   "cell_type": "code",
   "execution_count": null,
   "id": "d8d11e17",
   "metadata": {},
   "outputs": [],
   "source": [
    "x = 1:5;\t\t% Erzeugt die Werte 1,2,...,5.\n",
    "x>3\t\t\t% Gibt „0 0 0 1 1“ zurück.\n",
    "sum(x>3)\t\t% Gibt „2“ zurück."
   ]
  },
  {
   "cell_type": "markdown",
   "id": "93bb9831",
   "metadata": {},
   "source": [
    "Messen Sie auch hier die Ausführungsdauer des Code-Abschnitts mittels `tic-toc` und vergleichen Sie die Zeiten. Wie sehr konnten Sie das Programm optimieren?"
   ]
  },
  {
   "cell_type": "code",
   "execution_count": null,
   "id": "de1743bc",
   "metadata": {},
   "outputs": [],
   "source": [
    "% your code here"
   ]
  },
  {
   "cell_type": "markdown",
   "id": "10b83e62",
   "metadata": {},
   "source": [
    "## 5. Datenimport und Plot\n",
    "\n",
    "Importieren Sie `Sig2_measure.xlsx` mit dem Befehl `xlsread`. Legen Sie ggf. zusätzliche Variablen für Zeit- und Spannungswerte an.\n",
    "\n",
    "Öffnen Sie Messung parallel in Excel. Was genau importiert MATLAB?\n",
    "\n",
    "Plotten Sie anschließend die importierten Daten."
   ]
  },
  {
   "cell_type": "code",
   "execution_count": null,
   "id": "de6624ee",
   "metadata": {},
   "outputs": [],
   "source": [
    "% your code here"
   ]
  },
  {
   "cell_type": "markdown",
   "id": "534513c8",
   "metadata": {},
   "source": [
    "## 6. Erste Datenauswertung und Filterung\n",
    "\n",
    "Lassen Sie sich mittels `max` die Höchstwerte der Messung ausgeben. Welches Problem tritt auf?\n",
    "\n",
    "```{admonition} Tipp 1\n",
    ":class: tip\n",
    "Die Funktion „isnan“ findet sog. NaN-Werte (not a number) und gibt dort eine logische 1 zurück. Beispiel:\n",
    "```"
   ]
  },
  {
   "cell_type": "code",
   "execution_count": null,
   "id": "76ad4ee0",
   "metadata": {},
   "outputs": [],
   "source": [
    "x = [4,5,NaN,7,NaN,1];\n",
    "isnan(x)\t\t\t\t% gibt „0 0 1 0 1 0“ zurück\n",
    "x(isnan(x))\t\t\t% gibt „NaN NaN“ zurück\n",
    "\t\t\t\t\t% „~“ invertiert logische Ausdrücke\n",
    "x(~isnan(x))\t\t\t% gibt „4 5 7 1“ zurück"
   ]
  },
  {
   "cell_type": "markdown",
   "id": "860f807d",
   "metadata": {},
   "source": [
    "```{admonition} Tipp 2\n",
    ":class: tip\n",
    "Elemente aus Matrizen und Vektoren können wie folgt gelöscht werden:\n",
    "```"
   ]
  },
  {
   "cell_type": "code",
   "execution_count": null,
   "id": "99029dfb",
   "metadata": {},
   "outputs": [],
   "source": [
    "x = [4,5,NaN,7,NaN,1];\n",
    "x(3) = [];\t\t\t% gibt „4 5 7 NaN 1“ zurück\n",
    "x(4) = [];\t\t\t% gibt „4 5 7 1“ zurück"
   ]
  },
  {
   "cell_type": "markdown",
   "id": "35f02508",
   "metadata": {},
   "source": [
    "Die NaN-Werte der Messung treten jeweils zeilenweise auf. Analysieren Sie also z.B. eine einzelne Spalte mit `isnan` um anschließend alle NaN-Zeilen zu löschen."
   ]
  },
  {
   "cell_type": "markdown",
   "id": "d0f1721f",
   "metadata": {},
   "source": [
    "## 7. Dateninterpolation\n",
    "\n",
    "Bedingt durch die NaN-Werte bzw. deren Filterung ist die Messung lückenhaft. Zur Überbrückung der Lücken müssen die Werte daher mittels `interp1` interpoliert werden.\n",
    "\n",
    "Erweitern Sie das Programm also so, dass Messwerte zu einem beliebigen Zeitpunkt `t` abgerufen werden können."
   ]
  },
  {
   "cell_type": "code",
   "execution_count": null,
   "id": "8a4b3062",
   "metadata": {},
   "outputs": [],
   "source": [
    "x = [1 2 3 4 5];\t\t\t% Vorhandene x-Werte\n",
    "y = [2 4 6 8 10];\t\t% Vorhandene y-Werte\n",
    "xq = 2.5;\t\t\t\t% Abfrage-Punkt\n",
    "interp1(x,y,xq,‘linear‘)\t% Gibt „5“ zurück"
   ]
  },
  {
   "cell_type": "markdown",
   "id": "71696c38",
   "metadata": {},
   "source": [
    "```{admonition} Hinweis\n",
    "Statt `linear` kann auch `pchip` oder `spline` verwendet werden, um eine „rundere“ Interpolation zu erhalten.\n",
    "```"
   ]
  },
  {
   "cell_type": "markdown",
   "id": "8405e6da",
   "metadata": {},
   "source": [
    "## 8. Dateninterpolation als `function`\n",
    "\n",
    "Erstellen Sie ein neues Skript, welches aus zwei functions aufgebaut ist:\n",
    "\n",
    "Dem Hauptprogramm `main` und einer Funktion `interpol`, welche der Interpolation der Messwerte dienen soll."
   ]
  },
  {
   "cell_type": "code",
   "execution_count": null,
   "id": "782a7168",
   "metadata": {},
   "outputs": [],
   "source": [
    "%% file main.m\n",
    "\n",
    "function main\n",
    "\t% Hauptprogramm\n",
    "\t% ...\n",
    "\t% Hier Datenimport und Filterung ergänzen\n",
    "\t% Messwerte werden z.B. in Matrix M gespeichert\n",
    "\t% ...\n",
    "\tglobal M\t\t\t% Speichern der Messwerte in globaler\n",
    "\t\t\t\t\t% Variable M\n",
    "\tt = 0.021;\t\t% Abfragezeitpunkt\n",
    "\tU = interpol(t)\t% Interpolierter Wert zur Zeit t\n",
    "end"
   ]
  },
  {
   "cell_type": "code",
   "execution_count": null,
   "id": "276c12dc",
   "metadata": {},
   "outputs": [],
   "source": [
    "%% file interpol.m\n",
    "\n",
    "function y = interpol(t)\n",
    "\tglobal M\t\t\t% Laden der globalen Variable M\n",
    "\txx = M(:,1);\n",
    "\tyy = M(:,2);\n",
    "\ty = interp1(xx,yy,t,‘pchip‘);\n",
    "end"
   ]
  },
  {
   "cell_type": "markdown",
   "id": "3535148c",
   "metadata": {},
   "source": [
    "## 9. Integralberechnung\n",
    "\n",
    "Die MATLAB-Routine `integral` erlaubt die Berechnung numerischer Integrale."
   ]
  },
  {
   "cell_type": "code",
   "execution_count": null,
   "id": "8a5c9376",
   "metadata": {},
   "outputs": [],
   "source": [
    "int = integral(@fun,xmin,xmax)"
   ]
  },
  {
   "cell_type": "markdown",
   "id": "0eb9bd77",
   "metadata": {},
   "source": [
    "`@fun` ist hierbei ein sog. functionhandle. Hier wird der Name der zu integrierenden Funktion mittels @-Symbol übergeben, also z.B. `@interpol`. xmin und xmax sind die Integrationsgrenzen.\n",
    "\n",
    "Berechnen Sie die Integrale der Signale mittels `integral` und der in Aufgabe 8 erstellten `function`.\n",
    "\n",
    "Beachten Sie, dass das Integral einer Sinusfunktion über eine volle Periode 0 ergibt. Sie müssen also Ihr Programm zuvor noch minimal anpassen.\n",
    "\n",
    "```{admonition} Tipp\n",
    ":class: tip\n",
    "Der Betrag wird in MATLAB mittels der Funktion „abs“ berechnet.\n",
    "```"
   ]
  },
  {
   "cell_type": "code",
   "execution_count": null,
   "id": "467bea4d",
   "metadata": {},
   "outputs": [],
   "source": [
    "x = -5;\n",
    "abs(x)\t% Gibt „5“ zurück."
   ]
  },
  {
   "cell_type": "markdown",
   "id": "1e0dfaed",
   "metadata": {},
   "source": [
    "## Lösung\n",
    "\n",
    "<iframe width=\"560\" height=\"315\" src=\"https://www.youtube.com/embed/8ZyRVqQNnLI\" frameborder=\"0\" allow=\"accelerometer; autoplay; encrypted-media; gyroscope; picture-in-picture\" allowfullscreen></iframe>\n",
    "<div style=\"text-align: right;font-size:80%;color:grey\"> - Hinweis: Dieses Video ist von YouTube aus eingebunden und nicht Teil des frei lizenzierten Materials! - </div> <br>\n",
    "\n"
   ]
  }
 ],
 "metadata": {
  "kernelspec": {
   "display_name": "Octave",
   "language": "octave",
   "name": "octave"
  },
  "language_info": {
   "file_extension": ".m",
   "help_links": [
    {
     "text": "GNU Octave",
     "url": "https://www.gnu.org/software/octave/support.html"
    },
    {
     "text": "Octave Kernel",
     "url": "https://github.com/Calysto/octave_kernel"
    },
    {
     "text": "MetaKernel Magics",
     "url": "https://metakernel.readthedocs.io/en/latest/source/README.html"
    }
   ],
   "mimetype": "text/x-octave",
   "name": "octave",
   "version": "6.2.0"
  }
 },
 "nbformat": 4,
 "nbformat_minor": 5
}
