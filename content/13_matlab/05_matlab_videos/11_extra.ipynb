{
 "cells": [
  {
   "cell_type": "markdown",
   "id": "9d0b9cc2",
   "metadata": {},
   "source": [
    "# Zusatzinfo - Mehrdimensionales Newtonverfahren\n",
    "\n",
    "Dieses Video geht detailliert auf die Implementierung eines mehrdimensionalen Newtonverfahrens in MATLAB ein.\n",
    "\n",
    "<iframe width=\"560\" height=\"315\" src=\"https://www.youtube.com/embed/A2eDfQaaSG8\" frameborder=\"0\" allow=\"accelerometer; autoplay; encrypted-media; gyroscope; picture-in-picture\" allowfullscreen></iframe>"
   ]
  }
 ],
 "metadata": {
  "kernelspec": {
   "display_name": "Octave",
   "language": "octave",
   "name": "octave"
  },
  "language_info": {
   "file_extension": ".m",
   "help_links": [
    {
     "text": "GNU Octave",
     "url": "https://www.gnu.org/software/octave/support.html"
    },
    {
     "text": "Octave Kernel",
     "url": "https://github.com/Calysto/octave_kernel"
    },
    {
     "text": "MetaKernel Magics",
     "url": "https://metakernel.readthedocs.io/en/latest/source/README.html"
    }
   ],
   "mimetype": "text/x-octave",
   "name": "octave",
   "version": "6.2.0"
  }
 },
 "nbformat": 4,
 "nbformat_minor": 5
}
