{
 "cells": [
  {
   "cell_type": "markdown",
   "metadata": {
    "slideshow": {
     "slide_type": "slide"
    },
    "tags": []
   },
   "source": [
    "# Grundlagenkurs und Zusatzübungen\n",
    "\n",
    "## Datenverarbeitung in Matlab\n",
    "\n",
    "In diesem Videokurs lernen Sie einige Grundlagen zum Umgang mit Daten in MATLAB. Die einzelnen Übungen inklusive Aufgabenstellung und Lösungsvideo finden Sie in den Unterkapiteln. Je Übung sollten Sie 90 Minuten Bearbeitungszeit einrechnen.\n",
    "\n",
    "```{admonition} Hinweis\n",
    " Da hierfür Inhalte der Modellbildung und Simulation als Anwendungsbeispiele genutzt werden, ergibt sich eine natürliche Überschneidung mit den Übungen des Onlinebuches. Dabei ist jedoch der Fokus umgekehrt, auf der Verwendung von Interface und Syntax von MATLAB.\n",
    "```"
   ]
  },
  {
   "cell_type": "markdown",
   "metadata": {},
   "source": [
    "<iframe width=\"560\" height=\"315\" src=\"https://youtube.com/embed/playlist?list=PLmClq2ZJ_PtuIEIJOpXwu0xQPwlzw3whv\" frameborder=\"0\" allow=\"accelerometer; autoplay; encrypted-media; gyroscope; picture-in-picture\" allowfullscreen></iframe>",
    "<div style=\"text-align: right;font-size:80%;color:grey\"> - Hinweis: Dieses Video ist von YouTube aus eingebunden und nicht Teil des frei lizenzierten Materials! - </div> <br>\n",
    "\n"
   ]
  }
 ],
 "metadata": {
  "kernelspec": {
   "display_name": "Octave",
   "language": "octave",
   "name": "octave"
  },
  "language_info": {
   "file_extension": ".m",
   "help_links": [
    {
     "text": "GNU Octave",
     "url": "https://www.gnu.org/software/octave/support.html"
    },
    {
     "text": "Octave Kernel",
     "url": "https://github.com/Calysto/octave_kernel"
    },
    {
     "text": "MetaKernel Magics",
     "url": "https://metakernel.readthedocs.io/en/latest/source/README.html"
    }
   ],
   "mimetype": "text/x-octave",
   "name": "octave",
   "version": "5.2.0"
  }
 },
 "nbformat": 4,
 "nbformat_minor": 4
}
