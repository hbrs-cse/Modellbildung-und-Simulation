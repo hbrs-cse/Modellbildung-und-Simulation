{
 "cells": [
  {
   "cell_type": "markdown",
   "id": "c2d376b1",
   "metadata": {},
   "source": [
    "# 10. Differential-Algebraische Gleichungen (2)\n",
    "\n",
    "In dieser Übung wird das Schwingen eines Pendels simuliert. Dabei ist es möglich die Bewegung als ODE- oder auch als DAE-System zu beschreiben. Wie unterscheiden sich das jeweils resultierende System und dessen Ergebnisse?\n",
    "\n",
    "## Situation\n",
    "\n",
    "Die Bewegung eines Pendels kann sowohl als gewöhnliche Differentialgleichung (ODE) sowie auch als Differential-Algebraisches System (DAE) beschrieben werden.\n",
    "\n",
    "## 1. Programmimplementierung\n",
    "\n",
    "Lösen Sie die Pendelbewegung mithilfe von `ein_pendel_dae.m`.\n",
    "\n",
    "```{image} images/pendel.png\n",
    ":alt: Pendel\n",
    ":width: 600px\n",
    ":align: center\n",
    "```"
   ]
  },
  {
   "cell_type": "code",
   "execution_count": null,
   "id": "77ca873b",
   "metadata": {},
   "outputs": [],
   "source": [
    "%% file ein_pendel_dae.m\n",
    "% if your Octave kernel does not plot, write `graphics_toolkit(\"gnuplot\")`\n",
    "global g m\n",
    "g = 9.81; l = 0.15; m = 0.05;\n",
    "y0 = [l 0 0 0 1]; tspan = [0, 3];\n",
    "M = eye(5); M(5,5) = 0;\n",
    "options = odeset('Mass',M,'RelTol',1.0e-5,'Stats','on');\n",
    "tic\n",
    "[t,y] = rodasp2(@dgl, tspan, y0,options);\n",
    "toc\n",
    "axis equal; hold on;\n",
    "lges=1.2*l; r1 = 0.005; d1=2*r1;\n",
    "axis ([-lges lges -lges 0.1*lges])\n",
    "linie1 = line([0 y0(1)],[0 y0(3)]);\n",
    "kugel1 = rectangle ('Position',[y0(1)-r1 y0(3)-r1 d1 d1],...\n",
    "'Curvature', [1 1], 'Facecolor', 'r');\n",
    "for i = 1:length(t)\n",
    "    set(kugel1, 'Position', [-r1+y(i,1) -r1+y(i,3) d1 d1]);\n",
    "    set(linie1, 'Xdata', [0 y(i,1)], 'Ydata', [0 y(i,3)]);\n",
    "    drawnow\n",
    "    if(i<length(t)) pause ((t(i+1)-t(i)));\n",
    "    end\n",
    "end\n",
    "\n",
    "function dz = dgl(t,z)\n",
    "    global g m\n",
    "    dz(1,1) = z(2);\n",
    "    dz(2,1) = 2*z(5)*z(1)/m;\n",
    "    dz(3,1) = z(4);\n",
    "    dz(4,1) = -g + 2*z(5)*z(3)/m;\n",
    "    % dz(5,1) = z(1)^2 + z(3)^2-l^2; %Index = 3\n",
    "    % dz(5,1) = z(1)*z(2) + z(3)*z(4); %Index = 2\n",
    "    dz(5,1) = 2*(z(2)^2+z(1)*dz(2,1)+z(4)^2+z(3)*dz(4,1)); %Index\n",
    "end"
   ]
  },
  {
   "cell_type": "markdown",
   "id": "eeea168a",
   "metadata": {},
   "source": [
    "Die Funktion `rodasp2` finden Sie <a href=\"rodasp2.m\" download>hier</a>."
   ]
  },
  {
   "cell_type": "markdown",
   "id": "d824dc4b",
   "metadata": {},
   "source": [
    "## 2. Pendellänge\n",
    "\n",
    "Leiten Sie aus den Simulationsergebnissen die Pendellänge her und überprüfen Sie, ob sie sich mit der Zeit verändert.\n",
    "\n",
    "Plotten Sie die eventuelle Längenänderung über die Simulationszeit."
   ]
  },
  {
   "cell_type": "code",
   "execution_count": null,
   "id": "5638eb09",
   "metadata": {},
   "outputs": [],
   "source": [
    "% if your Octave kernel does not plot, write `graphics_toolkit(\"gnuplot\")`\n",
    "% your code here"
   ]
  },
  {
   "cell_type": "markdown",
   "id": "8fb63af7",
   "metadata": {},
   "source": [
    "## 3. Systemdämpfung\n",
    "\n",
    "Bringen Sie eine Dämpfung in das System ein.\n",
    "\n",
    "## 4. Pendel als ODE\n",
    "Das Pendel kann auch als ODE beschrieben werden (Drehbewegung). Der Drehwinkel definiert sich dann wie folgt:\n",
    "\n",
    "$$\\ddot{\\varphi}=-\\frac{g}{L}\\sin(\\varphi)$$\n",
    "\n",
    "Dabei ist der Winkel so festgelegt, dass $\\varphi(t)=0$ für ein senkrecht nach unten zeigendes Pendel gilt. Implementieren Sie diese Gleichung und vergleichen Sie die Lösungen der beiden Ansätze."
   ]
  },
  {
   "cell_type": "code",
   "execution_count": null,
   "id": "865ed541",
   "metadata": {},
   "outputs": [],
   "source": [
    "% your code here"
   ]
  },
  {
   "cell_type": "markdown",
   "id": "d6a8649d",
   "metadata": {},
   "source": [
    "## Lösung\n",
    "\n",
    "<iframe width=\"560\" height=\"315\" src=\"https://www.youtube.com/embed/Gzmh7iYBZOU\" frameborder=\"0\" allow=\"accelerometer; autoplay; encrypted-media; gyroscope; picture-in-picture\" allowfullscreen></iframe>"
   ]
  },
  {
   "cell_type": "markdown",
   "id": "ca3a23ed",
   "metadata": {},
   "source": [
    "## Zusatzaufgabe: Doppelpendel\n",
    "\n",
    "Leiten Sie die Gleichungen eines Doppelpendels her und implementieren Sie diese."
   ]
  }
 ],
 "metadata": {
  "kernelspec": {
   "display_name": "Octave",
   "language": "octave",
   "name": "octave"
  },
  "language_info": {
   "file_extension": ".m",
   "help_links": [
    {
     "text": "GNU Octave",
     "url": "https://www.gnu.org/software/octave/support.html"
    },
    {
     "text": "Octave Kernel",
     "url": "https://github.com/Calysto/octave_kernel"
    },
    {
     "text": "MetaKernel Magics",
     "url": "https://metakernel.readthedocs.io/en/latest/source/README.html"
    }
   ],
   "mimetype": "text/x-octave",
   "name": "octave",
   "version": "6.2.0"
  }
 },
 "nbformat": 4,
 "nbformat_minor": 5
}
