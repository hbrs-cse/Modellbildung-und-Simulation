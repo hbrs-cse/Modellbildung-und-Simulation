{
 "cells": [
  {
   "cell_type": "markdown",
   "id": "fdc7b2a6",
   "metadata": {},
   "source": [
    "# 9. Differential-Algebraische Gleichungen (1)\n",
    "\n",
    "In dieser Übung wird das Rollen einer Kugel auf einer Bahn simuliert. Da die Bewegung der Kugel durch die Bahn eingeschränkt ist, handelt es sich um ein sog. DAE-System (Differential-Algebraic Equation).\n",
    "\n",
    "## Situation\n",
    "\n",
    "Eine Kugel rollt eine Bahn hinab. Diese Bahn ist beschrieben durch\n",
    "\n",
    "$$f(x) = \\cos\\left(\\frac{x}{2}\\right)+1$$\n",
    "\n",
    "Die Kugel kann als DAE-System modelliert und anschließend ihr Rollen auf der Bahn simuliert werden.\n",
    "\n",
    "## 1. Kugelbahn\n",
    "\n",
    "Stellen Sie für die Bahn der Kugel eine eigene `function` auf und plotten Sie diese. "
   ]
  },
  {
   "cell_type": "code",
   "execution_count": null,
   "id": "5e6bd014",
   "metadata": {},
   "outputs": [],
   "source": [
    "% if your Octave kernel does not plot, write `graphics_toolkit(\"gnuplot\")`\n",
    "%your code here"
   ]
  },
  {
   "cell_type": "markdown",
   "id": "4ba63bcd",
   "metadata": {},
   "source": [
    "Ihr Ergebnis sollte so aussehen:\n",
    "\n",
    "```{image} images/sphere_curve.png\n",
    ":alt: sphere rolling curve\n",
    ":width: 600px\n",
    ":align: center\n",
    "```\n",
    "\n",
    "## 2. Modellbildung\n",
    "\n",
    "Stellen Sie die Bewegungsgleichungen der Kugel auf. Formulieren Sie dazu die Zwangsbedingung (=Bahn) als Nullstellenproblem.\n",
    "\n",
    "$$f(x,y)=0$$\n",
    "\n",
    "Die Bewegungsgleichungen der Kugel ergeben sich aus der Kräftebilanz\n",
    "\n",
    "$$m \\left(\n",
    "\\begin{array}{c}\n",
    "\\ddot{x}\\\\\n",
    "\\ddot{y}\\\\\n",
    "\\end{array}\n",
    "\\right) = \\vec{F_\\text{G}} + \\vec{F_\\text{R}}$$\n",
    "\n",
    "wobei sich die Zwangskraft $F_\\text{R}$ wie folgt berechnet:\n",
    "\n",
    "$$\\vec{F_\\text{R}}=\\lambda\\cdot\\text{grad}(f)$$\n",
    "$$\\text{grad}(f)=\\left(\n",
    "\\begin{array}{c}\n",
    "\\ddot{\\frac{\\partial f}{\\partial{x}}}\\\\\n",
    "\\ddot{\\frac{\\partial f}{\\partial{y}}}\\\\\n",
    "\\end{array}\n",
    "\\right)$$\n",
    "\n",
    "Nun haben Sie zwei Differentialgleichungen für die $x$-$y$-Bewegungen.\n",
    "Die Zwangsbedingung $f(x,y)$ muss nun noch auf Index-1 reduziert werden.\n",
    "\n",
    "Dazu wird $f$ zweimal nach der Zeit abgeleitet. Beachten Sie, dass sowohl $x$ als auch $y$ zeitabhängige Variablen sind.\n",
    "\n",
    "Abschließend muss das entstandene System (=3 Gleichungen) auf Ordnung 1 reduziert werden (= 5 Gleichungen), bevor es in MATLAB implementiert werden kann.\n",
    "Das zu implementierende System sollte dann folgende Form haben:\n",
    "\n",
    "$$q_1 = x, q_2 = \\dot{x}, q_3 = y, q_4 = \\dot{y}, q_5 = \\lambda$$\n",
    "$\\dot{q_1}=q_2$\\\n",
    "$\\dot{q_2}=\\dots$\\\n",
    "$\\dot{q_3}=q_3$\\\n",
    "$\\dot{q_4}=\\dots$\\\n",
    "$\\dot{q_5}=\\frac{d^2}{dt^2}f(x,y)$"
   ]
  },
  {
   "cell_type": "markdown",
   "id": "100aaed8",
   "metadata": {},
   "source": [
    "## 3. Implementierung\n",
    "\n",
    "Legen Sie zur Implementierung eine Programmstruktur ähnlich dem Lösen von ODEs an."
   ]
  },
  {
   "cell_type": "code",
   "execution_count": null,
   "id": "39e683a3",
   "metadata": {},
   "outputs": [],
   "source": [
    "function main\n",
    "    q0 = [0;0.1;2;0;0];\n",
    "    tspan = [0,15];\n",
    "    [t,q] = ode15s(@dae,tspan,q0);\n",
    "end\n",
    "\n",
    "function dq = dae(t,q)\n",
    "    % Hier die Systemgleichungen einfügen\n",
    "end"
   ]
  },
  {
   "cell_type": "markdown",
   "id": "40ae3964",
   "metadata": {},
   "source": [
    "Zur Lösung benötigt der Solver Kenntnis über die Masse-Matrix des Systems. Diese definiert sich in diesem Fall als Einheitsmatrix, deren letzter Eintrag eine Null ist.\n",
    "\n",
    "$$M = \\begin{pmatrix}\n",
    "1 & 0 & 0 & 0 & 0\\\\\n",
    "0 & 1 & 0 & 0 & 0\\\\\n",
    "0 & 0 & 1 & 0 & 0\\\\\n",
    "0 & 0 & 0 & 1 & 0\\\\\n",
    "0 & 0 & 0 & 0 & 1\\\\\n",
    "\\end{pmatrix}$$\n",
    "\n",
    "Definieren Sie daher vor dem Solver-Aufruf die Matrix $M$ und übergeben Sie diese per folgender Codezeile:"
   ]
  },
  {
   "cell_type": "code",
   "execution_count": null,
   "id": "7ac91e4e",
   "metadata": {},
   "outputs": [],
   "source": [
    "options = odeset('Mass',M);"
   ]
  },
  {
   "cell_type": "markdown",
   "id": "6345f9c8",
   "metadata": {},
   "source": [
    "## 4. Simulation und Auswertung\n",
    "\n",
    "1. Lassen Sie sich die Simulationsergebnisse als X-Y-Plot ausgeben.\n",
    "\n",
    "2. Plotten Sie die vorgegebene Bahnkurve sowie die Ergebnisse der DAE-Berechnung übereinander. Folgt die Kugel auch der Bahn oder gibt es Abweichungen?\n",
    "\n",
    "3. Definieren Sie folgende Events:\\\n",
    "Detektion von `y == 1`, `y == 0` und Stopp der Simulation, wenn die Kugel das zweite Mal `y == 0` (ca. bei `x == 9.4`) erreicht.\\\n",
    "Zu welchem Zeitpunkt $t$ werden diese Werte jeweils erreicht?"
   ]
  },
  {
   "cell_type": "code",
   "execution_count": null,
   "id": "8de73ab5",
   "metadata": {},
   "outputs": [],
   "source": [
    "% your code here"
   ]
  },
  {
   "cell_type": "markdown",
   "id": "167e20d9",
   "metadata": {},
   "source": [
    "## 5. Zusatz: Dämpfung und animierter Plot\n",
    "\n",
    "Ergänzen Sie zur Kräftebilanz eine verallgemeinerte Dämpfungskraft $F_\\text{d}=d\\cdot\\begin{pmatrix}\\dot{x}\\\\\\dot{y}\\end{pmatrix}$, mit $d=0.5$, sodass die Kugel nach einer gewissen Zeit zum Stillstand kommt.\n",
    "\n",
    "Animieren Sie anschließend den Lauf der Kugel, indem Sie mittels `for`-Schleife die Ergebnisse pro Zeitschritt nacheinander anzeigen lassen."
   ]
  },
  {
   "cell_type": "code",
   "execution_count": null,
   "id": "94f6ca85",
   "metadata": {},
   "outputs": [],
   "source": [
    "% if your Octave kernel does not plot, write `graphics_toolkit(\"gnuplot\")`\n",
    "for i = 1:length(t)\n",
    "    plot(q(i,1),q(i,3),'x')\n",
    "    grid on\n",
    "    axis([0,10,0,2])\n",
    "    pause(0.05)\n",
    "    drawnow\n",
    "end"
   ]
  },
  {
   "cell_type": "markdown",
   "id": "2ceb8f0e",
   "metadata": {},
   "source": [
    "## Lösung\n",
    "\n",
    "<iframe width=\"560\" height=\"315\" src=\"https://www.youtube.com/embed/-ESpy4UdihU\" frameborder=\"0\" allow=\"accelerometer; autoplay; encrypted-media; gyroscope; picture-in-picture\" allowfullscreen></iframe>"
   ]
  }
 ],
 "metadata": {
  "kernelspec": {
   "display_name": "Octave",
   "language": "octave",
   "name": "octave"
  },
  "language_info": {
   "file_extension": ".m",
   "help_links": [
    {
     "text": "GNU Octave",
     "url": "https://www.gnu.org/software/octave/support.html"
    },
    {
     "text": "Octave Kernel",
     "url": "https://github.com/Calysto/octave_kernel"
    },
    {
     "text": "MetaKernel Magics",
     "url": "https://metakernel.readthedocs.io/en/latest/source/README.html"
    }
   ],
   "mimetype": "text/x-octave",
   "name": "octave",
   "version": "6.2.0"
  }
 },
 "nbformat": 4,
 "nbformat_minor": 5
}
