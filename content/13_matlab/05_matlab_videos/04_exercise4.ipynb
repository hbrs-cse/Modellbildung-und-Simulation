{
 "cells": [
  {
   "cell_type": "markdown",
   "id": "b934261b",
   "metadata": {},
   "source": [
    "# 4. Flächenberechnung und Newtonverfahren (1D)\n",
    "\n",
    "Aufgabe dieser Übung ist es, die optimale Flächennutzung von Solarpanelen für ein kreisförmiges Dach zu berechnen.\n",
    "\n",
    "Es stehen zwei Module zur Auswahl. Die Berechnung erfolgt mittels dem eindimensionalen Newtonverfahren.\n",
    "\n",
    "## Situation\n",
    "\n",
    "Auf das kreisförmige Dach eines Lagergebäudes sollen Photovoltaik-Module installiert werden. Zur Auswahl stehen zwei verschiedene Module:\n",
    "\n",
    "Modul 1: 0,85m x 1,74m, 133€\n",
    "\n",
    "Modul 2: 0,98m x 1,62m, 143€\n",
    "\n",
    "Ziel ist eine maximale Ausnutzung der Dachfläche.\n",
    "\n",
    "```{admonition} Hinweis\n",
    "Im Rahmen der Aufgabe wird angenommen, dass die Module alle entlang eines Rechteck-Rasters montiert werden. Eine verschobene Anordnung (ähnlich einem Mauerwerk) wird nicht betrachtet.\n",
    "```\n",
    "\n",
    "```{admonition} Tipp\n",
    ":class: tip\n",
    "Berechnen Sie zunächst alle nötigen Werte für einen Viertelkreis und rechnen Sie anschließend alles auf einen vollen Kreis hoch.\n",
    "```\n",
    "\n",
    "## 1. Kreis-Plot\n",
    "\n",
    "Erzeugen Sie ein neues Skript und legen Sie dort die functions `main` und `circle` an. Ergänzen Sie nun die Funktion `circle` so, dass Sie die y-Werte eines Kreises abhängig von x ausgibt. Der Radius des Dachs beträgt 10m.\n",
    "\n",
    "Plotten Sie nun einen Viertelkreis."
   ]
  },
  {
   "cell_type": "code",
   "execution_count": null,
   "id": "e52cfda6",
   "metadata": {},
   "outputs": [],
   "source": [
    "%% file main.m\n",
    "\n",
    "function main\n",
    "end\n",
    "\n",
    "function circle\n",
    "    axis equal\t\t% Legt gleiche Seitenverhältnisse für x- und y-Achse im Plot fest\n",
    "end"
   ]
  },
  {
   "cell_type": "markdown",
   "id": "d1d9744e",
   "metadata": {},
   "source": [
    "```{admonition} Hinweis\n",
    "Die Formel eines Kreises lautet $y=\\sqrt{r^2-x^2}$.\n",
    "```"
   ]
  },
  {
   "cell_type": "markdown",
   "id": "84c5a261",
   "metadata": {},
   "source": [
    "## 2. Berechnung der Modulverteilung\n",
    "\n",
    "Zur Berechnung der Modulverteilung sollten Sie wie folgt vorgehen (Modulbreite: $xw$, Modulhöhe: $yw$):\n",
    "\n",
    "1. Start einer Schleife bei $x(i)$, z.B. $x = 0$.\n",
    "2. $x$ um $xw$ erhöhen.\n",
    "3. Prüfung, ob Kreis bei $x(i) = x(i-1) + xw$ noch oberhalb von $yw$ liegt.\n",
    "\n",
    "_Wenn ja_: Anzahl an Module in diesem Intervall ist gleich y-Wert des Kreises bei $x(i)$ geteilt durch Modulhöhe $yw$ (auf ganze Zahl abrunden).\n",
    "\n",
    "_Wenn nein_: Anzahl Module ist gleich Null.\n",
    "\n",
    "4. Wieder bei a beginnen. Modulanzahlen bei jedem Schleifendurchlauf aufaddieren. Schleife solange durchlaufen lassen, bis $x(i)$ größer als $r$ ist.\n",
    "\n",
    "```{image} images/circle_approximation.png\n",
    ":alt: cicle modules approximation\n",
    ":width: 600px\n",
    ":align: center\n",
    "```"
   ]
  },
  {
   "cell_type": "code",
   "execution_count": null,
   "id": "7acd13ae",
   "metadata": {},
   "outputs": [],
   "source": [
    "% your code here"
   ]
  },
  {
   "cell_type": "markdown",
   "id": "52af5cfe",
   "metadata": {},
   "source": [
    "## 3. Plotten der Modulverteilung\n",
    "\n",
    "Plotten Sie die Modulverteilung für einen Viertelkreis mit der MATLAB-Funktion `rectangle`."
   ]
  },
  {
   "cell_type": "code",
   "execution_count": null,
   "id": "2b073918",
   "metadata": {},
   "outputs": [],
   "source": [
    "% Plottet ein Rechteck mit unterer, linker Ecke bei x und y sowie den Kantenlängen xw und yw:\n",
    "rectangle(‘Position‘,[x,y,xw,yw])"
   ]
  },
  {
   "cell_type": "markdown",
   "id": "ce2b7636",
   "metadata": {},
   "source": [
    "```{admonition} Tipp\n",
    ":class: tip\n",
    "Ergänzen Sie die Berechnung aus 2. so, dass Sie pro Durchlauf die Anzahl der Module auf einem x-Intervall speichern.\n",
    "Somit wissen Sie für den Plot, wie viele Module pro x-Schritt erzeugt werden müssen.\n",
    "```\n",
    "\n",
    "## 4. Auswertung\n",
    "\n",
    "Geben Sie an, wie viele Module jeweils maximal auf der gesamten Dachfläche platziert werden können und welche Fläche diese Module einnehmen würden.\n",
    "Ist das Modul für mehr Gesamtfläche die günstigere oder teurere Wahl?\n",
    "\n",
    "## 5. Berechnung Einspeisedauer\n",
    "\n",
    "Ein beispielhafter Tagesgang der PV-Leistung kann vereinfacht über folgende Funktion dargestellt werden ($t$ in Stunden von $0…24$, $P$ normalisiert als $0…1$):\n",
    "\n",
    "$$P(t)=e^{-\\left(\\frac{t-13}{3,6}\\right)^2}$$\n",
    "\n",
    "Plotten Sie die Funktion über 24h."
   ]
  },
  {
   "cell_type": "code",
   "execution_count": null,
   "id": "07532df8",
   "metadata": {},
   "outputs": [],
   "source": [
    "% your code here"
   ]
  },
  {
   "cell_type": "markdown",
   "id": "7f2b7e50",
   "metadata": {},
   "source": [
    "```{image} images/plot_pv_power.png\n",
    ":alt: Plot of PV Power\n",
    ":width: 800px\n",
    ":align: center\n",
    "```"
   ]
  },
  {
   "cell_type": "markdown",
   "id": "f9437876",
   "metadata": {},
   "source": [
    "Die Leistung der PV-Anlage ist so dimensioniert, dass in der Woche (Mo-Fr) nur etwa 85%, am Wochenende nur ca. 30% der maximal verfügbaren Leistung benötigt werden. Der Rest wird gespeichert oder ins Netz eingespeist.\n",
    "\n",
    "Bestimmen Sie numerisch, mit dem Newtonverfahren, von wann bis wann jeweils überschüssige Leistung produziert wird.\n",
    "Ermitteln Sie daraus die Anzahl an Stunden pro Woche, an welchen Leistung eingespeist wird."
   ]
  },
  {
   "cell_type": "code",
   "execution_count": null,
   "id": "70cacf64",
   "metadata": {},
   "outputs": [],
   "source": [
    "% your code here"
   ]
  },
  {
   "cell_type": "markdown",
   "id": "8ff959b2",
   "metadata": {},
   "source": [
    "```{admonition} Hinweis\n",
    "Die Vorschrift des eindimensionalen Newtonverfahrens lautet:\n",
    "\n",
    "$$x_(i+1)=x_i-a \\frac{f(x_i)}{f'(x_i)}$$\n",
    "\n",
    "Die Ableitung $f'(x)$ können Sie zuvor analytisch bestimmen.\n",
    "\n",
    "$a$ ist ein Dämpfungsparameter (im Normalfall $= 1$). Falls Sie Probleme bei der Lösung bekommen können Sie $0<a<1$ setzen.\n",
    "```\n",
    "\n",
    "## Lösung\n",
    "\n",
    "<iframe width=\"560\" height=\"315\" src=\"https://www.youtube.com/embed/MaezHEYBYIE\" frameborder=\"0\" allow=\"accelerometer; autoplay; encrypted-media; gyroscope; picture-in-picture\" allowfullscreen></iframe>\n",
    "<div style=\"text-align: right;font-size:80%;color:grey\"> - Hinweis: Dieses Video ist von YouTube aus eingebunden und nicht Teil des frei lizenzierten Materials! - </div> <br>\n",
    "\n"
   ]
  }
 ],
 "metadata": {
  "kernelspec": {
   "display_name": "Octave",
   "language": "octave",
   "name": "octave"
  },
  "language_info": {
   "file_extension": ".m",
   "help_links": [
    {
     "text": "GNU Octave",
     "url": "https://www.gnu.org/software/octave/support.html"
    },
    {
     "text": "Octave Kernel",
     "url": "https://github.com/Calysto/octave_kernel"
    },
    {
     "text": "MetaKernel Magics",
     "url": "https://metakernel.readthedocs.io/en/latest/source/README.html"
    }
   ],
   "mimetype": "text/x-octave",
   "name": "octave",
   "version": "6.2.0"
  }
 },
 "nbformat": 4,
 "nbformat_minor": 5
}
