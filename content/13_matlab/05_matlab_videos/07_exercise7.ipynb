{
 "cells": [
  {
   "cell_type": "markdown",
   "id": "4d3c78ec",
   "metadata": {},
   "source": [
    "# 7. Gewöhnliche Differentialgleichungen\n",
    "\n",
    "Diese Übung beschäftigt sich mit ODEs (Ordinary Differential Equations).\n",
    "\n",
    "In Aufgabe 1 wird das sog. \"Inverse Tangentenproblem von Leibniz\" gelöst.\n",
    "\n",
    "Aufgabe 2 beschäftigt sich mit der Simulation eines einfachen RCL-Schwingkreis mit anliegender Wechselspannung.\n",
    "\n",
    "## 1.Inverses Tangentenproblem („Taschenuhrproblem“)\n",
    "\n",
    "Lösen Sie das inverse Tangentenproblem von Leibniz:\n",
    "\n",
    "_Auf welcher Bahn y(x) bewegt sich die Taschenuhr, wenn sie entlang ihrer Kette der Länge a gezogen wird?_\n",
    "\n",
    "$$y'(x) = \\frac{y(x)}{\\sqrt{a^2-y^2(x)}}$$\n",
    "\n",
    "```{image} images/euler_pocketwatch.png\n",
    ":alt: Pocketwatch movement\n",
    ":width: 600px\n",
    ":align: center\n",
    "```\n",
    "\n",
    "```{admonition} Hinweis\n",
    "Legen Sie für die DGL eine eigene `function` an und lösen Sie diese mit der MATLAB-Routine `ode45`.\n",
    "```"
   ]
  },
  {
   "cell_type": "code",
   "execution_count": null,
   "id": "b984034a",
   "metadata": {},
   "outputs": [],
   "source": [
    "function main\n",
    "    xspan = %...?\n",
    "    y0 = %...?\n",
    "    [x,y] = ode45(@dgl,xspan,y0);\n",
    "    plot(x,y)\n",
    "end\n",
    "\n",
    "function dy = dgl(x,y)\n",
    "    dy = %...?\n",
    "end"
   ]
  },
  {
   "cell_type": "markdown",
   "id": "7bec6bfc",
   "metadata": {},
   "source": [
    "## 2. RCL-Schwingkreis\n",
    "\n",
    "Simulieren Sie den Strom in einem RCL-Schwingkreis mit anliegender Wechselspannung.\n",
    "\n",
    "```{image} images/rcl.png\n",
    ":alt: RCL Circuit\n",
    ":width: 600px\n",
    ":align: center\n",
    "```\n",
    "\n",
    "$$\\frac{d^2}{dt^2}i(t) = -\\frac{1}{LC}i(t)-\\frac{R}{L}\\frac{d}{dt}i(t)-\\frac{1}{L}\\frac{d}{dt}u(t)$$\n",
    "\n",
    "Prüfen Sie das Verhalten des Schwingkreises mit den beiden Parametersets:\n",
    "\n",
    "Schwingkreis Parameter 1:\\\n",
    "$R = 0, 1, 10, 100, 1000$\\\n",
    "$C = 0.01$\\\n",
    "$L = 0.01$\n",
    "\n",
    "Schwingkreis Parameter 2:\\\n",
    "$R = 10$\\\n",
    "$C = 0.01$\\\n",
    "$L = 1, 0.1, 0.01, 0.001, 0.0001$\n",
    "\n",
    "Für die anliegende Wechselspannung gilt:\n",
    "\n",
    "$$U(t) = 5\\cdot\\sin(50\\cdot 2\\pi\\cdot t) [V]$$\n",
    "\n",
    "```{admonition} Hinweis\n",
    "Transformieren Sie die DGL zweiter Ordnung auf zwei DGLs erster Ordnung und legen Sie für das resultierende DGL-System eine separate `function` an, welche Sie mit `ode45` lösen.\n",
    "```"
   ]
  },
  {
   "cell_type": "code",
   "execution_count": null,
   "id": "491e1c74",
   "metadata": {},
   "outputs": [],
   "source": [
    "function main\n",
    "    tspan = [0, 0.5];\n",
    "    y0 = %...?\n",
    "    [t,y] = ode45(@dgl,tspan,y0);\n",
    "    plot(t,y(:,1))\n",
    "end\n",
    "\n",
    "function dy = dgl(t,y)\n",
    "    dy(1,1) = %...?\n",
    "    dy(2,1) = %...?\n",
    "end"
   ]
  },
  {
   "cell_type": "markdown",
   "id": "af5466e9",
   "metadata": {},
   "source": [
    "## Lösung\n",
    "\n",
    "<iframe width=\"560\" height=\"315\" src=\"https://www.youtube.com/embed/nJYLrdNfYpE\" frameborder=\"0\" allow=\"accelerometer; autoplay; encrypted-media; gyroscope; picture-in-picture\" allowfullscreen></iframe>"
   ]
  }
 ],
 "metadata": {
  "kernelspec": {
   "display_name": "Octave",
   "language": "octave",
   "name": "octave"
  },
  "language_info": {
   "file_extension": ".m",
   "help_links": [
    {
     "text": "GNU Octave",
     "url": "https://www.gnu.org/software/octave/support.html"
    },
    {
     "text": "Octave Kernel",
     "url": "https://github.com/Calysto/octave_kernel"
    },
    {
     "text": "MetaKernel Magics",
     "url": "https://metakernel.readthedocs.io/en/latest/source/README.html"
    }
   ],
   "mimetype": "text/x-octave",
   "name": "octave",
   "version": "6.2.0"
  }
 },
 "nbformat": 4,
 "nbformat_minor": 5
}
