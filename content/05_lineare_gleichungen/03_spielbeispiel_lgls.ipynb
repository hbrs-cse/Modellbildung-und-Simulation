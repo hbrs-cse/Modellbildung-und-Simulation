{
 "cells": [
  {
   "cell_type": "markdown",
   "id": "62eb4245-9729-4520-8ad7-b168fa208739",
   "metadata": {},
   "source": [
    "# Spielbeispiel zu linearen Gleichungssystemen"
   ]
  },
  {
   "cell_type": "markdown",
   "id": "1d1cdc91-fc7e-489c-a94f-f9dc0922bde1",
   "metadata": {},
   "source": [
    "Hier finden Sie eine kleine Demonstration eines linearen Gleichungssystems zum \"Herumspielen\". **Die Darstellung in einem eigenen Tab ist sehr zu empfehlen.** Klicken Sie <a href=\"https://share.streamlit.io/PhiSpel/spielbeispiel-lgls\" target=\"_blank\">hier</a>, um die Seite in einem neuen Tab zu öffnen."
   ]
  },
  {
   "cell_type": "markdown",
   "metadata": {},
   "source": [
    "<!DOCTYPE html>\n",
    "<html>\n",
    "<body margin = \"0\">\n",
    "\n",
    "<iframe src=\"https://share.streamlit.io/PhiSpel/spielbeispiel-lgls\" width=\"100%\" height=\"700\" frameborder=\"0\">\n",
    "  <p>Your browser does not support iframes.</p>\n",
    "</iframe>\n",
    "\n",
    "</body>\n",
    "</html>"
   ]
  },
  {
   "cell_type": "markdown",
   "metadata": {},
   "source": [
    "<div style=\"text-align: left;font-size:80%;color:grey\"> - Hinweis: Diese Seite ist von Streamlit eingebunden und unterliegt der dort angegebenen Lizenz! -\n"
   ]
  },
  {
   "cell_type": "code",
   "execution_count": null,
   "id": "4257a7dc-1041-4f72-9ce5-bb5b60e07e94",
   "metadata": {},
   "outputs": [],
   "source": []
  }
 ],
 "metadata": {
  "kernelspec": {
   "display_name": "Python 3 (ipykernel)",
   "language": "python",
   "name": "python3"
  },
  "language_info": {
   "codemirror_mode": {
    "name": "ipython",
    "version": 3
   },
   "file_extension": ".py",
   "mimetype": "text/x-python",
   "name": "python",
   "nbconvert_exporter": "python",
   "pygments_lexer": "ipython3",
   "version": "3.9.5"
  }
 },
 "nbformat": 4,
 "nbformat_minor": 5
}
