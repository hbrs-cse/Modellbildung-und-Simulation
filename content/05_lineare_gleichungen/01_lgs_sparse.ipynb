{
 "cells": [
  {
   "cell_type": "markdown",
   "metadata": {},
   "source": [
    "# Lösung linearer Gleichungssysteme\n",
    "\n",
    "```{admonition} Anmerkung\n",
    ":class: tip\n",
    "Diese Übung behandelt die Lösung linearer Gleichungssysteme mit Matlab. Im Kapitel \"Modellierung einer Highline\" finden Sie ein anspruchsvolles anwendungsnahes Beispiel, bei dem das Gleichungssystem erst aufgestellt werden muss, bevor es mit den hier erlernten Methoden gelöst werden kann.\n",
    "```\n",
    "\n",
    "Gegeben ist das LGS $Ax=b$ der Dimension $N$ mit\n",
    "\n",
    "$$A=\n",
    "\\begin{bmatrix}\n",
    "    -2      &  1 &  0 & \\dots &0 & 0  &      1 \\\\\n",
    "     1      & -2 &  1 & \\dots    &0   & 0  &      0 \\\\\n",
    "     0      &  1 & -2 & \\dots    &0   & 0  &      0 \\\\ \n",
    "     \\vdots & \\vdots   & \\vdots   & \\ddots & \\vdots   & \\vdots & \\vdots\\\\\n",
    "     0      &  0 &  0 &  \\dots  &-2 & 1  &      0 \\\\ \n",
    "     0      &  0 &  0 &  \\dots  &1& -2 &     1 \\\\\n",
    "     0      &  0 &  0 &  \\dots  &0& 1  &     -2\n",
    "\\end{bmatrix}\n",
    "\\qquad\\text{und}\\qquad\n",
    "b=\n",
    "\\begin{bmatrix}\n",
    "0 \\\\ 1 \\\\ 1\\\\\\vdots\\\\1\\\\0\\\\0\n",
    "\\end{bmatrix}$$\n",
    "\n",
    "Alle Diagonalelemente der Matrix $A$ seine also $-2$, die Nachbarelemente der Diagonalelemente seien allesamt $1$ Das letzte Element der ersten Zeile sei ebenfalls $1$. Für den Vektor $b$ gelte $b_i = 1$ für $i = \\frac{N}{4}$ ... $\\frac{3N}{4}$, sonst $b_i = 0$. Dabei soll $N$ ein Vielfaches von 4 sein."
   ]
  },
  {
   "cell_type": "markdown",
   "metadata": {},
   "source": [
    "## Aufgabe 1 - Erstellung der Matrix und des Lösungsvektors\n",
    "\n",
    "Erstellen Sie die Matrix $A$ und den Lösungsvektor $b$ in Abhängigkeit von $N$."
   ]
  },
  {
   "cell_type": "code",
   "execution_count": null,
   "metadata": {},
   "outputs": [],
   "source": [
    "N = %YOUR CODE HERE\n",
    "\n",
    "b = zeros(N,1);  b(N/4:3*N/4)=1;\n",
    "\n",
    "A = %YOUR CODE HERE"
   ]
  },
  {
   "cell_type": "markdown",
   "metadata": {},
   "source": [
    "## Aufgabe 2 - Lösung des Gleichungssystems\n",
    "\n",
    "Lösen Sie das Gleichungssystem jeweils für die Dimensionen $N=4, 8, 12, 40, 400, \\cdots$ mit dem backslash-Operator `A\\b`. MATLAB analysiert die Struktur der Matrix und wählt automatisch einen geeigneten Löser für dieses Gleichungssystem. Berechnen Sie jeweils die Genauigkeit der berechneten Lösung mit `max(abs(A*x-b))`. Messen Sie jeweils die benötigte Rechenzeit mithilfe der MATLAB-Funktionen `tic` und `toc`.\n",
    "\n",
    "```{admonition} Anmerkung\n",
    ":class: tip\n",
    " In \"Modellierung einer Highline\" wählen Sie den Löser selbst aus und vergleichen die Performanz der verschiedenen Löseverfahren.\n",
    "```"
   ]
  },
  {
   "cell_type": "code",
   "execution_count": null,
   "metadata": {},
   "outputs": [],
   "source": [
    "tic\n",
    "%YOUR CODE HERE\n",
    "time=toc"
   ]
  },
  {
   "cell_type": "markdown",
   "metadata": {},
   "source": [
    "Bis zu welcher Größe kann MATLAB (auf Ihrem Rechner) dieses Gleichungssystem berechnen?"
   ]
  },
  {
   "cell_type": "markdown",
   "metadata": {},
   "source": [
    "## Aufgabe 3 - Erstellung einer Matrix im Sparse-Matrix-Format\n",
    "\n",
    "Unsere Matrix $A$ enthält sehr viele Nullen. Eine solche Matrix nennt man eine \"dünnbesetzte Matrix\" oder englisch \"sparse matrix\". Dünnbesetzte Matrizen tauchen bei der Diskretisierung von Differentialgleichungen auf, wie Sie bei vielen Simulationsmethoden (Strömungssimulation, FEM, Mehrkörpersimulationen, ...) gelöst werden müssen. Die ganzen Nullen benötigen leider viel Speicherplatz und führen auch zu vielen überflüssigen Rechenoperationen, wie z.B. Multiplikationen oder Additionen mit Null, wodurch die Performance von Algorithmen leidet.\n",
    "\n",
    "Viele numerische Algorithmen werden hinsichtlich solcher dünnbesetzter Matrizen optimiert. Wir werden nun die Matrix A in einem speziellen Format für dünnbesetzte Matrizen erzeugen und anschließend das Gleichungssystem erneut lösen.\n",
    "\n",
    "a. Kommentieren Sie den MATLAB-Code zur Erzeugung der dünnbesetzten Matrix A im Sparse-Matrix-Format an den vorgesehenen Stellen.\n",
    "\n",
    "b. Welche Bedeutung, welchen Datentyp und welche Größe haben die Variablen `k`, `row`, `column` und `value`?"
   ]
  },
  {
   "cell_type": "code",
   "execution_count": null,
   "metadata": {},
   "outputs": [],
   "source": [
    "k = 0;\n",
    "# Comment this loop here\n",
    "for i=1:N\n",
    "    # Comment this next line here\n",
    "    k = k+1; row(k) = i; column(k) = i; value(k) = -2;\n",
    "    # Comment this if statement here\n",
    "    if (i > 1) \n",
    "        k = k+1; row(k) = i; column(k) = i-1; value(k) = 1;\n",
    "    end\n",
    "    # Comment this if statement here\n",
    "    if (i<N) \n",
    "        k = k+1; row(k) = i; column(k) = i+1; value(k) = 1;\n",
    "    end\n",
    "end\n",
    "# Comment this next line here\n",
    "k = k+1; row(k) = 1; column(k) = N; value(k) = 1;\n",
    "Asparse = sparse(row,column,value,N,N);"
   ]
  },
  {
   "cell_type": "markdown",
   "metadata": {},
   "source": [
    "## Aufgabe 4 - Lösung des LGS im Sparse-Matrix-Format\n",
    "\n",
    "Lösen Sie nun das LGS mit der Matrix im Sparse-Matrix-Format mit den selben Dimensionen $N$. Messen Sie wieder die Rechenzeit der Lösungsverfahren und berechnen Sie die Genauigkeit.\n",
    "\n",
    "Vergleichen Sie Rechenzeiten und Genauigkeiten mit denen aus Aufgabe 2. Wie groß dürfen die Matrizen im Sparse-Matrix-Format sein, um sie mit Matlab berechnen zu können?"
   ]
  },
  {
   "cell_type": "code",
   "execution_count": null,
   "metadata": {},
   "outputs": [],
   "source": [
    "% space for the solution"
   ]
  }
 ],
 "metadata": {
  "kernelspec": {
   "display_name": "Octave",
   "language": "octave",
   "name": "octave"
  },
  "language_info": {
   "file_extension": ".m",
   "help_links": [
    {
     "text": "GNU Octave",
     "url": "https://www.gnu.org/software/octave/support.html"
    },
    {
     "text": "Octave Kernel",
     "url": "https://github.com/Calysto/octave_kernel"
    },
    {
     "text": "MetaKernel Magics",
     "url": "https://metakernel.readthedocs.io/en/latest/source/README.html"
    }
   ],
   "mimetype": "text/x-octave",
   "name": "octave",
   "version": "5.2.0"
  }
 },
 "nbformat": 4,
 "nbformat_minor": 4
}
