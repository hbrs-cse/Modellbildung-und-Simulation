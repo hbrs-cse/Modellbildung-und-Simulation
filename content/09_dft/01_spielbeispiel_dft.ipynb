{
 "cells": [
  {
   "cell_type": "markdown",
   "id": "62eb4245-9729-4520-8ad7-b168fa208739",
   "metadata": {},
   "source": [
    "# Spielbeispiel: Fourier Transformation"
   ]
  },
  {
   "cell_type": "markdown",
   "id": "1d1cdc91-fc7e-489c-a94f-f9dc0922bde1",
   "metadata": {},
   "source": [
    "Hier finden Sie eine Demonstration der Fourier Transformation zum \"Herumspielen\". **Die Darstellung in einem eigenen Tab ist sehr zu empfehlen.** Klicken Sie <a href=\"https://phispel-spielbeispiel-dft-streamlit-app-a82te5.streamlit.app/\" target=\"_blank\">**hier**</a>, um die Seite in einem neuen Tab zu öffnen."
   ]
  },
  {
   "cell_type": "markdown",
   "id": "b64a94d8",
   "metadata": {},
   "source": [
    "<!DOCTYPE html>\n",
    "<html>\n",
    "<body margin = \"0\">\n",
    "\n",
    "<iframe src=\"https://phispel-spielbeispiel-dft-streamlit-app-a82te5.streamlit.app/?embedded=true\" width=\"100%\" height=\"700\" frameborder=\"0\">\n",
    "  <p>Your browser does not support iframes.</p>\n",
    "</iframe>\n",
    "\n",
    "</body>\n",
    "</html>"
   ]
  },
  {
   "cell_type": "markdown",
   "id": "39e93ce7",
   "metadata": {},
   "source": [
    "<div style=\"text-align: left;font-size:80%;color:grey\"> - Hinweis: Diese Seite ist von Streamlit eingebunden und unterliegt der dort angegebenen Lizenz! -\n"
   ]
  }
 ],
 "metadata": {
  "kernelspec": {
   "display_name": "Python 3 (ipykernel)",
   "language": "python",
   "name": "python3"
  },
  "language_info": {
   "codemirror_mode": {
    "name": "ipython",
    "version": 3
   },
   "file_extension": ".py",
   "mimetype": "text/x-python",
   "name": "python",
   "nbconvert_exporter": "python",
   "pygments_lexer": "ipython3",
   "version": "3.10.8"
  }
 },
 "nbformat": 4,
 "nbformat_minor": 5
}
