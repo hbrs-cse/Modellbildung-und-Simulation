{
 "cells": [
  {
   "cell_type": "markdown",
   "metadata": {},
   "source": [
    "````{grid} 2\n",
    "```{grid-item-card}\n",
    ":class-header: bg-light\n",
    "Voraussetzungen\n",
    "^^^\n",
    "- mathematische Grundlagen der Fouriertransformation\n",
    "```\n",
    "```{grid-item-card}\n",
    ":class-header: bg-light\n",
    "Lerninhalte\n",
    "^^^\n",
    "- Ausnutzung des Doppler Effekts zur Geschwindigkeitsmessung mithilfe der DFT\n",
    "- digitale Verarbeitung von Audiosignalen\n",
    "```\n",
    "````\n"
   ]
  },
  {
   "cell_type": "markdown",
   "metadata": {},
   "source": [
    "(doppler)=\n",
    "# Der Doppler Effekt\n",
    "\n",
    "```{admonition} Hinweis \n",
    "Der Inhalt dieser Seite lässt sich nicht interaktiv auf dieser Seite ausführen. \n",
    "```\n",
    "\n",
    "In [dem folgenden Video](https://www.youtube.com/watch?v=a3RfULw7aAY) ist kurz ein Verkehrsschild zu sehen: Hier ist eine Maximalgeschwindigkeit von 50 mph, bzw. ca. 80 km/h vorgeschrieben.\n",
    "\n",
    "<iframe width=\"560\" height=\"315\" src=\"https://www.youtube.com/embed/a3RfULw7aAY?rel=0&amp;controls=0&amp;showinfo=0\" frameborder=\"0\" allowfullscreen></iframe>\n",
    "<div style=\"text-align: left;font-size:80%;color:grey\"> - Hinweis: Dieses Video ist von YouTube aus eingebunden und nicht Teil des frei lizenzierten Materials! - </div> <br>\n",
    "\n",
    "Eine Frage drängt sich nahezu auf: ***Hält sich der Fahrer des laut hupenden Autos an diese Geschwindigkeitsbegrenzung?***\n",
    "\n",
    "```{image} https://upload.wikimedia.org/wikipedia/commons/8/8b/MUTCD_R2-1.svg\n",
    ":alt: Matlab Logo\n",
    ":width: 300px\n",
    ":align: center\n",
    "```\n",
    "<div style=\"text-align: right\"> Abbildung 1: \"MUTCD R2-1\", <a href=\"https://en.wikipedia.org/wiki/Manual_on_Uniform_Traffic_Control_Devices\n",
    "\" >Manual on Uniform Traffic Control Devices</a>, <a href=\"https://en.wikipedia.org/wiki/Public_domain\" >[Public domain]</a> via <a href=\"https://commons.wikimedia.org/wiki/File:MUTCD_R2-1.svg\" >Wikimedia Commons</a></div> <br>\n",
    "\n",
    "Eine weitere Sache fällt auf: Die Tonhöhe der Hupe ändert sich bei der Vorbeifahrt von einem hohen zu einem tiefen Ton. Dieses Phänomen wird als **Doppler Effekt** bezeichnet. Im Alltag macht er sich vor allem dann bemerkbar, wenn ein Krankenwagen oder ein Polizeiauto vorbeifährt und sich der Klang der Sirene ändert. In dem Moment, in dem das Fahrzeug vorbeifährt, klingt die Sirene plötzlich viel tiefer. Der Doppler Effekt ist auch die Ursache für den charakteristischen Klang von Rennautos, wenn sie an der Zuschauertribüne vorbeirasen."
   ]
  },
  {
   "cell_type": "markdown",
   "metadata": {},
   "source": [
    "## Frequenzanalyse\n",
    "\n",
    "Mit einem beliebigen Online *Youtube-zu-mp3-Converter* lässt sich die Tonspur des Videos extrahieren und mit der Funktion `audioread` in Matlab einlesen. Mit Hilfe der Signalverarbeitungstoolbox kann man sich dann ein Spektrogramm erstellen:\n",
    "\n",
    "```{image} images/honking_car_spectogram.png\n",
    ":align: center\n",
    "```\n",
    "<div style=\\\"text-align: right\\\"> Abbildung 2: Spektrogramm (Frequenz in Herz über Zeit in Sekunden) eines vorbeifahrenden, hupenden Autos. </div> <br>\n",
    "\n",
    "Auf der x-Achse ist die Zeit und auf der y-Achse die Frequenz aufgetragen. Die Farbe gibt eine Auskunft über die dominanten Frequenzen zu jedem Zeitpunkt. Zwischen Sekunde 6 und Sekunde 7 fährt das Auto an der Kamera vorbei und der Abfall in der Tonhöhe ist gut zu erkennen.\n",
    "\n",
    "Die vielen horizontalen Linien sind ein Zeichen dafür, dass die Hupe des Fahrzeuges keinen reinen Sinuston erzeugt, sondern eine Überlagerung vieler Frequenzen ist. Eine sogenannte Fouriertransformation der Tonspur gibt uns Auskunft über die dominanten Frequenzen im gesamten Zeitfenster:\n",
    "\n",
    "```{image} images/honking_car_fouriertransform.png\n",
    ":align: center\n",
    "```\n",
    "<div style=\\\"text-align: right\\\"> Abbildung 3: Fouriertransformation (Amplitude über Frequenz in Herz) des Geräuschs aus Abbildung 2. </div> <br>\n",
    "\n",
    "Für jede horizontale Linie im Spektrogramm erhalten wir einen Peak in der Fouriertransformation. Der Ton der Hupe ist also eine Überlagerung von hauptsächlich drei Tönen bzw. Frequenzen.  \n",
    "- Die dominanteste Frequenz von 1658 Hz (*[dreigestrichenes gis](https://www.youtube.com/watch?v=rv6XQwmpJAE)*) fällt beim Vorbeifahren auf 1449 Hz herab.\n",
    "- Die zweite Frequenz von 1104 Hz fällt beim Vorbeifahren auf 964 Hz ab.\n",
    "- Die dritte Frequenz von 456 Hz fällt herab auf 399 Hz."
   ]
  },
  {
   "cell_type": "markdown",
   "metadata": {},
   "source": [
    "## Ursache des Dopplereffektes\n",
    "\n",
    "Die Hupe des Fahrzeuges erzeugt einen Ton, oder mit anderen Worten, regt die umgebende Luft zum Schwingen an. Wenn diese Schwingungen auf unser Ohr treffen, nehmen wir sie als Ton wahr.  Das Geräusch der Hupe breitet sich mit der Schallgeschwindigkeit von ca. 340 m/s im Raum aus. \n",
    "\n",
    "Die Schallwellen breiten sich kreisförmig vom Auto aus. Wenn das Fahrzeug in Bewegung ist werden die Wellenberge vor dem Auto gestaucht und hinter dem Auto gestreckt, da es in eine Richtung den zuvor ausgesendeten Schallwellen hinterher fährt.\n",
    "\n",
    "```{image} https://upload.wikimedia.org/wikipedia/commons/9/9e/Doppler_effect.svg\n",
    ":alt: Matlab Logo\n",
    ":width: 300px\n",
    ":align: center\n",
    "```\n",
    "<div style=\"text-align: right\"> \"Abbildung 4: Doppler effect\", <a href=\"https://commons.wikimedia.org/wiki/User:Pbroks13\" >Pbroks13</a>, <a href=\"https://en.wikipedia.org/wiki/Public_domain\" >[Public domain]</a> via <a href=\"https://commons.wikimedia.org/wiki/File:Doppler_effect.svg\" >Wikimedia Commons</a></div> <br>\n",
    "\n",
    "Die gestauchten Wellenberge vor dem Fahrzeug haben also eine höhere Frequenz als die gestreckten Wellenberge hinter dem Fahrzeug und werden deshalb auch als höherer Ton wahrgenommen.\n",
    "\n",
    "```{image} https://upload.wikimedia.org/wikipedia/commons/9/90/Dopplerfrequenz.gif\n",
    ":align: center\n",
    "```\n",
    "<div style=\"text-align: right\">Abbildung 5: \"Dopplerfrequenz\", <a href=\"https://commons.wikimedia.org/wiki/User:Charly_Whisky\" >Charly Whisky</a>, <a href=\"https://creativecommons.org/licenses/by-sa/3.0/legalcode\" >[CC BY-SA 3.0]</a> via <a href=\"https://commons.wikimedia.org/wiki/File:Dopplerfrequenz.gif\" >Wikimedia Commons</a></div> <br>\n"
   ]
  },
  {
   "cell_type": "markdown",
   "metadata": {},
   "source": [
    "## Zurück zur ursprünglichen Fragestellung\n",
    "\n",
    "Wie schnell fährt denn nun das Auto? Angenommen das Auto ruht und die Frequenz der Hupe beträgt $f_A$. Das Signal breitet sich mit der Schallgeschwindigkeit von c = 340 m/s aus. Der Abstand zweier Wellenberge, also die Wellenlänge des Tons, ist dann\n",
    "\n",
    "$$ \\lambda_A = \\frac{c}{f_A}, $$\n",
    "\n",
    "also genau die Distanz, die das Signal in der Zeit $f_A^{-1}$ zurücklegt. Kommt das Auto auf uns zu verkürzt sich die Wellenlänge genau um die Strecke, die das Auto in der Zeit $f_A^{-1}$ zurücklegt. Ist $v$ die Geschwindigkeit des Autos, so verringert sich die Wellenlänge zu\n",
    "\n",
    "$$ \\lambda_{A,+} = \\frac{c}{f_A} - \\frac{v}{f_A} = \\frac{c-v}{f_A}. $$\n",
    "\n",
    "Diese verringerte Wellenlänge wird vom Beobachter als höhere Frequenz $f_{B,+}$ wahrgenommen:\n",
    "\n",
    "$$ f_{B,+} = \\frac{c}{\\lambda_{A,+}} = \\frac{c \\cdot f_A}{c-v}. $$\n",
    "\n",
    "Wenn wir die Originalfrequenz der Hupe kennen würden, könnten wir nun diese Gleichung nach $v$ umstellen um die Geschwindigkeit zu bestimmen. Aus unserer vorangeschalteten Frequenzanalyse kennen wir aber nur die Frequenz $f_{B,+}$ der Hupe, die wir wahrnehmen wenn das Auto auf uns zukommt und die Frequenz $f_{B,-}$, die wir wahrnehmen, wenn das Auto sich wieder von uns entfernt.\n",
    "\n",
    "Wir können die obigen Gleichungen aber für den Fall, dass das Auto sich von uns entfernt, genauso herleiten. In diesem Fall vergrößert sich die Wellenlänge genau um den Betrag, den das Auto in der Zeit $f_A^{-1}$ zurücklegt:\n",
    "\n",
    "$$ \\lambda_{A,-} = \\frac{c+v}{f_A}, $$\n",
    "\n",
    "was wir als tiefere Frequenz\n",
    "\n",
    "$$ f_{B,-} =  \\frac{c \\cdot f_A}{c+v}$$\n",
    "\n",
    "wahrnehmen. Wenn wir nun die Gleichung für $f_{B,+}$ durch die Gleichung für $f_{B,-}$ teilen, kürzt sich die unbekannte Frequenz $f_A$ raus:\n",
    "\n",
    "$$ \\frac{f_{B,+}}{f_{B,-}} = \\frac{c+v}{c-v}. $$\n",
    "\n",
    "Alle Werte in dieser Gleichung sind bekannt, bis auf $v$. Wir können also nach $v$ auflösen um die Geschwindigkeit des Autos aus den gemessenen Frequenzen zu bestimmen. Im Folgenden wird das für die drei identifizierten dominanten Frequenzen durchgeführt:"
   ]
  },
  {
   "cell_type": "code",
   "execution_count": 4,
   "metadata": {},
   "outputs": [
    {
     "name": "stdout",
     "output_type": "stream",
     "text": [
      "v_mph =\n",
      "\n",
      "   51.161   51.488   50.704\n",
      "\n"
     ]
    }
   ],
   "source": [
    "f1 = [1658, 1104, 456];  % frequencies approaching\n",
    "f2 = [1449,  964, 399];  % frequencies retreating\n",
    "\n",
    "c = 340;                  % speed of sound [m/s]\n",
    "km_to_miles = 0.621371;   % [miles/kilometer]\n",
    "\n",
    "% f1/f2 = (c+v)/(c-v) =>\n",
    "v = c*(f1 - f2)./(f1 + f2); %in  [m/s]\n",
    "\n",
    "\n",
    "v_kmh = v*3.6;\n",
    "v_mph = v_kmh*km_to_miles"
   ]
  },
  {
   "cell_type": "markdown",
   "metadata": {},
   "source": [
    "Die Toleranzen bei Geschwindigkeitsmessungen in USA liegen im Ermessen des Verkehrsbeamten, in der Regel geht man aber von ca. 5 mph aus. Glück gehabt!"
   ]
  }
 ],
 "metadata": {
  "kernelspec": {
   "display_name": "Octave",
   "language": "octave",
   "name": "octave"
  },
  "language_info": {
   "file_extension": ".m",
   "help_links": [
    {
     "text": "GNU Octave",
     "url": "https://www.gnu.org/software/octave/support.html"
    },
    {
     "text": "Octave Kernel",
     "url": "https://github.com/Calysto/octave_kernel"
    },
    {
     "text": "MetaKernel Magics",
     "url": "https://metakernel.readthedocs.io/en/latest/source/README.html"
    }
   ],
   "mimetype": "text/x-octave",
   "name": "octave",
   "version": "5.2.0"
  }
 },
 "nbformat": 4,
 "nbformat_minor": 4
}
