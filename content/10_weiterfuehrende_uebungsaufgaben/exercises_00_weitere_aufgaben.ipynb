{
 "cells": [
  {
   "cell_type": "markdown",
   "metadata": {},
   "source": [
    "## Weiterfuehrende Aufgaben"
   ]
  },
  {
   "cell_type": "markdown",
   "metadata": {},
   "source": [
    "### Übung 1 Aufgabe 2\n",
    "\n",
    "Gegeben seien die Messpunkte $(t_i,y_i)$, $i=1,..,n$ eines Versuches.\n",
    "Dabei bezeichnet $t_i$ einen Me\"szeitpunkt aus dem Intervall $[a,b]$ und $y_i$ den dazu geh\"origen\n",
    "Me\"swert. \n",
    "Programmieren Sie eine Funktion $f(t)$, die f\"ur ein beliebiges $t \\in [a,b]$\n",
    "einen Wert liefert, der auf der Verbindungslinie der benachbarten\n",
    "Me\"spunkte $(t_j,y_j)$ und $(t_{j+1},y_{j+1})$ liegt (lineare Interpolation).\n",
    "\n",
    "Arbeiten Sie mit folgenden Angaben:\n",
    "\n",
    "$n=11$, $[a,b]=[0,1]$,\n",
    "\n",
    "$t_i$ | 0 | 0.1 | 0.2 |0.3|0.4|0.5|0.6|0.7|0.8|0.9|1.0\n",
    "--- | --- | --- | --- | --- | --- | --- | --- | --- | --- | --- | ---\n",
    "$y_i$ | 0.00|0.31| 0.59|0.81|0.95|1.00|0.95|0.81|0.59|0.31|0.00\n",
    "\n",
    "Z.B. sollte also $f(0.05)=0.155$ liefern."
   ]
  },
  {
   "cell_type": "code",
   "execution_count": null,
   "metadata": {},
   "outputs": [],
   "source": []
  },
  {
   "cell_type": "markdown",
   "metadata": {},
   "source": [
    "### Übung 2 Aufgabe 3\n",
    "\n",
    "Stellen Sie fest, mit welchem Zahlentyp MATLAB arbeitet, indem Sie realmin, realmax und eps abfragen."
   ]
  },
  {
   "cell_type": "code",
   "execution_count": null,
   "metadata": {},
   "outputs": [],
   "source": []
  },
  {
   "cell_type": "markdown",
   "metadata": {},
   "source": [
    "Berechnen Sie mit MATLAB: $\\sin(0)/\\sin(0)$, $\\sin(0)/\\cos(\\pi/2)$, $\\cos(\\pi/2)/\\sin(0)$,\n",
    "$\\cos(\\pi/2)/\\cos(\\pi/2)$ und 1+1.0e-18."
   ]
  },
  {
   "cell_type": "code",
   "execution_count": null,
   "metadata": {},
   "outputs": [],
   "source": []
  },
  {
   "cell_type": "markdown",
   "metadata": {},
   "source": [
    "Versuchen Sie $eps$ in MATLAB selbstständig mit Hilfe einer for- oder while-Schleife zu ermitteln.\n",
    "\n",
    "Erinnerung: $eps$ ist die größte Zahl für die gilt: $x_M=x_M(1+\\frac{eps}{2})$, wobei $x_M$ eine\n",
    "beliebige Maschinenzahl ist."
   ]
  },
  {
   "cell_type": "code",
   "execution_count": null,
   "metadata": {},
   "outputs": [],
   "source": []
  },
  {
   "cell_type": "markdown",
   "metadata": {},
   "source": [
    "### Übung 3 Aufgabe 3\n",
    "\n",
    "Gegeben ist das LGS $Ax=b$ der Dimension $N$ mit\n",
    "$$ A= \\left( \\begin{array}{rrrrrrrr}\n",
    "    -2  &  1 &    0  &   0  &   0  &   0  &   0  &   1 \\\\\n",
    "     1  & -2 &    1  &   0  &   0  &   0  &   0  &   0 \\\\\n",
    "     0  &  1 &   -2  &   1  &   0  &   0  &   0  &   0 \\\\ \n",
    "     0  &  0 &    1  &  -2  &   1  &   0  &   0  &   0 \\\\ \n",
    "     0  &  0 &    0  &   1  &  -2  &   1  &   0  &   0 \\\\\n",
    "     0  &  0 &    0  &   0  &   1  &  -2  &   1  &   0 \\\\\n",
    "     0  &  0 &    0  &   0  &   0  &   1  &  -2  &   1 \\\\\n",
    "     0  &  0 &    0  &   0  &   0  &   0  &   1  &  -2\n",
    "\\end{array} \\right) \\; , \\quad\n",
    "b = \\left( \\begin{array}{r}\n",
    "0 \\\\ 1 \\\\ 1\\\\1\\\\1\\\\1\\\\0\\\\0\n",
    "\\end{array} \\right)\n",
    "$$\n",
    "Dabei soll $N$ ein Vielfaches von 4 sein. Erzeugen Sie die Matrix $A$ und den Vektor $b$ durch"
   ]
  },
  {
   "cell_type": "code",
   "execution_count": 1,
   "metadata": {},
   "outputs": [
    {
     "name": "stdout",
     "output_type": "stream",
     "text": [
      "error: 'N' undefined near line 1 column 11\n",
      "error: 'N' undefined near line 1 column 13\n",
      "error: 'N' undefined near line 1 column 13\n"
     ]
    }
   ],
   "source": [
    "b = zeros(N,1); b(N/4:3*N/4)=1;\n",
    "A = eye(N); A(1,N)=1;\n",
    "for i=1:N\n",
    "    A(i,i)=-2; \n",
    "    if i>1 A(i,i-1)=1; end\n",
    "    if i<N A(i,i+1)=1; end\n",
    "end"
   ]
  },
  {
   "cell_type": "markdown",
   "metadata": {},
   "source": [
    "Vergleichen Sie in MATLAB die Lösung des LGS durch die LU-Zerlegung (A$ \\backslash $b) und durch das iterative Verfahren \\tt bicgstab \\rm\n",
    "für verschiedene Dimensionen $N=12, 120, 1200, 12000$.\n",
    "\n",
    "Hinweise:\n",
    "1. Die Rechenzeiten können Sie beispielsweise folgendermaßen messen:"
   ]
  },
  {
   "cell_type": "code",
   "execution_count": 2,
   "metadata": {},
   "outputs": [
    {
     "name": "stdout",
     "output_type": "stream",
     "text": [
      "error: 'A' undefined near line 1 column 5\n",
      "Elapsed time is 0.015147 seconds.\n"
     ]
    }
   ],
   "source": [
    "tic\n",
    "x = A\\b;\n",
    "toc"
   ]
  },
  {
   "cell_type": "markdown",
   "metadata": {},
   "source": [
    "2. Wie wirkt sich das im Folgenden für $A$ genutzte Speicherformat für dünn besetzte Matrizen auf die Rechenzeiten aus?"
   ]
  },
  {
   "cell_type": "code",
   "execution_count": null,
   "metadata": {},
   "outputs": [],
   "source": [
    "k = 0;\n",
    "for i=1:N\n",
    "    k = k+1; zeile(k) = i; spalte(k) = i; wert(k) = -2;\n",
    "    if (i > 1) k = k+1; zeile(k) = i; spalte(k) = i-1; wert(k) = 1;  end\n",
    "    if (i<N) k = k+1; zeile(k) = i; spalte(k) = i+1; wert(k) = 1;  end\n",
    "end\n",
    "k = k+1; zeile(k) = 1; spalte(k) = N; wert(k) = 1;\n",
    "A = sparse(zeile,spalte,wert,N,N);"
   ]
  },
  {
   "cell_type": "markdown",
   "metadata": {},
   "source": [
    "3. Falls bicgstab nicht konvergiert, können Sie die Maximalanzahl der Iterationen folgendermaßen erhöhen:"
   ]
  },
  {
   "cell_type": "code",
   "execution_count": 3,
   "metadata": {},
   "outputs": [
    {
     "name": "stdout",
     "output_type": "stream",
     "text": [
      "error: 'A' undefined near line 1 column 14\n"
     ]
    }
   ],
   "source": [
    "x = bicgstab(A,b,[],500);"
   ]
  },
  {
   "cell_type": "markdown",
   "metadata": {},
   "source": [
    "   Sie können auch eine sog. Vorkonditionierung mit der unvollständigen LU-Zerlegung vornehmen:"
   ]
  },
  {
   "cell_type": "code",
   "execution_count": 4,
   "metadata": {},
   "outputs": [
    {
     "name": "stdout",
     "output_type": "stream",
     "text": [
      "error: 'A' undefined near line 1 column 12\n",
      "error: 'A' undefined near line 1 column 12\n"
     ]
    }
   ],
   "source": [
    "setup.type = 'nofill';\n",
    "[L,U,P]=ilu(A,setup);\n",
    "x=bicgstab(A,P*b,[],N,L,U);"
   ]
  },
  {
   "cell_type": "markdown",
   "metadata": {},
   "source": [
    "4. Die Genauigkeit der berechneten Lösung können Sie so überprufen:"
   ]
  },
  {
   "cell_type": "code",
   "execution_count": 5,
   "metadata": {},
   "outputs": [
    {
     "name": "stdout",
     "output_type": "stream",
     "text": [
      "error: 'A' undefined near line 1 column 15\n"
     ]
    }
   ],
   "source": [
    "res = max(abs(A*x-b))"
   ]
  },
  {
   "cell_type": "code",
   "execution_count": null,
   "metadata": {},
   "outputs": [],
   "source": []
  }
 ],
 "metadata": {
  "kernelspec": {
   "display_name": "Octave",
   "language": "octave",
   "name": "octave"
  },
  "language_info": {
   "file_extension": ".m",
   "help_links": [
    {
     "text": "GNU Octave",
     "url": "https://www.gnu.org/software/octave/support.html"
    },
    {
     "text": "Octave Kernel",
     "url": "https://github.com/Calysto/octave_kernel"
    },
    {
     "text": "MetaKernel Magics",
     "url": "https://metakernel.readthedocs.io/en/latest/source/README.html"
    }
   ],
   "mimetype": "text/x-octave",
   "name": "octave",
   "version": "4.2.2"
  }
 },
 "nbformat": 4,
 "nbformat_minor": 4
}
