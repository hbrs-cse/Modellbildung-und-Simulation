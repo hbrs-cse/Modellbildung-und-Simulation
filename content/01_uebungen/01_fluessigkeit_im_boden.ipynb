{
 "cells": [
  {
   "cell_type": "markdown",
   "metadata": {},
   "source": [
    "````{grid} 2\n",
    "```{grid-item-card}\n",
    ":class-header: bg-light\n",
    "Voraussetzungen\n",
    "^^^\n",
    "- Programmier-Grundlagen\n",
    "```\n",
    "```{grid-item-card}\n",
    ":class-header: bg-light\n",
    "Lerninhalte\n",
    "^^^\n",
    "- schrittweise vertiefte Modellbildung\n",
    "- Nutzung von Unit Tests\n",
    "```\n",
    "````\n"
   ]
  },
  {
   "cell_type": "markdown",
   "metadata": {},
   "source": [
    "(seeping)=\n",
    "# Flüssigkeit im Boden\n",
    "\n",
    "Erstellen Sie ein Programm, in dem das Versickern einer Flüssigkeit im Boden in 2D modelliert wird. Legen Sie dazu eine Matrix an, die einen Bodenausschnitt mit **beliebiger** Breite $w$ und Tiefe $d$ darstellt. Die Oberfläche des Bodens sei im Bereich $[\\frac{w}{4},\\frac{3w}{4}]$ mit Flüssigkeit benetzt. \n",
    "\n",
    "```{image} images/fluessigkeit.png\n",
    ":alt: Flüssigkeit\n",
    ":align: center\n",
    "```\n",
    "Die Flüssigkeit dringt mit einer Wahrscheinlichkeit $p$ (Bodenparameter) senkrecht in die nächste Lage des Bodens ein. Zusätzlich kann es passieren, dass die Flüssigkeit in diagonal versetzte Bodenelemente eindringt, jeweils mit der Wahrscheinlichkeit $\\frac{p}{2}$. Als Modellvereinfachung gehen Sie davon aus, dass jede Zelle entweder Flüssigkeit enthält oder nicht, d.h. der Zustand jeder Zelle binär ist."
   ]
  },
  {
   "cell_type": "markdown",
   "metadata": {},
   "source": [
    "## Aufgabe 1 - Parametrierung des Bodenmodells\n",
    "\n",
    "Schreiben Sie eine Matlab-Funktion, die diesen Prozess simuliert:",
    "\n",
    "```{admonition} Anmerkung\n",
    ":class: tip\n",
    "Verwenden Sie für jede Funktion ein neues bzw. eigenes .m-file, das nach der Funktion benannt ist. \n",
    "Beispiel: Erstellen Sie für die Funktion 'groundwater_sim()' die Datei groundwater_sim.m, die nur diese Funktion enhält. ",
    "Um die Funktion zu verwenden legen Sie eine neue Datei, zB A1.m, an, die den Funktionsaufruf zu groundwater_sim enthält und führen Sie diese aus. \n",
    "```"
   ]
  },
  {
   "cell_type": "code",
   "execution_count": null,
   "metadata": {
    "tags": [
     "remove-output"
    ]
   },
   "outputs": [],
   "source": [
    "%%file groundwater_sim.m\n",
    "function ground = groundwater_sim(depth, width, probability)\n",
    "% simulate diffusion of groundwater using cellular automata.\n",
    "%\n",
    "% The ground is modelled as a rectangular 2D-grid of size \n",
    "%   depth x width. \n",
    "% Fluid from a cell or the surface propagates to cells below\n",
    "% according to a certain probability. Initially, the central \n",
    "% half of the surface is covered by fluid\n",
    "%\n",
    "% Inputs:\n",
    "%   - depth:       The depth of the regular 2D grid\n",
    "%   - width:       The width of the regular 2D grid\n",
    "%   - probability: The seeping probability into lower cells\n",
    "%\n",
    "% Outputs:\n",
    "%   - ground:      2D-grid representing the groundwater distribution\n",
    "%                  It is a (depth x width) Matrix with values in [0,1]\n",
    "\n",
    "end"
   ]
  },
  {
   "cell_type": "markdown",
   "metadata": {},
   "source": [
    "**Tipp:** \n",
    " - Für die Visualisierung können Sie zum Beispiel die Funktion `spy` oder `imagesc` verwenden.\n",
    " - Die Ränder der Bodenmatrix sind gesondert zu behandeln.\n",
    "\n",
    "Wenn Sie möchten, können Sie zur Selbstkontrolle den folgenden Unit Test benutzen, um die Plausibilität der Ergebnisse Ihrer Funktion zu überprüfuen:"
   ]
  },
  {
   "cell_type": "code",
   "execution_count": null,
   "metadata": {},
   "outputs": [],
   "source": [
    "moxunit_runtests test_groundwater_sim.m"
   ]
  },
  {
   "cell_type": "markdown",
   "metadata": {},
   "source": [
    "Den Code hinter `test_groundwater_sim.m` können Sie hier ausklappen."
   ]
  },
  {
   "cell_type": "code",
   "execution_count": null,
   "metadata": {
    "tags": [
     "hide_input"
    ]
   },
   "outputs": [],
   "source": [
    "function test_suite=test_groundwater_sim\n",
    "% initialize unit tets\n",
    "    try\n",
    "        test_functions=localfunctions();\n",
    "    catch\n",
    "    end\n",
    "    initTestSuite;\n",
    "end\n",
    "\n",
    "\n",
    "    \n",
    "function test_for_logical\n",
    "% test if result contains only zeros and ones\n",
    "    ground = groundwater_sim(100,100,0.1);\n",
    "    assertElementsAlmostEqual(double(ground), double(logical(ground)));\n",
    "end\n",
    "    \n",
    "function test_for_correct_size\n",
    "% test if result contains only zeros and ones\n",
    "    depth = randi(500);\n",
    "    width = randi(500);\n",
    "    ground = groundwater_sim(depth,width,0.1);\n",
    "    assertEqual(size(ground),[depth width]);\n",
    "end\n",
    "\n",
    "function test_for_existing_parent\n",
    "% test if each wetted cell has a origin in the layer above\n",
    "    depth = randi(500);\n",
    "    width = randi(500);\n",
    "    ground = groundwater_sim(depth,width,rand);\n",
    "    for i=2:depth\n",
    "        js = find(ground(i,:));\n",
    "        for j=js\n",
    "            s=max(1,j-1);\n",
    "            e=min(width,j+1);\n",
    "            assert(any(ground(i-1,s:e)));\n",
    "        end\n",
    "    end\n",
    "end\n",
    "    \n",
    "function test_num_wetted_cells_per_layer_rand\n",
    "% test if the number of wetted cells in each layer is plausible\n",
    "    ground = groundwater_sim(80,80,rand());\n",
    "    for i=2:80\n",
    "       nwetted_above = sum(ground(i-1,:));\n",
    "       num_puddles = sum(abs(diff(ground(i-1,:))))/2;\n",
    "       nwetted = sum(ground(i,:));\n",
    "       assertTrue(nwetted <= nwetted_above+num_puddles*2);\n",
    "    end\n",
    "end\n",
    "\n",
    "function test_num_wetted_cells_per_layer_deterministic\n",
    "% test if the number of wetted cells in each layer is plausible\n",
    "    % use probability = 2, so that definitely all three cells below a \n",
    "    % wetted cells will be wetted. This makes the simulation\n",
    "    % deterministic;\n",
    "    \n",
    "    ground = groundwater_sim(80,80,2);\n",
    "    \n",
    "    expected = zeros(80,80);\n",
    "    for i=1:80\n",
    "        first = max([ 1,21-i]);\n",
    "        last   = min([80,59+i]);\n",
    "        expected(i,first:last)=1;\n",
    "    end\n",
    "    assertEqual(expected,ground);\n",
    "end"
   ]
  },
  {
   "cell_type": "markdown",
   "metadata": {},
   "source": [
    "Parametrieren Sie den Bodenparameter $p$ so, dass über 1000 Simulationen gemittelt am unteren Ende circa drei Zellen befeuchtet sind. Berechnen Sie dann den Mittelwert und die Standardabweichung. Verwenden Sie hierfür konkret $d=80$ und $w=250$. Schreiben Sie dazu ein Matlab-Skript, das die Funktion `groundwater_sim` verwendet."
   ]
  },
  {
   "cell_type": "markdown",
   "metadata": {},
   "source": [
    "## Aufgabe 2 - Unregelmäßigkeiten im Boden\n",
    "\n",
    "Reale Böden sind in der Regel sehr unregelmäßig strukturiert, sodass Flüssigkeiten an verschiedenen Punkten auch unterschiedlich gut in den Boden eindringen können. Gehen Sie nun davon aus, dass der Boden zu einem Anteil von `ratio_absorb` aus zufällig verteiltem Material besteht, welches Flüssigkeit absorbieren kann, d.h. die Flüssigkeit am weiteren Versickern im Boden hindert. Modifizieren Sie Ihr Programm aus Aufgabe 1 so, dass diese Unregelmäßigkeit des Bodens zusätzlich berücksichtigt wird.\n",
    "\n",
    "Geben Sie als zusätzliche Ausgabe die Matrix aus, die das absorbierende Material repräsentiert."
   ]
  },
  {
   "cell_type": "code",
   "execution_count": null,
   "metadata": {
    "tags": [
     "remove-output"
    ]
   },
   "outputs": [],
   "source": [
    "%%file groundwater_sim.m\n",
    "function [ground, absorb_mat] = groundwater_sim(depth, width, probability, ratio_absorb)\n",
    "% simulate diffusion of groundwater using cellular automata.\n",
    "%\n",
    "% The ground is modelled as a rectangular 2D-grid of size \n",
    "%   depth x width. \n",
    "% Fluid from a cell or the surface propagates to cells below\n",
    "% according to a certain probability. Initially, the central \n",
    "% half of the surface is covered by fluid\n",
    "%\n",
    "% Inputs:\n",
    "%   - depth:        The depth of the regulear 2D grid\n",
    "%   - width:        The width of the regular 2D grid\n",
    "%   - probability:  The seeping probability into lower cells\n",
    "%   - ratio_absorb: Ratio of absorbing material in the ground\n",
    "%                   values between 0 and 1\n",
    "%\n",
    "% Outputs:\n",
    "%   - ground:      2D-grid representing the groundwater distribution\n",
    "%                  It is a (depth x width) Matrix with values in {0,1}\n",
    "%   - absorb_mat:  2D-grid representing the absorbing material \n",
    "%                  It is a (depth x width) Matrix with values in {0,1}\n",
    "\n",
    "end"
   ]
  },
  {
   "cell_type": "markdown",
   "metadata": {},
   "source": [
    "Geben Sie $p$ aus Aufgabe 1 vor und variieren Sie `ratio_absorb` ausgehend von 10%. Wie groß muss der Anteil *mindestens* sein, damit über 1000 Simulationen gemittelt weniger als eine Zelle am unteren Ende des Bodensegments von Flüssigkeit erreicht wird ($d=80$ und $w=250$)?\n",
    "\n",
    "**Tipp**: Die Matlab-Funktion `randperm` könnte nützlich sein."
   ]
  },
  {
   "cell_type": "markdown",
   "metadata": {},
   "source": [
    "## Aufgabe 3 - Einfluss der Tiefe\n",
    "\n",
    "In größerer Tiefe ist das Bodenmaterial stärker verdichtet als nahe der Oberfläche. Erweitern Sie Ihr Programm aus Aufgabe 2 so, dass sich die Flüssigkeit bei zunehmender Tiefe schlechter durch den Boden bewegt. Führen Sie einen Parameter `depth_influence` ein, um die Stärke dieses Effektes zu regulieren. **Wichtig:** *Vergessen Sie nicht in der Dokumentation der Funktion anzugeben, wie dieser Parameter zu verstehen ist und welche Werte erlaubt sind!*\n",
    "\n",
    "Um die Eingabeparameter Ihrer Funktion übersichtlich zu gestalten, sammeln Sie alle Bodenparameter in einem *Structure array* mit Namen `params`."
   ]
  },
  {
   "cell_type": "code",
   "execution_count": null,
   "metadata": {
    "tags": [
     "remove-output"
    ]
   },
   "outputs": [],
   "source": [
    "%%file groundwater_sim.m\n",
    "function [ground, absorb_mat] = groundwater_sim(depth, width, params)\n",
    "% simulate diffusion of groundwater using cellular automata.\n",
    "%\n",
    "% The ground is modelled as a rectangular 2D-grid of size \n",
    "%   depth x width. \n",
    "% Fluid from a cell or the surface propagates to cells below\n",
    "% according to a certain probability. Initially, the central \n",
    "% half of the surface is covered by fluid\n",
    "%\n",
    "% Inputs:\n",
    "%   - depth:       The depth of the regulear 2D grid\n",
    "%   - width:       The width of the regular 2D grid\n",
    "%\n",
    "%   - params.probability:        The seeping probability into \n",
    "%                                lower cells\n",
    "%   - params.ratio_absorb:       Ratio of absorbing material in \n",
    "%                                the ground values between 0 and 1\n",
    "%   - params.depth_influence:    influence of the depth on the\n",
    "%                                seeping probability (FURTHER EXPLANATION NEEDED!)\n",
    "%\n",
    "% Outputs:\n",
    "%   - ground:      2D-grid representing the groundwater distribution\n",
    "%                  It is a (depth x width) Matrix with values in {0,1}\n",
    "%   - absorb_mat:  2D-grid representing  the absorbing material \n",
    "%                  It is a (depth x width) Matrix with values in {0,1}\n",
    "\n",
    "end"
   ]
  },
  {
   "cell_type": "markdown",
   "metadata": {},
   "source": [
    "In einem Skript können Sie die Parameter im Structure array speichern und so gesammelt an die Funktion übergeben:"
   ]
  },
  {
   "cell_type": "code",
   "execution_count": null,
   "metadata": {},
   "outputs": [],
   "source": [
    "depth = 10;\n",
    "width = 10;\n",
    "\n",
    "params.probability     = 0.1;\n",
    "params.ratio_absorb    = 0.1;\n",
    "params.depth_influence = 0.5;\n",
    "\n",
    "[G, A] = groundwater_sim(depth, width, params);"
   ]
  },
  {
   "cell_type": "markdown",
   "metadata": {},
   "source": [
    "## Aufgabe 4 - Gesteigerter Realismus\n",
    "\n",
    "Überlegen Sie sich einen weiteren Einflussparameter mit dem der Prozess des Versickerns realistischer simuliert werden kann und modifizieren Sie Ihr Programm aus Aufgabe 3 entsprechend. In welchen Grenzen kann man diesen Parameter sinnvoll wählen?"
   ]
  }
 ],
 "metadata": {
  "kernelspec": {
   "display_name": "Octave",
   "language": "octave",
   "name": "octave"
  },
  "language_info": {
   "file_extension": ".m",
   "help_links": [
    {
     "text": "GNU Octave",
     "url": "https://www.gnu.org/software/octave/support.html"
    },
    {
     "text": "Octave Kernel",
     "url": "https://github.com/Calysto/octave_kernel"
    },
    {
     "text": "MetaKernel Magics",
     "url": "https://metakernel.readthedocs.io/en/latest/source/README.html"
    }
   ],
   "mimetype": "text/x-octave",
   "name": "octave",
   "version": "5.2.0"
  }
 },
 "nbformat": 4,
 "nbformat_minor": 4
}
