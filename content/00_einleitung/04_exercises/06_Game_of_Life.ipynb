{
 "cells": [
  {
   "cell_type": "markdown",
   "metadata": {},
   "source": [
    "````{panels}\n",
    "Voraussetzungen\n",
    "^^^\n",
    "- Matlab Grundkenntnisse\n",
    "- Grundkenntnisse im Umgang mit Matritzen bzw. Arrays\n",
    "---\n",
    "\n",
    "Lernziele\n",
    "^^^\n",
    "- Softwareimplementierung von allgemein definierten Regeln und Verhaltensweisen\n",
    "- Implementierung von Auswahlmöglichkeiten\n",
    "- Umgang mit Funktionen und instanzierten Aufrufen innerhalb der Software\n",
    "- Visualisierung von Daten\n",
    "````"
   ]
  },
  {
   "cell_type": "markdown",
   "metadata": {},
   "source": [
    "# Game of Life\n",
    "\n",
    "Conway’s Game of Life (dt. Spiel des Lebens) wurde 1970 von dem Mathematiker John Horton Conway entwickelt und basiert auf einem zweidimensionalen zellulären Automaten.\n"
   ]
  },
  {
   "cell_type": "markdown",
   "metadata": {},
   "source": [
    "## Das Spielfeld\n",
    "\n",
    "Das Spielfeld besteht aus Feldern, die schachbrettartig in Zeilen und Spalten angeordnet sind und ist im Idealfall unendlich groß. Jedes Feld stellt einen zellulärer Automat dar und wird hier auch Zelle genannt.\n",
    "\n",
    "Zellen können einen von zwei Zuständen annehmen. Diese werden oft 'lebendig' bzw. 'tot' genannt. \n",
    "\n",
    "Beim Spielen des Spiels wird zunächst eine (zufällige) Anfangsgeneration von lebenden Zellen auf dem Spielfeld platziert. Jede Zelle hat genau acht Nachbarzellen, die zur Bestimmung der Folgegeneration berücksichtigt werden müssen. Die nächste Generation ergibt sich durch die Befolgung einfacher Regeln. \n",
    "\n",
    "   ```{image} images/GameOfLife_rnd_n100.gif\n",
    "   :alt: GameOfLife\n",
    "   :align: center\n",
    "   ```\n",
    "   Abbildung 1: Beispiel für einen Game of Life Durchlauf mit n = 100 Iterationen.\n",
    "\n",
    "Das Spiel des Lebens kann mit Hilfe eines Computers simuliert ( = gespielt) werden. Da in diesem Fall das Spielfeld immer endlich ist muss es einen Rand haben, an dem die Regeln gesondert festgelegt werden müssen. \n",
    "Eine Möglichkeit ist, dass der Rand komplett durch tote/lebendige Zellen belegt ist. Eine Alternative ist ein Spielfeld, bei dem alles, was das Spielfeld nach unten verlässt, oben wieder hereinkommt und umgekehrt bzw. alles, was das Spielfeld nach links verlässt, rechts wieder eintritt und umgekehrt."
   ]
  },
  {
   "cell_type": "markdown",
   "metadata": {},
   "source": [
    "## Die Spielregeln\n",
    "\n",
    "Die Folgegeneration wird für alle Zellen gleichzeitig berechnet und ersetzt die aktuelle Generation. Der Zustand einer Zelle (lebendig oder tot) in der Folgegeneration hängt nur vom aktuellen Zustand der Zelle selbst und den aktuellen Zuständen ihrer acht Nachbarzellen ab.\n",
    "\n",
    "Die von Conway ursprünglich verwendeten Regeln sind:\n",
    "\n",
    "- Eine tote Zelle mit genau drei lebenden Nachbarn wird in der Folgegeneration neu geboren\n",
    "\n",
    "\n",
    "- Lebende Zellen mit weniger als zwei lebenden Nachbarn sterben in der Folgegeneration an Einsamkeit\n",
    "\n",
    "\n",
    "- Eine lebende Zelle mit zwei oder drei lebenden Nachbarn bleibt in der Folgegeneration am Leben   \n",
    "\n",
    "\n",
    "- Lebende Zellen mit mehr als drei lebenden Nachbarn sterben in der Folgegeneration an Überbevölkerung\n",
    "    \n",
    "    \n",
    "    "
   ]
  },
  {
   "cell_type": "markdown",
   "metadata": {},
   "source": [
    "## Aufgabe 1\n",
    "\n",
    "Schreiben Sie einen Matlabcode, der ein quadratisches Spielfeld der Größe N x N anlegt. Implementieren Sie je eine Auswahl für verschiedene Anfangsgenerationen (siehe 1.2) bzw. verschiedene Spielfeldränder (siehe 1.3).\n",
    "\n",
    "\n",
    "### 1.1 Spielfeld\n",
    "\n",
    "Legen Sie fest, welche Größe Ihr quadratisches Spielfeld haben soll.\n",
    "\n",
    "\n"
   ]
  },
  {
   "cell_type": "code",
   "execution_count": null,
   "metadata": {},
   "outputs": [],
   "source": [
    "N = 10; % größe des Spielfelds"
   ]
  },
  {
   "cell_type": "markdown",
   "metadata": {},
   "source": [
    "### 1.2 Anfangsgeneration\n",
    "\n",
    "Ermöglichen Sie eine Auswahl verschiedener Anfangsgenerationen:\n",
    "\n",
    "* Eine zufällige Verteilung von toten und lebendigen Zellen\n",
    "* Ein R-Pentomino in der Mitte des Spielfelds (siehe Abbildung 2). Hier soll die minimale Spielfeldgröße `N=10` betragen, selbst wenn `N` vorher kleiner gewählt wurde.\n",
    "\n",
    "   ```{image} images/GameOfLife_R_Pentomino.gif\n",
    "   :alt: R-Pentomino\n",
    "   :align: center\n",
    "   ```\n",
    "   Abbildung 2: Ein R-Pentomino in der Mitte des Spielfelds. Alle anderen Zellen haben hier den toten Zustand."
   ]
  },
  {
   "cell_type": "code",
   "execution_count": null,
   "metadata": {},
   "outputs": [],
   "source": [
    "% entweder Zufallsverteilung:\n",
    "field = randi([0, 1], [N, N]); %erzeugt ein quadratisches array der Größe (N x N) mit ganzzahligen Zufallswerten zwischen 0 und 1\n",
    "\n",
    "% oder R-Pentomino:\n",
    "field = R_pentomino(N);\n",
    "\n",
    "function field = R_pentomino(N)\n",
    "    if N < 10\n",
    "        N = 10;\n",
    "    end\n",
    "    \n",
    "    field = ...\n",
    "    mid = ...\n",
    "    return\n",
    "end"
   ]
  },
  {
   "cell_type": "markdown",
   "metadata": {},
   "source": [
    "### 1.3 Spielfeldrand\n",
    "\n",
    "Realisieren Sie folgende Spielfeld Ränder, von denen immer genau eins ausgewählt sein soll:\n",
    "\n",
    "* Alle äußeren Zellen sind immer tot (`rule 1`)\n",
    "* Alle äußeren Zellen sind immer lebendig (`rule 2`)\n",
    "* Periodisches Spielfeld: Was links/rechts/oben/unten das Spielfeld verlässt kommt auf der gegenüberliegenden Seite wieder rein (`rule 3`)\n",
    "\n",
    "\n",
    "   "
   ]
  },
  {
   "cell_type": "code",
   "execution_count": null,
   "metadata": {},
   "outputs": [],
   "source": [
    "rule = 1; %or\n",
    "%rule = 2; %or\n",
    "%rule = 3; \n",
    "\n",
    "field = add_boundaries(field, rule, N);\n",
    "\n",
    "function field = add_boundaries(field, rule, N)\n",
    "    ...\n",
    "    if rule == 1\n",
    "        ...\n",
    "    elseif rule == 2\n",
    "        ...\n",
    "    elseif rule == 3\n",
    "        ...\n",
    "    else\n",
    "        ...\n",
    "    return\n",
    "end"
   ]
  },
  {
   "cell_type": "markdown",
   "metadata": {},
   "source": [
    "### 1.4 Visualisierung\n",
    "\n",
    "Lassen sie sich die Startverteilung visuell darstellen."
   ]
  },
  {
   "cell_type": "code",
   "execution_count": null,
   "metadata": {},
   "outputs": [],
   "source": [
    "figure; hAxes = gca;\n",
    "imagesc(hAxes, field(2:end-1, 2:end-1)); % Der Rand, der über add_boundaries hinzugefügt wird, wird hier nicht mit anzeigt\n",
    "colormap(hAxes , [1 1 1; 0 1 0]);\n",
    "hold on\n",
    "pause(0.5)"
   ]
  },
  {
   "cell_type": "markdown",
   "metadata": {},
   "source": [
    "## Aufgabe 2\n",
    "\n",
    "Erweitern Sie Ihren Matlab Code nun so, dass für eine vorherbestimme Anzahl an Iterationen jeweils die Folgegeneration bestimmt und anschließen angezeigt wird."
   ]
  },
  {
   "cell_type": "code",
   "execution_count": null,
   "metadata": {},
   "outputs": [],
   "source": [
    "Iterations = 1000; %Anzahl an Spielrunden\n",
    "\n",
    "for i=1:Iterations\n",
    "    field = next_iteration(field, N)\n",
    "    \n",
    "    %plot\n",
    "    imagesc(hAxes, field(2:end-1, 2:end-1));\n",
    "    colormap(hAxes, [1 1 1; 0 1 0]);\n",
    "    hold on\n",
    "    \n",
    "    pause(0.1)\n",
    "end\n",
    "\n",
    "function field = next_iteration(field, N, rule)\n",
    "    new_field = zeros(N,N);    \n",
    "    % current field size (N+2)x(N+2) because boundaries were added previously\n",
    "    for i=2:N+1\n",
    "        for j=2:N+1\n",
    "            count = count_living_cells(field,i,j);             \n",
    "\n",
    "            % take aktion based on living or dead cell\n",
    "            new_field(i-1,j-1) = update_cell(field(i,j), count);                \n",
    "        end\n",
    "    end\n",
    "    \n",
    "    % add boundaries to the new field\n",
    "    new_field = add_boundaries(new_field, rule, N);\n",
    "\n",
    "    % make new_field the current field\n",
    "    field = new_field;\n",
    "    return\n",
    "end\n",
    "\n",
    "function count = count_living_cells(field, i, j)\n",
    "    count = 0;\n",
    "    % check number living neighbour cells\n",
    "    % add above the cell\n",
    "    count = count + sum(field(i-1,j-1:j+1));\n",
    "    % add below the cell\n",
    "    count = count + sum();\n",
    "    % add left side\n",
    "    ...\n",
    "    return\n",
    "end\n",
    "\n",
    "function val = update_cell(cell, count)\n",
    "    if cell == 1\n",
    "        % living cell\n",
    "        % if less than to living neighbours: cell dies\n",
    "        if count < 2\n",
    "            val = 0;\n",
    "        elseif count <= 3\n",
    "            % if 2 or 3 living neighbour cells: cell stays alive\n",
    "            val = ...;\n",
    "        else\n",
    "            % if more than 3 living neighbour cells: cell dies due\n",
    "            % to overpopulatoin\n",
    "            ...\n",
    "        end\n",
    "    else\n",
    "        % dead cell\n",
    "        ...\n",
    "    end\n",
    "    return\n",
    "end"
   ]
  },
  {
   "cell_type": "markdown",
   "metadata": {},
   "source": [
    "Abb. 3 zeigt die Animation für ein mittig platziertes R-Pentomino. Das Spielfeld hat die Größe N=50 und die Anzahl der Folgegenerationen ist Iterations=100.\n",
    "\n",
    "   ```{image} images/GameOfLife_R_Pentomino_n100.gif\n",
    "   :alt: R-Pentomino\n",
    "   :align: center\n",
    "   ```\n",
    "   Abbildung 2: Ein R-Pentomino in der Mitte eines 50x50 Spielfelds und 100 Folgegenerationen."
   ]
  }
 ],
 "metadata": {
  "kernelspec": {
   "display_name": "Octave",
   "language": "octave",
   "name": "octave"
  },
  "language_info": {
   "file_extension": ".m",
   "help_links": [
    {
     "text": "GNU Octave",
     "url": "https://www.gnu.org/software/octave/support.html"
    },
    {
     "text": "Octave Kernel",
     "url": "https://github.com/Calysto/octave_kernel"
    },
    {
     "text": "MetaKernel Magics",
     "url": "https://metakernel.readthedocs.io/en/latest/source/README.html"
    }
   ],
   "mimetype": "text/x-octave",
   "name": "octave",
   "version": "4.2.2"
  }
 },
 "nbformat": 4,
 "nbformat_minor": 4
}
