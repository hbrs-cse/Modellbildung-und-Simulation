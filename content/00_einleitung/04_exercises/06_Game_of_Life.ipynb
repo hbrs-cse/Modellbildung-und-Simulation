{
 "cells": [
  {
   "cell_type": "markdown",
   "metadata": {},
   "source": [
    "# Game of Life\n",
    "\n",
    "Conway’s Game of Life (dt. Spiel des Lebens) wurde 1970 von dem Mathematiker John Horton Conway entwickelt und basiert auf einem zweidimensionalen zellulären Automaten.\n"
   ]
  },
  {
   "cell_type": "markdown",
   "metadata": {},
   "source": [
    "## Das Spielfeld\n",
    "\n",
    "Das Spielfeld besteht aus Feldern, die schachbrettartig in Zeilen und Spalten angeordnet sind, und im Idealfall unendlich groß ist. Jedes Feld stellt einen zellulärer Automat dar und wird hier auch Zelle genannt.\n",
    "\n",
    "Zellen können einen von zwei Zuständen annehmen, diese werden oft 'lebendig' bzw. 'tot' genannt. \n",
    "\n",
    "Beim spielen des Spiels wird zunächst eine (zufällige) Anfangsgeneration von lebenden Zellen auf dem Spielfeld platziert. Jede Zelle hat genau acht Nachbarzellen, die zur Bestimmung der Folgegeneration berücksichtigt werden müssen. Die nächste Generation ergibt sich durch die Befolgung einfacher Regeln. \n",
    "\n",
    "Das Spiel des Lebens kann mit Hilfe eines Computers simuliert ( = gespielt) werden. Da in diesem Fall das Spielfeld immer endlich ist muss es einen Rand haben, an dem das Verhalten dort gesondert festgelegt werden muss. \n",
    "Eine Möglichkeit ist, dass der Rand komplett durch tote/lebendige Zellen belegt ist. Eine Alternative ist ein Spielfeld, bei dem alles, was das Spielfeld nach unten verlässt, oben wieder hereinkommt und umgekehrt bzw. alles, was das Spielfeld nach links verlässt, rechts wieder eintritt und umgekehrt."
   ]
  },
  {
   "cell_type": "markdown",
   "metadata": {},
   "source": [
    "## Die Spielregeln\n",
    "\n",
    "Die Folgegeneration wird für alle Zellen gleichzeitig berechnet und ersetzt die aktuelle Generation. Der Zustand einer Zelle (lebendig oder tot) in der Folgegeneration hängt nur vom aktuellen Zustand der Zelle selbst und den aktuellen Zuständen ihrer acht Nachbarzellen ab.\n",
    "\n",
    "Die von Conway ursprünglich verwendeten Regeln sind:\n",
    "\n",
    "- Eine tote Zelle mit genau drei lebenden Nachbarn wird in der Folgegeneration neu geboren\n",
    "\n",
    "\n",
    "- Lebende Zellen mit weniger als zwei lebenden Nachbarn sterben in der Folgegeneration an Einsamkeit\n",
    "\n",
    "\n",
    "- Eine lebende Zelle mit zwei oder drei lebenden Nachbarn bleibt in der Folgegeneration am Leben   \n",
    "\n",
    "\n",
    "- Lebende Zellen mit mehr als drei lebenden Nachbarn sterben in der Folgegeneration an Überbevölkerung\n",
    "    \n",
    "    \n",
    "    "
   ]
  },
  {
   "cell_type": "markdown",
   "metadata": {},
   "source": [
    "## Aufgabe 1\n",
    "\n",
    "### Spielfeld\n",
    "\n",
    "Schreiben Sie einen Matlabcode, der ein quadratisches Spielfeld der Größe N x N anlegt und den Zellen eine Anfangsgeneration aus lebendigen und toten Zellen zuweist. \n",
    "\n",
    "### 1.1 Spielfeldrand\n",
    "\n",
    "Realisieren Sie folgende Spielfeld Ränder:\n",
    "\n",
    "- 1.1.1 Alle äußeren Zellen sind immer tot\n",
    "    \n",
    "- 1.1.2 Alle äußeren Zellen sind immer lebendig\n",
    "    \n",
    "- 1.1.3 Periodisches Spielfeld: Was links/rechts/oben/unten das Spielfeld verlässt kommt auf der gegenüberliegenden Seite wieder rein\n",
    "\n",
    "\n",
    "### 1.2 Anfangsgeneration\n",
    "\n",
    "Ermöglichen Sie eine Auswahl verschiedener Anfangsgenerationen:\n",
    "\n",
    "- 1.2.1 zufällige Verteilung von toten und lebendigen Zellen\n",
    "\n",
    "- 1.2.2 ein R-Pentomino in der Mitte des Spielfelds (siehe Abbildung 1)\n",
    "\n",
    "   ```{figure} images/GameOfLife_R_Pentomino.gif\n",
    "   ---\n",
    "   name: R-Pentomino\n",
    "   ---\n",
    "   Ein R-Pentomino in der Mitte des Spielfelds\n",
    "   ```"
   ]
  },
  {
   "cell_type": "code",
   "execution_count": null,
   "metadata": {},
   "outputs": [],
   "source": [
    "% some code examples"
   ]
  },
  {
   "cell_type": "markdown",
   "metadata": {},
   "source": []
  }
 ],
 "metadata": {
  "kernelspec": {
   "display_name": "Python 3",
   "language": "python",
   "name": "python3"
  },
  "language_info": {
   "codemirror_mode": {
    "name": "ipython",
    "version": 3
   },
   "file_extension": ".py",
   "mimetype": "text/x-python",
   "name": "python",
   "nbconvert_exporter": "python",
   "pygments_lexer": "ipython3",
   "version": "3.6.13"
  }
 },
 "nbformat": 4,
 "nbformat_minor": 1
}
