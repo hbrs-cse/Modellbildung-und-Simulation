{
 "cells": [
  {
   "cell_type": "markdown",
   "metadata": {},
   "source": [
    "# Verkehrssimulation\n",
    "\n",
    "In dieser Übungsaufgabe soll das Fahrverhalten von Autofahrern und die damit einhergehende Stauentwicklung modelliert werden. In einem 7.5 km langen einspurigen Tunnel bilden sich zu Hauptverkehrszeiten immer wieder Staus, ohne dass ein Unfall oder eine Baustelle als Ursache ausgemacht werden kann. Ampeln gibt es auf der gesamten Strecke nicht. Ihre Aufgabe ist es, ein simples Computermodell zu erstellen, das in der Lage ist dieses Phänomen zu reproduzieren. Welche Durchschnittsgeschwindigkeit kann man bei einer gegebenen Verkehrsdichte erwarten? Wie hängt der Verkehrsfluss von der Verkehrsdichte ab?\n",
    "\n",
    "![](../images/tunnel.jpg)"
   ]
  },
  {
   "cell_type": "markdown",
   "metadata": {},
   "source": [
    "## Modellbeschreibung\n",
    "\n",
    "Im Durchschnitt belegt ein Fahrzeug ca. 7.5 m der Strecke in einem Stau. Diese Länge beinhaltet bereits den Abstand zum Auto davor. Die 7.5 km lange Strecke lässt sich demnach in 1000 Zellen zerlegen. Zu jedem Zeitpunkt ist eine Zelle entweder frei oder von einem Auto belegt. In den Tunnel passen maximal 1000 Fahrzeuge. Abbildung 1 zeigt beispielhaft einen Streckenabschnitt aus 10 Zellen mit 5 Fahrzeugen A, B, C, D und E. In Abbildung 1(a) ist der Streckenabschnitt dargestellt. Die Zellen 2, 3, 5, 8 und 10 sind jeweils mit einem Auto belegt. Abbildung 1(b) zeigt eine komprimierte Darstellung. In einem Positionsvektor werden die Zellennummern der 5 Fahrzeuge gespeichert.\n",
    "<figure>\n",
    "  <img src=\"../images/zellnummern.PNG\" alt=\"my alt text\"/>\n",
    "  <figcaption>Abbildung 1: Zwei Darstellungen für einen 75 m langen Streckenabschnitt mit 5 Fahrzeugen A, B, C, D und E</figcaption>\n",
    "</figure>\n",
    "Ein Fahrzeug mit einer Geschwindigkeit von 27 km/h = 7.5 m/s rückt innerhalb einer Sekunde genau eine Zelle vor. Die Maximalgeschwindigkeit im Tunnel beträgt 135 km/h, bzw. 5 Zellen pro Sekunde. Simulieren Sie den Verkehrsfluss sekundenweise. Dies entspricht in etwa der Reaktionszeit eines Autofahrers. In jedem Zeitschritt von einer Sekunde ergibt sich die Position und Geschwindigkeit eines Fahrzeuges nach folgenden einfachen Regeln, die in der angegebenen Reihenfolge umgesetzt werden:\n",
    "\n",
    "1. Jedes Auto, das noch nicht die Maximalgeschwindigkeit erreicht hat, erhöht seine Geschwindigkeit um eine Zelle pro Sekunde.\n",
    "<figure>\n",
    "  <img src=\"../images/bild1_stau.png\" alt=\"my alt text\"/>\n",
    "  <figcaption>Abbildung 2: Beschleunigung aller Fahrzeuge um 1</figcaption>\n",
    "</figure>\n",
    "2. Falls die Geschwindigkeit eines Fahrzeuges zu einer Kollision mit dem Fahrzeug davor führen würde, reduziert sich die Geschwindigkeit entsprechend. Beispiel: Fahrzeug A befindet sich in Zelle 496 und hat eine Geschwindigkeit von 4 Zellen pro Sekunde. Zelle 499 ist aber von Fahrzeug B belegt. Demnach reduziert sich die Geschwindigkeit von Fahrzeug A auf 2 Zellen pro Sekunde.\n",
    "<figure>\n",
    "  <img src=\"../images/bild2_stau.png\" alt=\"my alt text\"/>\n",
    "  <figcaption>Abbildung 3: Abbremsen der unfallgefährdeten Fahrzeuge</figcaption>\n",
    "</figure>\n",
    "3. Ein Anteil $p_{\\text{SF}}$ der Fahrer auf dem Streckenabschnitt sind Sonntagsfahrer. Deren Geschwindigkeit $v$ reduziert sich um eine Zelle pro Sekunde, sofern sie nicht schon stehen.\n",
    "<figure>\n",
    "  <img src=\"../images/bild3_stau.png\" alt=\"my alt text\"/>\n",
    "  <figcaption>Abbildung 4: Abbremsen der zufällig gewählten Sonntagsfahrer</figcaption>\n",
    "</figure>\n",
    "4. Alle Fahrzeuge rücken entsprechend ihrer Geschwindigkeit vor.\n",
    "Die Verkehrsdichte $\\rho$ im betrachteten Zeitraum bleibe annähernd konstant. Zu jeder Zeit verlassen also so viele Autos den Steckenabschnitt, wie neue hinzu kommen. Um diesen Effekt zu berücksichtigen, bedienen sie sich eines Tricks: Gehen Sie von periodischen Randbedingungen aus. Sobald ein Auto die 7.5 km lange Strecke verlässt, taucht es am Anfang wieder auf (In anderen Worten: Die Zellen mit den Nummern `i` und `1000+i` sind identisch). Eine Anschauung des Tricks ist es, sich den Tunnel als Ringstraße mit einem Umfang von 7.5 km vorzustellen.\n",
    "<figure>\n",
    "  <img src=\"../images/ringstrasse.gif\" alt=\"my alt text\"/>\n",
    "  <figcaption>Abbildung 5: Darstellung der periodischen Randbedingungen als Ringstraße</figcaption>\n",
    "</figure>\n",
    "\n",
    "Das hier vorgestellte Verkehrsmodell basiert auf {cite}`Nagel1992`."
   ]
  },
  {
   "cell_type": "markdown",
   "metadata": {},
   "source": [
    "## Aufgabe 1\n",
    "\n",
    "1. Erstellen Sie ein Matlab–Skript, das zunächst die folgenden Parameter festlegt: \n",
    " - normalisierte Verkehrsdichte $\\rho$\n",
    " - Maximalgeschwindigkeit $v_{\\text{max}}$ (Zellen/Sekunde) \n",
    " - Anteil Sonntagsfahrer $p_{\\text{SF}}$ \n",
    " - Streckenlänge $L$ (Anzahl von Zellen) \n",
    " - Simulationszeitraum $T$ (Sekunden)\n",
    " \n",
    "2. Die normalisierte Verkehrsdichte $\\rho$ ist der Anteil der belegten Zellen, also eine einheitslose Zahl zwischen 0 und 1.\n",
    "\n",
    "    Berechnen Sie die Anzahl der Fahrzeuge `n` aus der Streckenlänge `len` und der normalisierten Verkehrsdichte $\\rho$ und erzeugen Sie zwei Vektoren `pos` und `vel` der Länge `n` für die Positionen (Zellennummer) und Geschwindigkeiten (Zellen/Sekunde) der Fahrzeuge. Zu Beginn der Simulation sind die Autos beliebig auf der Strecke verteilt. Die Anfangsgeschwindigkeit aller Fahrzeuge beträgt 0 Zellen/Sekunde. **Tipp**: Schauen Sie sich die Matlab–Funktion `randperm(m,n)` an. Sortieren sie den Vektor `pos` zu Beginn der Simulation aufsteigend.\n",
    "\n",
    "    Berechnen sie die Positionen `pos` und Geschwindigkeiten `vel` aller Fahrzeuge nach den vier oben genannten Regeln für jede Sekunde innerhalb einer Stunde. Tipp: Für die Umsetzung der periodischen Randbedingungen könnte die Funktion `mod(k, n)` hilfreich sein. Für die Umsetzung von Regel 3 bietet sich wieder `randperm(n, k)` an.\n",
    "\n",
    "    Animieren Sie den Verkehrsfluss um zu überprüfen, ob Ihr Modell funktioniert. Gehen Sie dabei von einer Maximalgeschwindigkeit von 5 Zellen/Sekunde, $p_{\\text{SF}}$ = 0.2 sowie einer normalisierten Verkehrsdichte von $\\rho$ = 0.4 aus. **Tipp**: Eine Animation kann zum Beispiel mit den Matlab–Funktionen `scatter` und `pause(t)` in der Hauptschleife Ihres Programmes erzeugt werden."
   ]
  },
  {
   "cell_type": "code",
   "execution_count": 1,
   "metadata": {},
   "outputs": [],
   "source": [
    "%% input parameters\n",
    "density     = 0.4;    % the ratio of road cells occupied by a car\n",
    "max_speed   = 5;      % the maximally possible speed [cells/second]\n",
    "p_SF        = 0.20;   % the ratio of 'sunday drivers'\n",
    "len         = 1000;   % the length of the road [cells]\n",
    "T           = 3600;   % the simulation time [seconds]\n",
    "\n",
    "    %<<<<<< ADD YOUR CODE HERE >>>>>>%\n",
    "\n",
    "%% initial configuration\n",
    "\n",
    "    %<<<<<< ADD YOUR CODE HERE >>>>>>%\n",
    "\n",
    "%% main time loop\n",
    "for t=1:T\n",
    "    %1.) increase speed of all cars by one\n",
    "\n",
    "        %<<<<<< ADD YOUR CODE HERE >>>>>>%\n",
    "    \n",
    "    %2.) decrease speed if it would cause a collision otherwise\n",
    "\n",
    "        %<<<<<< ADD YOUR CODE HERE >>>>>>%\n",
    "    \n",
    "    %3.) decrease velocity of a random selection \n",
    "    %    of p_SF*num_cars by 1\n",
    "    \n",
    "        %<<<<<< ADD YOUR CODE HERE >>>>>>%\n",
    "    \n",
    "    %4.) move cars according to their speed\n",
    "\n",
    "        %<<<<<< ADD YOUR CODE HERE >>>>>>%\n",
    "    \n",
    "    %5.) animate\n",
    "    \n",
    "        %<<<<<< ADD YOUR CODE HERE >>>>>>%\n",
    "end;"
   ]
  },
  {
   "cell_type": "markdown",
   "metadata": {},
   "source": [
    "## Aufgabe 2\n",
    "\n",
    "Wandeln Sie Ihr Skript in eine Matlab–Funktion um, die beim Aufruf eine Simulation ausführt. \n",
    "Die Funktion erhält als Eingabe\n",
    " - normalisierte Verkehrsdichte $\\rho$ \n",
    " - Maximalgeschwindigkeit $v_{\\text{max}}$ \n",
    " - Anteil der Sonntagsfahrer $p_{\\text{SF}}$ \n",
    "\n",
    "und gibt \n",
    "\n",
    " - die durchschnittliche Geschwindigkeit $v_{\\text{mean}}$ \n",
    " - den durchschnittlichen Verkehrsfluss $Q$\n",
    " \n",
    "als Ausgabe aus. Legen Sie `T = 3600` Sekunden und `len = 1000` Zellen fest. Der Verkehrsfluss $Q$ entspricht der Anzahl an Autos, die pro Zeiteinheit einen Zähler passieren, z.B. zwischen Zelle 1000 und 1."
   ]
  },
  {
   "cell_type": "code",
   "execution_count": 2,
   "metadata": {},
   "outputs": [
    {
     "name": "stdout",
     "output_type": "stream",
     "text": [
      "Created file '/home/selswe3s/git/hbrs/Modellbildung-und-Simulation/content/00_einleitung/trafficflow.m'.\n"
     ]
    }
   ],
   "source": [
    "%%file trafficflow.m\n",
    "function [v_ave,q_ave] = trafficflow(density,max_speed,p_SF)\n",
    "\n",
    "len         = 1000;   % the length of the road [cells]\n",
    "T           = 3600;   % the simulation time [seconds]\n",
    "\n",
    "    %<<<<<< ADD YOUR CODE HERE >>>>>>%\n",
    "\n",
    "%% initial configuration\n",
    "\n",
    "    %<<<<<< ADD YOUR CODE HERE >>>>>>%\n",
    "\n",
    "%% main time loop\n",
    "for i=1:T\n",
    "    %1.) increase speed of all cars by one if speed is not max yet\n",
    "    \n",
    "        %<<<<<< ADD YOUR CODE HERE >>>>>>%\n",
    "    \n",
    "    %2.) decrease speed if it would cause a collision otherwise\n",
    "    \n",
    "        %<<<<<< ADD YOUR CODE HERE >>>>>>%\n",
    "    \n",
    "    %3.) decrease velocity of a random selection \n",
    "    %    of p_SF*num_cars by 1\n",
    "    \n",
    "        %<<<<<< ADD YOUR CODE HERE >>>>>>%\n",
    "    \n",
    "    %4.) move cars according to their speed\n",
    "        \n",
    "        %<<<<<< ADD YOUR CODE HERE >>>>>>%\n",
    "        \n",
    "    %5.) animate\n",
    "    \n",
    "        %<<<<<< ADD YOUR CODE HERE >>>>>>%\n",
    "\n",
    "\n",
    "%calculate average velocity of all cars and time steps\n",
    "    \n",
    "    %<<<<<< ADD YOUR CODE HERE >>>>>>%\n",
    "\n",
    "end;\n"
   ]
  },
  {
   "cell_type": "markdown",
   "metadata": {},
   "source": [
    "In einem weiteren Matlab–Skript berechnen Sie für normalisierte Verkehrsdichten $\\rho$ = 0.05, 0.10, 0.15, 0.20, ..., 1 den Verkehrsfluss $Q$ und die durchschnittliche Geschwindigkeit $v_{\\text{mean}}$ mit Hilfe dieser Matlab-Funktion `trafficflow`. Gehen Sie von $p_{\\text{SF}}$ = 0.2 und $v_{\\text{max}}$ = 5 Zellen/Sekunde aus.\n",
    "Erstellen Sie mit Ihrem Skript sowohl ein $\\rho~–~v_{\\text{mean}}~–~$Diagramm als auch ein $\\rho~–~Q~–~$Diagramm, um die Abhängigkeiten des Verkehrsflusses bzw. der Durchschnittsgeschwindigkeit von der Verkehrsdichte darzustellen."
   ]
  },
  {
   "cell_type": "code",
   "execution_count": null,
   "metadata": {},
   "outputs": [],
   "source": [
    "%% input parameters\n",
    "max_speed   = 5;      % the maximally possible speed [cells/second]\n",
    "p_SF        = 0.20;   % the ratio of 'sunday drivers'\n",
    "\n",
    "    %<<<<<< ADD YOUR CODE HERE >>>>>>%\n",
    "    \n",
    "%% main loop\n",
    "%1.) iterate through normalized densities\n",
    "\n",
    "%for    \n",
    "        %<<<<<< ADD YOUR CODE HERE >>>>>>%\n",
    "\n",
    "    %2.) call function \"trafficflow\" and store outputs\n",
    "        \n",
    "        %<<<<<< ADD YOUR CODE HERE >>>>>>%\n",
    "%end\n",
    "\n",
    "figure(2)\n",
    "subplot(1,2,1);\n",
    "\n",
    "%3.) plot density vs. maximal velocity\n",
    "\n",
    "    %<<<<<< ADD YOUR CODE HERE >>>>>>%\n",
    "    \n",
    "title('density vs. average velocity');\n",
    "xlabel('normalized density')\n",
    "ylabel('average velocity [km/h]')\n",
    "\n",
    "subplot(1,2,2); \n",
    "\n",
    "%4.) plot density vs. traffic flow\n",
    "    \n",
    "    %<<<<<< ADD YOUR CODE HERE >>>>>>%\n",
    "    \n",
    "title('density vs. traffic flow');\n",
    "xlabel('normalized density')\n",
    "ylabel('traffic flow [cars/second]')"
   ]
  },
  {
   "cell_type": "markdown",
   "metadata": {},
   "source": [
    "<figure>\n",
    "  <img src=\"../images/diagramm_stau.PNG\" alt=\"my alt text\"/>\n",
    "    <figcaption>Abbildung 6: $\\rho~–~v_{\\text{mean}}~–~$Diagramm und $\\rho~–~Q~–~$Diagramm zum Vergleich mit der eigenen Lösung</figcaption>\n",
    "</figure>"
   ]
  },
  {
   "cell_type": "markdown",
   "metadata": {},
   "source": [
    "## Aufgabe 3\n",
    "Experimentieren Sie mit den Parametern $v_{\\text{max}}$ und $p_{\\text{SF}}$. Wie lässt sich der Einfluss beider Parameter auf die Durchschnittsgeschwindigkeit und den Verkehrsfluss qualitativ beschreiben? Nennen sie eine Möglichkeit den Realismus des Modells zu steigen."
   ]
  },
  {
   "cell_type": "code",
   "execution_count": 9,
   "metadata": {},
   "outputs": [],
   "source": [
    "%% Qualitative Beschreibung des Einflusses von v_max auf v_mean und Q:\n",
    "\n",
    "%% Qualitative Beschreibung des Einflusses von p_SF auf v_mean und Q:\n",
    "\n",
    "%% Steigerung des Realismus durch:\n"
   ]
  },
  {
   "cell_type": "markdown",
   "metadata": {},
   "source": [
    "## Literatur\n",
    "\n",
    "```{bibliography} ../references.bib\n",
    "```"
   ]
  },
  {
   "cell_type": "code",
   "execution_count": null,
   "metadata": {},
   "outputs": [],
   "source": []
  }
 ],
 "metadata": {
  "kernelspec": {
   "display_name": "Octave",
   "language": "octave",
   "name": "octave"
  },
  "language_info": {
   "file_extension": ".m",
   "help_links": [
    {
     "text": "GNU Octave",
     "url": "https://www.gnu.org/software/octave/support.html"
    },
    {
     "text": "Octave Kernel",
     "url": "https://github.com/Calysto/octave_kernel"
    },
    {
     "text": "MetaKernel Magics",
     "url": "https://metakernel.readthedocs.io/en/latest/source/README.html"
    }
   ],
   "mimetype": "text/x-octave",
   "name": "octave",
   "version": "4.2.2"
  }
 },
 "nbformat": 4,
 "nbformat_minor": 4
}
