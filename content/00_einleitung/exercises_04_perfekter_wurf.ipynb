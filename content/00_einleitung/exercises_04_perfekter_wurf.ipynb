{
 "cells": [
  {
   "cell_type": "markdown",
   "metadata": {
    "author": "Philipp Rosauer"
   },
   "source": [
    "# Der perfekte Wurf"
   ]
  },
  {
   "cell_type": "markdown",
   "metadata": {},
   "source": [
    "Man könnte annehmen, dass das (erfolgreiche) Werfen eines Freiwurfs für alle hochbezahlten Basketballstars eine reine Formalität ist. Erstaunlicherweise ist dem nicht so! Während der deutsche NBA Star Dirk Nowitzki in der Saison 2008/09 laut NBA Media Ventures (2009) immerhin eine Trefferquote von 89% hatte, gibt es andere NBA Superstars, die in dieser Hinsicht weniger erfolgreich sind. Ein prominentes Beispiel ist Shaquille O’Neal, der am Ende der Saison 2008/09 gerade einmal eine Trefferquote von 59% hatte, in seiner gesamten Karriere sogar nur eine Quote von 52.4%. Er ist kein Einzelfall: Fast ein Drittel der NBA-Spieler haben beim Freiwurf eine Trefferquote von weniger als 75%. Für uns stellt sich die Frage: Woher kommen diese Unterschiede und ist es eventuell möglich ein Modell zu erstellen, das den ’perfekten Wurf’ wiedergibt?\n",
    "<figure>\n",
    "  <img src=\"../images/basketball_title.jpg\" alt=\"Basketball Wurf\"/>\n",
    "</figure>"
   ]
  },
  {
   "cell_type": "markdown",
   "metadata": {},
   "source": [
    "## Modellbeschreibung\n",
    "In Abbildung 1 sind die Messungen eines aufgezeichneten Wurfes dargestellt. Der Ball geht ins Netz, wobei er knapp die Hände von Spieler B streift. Die Größe des Balles wird hier vernachlässigt und das Problem wird nur in zwei Dimensionen betrachtet. Der Ball vollführt eine geradlinige Bewegung in horizantler Richtung und eine gleichförmig beschleunigte Bewegung in vertikaler Richtung. Das Koordinatensystem kann frei gewählt werden, hier wird der Ursprung an die Position des werfenden Spielers auf Bodenhöhe gelegt. Dabei soll die $x$-Achse in Richtung des Baseketballkorbes und die $y$-Achse nach oben zeigen.\n",
    "<figure>\n",
    "  <img src=\"../images/Ballwurf.jpg\" alt=\"Wurf\" width=\"500\"/>\n",
    "  <figcaption>Abbildung 1: Aufgezeichneter Basketballwurf</figcaption>\n",
    "</figure>"
   ]
  },
  {
   "cell_type": "markdown",
   "metadata": {},
   "source": [
    "### Aufgabe 1: Aufstellen der Bewegungsgleichung\n",
    "Zunächst soll mit Bleistift und Papier die Grundlage geschaffen werden, um in den folgenden Aufgaben mit Hilfe von Matlab den Wurf eines Basketballes zu simulieren.\n",
    "Die Bewegungsgleichungen in $x$- und $y$-Richtung können leicht für die gegebene Bewegung hergeleitet werden.\n",
    "\n",
    "In $x$-Richtung wird der Ball nicht beschleunigt, er besitzt aber eine Anfangsgeschwindigkeit in $x$-Richtung $v_x$. Wegen der Wahl des Ursprungs gilt außerdem $x(t=0)=0$. "
   ]
  },
  {
   "cell_type": "markdown",
   "metadata": {},
   "source": [
    "a) Stellen Sie die Bewegungsgleichungen in x-Richtung auf.\n",
    "\n",
    "$x''(t) =$ \n",
    "\n",
    "$x'(t) =$ \n",
    "\n",
    "$x(t) =$"
   ]
  },
  {
   "cell_type": "markdown",
   "metadata": {},
   "source": [
    "In vertikaler Richtung wird der Ball mit der Erdbeschleunigung $g = 9.81 \\;\\mathrm{m/s^2}$ beschleunigt und besitzt eine Anfangsgeschwindigkeit in $y$-Richtung $v_y$ und eine Abwurfhöhe von $h_A$."
   ]
  },
  {
   "cell_type": "markdown",
   "metadata": {},
   "source": [
    "b) Stellen Sie die Bewegungsgleichungen in $y$-Richtung auf.\n",
    "\n",
    "$y''(t) =$\n",
    "\n",
    "$y'(t) =$ \n",
    "\n",
    "$y(t) =$ "
   ]
  },
  {
   "cell_type": "markdown",
   "metadata": {},
   "source": [
    "Mittels einfacher Trigonometrie können $x(t)$ und $y(t)$ als Funktionen des Abwurfwinkels $\\alpha$ und des Betrags $v_a$ ausgedrückt werden. Führen Sie sich diesen Zusammenhang, wenn nötig, mit Hilfe einer einfachen Skizze vor Augen."
   ]
  },
  {
   "cell_type": "markdown",
   "metadata": {},
   "source": [
    "c) Stellen Sie $x(t)$ und $y(t)$ als Funktionen des Abwurfwinkels dar.\n",
    "\n",
    "$x(t) =$\n",
    "\n",
    "$y(t) =$ "
   ]
  },
  {
   "cell_type": "markdown",
   "metadata": {},
   "source": [
    "## Modellierung\n",
    "Mit Hilfe der zuvor aufgestellen Bewegungsgleichungen sollen im Folgenden verschiedene Freiwurf-Szenarien simuliert werden."
   ]
  },
  {
   "cell_type": "markdown",
   "metadata": {},
   "source": [
    "### Aufgabe 2: Freiwurf eines punktförmigen Balles\n",
    "Schreiben Sie auf Basis der zuvor aufgestellten Bewegungsgleichungen ein Programm, in welchem Sie die Bahnkurve des Balls beim Freiwurf für beliebige Abwurfwinkel $\\alpha$ berechnen können. Am Ende dieser Seite steht dazu bereits ein Code-Gerüst. Dieses können Sie interaktiv auf dieser Seite nach und nach füllen und ausführen, oder in Matlab kopieren. Die Aufgaben sind so strukturiert, dass Sie Ihr Skript zur Lösung jeder weiteren Aufgabe erweitern können.\n",
    "\n",
    "Gehen Sie von einem punktförmigen Ball aus; einen gültigen Wurf erhalten Sie dann, wenn der Ball mittig im Korb landet. Binden Sie Korb und Brett in die Visualisierung ein. Verwenden Sie folgende Maße für die Beschreibung des Problems (Maße für alle Aufgabenteile):\n",
    "\n",
    "| Parameter | Wert |\n",
    "| - | - |\n",
    "| Abwurfhöhe | $2.31~\\mathrm{m}$ |\n",
    "| Korbhöhe | $3.05~\\mathrm{m}$ |\n",
    "| Korbradius | $0.225~\\mathrm{m}$ |\n",
    "| Wurfdistanz | $4.115~\\mathrm{m}$ |\n",
    "| Höhe Unterkante Brett | $2.9~\\mathrm{m}$ |\n",
    "| Vertikale Länge des Bretts | $1.05~\\mathrm{m}$ |\n",
    "| Abstand Brett-Korb | $0.15~\\mathrm{m}$ |\n",
    "\n",
    "\n"
   ]
  },
  {
   "cell_type": "markdown",
   "metadata": {},
   "source": [
    "#### a) Abwurfwinkel\n",
    "Überlegen Sie sich, welche Abwurfwinkel realistisch sind und legen Sie auf dieser Basis ein Intervall fest, für das Sie Würfe simulieren wollen. Plotten Sie innerhalb dieses Intervalls alle Bahnkurven im Abstand von 0.1 Grad. \n"
   ]
  },
  {
   "cell_type": "markdown",
   "metadata": {
    "tags": [
     "hide_input"
    ]
   },
   "source": [
    "<figure>\n",
    "  <img src=\"../images/basketball_1.png\" alt=\"Ergebnis a.\"/>\n",
    "  <figcaption>Abbildung 2: Mögliches Ergebnis Aufgabenteil a)</figcaption>\n",
    "</figure>"
   ]
  },
  {
   "cell_type": "markdown",
   "metadata": {},
   "source": [
    "#### b) Anpassen der Korbgröße\n",
    "Der Korb ist in der Realität größer als der Ball, so dass dieser für einen Treffer nicht exakt mittig durch den Korb fallen muss. Erweitern Sie ihr Programm so, dass der Ball an jedem Punkt durch den Korb fallen kann. Gehen Sie dann von einer Anfangsgeschwindigkeit von $ v_A = 8 \\frac{\\mathrm{m}}{\\mathrm{s}}$ aus und variieren Sie den Abwurfwinkel. Zwischen welchen Werten darf der Abwurfwinkel nun für einen Treffer schwanken? Visualisieren Sie die Bahnkurve für den minimalen, maximalen und optimalen (Ball landet mittig im Korb) Abwurfwinkel. "
   ]
  },
  {
   "cell_type": "markdown",
   "metadata": {
    "tags": [
     "hide_input"
    ]
   },
   "source": [
    "<figure>\n",
    "  <img src=\"../images/basketball_2.png\" alt=\"Ergebnis 2.\"/>\n",
    "  <figcaption>Abbildung 3: Mögliches Ergebnis Aufgabenteil b)</figcaption>\n",
    "</figure>\n"
   ]
  },
  {
   "cell_type": "markdown",
   "metadata": {},
   "source": [
    "#### c) Niemand ist perfekt!\n",
    "Niemand ist in der Lage den optimalen Abwurfwinkel bei jedem Wurf zu treffen, dieser schwankt in der Realität. Gehen Sie nun von $\\theta = 60^\\circ$ plus einem zufälligem Verwackler von $\\pm 5^\\circ$ (<u>im Mittel</u>, max. $\\pm 12^\\circ$) aus. Wie viele Treffer werden nach 1000 Würfen in etwa erzielt? (Mittelwert und Standardabweichung!)"
   ]
  },
  {
   "cell_type": "markdown",
   "metadata": {
    "tags": [
     "hide_input"
    ]
   },
   "source": [
    "<figure>\n",
    "  <img src=\"../images/basketball_3.png\" alt=\"Ergebnis 3.\"/>\n",
    "  <figcaption>Abbildung 4: Mögliches Ergebnis Aufgabnteil c)</figcaption>\n",
    "</figure>"
   ]
  },
  {
   "cell_type": "markdown",
   "metadata": {},
   "source": [
    "#### d) Abweichungen in der Abwurfgeschwindigkeit\n",
    "Erweitern Sie Ihr Programm so, dass zusätzlich ein Fehler in der Abwurfgeschwindigkeit von $\\pm 0.5\\frac{\\mathrm{m}}{\\mathrm{s}}$ (<u>im Mittel</u>, max. $\\pm 1\\frac{\\mathrm{m}}{\\mathrm{s}}$) berücksichtigt wird. Wie viele Treffer werden mit dieser zusätzlichen Eigenschaft nach 1000 Würfen in etwa erzielt ($\\theta = 60^\\circ$)?"
   ]
  },
  {
   "cell_type": "markdown",
   "metadata": {
    "tags": [
     "hide_input"
    ]
   },
   "source": [
    "<figure>\n",
    "  <img src=\"../images/basketball_4.png\" alt=\"Ergebnis 4.\"/>\n",
    "  <figcaption>Abbildung 5: Mögliches Ergebnis Aufgabenteil d)</figcaption>\n",
    "</figure>"
   ]
  },
  {
   "cell_type": "markdown",
   "metadata": {},
   "source": [
    "#### e) Bank Shots erlaubt!\n",
    "Erweitern Sie Ihr Programm so, dass der Ball beim Auftreffen am Brett ideal elastisch zurückgestoßen wird. Wie viele Treffer werden nun erzielt ($\\theta = 60^\\circ$)? (Hinweis: Abstand zwischen Korb und Brett beachten!)"
   ]
  },
  {
   "cell_type": "markdown",
   "metadata": {
    "tags": [
     "hide_input"
    ]
   },
   "source": [
    "<figure>\n",
    "  <img src=\"../images/basketball_5.png\" alt=\"Ergebnis 5.\"/>\n",
    "  <figcaption>Abbildung 6: Mögliches Ergebnis Aufgabenteil e)</figcaption>\n",
    "</figure>"
   ]
  },
  {
   "cell_type": "markdown",
   "metadata": {},
   "source": [
    "#### f) Ausblick\n",
    "Nennen Sie mindestens drei Einflussfaktoren eines realen Basketballwurfes, die bisher nicht in das Modell eingeflossen sind. Beschreiben Sie kurz (3-5 Sätze) wie Sie das Modell um mindestens einen dieser Faktoren möglichst einfach erweitern könnten. Stellen Sie sich vor, Sie sind Coach und möchten ihr Modell im Training einsetzen. Was kann Ihre Mannchaft aus Ihren Simulationen lernen (2-3 Sätze)? Und wie können Sie Ihr Modell durch Messungen im Training validieren? **keine Programmierung**"
   ]
  },
  {
   "cell_type": "code",
   "execution_count": null,
   "metadata": {
    "tags": [
     "hide_output"
    ]
   },
   "outputs": [],
   "source": [
    "% Umgebungskonstanten\n",
    "\n",
    "\n",
    "% Wurfparameter\n",
    "\n",
    "\n",
    "% Wurfwinkel\n",
    "%Vorgabe von Winkelintervallen\n",
    "\n",
    "\n",
    "% Wurfgeschwindigkeit\n",
    "\n",
    "\n",
    "% Visualisierungsparameter\n",
    "\n",
    "\n",
    "%%%% HAUPTPROGRAMM\n",
    "% Berechnung der Sollwinkel für alle Würfe\n",
    "\n",
    "% Berechnung der Sollgeschwindigkeit für alle Würfe\n",
    "\n",
    "\n",
    "% Berechnen der optimalen Geschwindigkeiten in m/s,\n",
    "% falls keine Geschwindigkeit vorgegeben\n",
    "\n",
    "\n",
    "% Hilfsvariablen\n",
    "\n",
    "\n",
    "% Schleife über mehrere Wurfserien\n",
    "for s=1:n_serien\n",
    "    \n",
    "    %Vorinitialisierung von Vektoren\n",
    "\n",
    "    \n",
    "    % Schleife über Würfe\n",
    "    for i = 1:n_wuerfe\n",
    "        \n",
    "        % Addieren von zufälligen Winkelabweichungen\n",
    "  \n",
    "        \n",
    "        % Addieren von Zufällige Geschwindigkeitsabweichungen\n",
    "\n",
    "        \n",
    "        % Berechnung der Ballhöhe am Brett\n",
    "\n",
    "        \n",
    "        % Trifft Ball das Brett?\n",
    " \n",
    "        \n",
    "        % Berechnung der Weite bei Korbhöhe\n",
    "\n",
    "        \n",
    "        % Zählen der direkten Treffer\n",
    "  \n",
    "        \n",
    "        % Zählen der Treffer über Brettabpraller\n",
    "\n",
    "        \n",
    "        % Berechnung der Trajektorien\n",
    "        \n",
    "    end\n",
    "    % Änderung der Trajektorien bei Abprallern\n",
    "\n",
    "    \n",
    "    % Plot der gewünschten Flugkurven\n",
    "\n",
    "    end\n",
    "    \n",
    "    \n",
    "    % Koordinatensystem\n",
    "\n",
    "    \n",
    "    % Plot des Korbes und des Brettes\n",
    "\n",
    "    \n",
    "    % Ausgabe der Trefferstatistik für diese Wurfserie\n",
    "\n",
    "    \n",
    "end\n",
    "\n",
    "% Statistik über alle Wurfserien\n",
    "\n",
    "\n"
   ]
  },
  {
   "cell_type": "markdown",
   "metadata": {},
   "source": [
    "\n"
   ]
  }
 ],
 "metadata": {
  "kernelspec": {
   "display_name": "Octave",
   "language": "octave",
   "name": "octave"
  },
  "language_info": {
   "file_extension": ".m",
   "help_links": [
    {
     "text": "GNU Octave",
     "url": "https://www.gnu.org/software/octave/support.html"
    },
    {
     "text": "Octave Kernel",
     "url": "https://github.com/Calysto/octave_kernel"
    },
    {
     "text": "MetaKernel Magics",
     "url": "https://metakernel.readthedocs.io/en/latest/source/README.html"
    }
   ],
   "mimetype": "text/x-octave",
   "name": "octave",
   "version": "4.2.2"
  }
 },
 "nbformat": 4,
 "nbformat_minor": 4
}
