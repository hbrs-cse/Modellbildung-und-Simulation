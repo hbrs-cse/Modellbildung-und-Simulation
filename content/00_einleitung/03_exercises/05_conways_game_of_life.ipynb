{
 "cells": [
  {
   "cell_type": "markdown",
   "metadata": {},
   "source": [
    "# Conways Game of Life\n",
    "\n",
    "John Horton Conway erfand 1970 das \"Game of Life\". Dabei handelt es sich um einen so genannten zellularen Automaten handelt. Stellen wir uns dazu ein zweidimenionales, endliches Gitter der Größe $N \\times N$ vor. Jeder Zelle dieses Gitters kann eindeutig einer von zwei möglichen Zuständen zugewiesen werden. Tot oder lebendig, $0$ oder $1$, rot oder grün, ...\n",
    "\n",
    "## Spielvorbereitung\n",
    "Zunächst erstellen wir ein Spielfeld auf dem wir das Game of Life spielen können. Dieser soll zunächst aus einem $10 \\times 10$ Felder großen Gitter bestehen. Dieses Spielfeld können wir in einer Matrix mit $10 \\times 10$ Einträgen speichern. Um später das Verhalten an den Rändern einfacher zu machen, empfiehlt es sich das Spielfeld gleich $12 \\times 12$ groß anzulegen. Eine lebendige Zelle stellen wir dazu durch eine $1$ dar, eine tote Zelle durch eine $0$. Erstellen Sie nun zunächst das Spielfeld und stellen dieses dar. Die Zellen dieses Spielfeldes sollen zufällig belegt werden. Der Rand soll jedoch ausschließlich mit Nullen belegt werden."
   ]
  },
  {
   "cell_type": "code",
   "execution_count": 13,
   "metadata": {},
   "outputs": [],
   "source": [
    "% Spielfeld\n",
    "\n",
    "%%Fügen Sie hier Ihren Code ein, um ein Spielfeld zu erzeugen, dessen Felder zufällig belegt sind.\n"
   ]
  },
  {
   "cell_type": "markdown",
   "metadata": {},
   "source": [
    "Ihr Spieldfeld sollte ungefähr so aussehen (natürlich mit einer anderen, zufälligen Verteilung): "
   ]
  },
  {
   "cell_type": "code",
   "execution_count": 41,
   "metadata": {
    "tags": [
     "remove-input"
    ]
   },
   "outputs": [
    {
     "data": {
      "image/png": "[encoded data removed]",
      "text/plain": [
       "<IPython.core.display.Image object>"
      ]
     },
     "metadata": {},
     "output_type": "display_data"
    }
   ],
   "source": [
    "% Spielfeld\n",
    "game_size = 12;\n",
    "table = round(rand(game_size, game_size));\n",
    "table(1,:) = 0;\n",
    "table(:,1) = 0;\n",
    "table(:,game_size) = 0;\n",
    "table(game_size,:) = 0;\n",
    "axis([-game_size game_size -game_size game_size])\n",
    "spy(table, 'ro')\n",
    "set(gca, 'xtick', [0:1:12])\n",
    "set(gca, 'ytick', [0:1:12])\n",
    "grid on"
   ]
  },
  {
   "cell_type": "markdown",
   "metadata": {},
   "source": [
    "Testen Sie gern ein wenig, wie Sie die Darstellung nach Ihren Wünschen anpassen können!"
   ]
  },
  {
   "cell_type": "markdown",
   "metadata": {},
   "source": [
    "```{admonition} Tipps\n",
    "1. Um einen Eintrag Ihrer Matrix zufallsbasiert mit einer $1$ oder $0$ zu belegen, können Sie die Funktionen [round()](https://de.mathworks.com/help/matlab/ref/round.html) und  [rand()](https://de.mathworks.com/help/matlab/ref/rand.html) kombinieren.\n",
    "2. Um eine solche [dünnbesetzte](https://lmgtfy.com/?q=sparse+matrix) Matrix einfach darstellen zu können bietet sich [spy()](https://de.mathworks.com/help/matlab/ref/spy.html) an.\n",
    "```"
   ]
  },
  {
   "cell_type": "markdown",
   "metadata": {},
   "source": [
    "## Spielregeln\n",
    "\n",
    "Das Game of Life kommt ganz ohne Spieler aus, wir müssen lediglich einige Spielregeln definieren und können dann ganz entspannt dem Spiel zu sehen, wie es sich selbst spielt. Überlegen Sie sich, wie Sie, zunächst nur für eine Runde, die folgenden Regeln implementieren können:\n",
    "\n",
    "1. Jede lebendige Zelle mit weniger als zwei lebendigen Nachbarn stirbt an Einsamkeit.\n",
    "\n",
    "```{figure} images/Tod.gif\n",
    "---\n",
    "height: 200px\n",
    "name: Tod_einsam\n",
    "---\n",
    "Tod durch Einsamkeit\n",
    "```\n",
    "\n",
    "2. Jede lebendige Zelle mit zwei oder drei lebendigen Nachbarn überlebt.\n",
    "\n",
    "```{figure} images/Nix.png\n",
    "---\n",
    "height: 200px\n",
    "name: Überleben\n",
    "---\n",
    "Überleben durch Wohlfühlatmosphäre\n",
    "```\n",
    "\n",
    "3. Jede lebendige Zelle mit mehr als drei lebendigen Nachbarn stirbt an Überbevölkerung.\n",
    "\n",
    "```{figure} images/Tod_ueber.gif\n",
    "---\n",
    "height: 200px\n",
    "name: Tod_ueber\n",
    "---\n",
    "Tod durch Überbevölkerung\n",
    "```\n",
    "\n",
    "4. Jede tote Zelle mit genau drei lebendigen Zellen wird durch Reproduktion geboren.\n",
    "\n",
    "```{figure} images/Geburt.gif\n",
    "---\n",
    "height: 200px\n",
    "name: Geburt\n",
    "---\n",
    "Geburt durch Reproduktion\n",
    "```\n",
    "\n",
    "Plotten Sie dazu erneut Ihre Startverteilung und die neue Verteilung. Können Sie durch Vergleich die korrekte Anwendung aller Regeln validieren?"
   ]
  },
  {
   "cell_type": "code",
   "execution_count": null,
   "metadata": {},
   "outputs": [],
   "source": [
    "% Erneutes Plotten der Startverteilung\n",
    "\n",
    "\n",
    "% Zählen der lebendigen Nachbarn jeder Zelle\n",
    "\n",
    "\n",
    "% Tod durch Einsamkeit\n",
    "\n",
    "\n",
    "% Tod durch Überbevölkerung\n",
    "\n",
    "\n",
    "% Geburt durch Reproduktion\n",
    "\n",
    "\n",
    "% Plotten der neuen Verteilung"
   ]
  },
  {
   "cell_type": "markdown",
   "metadata": {},
   "source": [
    "Ihr Ergebnis sollte ungefähr so aussehen:"
   ]
  },
  {
   "cell_type": "code",
   "execution_count": 44,
   "metadata": {
    "tags": [
     "remove-input"
    ]
   },
   "outputs": [
    {
     "data": {
      "image/png": "[encoded data removed]",
      "text/plain": [
       "<IPython.core.display.Image object>"
      ]
     },
     "metadata": {},
     "output_type": "display_data"
    }
   ],
   "source": [
    "% Erneutes Plotten der Startverteilung\n",
    "spy(table, 'ro')\n",
    "set(gca, 'xtick', [1:1:12])\n",
    "set(gca, 'ytick', [1:1:12])\n",
    "grid on\n",
    "\n",
    "% Zählen der lebendigen Nachbarn jeder Zelle\n",
    "table_n = table;\n",
    "for i = 2:game_size-1\n",
    "    for j = 2:game_size-1\n",
    "        neighbors = table(i-1,j) + table(i+1,j) + table(i,j-1) + table(i,j+1) + table(i-1, j+1) + table(i+1, j+1) + table(i-1, j-1) + table(i+1, j-1);\n",
    "\n",
    "% Tod durch Einsamkeit und Tod durch Überbevölkerung\n",
    "\n",
    "        if neighbors < 2 || neighbors > 3\n",
    "            table_n(i,j) = 0;\n",
    "        \n",
    "% Geburt durch Reproduktion\n",
    "\n",
    "        elseif neighbors == 3\n",
    "            table_n(i,j) = 1;\n",
    "            \n",
    "        end\n",
    "    end\n",
    "end\n",
    "\n",
    "% Plotten der neuen Verteilung\n",
    "hold on\n",
    "spy(table_n)\n",
    "set(gca, 'xtick', [1:1:12])\n",
    "set(gca, 'ytick', [1:1:12])\n",
    "grid on"
   ]
  },
  {
   "cell_type": "code",
   "execution_count": null,
   "metadata": {},
   "outputs": [],
   "source": []
  }
 ],
 "metadata": {
  "kernelspec": {
   "display_name": "Octave",
   "language": "octave",
   "name": "octave"
  },
  "language_info": {
   "file_extension": ".m",
   "help_links": [
    {
     "text": "GNU Octave",
     "url": "https://www.gnu.org/software/octave/support.html"
    },
    {
     "text": "Octave Kernel",
     "url": "https://github.com/Calysto/octave_kernel"
    },
    {
     "text": "MetaKernel Magics",
     "url": "https://metakernel.readthedocs.io/en/latest/source/README.html"
    }
   ],
   "mimetype": "text/x-octave",
   "name": "octave",
   "version": "4.2.2"
  }
 },
 "nbformat": 4,
 "nbformat_minor": 4
}
