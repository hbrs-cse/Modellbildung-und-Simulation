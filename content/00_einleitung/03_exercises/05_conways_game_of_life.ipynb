{
 "cells": [
  {
   "cell_type": "markdown",
   "metadata": {},
   "source": [
    "# Conways Game of Life\n",
    "\n",
    "John Horton Conway erfand 1970 das \"Game of Life\", wobei es sich um einen so genannten zellularen Automaten handelt. Stellen wir uns dazu ein zweidimenionales, endliches Gitter der Größe $N \\times N$ vor. Jeder Zelle dieses Gitters kann eindeutig einer von zwei möglichen Zuständen zugewiesen werden. Tot oder lebendig, 0 oder 1, grün oder rot, ...\n",
    "Werden die Zellen des Gitters zufällig belegt, könnte unser Gitter zum Beispiel so aussehen:"
   ]
  },
  {
   "cell_type": "markdown",
   "metadata": {},
   "source": [
    "## Regeln\n",
    "\n",
    "1. Jede lebendige Zelle mit weniger als zwei lebendigen Nachbarn stirbt an Einsamkeit.\n",
    "\n",
    "```{figure} images/Tod.gif\n",
    "---\n",
    "name: Tod\n",
    "---\n",
    "Tod durch Einsamkeit\n",
    "```\n",
    "\n",
    "2. Jede lebendige Zelle mit zwei oder drei lebendigen Nachbarn überlebt.\n",
    "3. Jede lebendige Zelle mit mehr als drei lebendigen Nachbarn stirbt an Überbevölkerung.\n",
    "4. Jede tote Zelle mit genau drei lebendigen Zellen wird durch Reproduktion geboren."
   ]
  },
  {
   "cell_type": "markdown",
   "metadata": {},
   "source": []
  },
  {
   "cell_type": "code",
   "execution_count": null,
   "metadata": {},
   "outputs": [],
   "source": []
  }
 ],
 "metadata": {
  "kernelspec": {
   "display_name": "Octave",
   "language": "octave",
   "name": "octave"
  },
  "language_info": {
   "file_extension": ".m",
   "help_links": [
    {
     "text": "GNU Octave",
     "url": "https://www.gnu.org/software/octave/support.html"
    },
    {
     "text": "Octave Kernel",
     "url": "https://github.com/Calysto/octave_kernel"
    },
    {
     "text": "MetaKernel Magics",
     "url": "https://metakernel.readthedocs.io/en/latest/source/README.html"
    }
   ],
   "mimetype": "text/x-octave",
   "name": "octave",
   "version": "4.2.2"
  }
 },
 "nbformat": 4,
 "nbformat_minor": 4
}
