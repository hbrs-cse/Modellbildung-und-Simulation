{
 "cells": [
  {
   "cell_type": "markdown",
   "metadata": {},
   "source": [
    "# Conway's Game of Life",
    "\n",
    "Erstellen Sie ein Programm, in dem Conway's Game of Life modelliert wird.\n",
    "Das Spiel des Lebens (englisch Conway’s Game of Life) ist ein vom Mathematiker John Horton Conway 1970 entworfenes Spiel, basierend auf einem zweidimensionalen zellulären Automaten.\n"
   ]
  },
  {
   "cell_type": "markdown",
   "metadata": {},
   "source": [
    "## Das Spielfeld\n",
    "\n",
    "Das Spielfeld ist in Zeilen und Spalten unterteilt und im Idealfall unendlich groß. Sofern dieser Idealfall nicht verwendet werden kann gibt es spezielle Regeln, wie die Randpunkte behandelt werden sollen.\n",
    "Jedes Gitterquadrat ist ein zellulärer Automat (Zelle), der einen von zwei Zuständen einnehmen kann, der oft als lebendig und tot bezeichnet wird. Zunächst wird eine Anfangsgeneration von lebenden Zellen auf dem Spielfeld platziert.",
    "Jede lebende oder tote Zelle hat auf diesem Spielfeld genau acht Nachbarzellen. Die nächste Generation ergibt sich durch die Befolgung einfacher Regeln."
   ]
  },
  
  
  
  
  {
   "cell_type": "code",
   "execution_count": 4,
   "metadata": {
    "tags": [
     "remove-output"
    ]
   },
   "outputs": [
    {
     "name": "stdout",
     "output_type": "stream",
     "text": [
      "Created file '/home/jan/shares/Modellbildung-und-Simulation/content/00_einleitung/groundwater_sim.m'.\n"
     ]
    }
   ],
   "source": [
    "%%file groundwater_sim.m\n",
    "function [ground, absorb_mat] = groundwater_sim(depth, width, params)\n",
    "% simulate diffusion of groundwater using cellular automata.\n",
    "%\n",
    "% The ground is modelled as a rectangular 2D-grid of size \n",
    "%   depth x width. \n",
    "% Fluid from a cell or the surface propagates to cells below\n",
    "% according to a certain probability. Initially, the central \n",
    "% half of the surface is covered by fluid\n",
    "%\n",
    "% Inputs:\n",
    "%   - depth:       The depth of the regulear 2D grid\n",
    "%   - width:       The width of the regular 2D grid\n",
    "%\n",
    "%   - params.probability:        The seeping probability into \n",
    "%                                lower cells\n",
    "%   - params.ratio_absorb:       Ratio of absorbing material in \n",
    "%                                the ground values between 0 and 1\n",
    "%   - params.depth_influence:    influence of the depth on the\n",
    "%                                seeping probability (FURTHER EXPLANATION NEEDED!)\n",
    "%\n",
    "% Outputs:\n",
    "%   - ground:      2D-grid representing the groundwater distribution\n",
    "%                  It is a (depth x width) Matrix with values in {0,1}\n",
    "%   - absorb_mat:  2D-grid representing  the absorbing material \n",
    "%                  It is a (depth x width) Matrix with values in {0,1}\n",
    "\n",
    "end"
   ]
  },
  {
   "cell_type": "markdown",
   "metadata": {},
   "source": [
    "In einem Skript können Sie die Parameter im Structure array speichern und so gesammelt an die Funktion übergeben:"
   ]
  },
  {
   "cell_type": "code",
   "execution_count": null,
   "metadata": {},
   "outputs": [],
   "source": [
    "depth = 10;\n",
    "width = 10;\n",
    "\n",
    "params.probability     = 0.1;\n",
    "params.ratio_absorb    = 0.1;\n",
    "params.depth_influence = 0.5;\n",
    "\n",
    "[G, A] = groundwater_sim(depth, width, params);"
   ]
  },
  {
   "cell_type": "markdown",
   "metadata": {},
   "source": [
    "## Aufgabe 4 - Gesteigerter Realismus\n",
    "\n",
    "Überlegen Sie sich einen weiteren Einflussparameter mit dem der Prozess des Versickerns realistischer simuliert werden kann und modifizieren Sie Ihr Programm aus Aufgabe 3 entsprechend. In welchen Grenzen kann man diesen Parameter sinnvoll wählen?"
   ]
  }
 ],
 "metadata": {
  "kernelspec": {
   "display_name": "Octave",
   "language": "octave",
   "name": "octave"
  },
  "language_info": {
   "file_extension": ".m",
   "help_links": [
    {
     "text": "GNU Octave",
     "url": "https://www.gnu.org/software/octave/support.html"
    },
    {
     "text": "Octave Kernel",
     "url": "https://github.com/Calysto/octave_kernel"
    },
    {
     "text": "MetaKernel Magics",
     "url": "https://metakernel.readthedocs.io/en/latest/source/README.html"
    }
   ],
   "mimetype": "text/x-octave",
   "name": "octave",
   "version": "5.2.0"
  }
 },
 "nbformat": 4,
 "nbformat_minor": 4
}
