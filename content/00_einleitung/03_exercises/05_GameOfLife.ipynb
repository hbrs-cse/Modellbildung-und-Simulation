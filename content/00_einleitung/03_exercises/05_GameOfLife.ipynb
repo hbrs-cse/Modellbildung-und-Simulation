{
 "cells": [
  {
   "cell_type": "markdown",
   "metadata": {},
   "source": [
    "# Conway's Game of Life\n",
    "Erstellen Sie ein Programm, in dem Conway's Game of Life modelliert wird.\n",
    "Entworfen wurde das Spiel 1970 von dem Mathematiker John Horton Conway, basierend auf einem zweidimensionalen zellulären Automaten. Auf einem schachbrettähnlichen Spielfeld befinden sich Zellen, die entweder den Zustand \"tot\" oder \"lebendig\" besitzen können. Betrachtet wird die zeitliche Zustandsänderung der Zellen, die ausschließlich von deren eigenem Zustand und dem der Nachbarzellen abhängt.  \n"
   ]
  },
  {
   "cell_type": "markdown",
   "metadata": {},
   "source": [
    "## Das Spielfeld\n",
    "\n",
    "Das Spielfeld ist in Zeilen und Spalten unterteilt und im Idealfall unendlich groß. Da dieser Idealfall nicht verwendet werden kann gibt es spezielle Regeln, wie die Randpunkte behandelt werden sollen (siehe \"Die Spielregeln\").\n",
    "Jedes Gitterquadrat ist ein zellulärer Automat (Zelle), der einen von zwei Zuständen einnehmen kann, der oft als \"lebendig\" und \"tot\" bezeichnet wird. Zunächst wird eine Anfangsgeneration von lebenden Zellen auf dem Spielfeld platziert. Die Verteilung der \"lebendigen\" bzw. \"toten\" Zellen dieser Generation kann entweder durch den Zufall bestimmt oder bewusst gewählt werden. Jede lebende oder tote Zelle hat auf diesem Spielfeld genau acht Nachbarzellen. Die nächste Generation ergibt sich durch die Befolgung einfacher Regeln."
   ]
  },
  {
   "cell_type": "markdown",
   "metadata": {},
   "source": [
    "## Die Spielregeln\n",
    "Die Folgegeneration wird für alle Zellen gleichzeitig berechnet und ersetzt die aktuelle Generation. Der Zustand einer Zelle (\"lebendig\" oder \"tot\") in der Folgegeneration hängt nur vom aktuellen Zustand der Zelle selbst und den aktuellen Zuständen ihrer acht Nachbarzellen ab.\n",
    "\n",
    "Die von Conway zu Anfang verwendeten Regeln sind:\n",
    "- Eine tote Zelle mit genau drei lebenden Nachbarn wird in der Folgegeneration neu geboren (wird lebeding).\n",
    "- Lebende Zellen mit weniger als zwei lebenden Nachbarn sterben in der Folgegeneration an Einsamkeit.\n",
    "- Eine lebende Zelle mit zwei oder drei lebenden Nachbarn bleibt in der Folgegeneration am Leben.\n",
    "- Lebende Zellen mit mehr als drei lebenden Nachbarn sterben in der Folgegeneration an Überbevölkerung.\n",
    "\n",
    "\n",
    "Regeln für den Spielfeldrand:\n",
    "- Alle äußeren Zellen sind **immer tot**.\n",
    "\n",
    "oder\n",
    "\n",
    "- Alle äußeren Zellen sind **immer lebendig**.\n"
   ]
  },
  {
   "cell_type": "markdown",
   "metadata": {},
   "source": [
    "## Implementierung des Spiels\n",
    "\n",
    "### 1. Randbedingungen\n",
    "\n",
    "Zunächst wird die Größe des Spielfeldes *__N__* und die Anzahl der Spielrunden *__Iterations__* festgelegt:\n"
   ]
  },
  {
   "cell_type": "code",
   "execution_count": null,
   "metadata": {},
   "outputs": [],
   "source": [
    "clear\n",
    "% Game of Life's size (N x N) - field\n",
    "N = 50;\n",
    "\n",
    "% Number of iterations\n",
    "Iterations = 1000;"
   ]
  },
  {
   "cell_type": "markdown",
   "metadata": {},
   "source": [
    "Nun wird das Spielfeld *__field__* initializiert. Dafür wird jeder Zelle zufällig entweder __0__ (tot) oder __1__ (lebendig) zugewiesen: "
   ]
  },
  {
   "cell_type": "code",
   "execution_count": null,
   "metadata": {},
   "outputs": [],
   "source": [
    "field = randi([0, 1], [N, N]);"
   ]
  },
  {
   "cell_type": "markdown",
   "metadata": {},
   "source": [
    "### Aufgabe 1\n",
    "Schreiben Sie eine Funktion *__field_boundaries()__* mit der der Rand des Spielfeldes festgelegt wird.\n",
    "\n",
    "Die Funktion soll, je nach verwendeter Regel, den entsprechenden Spielfeldrand zurückgeben.\n",
    "\n",
    "Folgende Regeln sollen in der Funktion implementiert sein:\n",
    "* 1. alle äußeren Zellen sind \"tot\"\n",
    "* 2. alle äußeren Zellen sind \"lebendig\"\n"
   ]
  },
  {
   "cell_type": "code",
   "execution_count": null,
   "metadata": {},
   "outputs": [],
   "source": [
    "% Chose boundaries:\n",
    "% 1. surrounding cells are \"dead\"-cells\n",
    "% 2. surrounding cells are \"living\"-cells\n",
    "\n",
    "rule = 1;\n",
    "%rule = 2;\n",
    "\n",
    "function field = field_boundaries(field, rule, N)\n",
    "    % add boundaries, based on rule:\n",
    "    if rule == 1\n",
    "        % add zeros around the field\n",
    "        ...\n",
    "        \n",
    "        \n",
    "        \n",
    "        \n",
    "        \n",
    "        \n",
    "        \n",
    "        \n",
    "        \n",
    "        \n",
    "\n",
    "        field = .. ;\n",
    "\n",
    "    elseif rule == 2\n",
    "        % add ones around the field\n",
    "        ...\n",
    "        \n",
    "        \n",
    "        \n",
    "        \n",
    "        \n",
    "        \n",
    "        \n",
    "        \n",
    "        \n",
    "        \n",
    "        \n",
    "\n",
    "        field = .. ;\n",
    "    end\n",
    "    return\n",
    "end\n",
    "\n",
    "\n",
    "% execute function and set field boundaries\n",
    "field = field_boundaries(field, rule, N);\n"
   ]
  },
  {
   "cell_type": "markdown",
   "metadata": {},
   "source": [
    "### 2. Animation des Spielfeldes\n",
    "\n",
    "Die Startverteilung der Zellen soll nun graphisch dargestellt werden. Anschließend werden die nachfolgenden Generationen ermittelt und die Darstellung aktualisiert."
   ]
  },
  {
   "cell_type": "code",
   "execution_count": null,
   "metadata": {},
   "outputs": [],
   "source": [
    "% octave code\n",
    "clf;\n",
    "colormap (\"default\");\n",
    "h = imagesc (1:N, 1:N, field(2:end-1,2:end-1));\n",
    "title (\"Conway's Game of Life\");\n",
    "hold on\n",
    "pause(0.5)\n",
    "\n",
    "% Matlab code\n",
    "%figure; hAxes = gca;\n",
    "%imagesc(hAxes, field(2:end-1,2:end-1));\n",
    "%colormap(hAxes , [1 1 1; 0 1 0]);\n",
    "%hold on\n",
    "%pause(0.5)\n",
    "\n",
    "% determine next generation(s) and update plot.\n",
    "for i=1:Iterations\n",
    "    %field = next_iteration(field, N); \n",
    "    \n",
    "    % plot \n",
    "    % Matlab code\n",
    "    %imagesc(hAxes, field(2:end-1,2:end-1));\n",
    "    %colormap(hAxes , [1 1 1; 0 1 0]);\n",
    "    %hold on\n",
    "    \n",
    "    % Octave code\n",
    "    colormap (\"default\");\n",
    "    h = imagesc (1:N, 1:N, field(2:end-1,2:end-1));\n",
    "    title (\"Conway's Game of Life\");\n",
    "    hold on\n",
    "    \n",
    "    % pause between every generation to get a moving image of the field and \"living\"/\"dead\" cells.\n",
    "    pause(0.1)\n",
    "end"
   ]
  },
  {
   "cell_type": "markdown",
   "metadata": {},
   "source": [
    "### Aufgabe 2\n",
    "Implementieren Sie die Funktion *__next_iteration()__*, mit der die Folgegeneration der Zellen bestimmt werden kann."
   ]
  },
  {
   "cell_type": "code",
   "execution_count": null,
   "metadata": {},
   "outputs": [],
   "source": [
    "function field = next_iteration(field, N)\n",
    "    new_field = ---\n",
    "    for i=2:N\n",
    "        for j=2:N\n",
    "            count = 0;\n",
    "            % check number living neighbour cells\n",
    "            count = ...\n",
    "            \n",
    "            \n",
    "            \n",
    "            \n",
    "            \n",
    "            \n",
    "            \n",
    "            \n",
    "            \n",
    "            \n",
    "            \n",
    "            \n",
    "            \n",
    "            \n",
    "            \n",
    "            % take aktion based on living or dead cell\n",
    "            if field(i,j) == ..\n",
    "            \n",
    "            \n",
    "            \n",
    "            \n",
    "            \n",
    "            \n",
    "            \n",
    "            \n",
    "            \n",
    "            \n",
    "            \n",
    "            \n",
    "            \n",
    "            \n",
    "            else\n",
    "            % dead cell\n",
    "            \n",
    "            \n",
    "            \n",
    "            \n",
    "            \n",
    "            \n",
    "            \n",
    "            \n",
    "            \n",
    "            \n",
    "                \n",
    "            end\n",
    "        end\n",
    "    end\n",
    "    % when every cell's new status is known, the new generation becomes the current generation\n",
    "    field = new_field;\n",
    "    return\n",
    "end"
   ]
  },
  {
   "cell_type": "markdown",
   "metadata": {},
   "source": [
    "Nachdem die Funktion zur Ermittlung der nächsten Generation implementiert wurde, kann die entsprechende Zeile wieder unkommentiert werden, sodass für jeden Schleifen-Durchlauf die Zellen aktualisiert werden können."
   ]
  },
  {
   "cell_type": "code",
   "execution_count": null,
   "metadata": {},
   "outputs": [],
   "source": [
    "% octave code\n",
    "clf;\n",
    "colormap (\"default\");\n",
    "h = imagesc (1:N, 1:N, field(2:end-1,2:end-1));\n",
    "title (\"Conway's Game of Life\");\n",
    "hold on\n",
    "pause(0.5)\n",
    "\n",
    "% Matlab code\n",
    "%figure; hAxes = gca;\n",
    "%imagesc(hAxes, field(2:end-1,2:end-1));\n",
    "%colormap(hAxes , [1 1 1; 0 1 0]);\n",
    "%hold on\n",
    "%pause(0.5)\n",
    "\n",
    "% determine next generation(s) and update plot.\n",
    "for i=1:10\n",
    "    field = next_iteration(field, N); \n",
    "    \n",
    "    % plot \n",
    "    % Matlab code\n",
    "    %imagesc(hAxes, field(2:end-1,2:end-1));\n",
    "    %colormap(hAxes , [1 1 1; 0 1 0]);\n",
    "    %hold on\n",
    "    \n",
    "    % Octave code\n",
    "    colormap (\"default\");\n",
    "    h = imagesc (1:N, 1:N, field(2:end-1,2:end-1));\n",
    "    title (\"Conway's Game of Life\");\n",
    "    hold on\n",
    "    \n",
    "    % pause between every generation to get a moving image of the field and \"living\"/\"dead\" cells.\n",
    "    pause(0.1)\n",
    "end"
   ]
  }
 ],
 "metadata": {
  "kernelspec": {
   "display_name": "Octave",
   "language": "octave",
   "name": "octave"
  },
  "language_info": {
   "file_extension": ".m",
   "help_links": [
    {
     "text": "GNU Octave",
     "url": "https://www.gnu.org/software/octave/support.html"
    },
    {
     "text": "Octave Kernel",
     "url": "https://github.com/Calysto/octave_kernel"
    },
    {
     "text": "MetaKernel Magics",
     "url": "https://metakernel.readthedocs.io/en/latest/source/README.html"
    }
   ],
   "mimetype": "text/x-octave",
   "name": "octave",
   "version": "5.2.0"
  }
 },
 "nbformat": 4,
 "nbformat_minor": 4
}
