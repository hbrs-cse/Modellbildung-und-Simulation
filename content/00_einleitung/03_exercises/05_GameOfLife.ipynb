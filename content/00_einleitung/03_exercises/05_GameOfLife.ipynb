Put Game of Life here.
