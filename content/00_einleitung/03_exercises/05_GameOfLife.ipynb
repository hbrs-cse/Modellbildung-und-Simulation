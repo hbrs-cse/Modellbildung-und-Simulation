{
 "cells": [
  {
   "cell_type": "markdown",
   "metadata": {},
   "source": [
    "# Conway's Game of Life\n",
    "\n",
    "Erstellen Sie ein Programm, in dem Conway's Game of Life modelliert wird.",
    "\n",
    " die "
   ]
  },
}
