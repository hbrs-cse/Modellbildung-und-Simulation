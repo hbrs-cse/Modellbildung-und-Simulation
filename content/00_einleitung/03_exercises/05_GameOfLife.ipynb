{
 "cells": [
  {
   "cell_type": "markdown",
   "metadata": {},
   "source": [
    "# Conway's Game of Life",
    "\n",
    "Erstellen Sie ein Programm, in dem Conway's Game of Life modelliert wird.\n",
    "Das Spiel des Lebens (englisch Conway’s Game of Life) ist ein vom Mathematiker John Horton Conway 1970 entworfenes Spiel, basierend auf einem zweidimensionalen zellulären Automaten.\n"
   ]
  },
  {
   "cell_type": "markdown",
   "metadata": {},
   "source": [
    "## Das Spielfeld\n",
    "\n",
    "Das Spielfeld ist in Zeilen und Spalten unterteilt und im Idealfall unendlich groß. Sofern dieser Idealfall nicht verwendet werden kann gibt es spezielle Regeln, wie die Randpunkte behandelt werden sollen.\n",
    "Jedes Gitterquadrat ist ein zellulärer Automat (Zelle), der einen von zwei Zuständen einnehmen kann, der oft als lebendig und tot bezeichnet wird. Zunächst wird eine Anfangsgeneration von lebenden Zellen auf dem Spielfeld platziert.",
    "Jede lebende oder tote Zelle hat auf diesem Spielfeld genau acht Nachbarzellen. Die nächste Generation ergibt sich durch die Befolgung einfacher Regeln."
   ]
  },
  
  
  
  
  
  
  
 ],
 "metadata": {
  "kernelspec": {
   "display_name": "Octave",
   "language": "octave",
   "name": "octave"
  },
  "language_info": {
   "file_extension": ".m",
   "help_links": [
    {
     "text": "GNU Octave",
     "url": "https://www.gnu.org/software/octave/support.html"
    },
    {
     "text": "Octave Kernel",
     "url": "https://github.com/Calysto/octave_kernel"
    },
    {
     "text": "MetaKernel Magics",
     "url": "https://metakernel.readthedocs.io/en/latest/source/README.html"
    }
   ],
   "mimetype": "text/x-octave",
   "name": "octave",
   "version": "5.2.0"
  }
 },
 "nbformat": 4,
 "nbformat_minor": 4
}
