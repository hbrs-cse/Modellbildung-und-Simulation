{
 "cells": [
  {
   "cell_type": "markdown",
   "metadata": {
    "slideshow": {
     "slide_type": "slide"
    }
   },
   "source": [
    "# Matlab kennenlernen\n",
    "\n",
    "## Aufgabe 1: Machen Sie sich vertraut mit Matlab\n"
   ]
  },
  {
   "cell_type": "markdown",
   "metadata": {
    "slideshow": {
     "slide_type": "slide"
    }
   },
   "source": [
    "Lesen Sie sich die Kapitel {ref}`verwendung` und {ref}`erste-schritte` durch. Können Sie die folgenden Fragen beantworten?\n",
    "\n",
    "1. Beschreiben Sie die Funktionalität des *Command Window*, *Editor* und *Workspace* in Matlab.\n",
    "1. Was ist der Unterschied zwischen einer Funktion und einem Skript?\n",
    "2. Was verbirgt sich hinter dem Wort *scope*?\n",
    "3. Was ist ein *function handle*?\n",
    "4. Aus welchen Gründen sollte ich for-Schleifen vermeiden?\n",
    "3. Was ist das Grundprinzip hinter dem *Bisektionsverfahren*?\n",
    "3. Wie kann ich die Operationen `*` bzw. `^` elementweise ausführen?\n",
    "3. Warum sollte ich reelle Zahlen nie mit `==` auf Gleichheit prüfen?\n",
    "3. Was bedeutet logische Indizierung?\n",
    "3. Wie kann ich eine Matrix transponieren?\n",
    "3. Warum sollte ich strings nie mit `==` auf Gleichheit prüfen?\n",
    "3. Nennen Sie ein Tool zur Versionskontrolle.\n",
    "4. Was bewirkt der Befehl `hold on`?"
   ]
  },
  {
   "cell_type": "markdown",
   "metadata": {
    "slideshow": {
     "slide_type": "slide"
    }
   },
   "source": [
    "## Aufgabe 2: Binomialkoeffizienten\n",
    "\n",
    "Erstellen Sie ein Programm für die Berechnung der Binomialkoeffizienten\n",
    "\n",
    "$$ \\left( \\begin{array}{c} n \\\\ k \\end{array} \\right) = \\frac{n!}{k! \\cdot (n-k)!}, $$\n",
    "\n",
    "wobei $n$ und $k$ ganze Zahlen mit $n \\geq k \\geq 0$ sind.\n",
    "\n",
    "**Hinweise**: "
   ]
  },
  {
   "cell_type": "markdown",
   "metadata": {},
   "source": [
    " - Schreiben Sie eine Funktion, die die Fakultät berechnet:"
   ]
  },
  {
   "cell_type": "code",
   "execution_count": 1,
   "metadata": {
    "tags": [
	 "remove-output"
    ]
   },
   "outputs": [
    {
     "name": "stdout",
     "output_type": "stream",
     "text": [
      "Created file '/home/jan/shares/Modellbildung-und-Simulation/content/00_einleitung/fac.m'.\n"
     ]
    }
   ],
   "source": [
    "%%file fac.m\n",
    "% calculate the factorial of an integer n\n",
    "function z = fac(n)\n",
    "    \n",
    "end"
   ]
  },
  {
   "cell_type": "markdown",
   "metadata": {},
   "source": [
    "- Testen Sie die Funktionalität mit der bereitgestellten *test suite* `test_fac.m`, siehe unten. Es reicht zunächst, dass die ersten drei der unit tests erfolgreich sind. **Challenge:** Schaffen Sie es, alle sechs unit tests zu erfüllen?"
   ]
  },
  {
   "cell_type": "code",
   "execution_count": null,
   "metadata": {},
   "outputs": [],
   "source": [
    "% test the fac function\n",
    "moxunit_runtests test_fac.m"
   ]
  },
  {
   "cell_type": "markdown",
   "metadata": {},
   "source": [
    " - Schreiben Sie nun die Funktion, die den Binominialkoeffizienten berechnet. Verwenden Sie Ihre neue Funktion zur Berechnung der Fakultät."
   ]
  },
  {
   "cell_type": "code",
   "execution_count": 3,
   "metadata": {
    "tags": [
	 "remove-output"
    ]
   },
   "outputs": [
    {
     "name": "stdout",
     "output_type": "stream",
     "text": [
      "Created file '/home/jan/shares/Modellbildung-und-Simulation/content/00_einleitung/binomial_coefficient.m'.\n"
     ]
    }
   ],
   "source": [
    "%%file binomial_coefficient.m\n",
    "function c = binomial_coefficient(n,k)\n",
    "    % ADD CODE HERE\n",
    "end"
   ]
  },
  {
   "cell_type": "markdown",
   "metadata": {},
   "source": [
    " - Testen Sie die Funktionsweise Ihrer neuen Funktion (diesmal ohne explizit einen unit test zu verwenden):"
   ]
  },
  {
   "cell_type": "code",
   "execution_count": 4,
   "metadata": {},
   "outputs": [],
   "source": [
    "% run some quick tests without explicitly using a unit test\n",
    "binomial_coefficient( 5, 3) % expected value: 10\n",
    "binomial_coefficient(49, 6) % expected value: 13983816\n",
    "binomial_coefficient(10,10) % expected value: 1"
   ]
  },
  {
   "cell_type": "markdown",
   "metadata": {},
   "source": [
    "- Haben Sie Ideen, wie Sie die Anzahl nötiger Rechenoperationen verringern können?"
   ]
  }
 ],
 "metadata": {
  "kernelspec": {
   "display_name": "Octave",
   "language": "octave",
   "name": "octave"
  },
  "language_info": {
   "file_extension": ".m",
   "help_links": [
    {
     "text": "GNU Octave",
     "url": "https://www.gnu.org/software/octave/support.html"
    },
    {
     "text": "Octave Kernel",
     "url": "https://github.com/Calysto/octave_kernel"
    },
    {
     "text": "MetaKernel Magics",
     "url": "https://metakernel.readthedocs.io/en/latest/source/README.html"
    }
   ],
   "mimetype": "text/x-octave",
   "name": "octave",
   "version": "4.2.2"
  }
 },
 "nbformat": 4,
 "nbformat_minor": 4
}
