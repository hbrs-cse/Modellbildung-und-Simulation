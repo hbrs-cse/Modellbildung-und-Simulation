{
 "cells": [
  {
   "cell_type": "markdown",
   "id": "b8bab899",
   "metadata": {},
   "source": [
    "(content:references:highline_dynamic_PDE)=\n",
    "# Modellierung einer Highline - Die Lösung als PDE\n",
    "\n",
    "Wie in [](content:references:highline_dynamic) wollen wir nun die Highline aus [](content:references:highline_static) als partielle Differentialgleichung (Partial Differential Equation, PDE) lösen. Im Unterschied zu den gewöhnlichen Differentialgleichungen gibt es hier Ableitungen nach mehr als einer Variablen, häufig nach Raumgrößen und der Zeit (z.B. $f(\\varphi_x,\\varphi_t)$)."
   ]
  },
  {
   "cell_type": "markdown",
   "id": "10ab90bb",
   "metadata": {},
   "source": [
    "Auch wenn es nicht so aussah, beinhaltet bereits die die Kräftebilanzierung aus [](content:references:highline_static) eine partielle Differentialgleichung. Für einen allgemeinen Massepunkt mit den Koordinaten $\\mathbf{z}_i = \\begin{bmatrix} x_i(t) \\\\ y_i(t) \\end{bmatrix}$ ergibt sich aus der Kräftebilanz $m_i \\mathbf{\\ddot{z}}_i = \\mathbf{F}_{i,\\text{Feder}} + \\mathbf{F}_{i,\\text{Dämpfer}} + \\mathbf{F}_{i,\\text{ext}}, i = 1,...,N$ mit $\\mathbf{F}_{i,\\text{Feder}} = k \\mathbf{z}_{xx}, \\mathbf{F}_{i,\\text{Dämpfer}} = d \\mathbf{\\dot{z}}_xx$ und $m_i = m, k_i = k, d_i = d$ die PDE\n",
    "\n",
    "$$m \\cdot \\frac{\\partial^2 \\mathbf{z}}{\\partial t^2} = k \\cdot \\frac{\\partial^2 \\mathbf{z}}{\\partial x^2} + d \\cdot \\frac{\\partial^2 \\frac{\\partial \\mathbf{z}}{\\partial t}}{\\partial x^2} + \\mathbf{F}_{\\text{ext}}(t)$$\n",
    "\n",
    "oder\n",
    "\n",
    "$$m \\mathbf{z}_{tt} = k \\mathbf{z}_{xx} + d {\\mathbf{z}_t}_{xx} + \\mathbf{F}_{\\text{ext}}(t).$$\n",
    "\n",
    "```{admonition} Hinweis \n",
    "Die Ableitung nach dem Ort in beide Raumrichtungen $\\frac{\\partial}{\\partial x}$ ist nicht zu verwechseln mit der einzelnen Raumkoordinaten $x_i$.\n",
    "```\n",
    "\n",
    "Um diese PDE in ein System von ODEs zu überführen, muss ein sogenannter Differenzenstern für die Ortsableitungen gebildet werden. Im Eindimensionalen ist der Differenzenstern für die zweite Ableitung der zentrale Differenzenquotient. Dieser ergibt sich aus dem zentralen Differenzenquotienten\n",
    "\n",
    "$$\\frac{\\partial z}{\\partial x} \\approx \\frac{z(x+h)-z(x-h)}{h}$$\n",
    "\n",
    "zu\n",
    "\n",
    "$$\\frac{\\partial^2 z}{\\partial x^2} \\approx \\frac{z(x-h)-2z(x)+z(x+h)}{h^2} \\to \\frac{\\partial^2 z_i}{\\partial x^2} = \\frac{z_{i-1}-2z_i+z_{i+1}}{dx^2}.$$\n",
    "\n",
    "Nach der Übertragung von $k$ und $d$ auf Elementweise $k$ und $d$ entsteht die bekannte Gleichung aus [](content:references:highline_static):\n",
    "\n",
    "$$m \\ddot{\\mathbf{z}}_i = k(\\mathbf{z}_{i-1}-\\mathbf{z}_{i}) + d(\\dot{\\mathbf{z}}_{i-1} - \\dot{\\mathbf{z}}_{i}) - k(\\mathbf{z}_{i}-\\mathbf{z}_{i+1}) - d(\\dot{\\mathbf{z}}_{i} -\\dot{\\mathbf{z}}_{i+1}) + \\mathbf{F}_{i,\\text{ext}}$$\n",
    "\n",
    "Achtung: Für den ersten und den letzten Massenpunkt ($i=1$ und $i=N$) sind zusätzlich die Geschwindigkeit und Verschiebung der Massenpunkte an den Rändern für die finiten Differenzen notwendig. Es entsteht also ein System mit $N+4$ Unbekannten (beziehungsweise $2N$ Unbekannte, falls wir die Vektoren in ihre Raumrichtungen zerlegen) und nur $N$ Gleichungen.\n",
    "\n",
    "Daher müssen Randbedingungen festgelegt werden. Diese ist für die Highline ganz logisch und einfach festzulegen: Die  Geschwindigkeit und Verschiebung der äußeren Elemente sind natürlich $\\mathbf{\\dot{z}}_0=\\mathbf{\\dot{z}}_{N+1}=0, \\mathbf{z}_0=\\mathbf{z}_{N+1}=0$.\n",
    "\n",
    "```{admonition} Hinweis \n",
    "Diese Randbedingungen werden Dirichlet-Randbedingungen genannt. Andere bekannte RBs sind die Neumann-RB, die die Ortsableitungen an den Rändern festlegen.\n",
    "```\n",
    "\n",
    "Damit werden die Gleichungen für $i=1$ und $i=N$ etwas kürzer und es ergeben sich die beiden zusätzlichen Gleichungen für $\\ddot{z}$ bei $i=0$ und $i=N+1$ und wir erhalten das Gleichungssystem\n",
    "\n",
    "$$\n",
    "\\begin{align}\n",
    " m \\ddot{\\mathbf{z}}_0 &= 0 \\notag \\\\\n",
    " m \\ddot{\\mathbf{z}}_1 &= -k \\mathbf{z}_1 - d \\dot{\\mathbf{z}}_1 -k(\\mathbf{z}_1-\\mathbf{z}_2) - d(\\dot{\\mathbf{z}}_1-\\dot{\\mathbf{z}}_2) + \\mathbf{F}_{1,\\text{ext}} \\notag \\\\\n",
    " m \\ddot{\\mathbf{z}}_i &= k(\\mathbf{z}_{i-1}-\\mathbf{z}_{i}) + d(\\dot{\\mathbf{z}}_{i-1} - \\dot{\\mathbf{z}}_{i}) - k(\\mathbf{z}_{i}-\\mathbf{z}_{i+1}) - d(\\dot{\\mathbf{z}}_{i} -\\dot{\\mathbf{z}}_{i+1}) + \\mathbf{F}_{i,\\text{ext}}, \\hskip4em \\text{für } i=2,...,N-1 \\notag \\\\\n",
    " m \\ddot{\\mathbf{z}}_N &= -k \\mathbf{z}_N - d \\dot{\\mathbf{z}}_N + k(\\mathbf{z}_{N-1}-\\mathbf{z}_N) + d(\\dot{\\mathbf{z}}_{N-1}-\\dot{\\mathbf{z}}_N) + \\mathbf{F}_{N,\\text{ext}} \\notag \\\\\n",
    " m \\ddot{\\mathbf{z}}_{N+1} &= 0 \\notag\n",
    "\\end{align}\n",
    "$$\n",
    "\n",
    ", für das wir die Lösung bereits gelernt haben.\n",
    "\n",
    "```{admonition} Hinweis \n",
    "Diese Lösungsstrategie nennt sich übrigens **Finite-Differenzen-Methode** (FDM):\n",
    "\n",
    "Die Ortsableitungen in der PDE werden durch finite Differenzenquotienten ersetzt. Zusammen mit den Randbedingungen ergibt sich ein System gewöhnlicher Differentialgleichungen.\n",
    "```"
   ]
  }
 ],
 "metadata": {
  "kernelspec": {
   "display_name": "Octave",
   "language": "octave",
   "name": "octave"
  },
  "language_info": {
   "file_extension": ".m",
   "help_links": [
    {
     "text": "GNU Octave",
     "url": "https://www.gnu.org/software/octave/support.html"
    },
    {
     "text": "Octave Kernel",
     "url": "https://github.com/Calysto/octave_kernel"
    },
    {
     "text": "MetaKernel Magics",
     "url": "https://metakernel.readthedocs.io/en/latest/source/README.html"
    }
   ],
   "mimetype": "text/x-octave",
   "name": "octave",
   "version": "6.2.0"
  }
 },
 "nbformat": 4,
 "nbformat_minor": 5
}
