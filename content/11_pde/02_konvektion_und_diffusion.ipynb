{
 "cells": [
  {
   "cell_type": "markdown",
   "metadata": {},
   "source": [
    "# Konvektion und Diffusion\n",
    "\n",
    "```{image} https://upload.wikimedia.org/wikipedia/commons/thumb/e/ea/Aedes_Albopictus.jpg/512px-Aedes_Albopictus.jpg\n",
    ":alt: Aedes Albopictus\n",
    ":width: 512px\n",
    ":align: center\n",
    "```\n",
    "<div style=\"text-align: right\"><a href=\"https://commons.wikimedia.org/wiki/File:Aedes_Albopictus.jpg\" > James Gathany/CDC, Public domain, via Wikimedia Commons </a></div>\n",
    "\n",
    "Wir wollen simulieren wie sich ein Insektengift in einer Blutbahn ausbreitet. Zum einen wird sich durch ein Diffusionsprozess das Insektengift mit dem Blut vermischen. Zum anderen wird es mit der Fließgeschwindigkeit des Blutes transportiert *(Konvektion)*. Es ergibt sich ein sogenannter Konvektions-Diffusionsprozess. $\\rho(t,x)$ sei die Konzentration des Insektengiftes entlang der Blutbahn.\n",
    "\n",
    "Die Kontinuitätsgleichung in einer Dimension lautet\n",
    "\n",
    "$$\n",
    "0 = \\frac{\\partial \\rho}{\\partial t} + \\frac{\\partial}{\\partial x} J\n",
    "$$\n",
    "\n",
    "mit einem Massestrom $J$. Dieser besteht aus einem Diffusionsterm $-a \\frac{\\partial \\rho}{\\partial x}$ der den Konzentrationsgradienten des Insektengiftes ausgleicht, sowie einem Geschwindigkeitsterm $c\\rho$, \n",
    "\n",
    "$$\n",
    "J = -a \\frac{\\partial \\rho}{\\partial x} + c(t) \\rho,\n",
    "$$\n",
    "\n",
    "wobei $c(t)$ die Fließgeschwindigkeit des Blutes zum Zeitpunkt $t$ bezeichnet. Als Vereinfachung gehen wir von einer zeitlich konstanten Fließgeschwindigkeit $c(t)=c=\\text{const}$ aus. Es sollte nicht allzu schwer sein, das Modell zu einem späteren Zeitpunkt durch eine pulsierende Fließgeschwindigkeit zu erweitern.\n",
    "\n",
    "Setzen wir den Massestrom in die Kontinuitätsgleichung ein, erhalten wir die Konvektions-Diffusionsgleichung\n",
    "\n",
    "```{math}\n",
    ":label: convection-diffusion\n",
    "\\frac{\\partial \\rho}{\\partial t} + c \\frac{\\partial \\rho}{\\partial x} = a \\frac{\\partial^2}{\\partial x^2}\n",
    "```"
   ]
  },
  {
   "cell_type": "markdown",
   "metadata": {},
   "source": [
    "## Aufgabe 1: Vorarbeit mit Papier und Bleistift\n",
    "\n",
    "Führen Sie eine Diskretisierung des Problems durch *(örtlich und zeitlich)*, um eine Vorschrift zur numerischen Lösung der Gleichung zu ermitteln. Gehen Sie von zeitlich konstanten Dirichlet-Randbedingungen aus. Verwenden Sie für die örtlichen Ableitungen zentrale Differenzenquotienten und für die zeitliche\n",
    "\n",
    "1. das explizite Euler-Verfahren (Untersumme)\n",
    "2. das Crank-Nicolson-Verfahren (Trapez-Regel)\n",
    "\n",
    "Gehen Sie wie folgt vor:\n",
    "\n",
    "1. Diskretisieren Sie zunächst im Ort, so dass Sie $N$ neue Funktionen $y_i(t) \\approx \\rho(x_i, t), i=1,...,N$ erhalten. Hierbei bezeichnet $N$ die Anzahl der Diskretisierungspunkte und $x_i$ bezeichnet den $i$-ten Diskretisierungspunkt ihres Intervals.\n",
    "\n",
    "2. Schreiben Sie die approximierte Lösung $y_i(t_j)$ der inneren Punkte $i=2,...,N-1$ in einen Vektor\n",
    "\n",
    "   $$\n",
    "   \\mathbf{y}^{(j)} = \n",
    "   \\begin{bmatrix}\n",
    "   y_2(t_j) \\\\ \\vdots \\\\ y_{N-1}(t_j)\n",
    "   \\end{bmatrix}\n",
    "   = \n",
    "   \\begin{bmatrix}\n",
    "   y_2^{(j)} \\\\ \\vdots \\\\ y_{N-1}^{(j)}\n",
    "   \\end{bmatrix}\n",
    "   $$\n",
    "   \n",
    "3. Bringen Sie die Ortsableitungen der DGL auf die rechte Seite, ersetzen Sie die partiellen Ortsableitungen durch Differenzenquotienten, so dass Sie für die inneren Punkte folgendes schreiben können:\n",
    "\n",
    "   $$\n",
    "   \\frac{\\partial \\mathbf{y}(t_j)}{\\partial t} = A \\cdot \\mathbf{y}^{j} + \\mathbf{b}.\n",
    "   $$\n",
    "   \n",
    "   Dabei ergeben sich $A \\in \\mathbb{R}^{N-1 \\times N-1}$ und $\\mathbf{b} \\in \\mathbb{R}^{N-1}$ aus den verwendeten Differenzenquotienten sowie den Randwerten $\\rho(x_0, t) = \\rho_a, \\rho(x_N, t) = \\rho_b$.\n",
    "   \n",
    "4. Diskretisieren Sie nun in der Zeit, indem Sie eine Vorschrift\n",
    "\n",
    "   $$\n",
    "   \\mathbf{y}^{(j)} = \\mathbf{y}^{(j-1)} + \\Delta t \\phi(\\mathbf{y}^{(j)}, \\mathbf{y}^{(j-1)})\n",
    "   $$\n",
    "   \n",
    "   finden. Je nachdem ob Sie das explizite Euler-Verfahren oder das Crank-Nicolson-Verfahren verwenden, erhalten Sie eine anderen Gestalt für $\\phi$."
   ]
  },
  {
   "cell_type": "markdown",
   "metadata": {},
   "source": [
    "## Aufgabe 2\n",
    "\n",
    "Schreiben Sie ein Matlab-Programm, das die Gleichung {eq}`convection-diffusion` für ein beliebiges Zeitinterval $[t_0, t1]$ und Ortsintervall $[x_0, x_1]$ mit zeitlich konstanten Dirichlet-Randbedingungen $\\rho(x_0, t) = \\rho_a, \\rho(x_N, t) = \\rho_b$ löst. Implementieren Sie sowohl das explizite Euler-Verfahren als auch das Crank-Nicolson-Verfahren.\n",
    "\n",
    "Visualisieren Sie die Lösung mit Hilfe einer Animation.\n",
    "\n",
    "```{admonition} Hinweis \n",
    "Beachten Sie bei der Wahl der Diskretisierung die [Courant-Friedrichs-Lewy-Zahl](https://de.wikipedia.org/wiki/CFL-Zahl).\n",
    "```\n",
    "\n",
    "## Zusatzaufgabe\n",
    "\n",
    "Erweitern Sie ihr Programm, so dass der Nutzer eine zeitabhängige (z.B. pulsierende) Fließgeschwindigkeit $c(t)$ vorgeben kann."
   ]
  },
  {
   "cell_type": "code",
   "execution_count": null,
   "metadata": {},
   "outputs": [],
   "source": []
  }
 ],
 "metadata": {
  "kernelspec": {
   "display_name": "Octave",
   "language": "octave",
   "name": "octave"
  },
  "language_info": {
   "file_extension": ".m",
   "help_links": [
    {
     "text": "GNU Octave",
     "url": "https://www.gnu.org/software/octave/support.html"
    },
    {
     "text": "Octave Kernel",
     "url": "https://github.com/Calysto/octave_kernel"
    },
    {
     "text": "MetaKernel Magics",
     "url": "https://metakernel.readthedocs.io/en/latest/source/README.html"
    }
   ],
   "mimetype": "text/x-octave",
   "name": "octave",
   "version": "5.2.0"
  }
 },
 "nbformat": 4,
 "nbformat_minor": 4
}
