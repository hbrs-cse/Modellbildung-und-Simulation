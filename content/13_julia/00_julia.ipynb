{
 "cells": [
  {
   "cell_type": "markdown",
   "metadata": {},
   "source": [
    "(julia_intro)=\n",
    "# Einführung in Julia\n",
    "\n",
    "Text, *kursiver Text*, **fetter text**\n",
    "\n",
    "## Unterüberschrift\n",
    "\n"
   ]
  },
  {
   "cell_type": "code",
   "execution_count": 1,
   "metadata": {},
   "outputs": [],
   "source": [
    "hier steht code"
   ]
  },
  {
   "cell_type": "markdown",
   "metadata": {},
   "source": [
    "hier steht ein Bild\n",
    "```{image} https://upload.wikimedia.org/wikipedia/commons/thumb/e/ea/Aedes_Albopictus.jpg/512px-Aedes_Albopictus.jpg\n",
    ":alt: Aedes Albopictus\n",
    ":width: 512px\n",
    ":align: center\n",
    "```\n",
    "<div style=\"text-align: right\"> Abbildung 1: \"Aedes Albopictus\",  James Gathany/CDC, <a href=\"https://en.wikipedia.org/wiki/Public_domain\" >[Public domain]</a> via <a href=\"https://commons.wikimedia.org/wiki/File:Aedes_Albopictus.jpg\" >Wikimedia Commons</a></div> <br>\n",
    "\n"
   ]
  }
 ],
 "metadata": {
  "kernelspec": {
   "display_name": "Octave",
   "language": "octave",
   "name": "octave"
  },
  "language_info": {
   "file_extension": ".m",
   "help_links": [
    {
     "text": "GNU Octave",
     "url": "https://www.gnu.org/software/octave/support.html"
    },
    {
     "text": "Octave Kernel",
     "url": "https://github.com/Calysto/octave_kernel"
    },
    {
     "text": "MetaKernel Magics",
     "url": "https://metakernel.readthedocs.io/en/latest/source/README.html"
    }
   ],
   "mimetype": "text/x-octave",
   "name": "octave",
   "version": "5.2.0"
  }
 },
 "nbformat": 4,
 "nbformat_minor": 4
}
