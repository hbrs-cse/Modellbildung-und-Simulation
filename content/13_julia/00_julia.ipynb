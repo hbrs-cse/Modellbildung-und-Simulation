{
 "cells": [
  {
   "cell_type": "markdown",
   "metadata": {},
   "source": [
    "(julia_intro)=\n",
    "# Einführung in Julia\n",
    "\n",
    "Im Gegensatz zu Matlab kann die frei verfügbare Sprache Julia in verschiedenen Entwicklungsumgebungen (auch engl. *integrated development environment*, kurz IDE) ausgeführt werden, enthält aber nicht automatisch alle zum Ausführen der in diesem Buch gezeigten Code-Beispiele benötigten Pakete. Im Folgenden soll eine kurze Übersicht über die Installation der Sprache Julia, zwei mögliche IDEs und die Installation der für die Code-Beispiele nötigen Pakete gegeben werden.\n",
    "\n",
    "## Installation der Programmiersprache Julia\n",
    "\n",
    "Die Installation der Sprache Julia selbst erfolgt am einfachsten über die Website der Entwickler (Stand Dezember 2023: https://julialang.org/downloads/). Dort kann der passende Installer für verschiedene Betriebssysteme ausgewählt werden (z. B. *64-bit-installer* des *current stable release* für Windows-64-bit-Systeme). Nachdem man diesen heruntergeladen und ausgeführt hat, ist die Sprache Julia und eine einfache Julia-Kommandozeile zum Ausführen von Julia-Befehlen (Letzteres als Programm bzw. App Julia, siehe Abbildung) verfügbar. Diese Kommandozeilenapplikation wird auch REPL (= read-evaluate-print-loop) genannt.\n",
    "\n",
    "## Test der Installation\n",
    "\n",
    "Starten Sie die Julia-REPL über das Icon auf dem Desktop (Abbildung), im Startmenü, oder im Installationsordner und führen sie den Befehl println(''Hello World'') aus. Als Ausgabe sollte Hello World erscheinen. Julia ist somit erfolgreich und lauffähig installiert.\n",
    "\n",
    "```{image} pic_Julia_REPL.png\n",
    ":align: center\n",
    "```\n",
    "\n",
    "<div style=\"text-align: right\"> Abbildung 1: Die Highline wird als eine Kette von <b><i>N</i></b> Massepunkten modelliert, die jeweils mit Feder- und Dämpferelementen in horizontaler und vertikaler Richtung miteinader verbunden sind.</div> <br>"
   ]
  },
 {
   "cell_type": "markdown",
   "metadata": {},
   "source": [
    "hier steht ein Bild\n",
    "```{image} https://upload.wikimedia.org/wikipedia/commons/thumb/e/ea/Aedes_Albopictus.jpg/512px-Aedes_Albopictus.jpg\n",
    ":alt: Aedes Albopictus\n",
    ":width: 512px\n",
    ":align: center\n",
    "```\n",
    "<div style=\"text-align: right\"> Abbildung 1: \"Aedes Albopictus\",  James Gathany/CDC, <a href=\"https://en.wikipedia.org/wiki/Public_domain\" >[Public domain]</a> via <a href=\"https://commons.wikimedia.org/wiki/File:Aedes_Albopictus.jpg\" >Wikimedia Commons</a></div> <br>\n",
    "\n"
   ]
  },
{
   "cell_type": "markdown",
   "metadata": {},
   "source": [
    "# Einführung in Julia\n",
    "\n",
    "Text, *kursiver Text*, **fetter text**\n",
    "\n",
    "## Unterüberschrift\n",
    "\n"
   ]
  },
  {
   "cell_type": "code",
   "execution_count": 1,
   "metadata": {},
   "outputs": [],
   "source": [
    "hier steht code"
   ]
  },
  {
   "cell_type": "markdown",
   "metadata": {},
   "source": [
    "hier steht ein Bild\n",
    "```{image} https://upload.wikimedia.org/wikipedia/commons/thumb/e/ea/Aedes_Albopictus.jpg/512px-Aedes_Albopictus.jpg\n",
    ":alt: Aedes Albopictus\n",
    ":width: 512px\n",
    ":align: center\n",
    "```\n",
    "<div style=\"text-align: right\"> Abbildung 1: \"Aedes Albopictus\",  James Gathany/CDC, <a href=\"https://en.wikipedia.org/wiki/Public_domain\" >[Public domain]</a> via <a href=\"https://commons.wikimedia.org/wiki/File:Aedes_Albopictus.jpg\" >Wikimedia Commons</a></div> <br>\n",
    "\n"
   ]
  },
{
   "cell_type": "markdown",
   "metadata": {},
   "source": [
    "hier steht ein Bild\n",
    "```{image} https://upload.wikimedia.org/wikipedia/commons/thumb/e/ea/Aedes_Albopictus.jpg/512px-Aedes_Albopictus.jpg\n",
    ":alt: Aedes Albopictus\n",
    ":width: 512px\n",
    ":align: center\n",
    "```\n",
    "<div style=\"text-align: right\"> Abbildung 1: \"Aedes Albopictus\",  James Gathany/CDC, <a href=\"https://en.wikipedia.org/wiki/Public_domain\" >[Public domain]</a> via <a href=\"https://commons.wikimedia.org/wiki/File:Aedes_Albopictus.jpg\" >Wikimedia Commons</a></div> <br>\n",
    "\n"
   ]
  }
 ],
 "metadata": {
  "kernelspec": {
   "display_name": "Octave",
   "language": "octave",
   "name": "octave"
  },
  "language_info": {
   "file_extension": ".m",
   "help_links": [
    {
     "text": "GNU Octave",
     "url": "https://www.gnu.org/software/octave/support.html"
    },
    {
     "text": "Octave Kernel",
     "url": "https://github.com/Calysto/octave_kernel"
    },
    {
     "text": "MetaKernel Magics",
     "url": "https://metakernel.readthedocs.io/en/latest/source/README.html"
    }
   ],
   "mimetype": "text/x-octave",
   "name": "octave",
   "version": "5.2.0"
  }
 },
 "nbformat": 4,
 "nbformat_minor": 4
}
