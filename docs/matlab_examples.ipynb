{
 "cells": [
  {
   "cell_type": "markdown",
   "id": "946333d6-bf8d-48e3-9d60-024a39242da6",
   "metadata": {},
   "source": [
    "# Matlab Beispiele aus der VL"
   ]
  },
  {
   "cell_type": "markdown",
   "id": "a6a11a88-e7a2-4f82-bdd1-e29f4c600aa4",
   "metadata": {},
   "source": [
    "## ModSim1\n",
    "\n",
    "### Numerische Simulation – Folie 12"
   ]
  },
  {
   "cell_type": "code",
   "execution_count": null,
   "id": "f900703c-9e4c-455e-8845-06c32bca9c41",
   "metadata": {},
   "outputs": [],
   "source": [
    "function energienetz\n",
    "    ...\n",
    "    %-- ELektrolyse\n",
    "    i_RE=0 ;i_2E=0;i_SE=0;U_5=V_ref*10;mp_E=0;i_E=0;\n",
    "    %-- PV Anlage\n",
    "    i_PV=0;i_6=0;i_RPV=0;\n",
    "    %-- Anfangswerte\n",
    "    y0 = [i_R;U_1;i_B;Q_B;i_BZ;i_S;P_1;m_BZ;U_2;U_K;i_2;i_RE ;i_2E;...\n",
    "    i_SE;U_5;mp_E;i_E;i_V;i_PV;i_6;i_RPV];\n",
    "    %-- Matrix M, Zeitspanne, Options\n",
    "    M = zeros(21);M(4,4)=1;M(7,7)=1;M(10,10)=1;\n",
    "    tspan = [0,24*3600];\n",
    "    options = odeset( 'Mass' ,M, 'RelTol' ,1.0e-8, 'AbsTol' ,1.0e-6, 'Stats','on' );\n",
    "    [t,y] = ode15s(@dgl,tspan,y0,options ,Z1,Z2,Z3);\n",
    "    %-- Darstellung\n",
    "    plot(t/3600,y, '-o' );\n",
    "    legend( 'i_R','U_1(Kennlinie)','i_B','Q_B(Ladung)',....\n",
    "    ...\n",
    "end\n",
    "\n",
    "function dy = dgl(t,y)\n",
    "    %-- rechte Seite des DAE Systems M y'=f(t,y)\n",
    "    i_R = y(1); U_1 = y(2); ...\n",
    "    ...\n",
    "    dy(1) =i_R*U_3-U_2*i_BZ; %-- Spannungswandler\n",
    "    dy(2) = i_S-i_R; %-- Knoten U2\n",
    "    ....\n",
    "    %--\n",
    "end"
   ]
  },
  {
   "cell_type": "markdown",
   "id": "1a9477ba-6710-4f63-8a1b-be65aca31c34",
   "metadata": {},
   "source": [
    "### Algorithmus – Folie 50"
   ]
  },
  {
   "cell_type": "code",
   "execution_count": null,
   "id": "bfa5fb86-1f0a-48a5-9b9a-9d0e7318fb08",
   "metadata": {},
   "outputs": [],
   "source": [
    "for k=1:n-1 % durchlaufe alle Diagonalelemente\n",
    "\tfaktor = 1/A(k,k)\n",
    "\tfor i=k+1:n % durchlaufe Spalten unterhalb a_kk\n",
    "\t\tA(i,k) = A(i,k)*faktor % merke dir die Zahl mit der\n",
    "\tend % Zeile k multipliziert werden muss\n",
    "\tfor i=k+1:n % alle Zeilen unterhalb\n",
    "\t\tfor j=k+1:n % alle Spalten rechts\n",
    "\t\t\tA(i,j) = A(i,j) - A(i,k)*A(k,j) % Zeile i - Zeile k\n",
    "\t\tend\n",
    "\tend\n",
    "end"
   ]
  },
  {
   "cell_type": "markdown",
   "id": "bf4970fa-0b67-4feb-b647-5b6fdc03ed24",
   "metadata": {},
   "source": [
    "### Algorithmus – Folie 56"
   ]
  },
  {
   "cell_type": "code",
   "execution_count": null,
   "id": "3d852b35-20d5-4e5d-b241-37cd57c105a4",
   "metadata": {},
   "outputs": [],
   "source": [
    "% a) Ly = b (von oben nach unten)\n",
    "for j = 1:n\n",
    "\ty(j) = b(j)\n",
    "\tfor i = j+1:n % schaufele Spalte j\n",
    "\t\tb(i) = b(i) - A(i,j)*y(j) % nach rechts\n",
    "\tend\n",
    "end\n",
    "\n",
    "% b) Ux = y (von unten nach oben)\n",
    "for j = n:-1:1\n",
    "\tx(j) = y(j)/A(j,j)\n",
    "\tfor i = 1:j-1 % schaufele Spalte j\n",
    "\t\ty(i) = y(i) - A(i,j)*x(j) % nach rechts\n",
    "\tend\n",
    "end"
   ]
  },
  {
   "cell_type": "markdown",
   "id": "dfc2e2db-3cf8-42d3-bee6-2fcc02928d3b",
   "metadata": {},
   "source": [
    "- Aufruf in MATLAB: – Folie 57"
   ]
  },
  {
   "cell_type": "code",
   "execution_count": null,
   "id": "0b334589-ea28-4bf8-abbd-1797ddb516e7",
   "metadata": {},
   "outputs": [],
   "source": [
    "A=[4,-1,0; -1,4,-1; 8,-1,4]\n",
    "x=A\\b"
   ]
  },
  {
   "cell_type": "markdown",
   "id": "51e4ee55-5480-485e-85b8-4c70102110a4",
   "metadata": {},
   "source": [
    "### MATLAB-Beispiel – Folie 64"
   ]
  },
  {
   "cell_type": "code",
   "execution_count": null,
   "id": "30004353-2c13-406d-93a9-9f74b1e2fec8",
   "metadata": {},
   "outputs": [],
   "source": [
    "A=[4,-1,0;8,-1,4;-1,4,-1]; b=[2;4;6];\n",
    "[L,U,P]=lu(A) % LU-Zerlegung aufrufen"
   ]
  },
  {
   "cell_type": "markdown",
   "id": "2525f644-e288-4774-911d-505685e7eebc",
   "metadata": {},
   "source": [
    "- Folie 65"
   ]
  },
  {
   "cell_type": "code",
   "execution_count": null,
   "id": "f51297ff-77aa-4901-9997-ddfbe19f586d",
   "metadata": {},
   "outputs": [],
   "source": [
    "y=L\\(P*b); % Rücksubstitution\n",
    "x=U\\y\n",
    "x=A\\b % oder direkt"
   ]
  },
  {
   "cell_type": "markdown",
   "id": "b7ee422d-8335-4c3e-88f0-a397b9f2863c",
   "metadata": {},
   "source": [
    "### Wie hoch ist der Rechenaufwand des GA bzw. der LU-Zerlegung? – Folie 67\n",
    "\n",
    "1. LU-Zerlegung:"
   ]
  },
  {
   "cell_type": "code",
   "execution_count": null,
   "id": "a4760b4d-e1fe-4062-91f9-665ca2ef3fcd",
   "metadata": {},
   "outputs": [],
   "source": [
    "for k=1:n-1\n",
    "\t....\n",
    "\tfor i=k+1:n\n",
    "\t\tfor j=k+1:n\n",
    "\t\t...\n",
    "\t\tend\n",
    "\tend\n",
    "end"
   ]
  },
  {
   "cell_type": "markdown",
   "id": "3fd075f8-f02e-4bb9-83a8-90251306b71d",
   "metadata": {},
   "source": [
    "2. Rücksubstitution:"
   ]
  },
  {
   "cell_type": "code",
   "execution_count": null,
   "id": "228b446d-5d25-4edf-b410-91622c1c7bcb",
   "metadata": {},
   "outputs": [],
   "source": [
    "for j = 1:n\n",
    "\tfor i = j+1:n\n",
    "\t...\n",
    "\tend\n",
    "end\n",
    "for j = n:-1:1\n",
    "\tfor i = 1:j-1\n",
    "\t...\n",
    "\tend\n",
    "end"
   ]
  },
  {
   "cell_type": "markdown",
   "id": "b2e693ce-0aa8-4091-8825-cb3db8fe2dd1",
   "metadata": {},
   "source": [
    "### Eigenschaften der Fixpunktiteration zur Bestimmung von Nullstellen einer Funktion f (x) – Folie 80\n",
    "\n",
    "Die Fixpunktiteration ist sehr einfach zu implementieren (auch für mehrdimensionale Probleme):"
   ]
  },
  {
   "cell_type": "code",
   "execution_count": null,
   "id": "c3f15aa3-9a3c-49f7-8cb4-b3c1e902c8b4",
   "metadata": {},
   "outputs": [],
   "source": [
    "while abs(g(x)-x) > tol begin\n",
    "\tx = g(x)\n",
    "en"
   ]
  },
  {
   "cell_type": "markdown",
   "id": "487ec60b-c1ca-42b3-831e-309353a03988",
   "metadata": {},
   "source": [
    "### Implementierung des Straßenprofils: – Folie 103"
   ]
  },
  {
   "cell_type": "code",
   "execution_count": null,
   "id": "768dcf4b-8cbc-481a-a072-05f997b34a04",
   "metadata": {},
   "outputs": [],
   "source": [
    "function strassenkante\n",
    "    load strasse.dat\n",
    "    global xi yi p %-- die messwerte werden in der Fkt. fcn benötigt\n",
    "    xi = strasse(:,1); yi = strasse(:,2);\n",
    "nx = length(xi)\n",
    "plot(xi,yi); hold on\n",
    "%-- Startwerte und Testplot\n",
    "a = min(yi)\n",
    "b = max(yi)-a\n",
    "diff = abs(yi(2:nx)-yi(1:nx-1)); [diffmax,ii] = max(diff);\n",
    "c = xi(ii)\n",
    "p = 5*(xi(end)-xi(1))/nx\n",
    "params = [a;b;c;p];\n",
    "yi1 = fit_fcn(xi,params);\n",
    "plot(xi,yi,xi,yi1,'r')\n",
    "hold on"
   ]
  },
  {
   "cell_type": "markdown",
   "id": "afa90815-a904-40e3-b232-f6e92fb7fa1a",
   "metadata": {},
   "source": [
    "### Newtonverfahren - Folie 104"
   ]
  },
  {
   "cell_type": "code",
   "execution_count": null,
   "id": "b1f2cc9b-2c1d-4efa-a51b-2ac5002cb247",
   "metadata": {},
   "outputs": [],
   "source": [
    "%-- newtonverfahren\n",
    "tol = 1.0e-6;\n",
    "x0 = params(1:3); %-- startwert des Newtonverfahrens\n",
    "xres = newton(@fcn,x0,tol)\n",
    "xres = [xres;p];\n",
    "yi2 = fit_fcn(xi,xres);\n",
    "plot(xi,yi2,'Linewidth',3)\n",
    "function y = fit_fcn(x,params)\n",
    "a = params(1); b = params(2); c = params(3); p = params(4);\n",
    "y = a + b./(exp((x-c)/p)+1);"
   ]
  },
  {
   "cell_type": "markdown",
   "id": "35de67c2-2db1-49ed-a031-97b947d19407",
   "metadata": {},
   "source": [
    "- Folie 105"
   ]
  },
  {
   "cell_type": "code",
   "execution_count": null,
   "id": "7b3a84f3-1420-40ca-acf2-52eef6e391de",
   "metadata": {},
   "outputs": [],
   "source": [
    "function x = newton(fcn,x0,tol)\n",
    "    global xi yi p %-- die messwerte werden in der Fkt. fcn benötigt\n",
    "    h = [2*tol;2*tol];\n",
    "    x = x0;\n",
    "    nit =0;\n",
    "    while (norm(h) > tol) && (nit < 20)\n",
    "        nit = nit+1;\n",
    "        J=jac(x,fcn);\n",
    "        b=-1.*fcn(x);\n",
    "        h=J\\b;\n",
    "        x = x + h;\n",
    "        params = [x;p];\n",
    "    end"
   ]
  },
  {
   "cell_type": "markdown",
   "id": "d895f6fa-5e94-4811-90d2-a6de2e4b67ad",
   "metadata": {},
   "source": [
    "- Folie 106"
   ]
  },
  {
   "cell_type": "code",
   "execution_count": null,
   "id": "abe14715-5b97-457f-bc35-ca7100e9c692",
   "metadata": {},
   "outputs": [],
   "source": [
    "function f=fcn(x)\n",
    "    global xi yi p %-- die messwerte werden in der Fkt. fcn benötigt\n",
    "    a = x(1); b = x(2); c = x(3);\n",
    "    params = [x;p];\n",
    "    f0 = fit_fcn(xi,params);\n",
    "    expp = exp( (xi-c)/p );\n",
    "    f(1,1) = sum(f0-yi);\n",
    "    f(2,1) = sum( (f0-yi)./(expp + 1) );\n",
    "    f(3,1) = sum( (f0-yi)*b/p.* expp./(expp+1).^2 );"
   ]
  },
  {
   "cell_type": "markdown",
   "id": "52ce02f0-9014-43f3-a0a4-ffa851186043",
   "metadata": {},
   "source": [
    "- Folie 107"
   ]
  },
  {
   "cell_type": "code",
   "execution_count": null,
   "id": "e2a06217-6f87-411c-9ef2-d7bacacfd9a8",
   "metadata": {},
   "outputs": [],
   "source": [
    "function J=jac(x,f)\n",
    "    n = length(x);\n",
    "    f0 = f(x);\n",
    "    for i = 1:n\n",
    "        h = sqrt(eps)*max(1.0e-8,abs(x(i)));\n",
    "        x1 = x; x1(i)=x1(i)+h;\n",
    "        J(:,i) = (f(x1)-f0)/h;\n",
    "    end"
   ]
  },
  {
   "cell_type": "markdown",
   "id": "a2c80bbd-4f8f-4e30-8e96-92e54174a240",
   "metadata": {},
   "source": [
    "### Wie sehen Interpolationspolynome aus? – Folie 118"
   ]
  },
  {
   "cell_type": "code",
   "execution_count": null,
   "id": "bae67298-d0b1-485d-96b6-1a8d0756f752",
   "metadata": {},
   "outputs": [],
   "source": [
    "x=linspace(-4,4,1000);\n",
    "y=exp(-x.^2);\n",
    "for i=1:9\n",
    "\tx1=linspace(-4,4,i);\n",
    "\ty1=exp(-x1.^2);\n",
    "\tp=polyfit(x1,y1,i-1); % Interpolationsploynom\n",
    "\t\t\t % vom Grade i-1\n",
    "\ty2=polyval(p,x); % Auswertung des Polynoms\n",
    "\tsubplot(3,3,i);\n",
    "\tplot(x,y,x1,y1,'o',x,y2);\n",
    "end"
   ]
  },
  {
   "cell_type": "markdown",
   "id": "0dad2ee7-931e-4897-9df2-6ea7bf4c6027",
   "metadata": {},
   "source": [
    "### Wie sehen Ausgleichspolynome aus? – Folie 126"
   ]
  },
  {
   "cell_type": "code",
   "execution_count": null,
   "id": "447c2f8b-6419-4559-ad33-17dfbf37c906",
   "metadata": {},
   "outputs": [],
   "source": [
    "x=linspace(0,5,1000);\n",
    "y=exp(-x);\n",
    "x1=linspace(0,5,11);\n",
    "y1=exp(-x1);\n",
    "for i=1:4\n",
    "\tp=polyfit(x1,y1,i-1);\n",
    "\ty2=polyval(p,x);\n",
    "\tsubplot(2,2,i);\n",
    "\tplot(x,y,x1,y1,'o',x,y2);\n",
    "end"
   ]
  },
  {
   "cell_type": "markdown",
   "id": "47890c70-e61b-4bb2-bb8f-2b88f0eedd57",
   "metadata": {},
   "source": [
    "- 2) MATLAB Befehle – Folie 130"
   ]
  },
  {
   "cell_type": "code",
   "execution_count": null,
   "id": "3dc9846c-aeb3-428d-be1d-035ae2ee9ffa",
   "metadata": {},
   "outputs": [],
   "source": [
    "load bonn.dat;\n",
    "plot(bonn(:,1),bonn(:,2),'x');"
   ]
  },
  {
   "cell_type": "markdown",
   "id": "8edcd0ab-e0e0-44a6-a789-1125f6cec4c9",
   "metadata": {},
   "source": [
    "- Ausgleichspolynom 3. Grades – Folie 131"
   ]
  },
  {
   "cell_type": "code",
   "execution_count": null,
   "id": "cd886d4d-a9ab-41a8-891e-8c2c59f00487",
   "metadata": {},
   "outputs": [],
   "source": [
    "pp=polyfit(bonn(:,1),bonn(:,2),3)"
   ]
  },
  {
   "cell_type": "markdown",
   "id": "984cf21d-62e1-42c9-875e-27315ae84965",
   "metadata": {},
   "source": [
    "liefert $p(x) = 268.56 + 3.41 x + 0.00616 x^2 + 5.9 \\cdot 10^{-7} x^3$.\n",
    "\n",
    "- Graphische Darstellung"
   ]
  },
  {
   "cell_type": "code",
   "execution_count": null,
   "id": "464452b6-2944-41c8-a703-961cc7c3dce6",
   "metadata": {},
   "outputs": [],
   "source": [
    "y=polyval(pp,bonn(:,1));\n",
    "plot(bonn(:,1),y,bonn(:,1),bonn(:,2),'x');"
   ]
  },
  {
   "cell_type": "markdown",
   "id": "8c222872-1dcf-49d1-996c-0c7b525256ec",
   "metadata": {},
   "source": [
    "### MATLAB – Folie 152"
   ]
  },
  {
   "cell_type": "code",
   "execution_count": null,
   "id": "1621712c-662d-40da-8687-ea1dbdbbd1fc",
   "metadata": {},
   "outputs": [],
   "source": [
    "function f=rohr(x)\n",
    "    f=sqrt(4-x.^2);\n",
    "% Hauptprogramm (Trapezregel)\n",
    "format long;\n",
    "a=1.0; b=2.0;\n",
    "n=100; h=(b-a)/n;\n",
    "sum=rohr(a)+rohr(b);\n",
    "x=a;\n",
    "for i=1:n-1\n",
    "\tx=x+h;\n",
    "\tsum=sum+2.0*rohr(x);\n",
    "end\n",
    "sum=h*sum/2 \t% ist das Ergebnis"
   ]
  },
  {
   "cell_type": "markdown",
   "id": "a77dfbf6-cb9f-4ec3-9544-3ef581efcd1a",
   "metadata": {},
   "source": [
    "- Folie 153\n",
    "\n",
    "Vergleich: MATLAB-Routine `quad` (=adaptives Simpsonverfahren)"
   ]
  },
  {
   "cell_type": "code",
   "execution_count": null,
   "id": "793ba3d7-225f-44d5-8007-70db260d402e",
   "metadata": {},
   "outputs": [],
   "source": [
    "q=quad(@rohr,1.,2.)"
   ]
  },
  {
   "cell_type": "markdown",
   "id": "9ae01ec0-8593-4509-b3cb-eed846ae556c",
   "metadata": {},
   "source": [
    "### Anwendungsbeispiel zu ode45 – Folie 174\n",
    "\n",
    "Lösung des AWP\n",
    "\n",
    "$$y' = -2y, y(0) = 1$$\n",
    "\n",
    "und Vergleich mit der exakten Lösung $y(t) = e^{-2t}$"
   ]
  },
  {
   "cell_type": "code",
   "execution_count": null,
   "id": "19497360-cf1c-4615-bd32-ed5c099af3f3",
   "metadata": {},
   "outputs": [],
   "source": [
    "y0 = 1;\n",
    "tspan = [0, 3];\n",
    "[t,y] = ode45(@dgl, tspan, y0);\n",
    "plot(t,y,'x',t,exp(-2*t));\n",
    "function dy = dgl(t,y)\n",
    "dy = -2*y;"
   ]
  },
  {
   "cell_type": "markdown",
   "id": "42d37578-c342-4c16-8a99-08d44832ea14",
   "metadata": {},
   "source": [
    "- Folie 175\n",
    "\n",
    "Höhere Genauigkeit = kleinere Zeitschritte"
   ]
  },
  {
   "cell_type": "code",
   "execution_count": null,
   "id": "d5f4e64b-86f8-452d-a542-e39eee30cc90",
   "metadata": {},
   "outputs": [],
   "source": [
    "...\n",
    "options = odeset('RelTol',1.0e-6,'AbsTol',1.0e-8);\n",
    "[t,y] = ode45(@dgl, tspan, y0, options);\n",
    "..."
   ]
  },
  {
   "cell_type": "markdown",
   "id": "19895692-37d1-4114-9ef8-6e90c239e382",
   "metadata": {},
   "source": [
    "### Beispiel – Folie 177\n",
    "\n",
    "Lösung des AWP\n",
    "\n",
    "$$y'' = -y, y(0) = 0, y'(0) = 1$$\n",
    "\n",
    "und Vergleich mit der exakten Lösung $y(t) = \\sin(t)$"
   ]
  },
  {
   "cell_type": "code",
   "execution_count": null,
   "id": "205856d0-4c6e-4669-82c1-137996dad87a",
   "metadata": {},
   "outputs": [],
   "source": [
    "y0 = [0 1];\n",
    "tspan = [0, 2*pi];\n",
    "[t,y] = ode45(@dgl, tspan, y0);\n",
    "plot(t,y(:,1),'x',t,sin(t));\n",
    "function dz = dgl(t,z)\n",
    "    dz(1,1) = z(2);\n",
    "    dz(2,1) = -z(1);"
   ]
  },
  {
   "cell_type": "markdown",
   "id": "55ad85ac-3e18-48da-b322-fccbc5fb9a9b",
   "metadata": {},
   "source": [
    "### Folie 182"
   ]
  },
  {
   "cell_type": "code",
   "execution_count": null,
   "id": "083c382a-a3fc-45ab-ba34-639373f641e3",
   "metadata": {},
   "outputs": [],
   "source": [
    "function masse_1\n",
    "    g = 9.81; x0 = 0; u0 = 10; z0 = 0; v0 = 10;\n",
    "    dt = 0.01; k=1; % Zaehler, Zeitschritt\n",
    "    x(k) = x0; z(k) = z0; t(k) = 0;\n",
    "    while z(k) >= 0\n",
    "        k = k+1;\n",
    "        t(k) = t(k-1) + dt;\n",
    "        x(k) = u0*t(k) + x0;\n",
    "        z(k) = -0.5*g*t(k)^2 + v0*t(k) + z0;\n",
    "    end\n",
    "    plot(x,z)"
   ]
  },
  {
   "cell_type": "markdown",
   "id": "14239e01-ab35-4aa8-88ca-515a8b0df5d0",
   "metadata": {},
   "source": [
    "- Folie 183"
   ]
  },
  {
   "cell_type": "code",
   "execution_count": null,
   "id": "9f4ae868-d26f-4572-9037-4f24ab6d3c78",
   "metadata": {},
   "outputs": [],
   "source": [
    "function masse_2\n",
    "    % animierte Darstellung\n",
    "    g = 9.81; x0 =0; u0 = 10; z0 = 0; v0 = 10;\n",
    "    dt = 0.01; k=1; % Zaehler, Zeitschritt\n",
    "    x(k) = x0; z(k) = z0; t(k) = 0;\n",
    "    axis equal; axis([0 21 0 6]);\n",
    "    r = 0.1;\n",
    "    kreis = rectangle('Position',[x(k)-r z(k)-r 2*r 2*r],...\n",
    "            'Curvature',[1 1],'FaceColor','r');\n",
    "    while z(k) >= 0\n",
    "        k = k+1;\n",
    "        t(k) = t(k-1) + dt; x(k) = u0*t(k) + x0;\n",
    "        z(k) = -0.5*g*t(k)^2 + v0*t(k) + z0;\n",
    "        set(kreis,'Position',[x(k)-r z(k)-r 2*r 2*r]);\n",
    "        drawnow\n",
    "    end"
   ]
  },
  {
   "cell_type": "markdown",
   "id": "bed008c9-228e-4d63-88e3-b0f4e3775910",
   "metadata": {},
   "source": [
    "- Folie 186"
   ]
  },
  {
   "cell_type": "code",
   "execution_count": null,
   "id": "e2e41258-e9ff-4d49-8649-a11a4ced644c",
   "metadata": {},
   "outputs": [],
   "source": [
    "function masse_3\n",
    "    %--\n",
    "    x0 =0; u0 = 10; z0 = 0; v0 = 10;\n",
    "    tspan = [0 2];\n",
    "    y0 = [x0 u0 z0 v0];\n",
    "    options = odeset('RelTol',1.0e-6);\n",
    "    [t,y] = ode45(@dgl, tspan, y0, options);\n",
    "    plot(y(:,1),y(:,3))\n",
    "\n",
    "function dy = dgl(t,y)\n",
    "    g = 9.81;\n",
    "    dy(1,1) = y(2);\n",
    "    dy(2,1) = 0;\n",
    "    dy(3,1) = y(4);\n",
    "    dy(4,1) = -g;"
   ]
  },
  {
   "cell_type": "code",
   "execution_count": null,
   "id": "3aeff427-487b-43cc-820f-6b6280388f9c",
   "metadata": {},
   "outputs": [],
   "source": [
    "% mit Animation...\n",
    "[t,y] = ode45(@dgl, tspan, y0, options);\n",
    "r = 0.1;\n",
    "axis equal\n",
    "axis([0 21 0 6]);\n",
    "line(y(:,1),y(:,3))\n",
    "kreis = rectangle('Position',[x0-r z0-r 2*r 2*r],...\n",
    "\t\t'Curvature',[1 1],'FaceColor','r');\n",
    "for i=1:length(t)\n",
    "\tset(kreis,'Position',[y(i,1)-r y(i,3)-r 2*r 2*r]);\n",
    "\tdrawnow\n",
    "\tpause(0.1)\n",
    "end"
   ]
  },
  {
   "cell_type": "markdown",
   "id": "b960a334-8ecf-440b-a9d3-55d239cc7ab5",
   "metadata": {},
   "source": [
    "- Folie 188"
   ]
  },
  {
   "cell_type": "code",
   "execution_count": null,
   "id": "664714d1-68e1-4ad8-ba2e-5ed88dc0e238",
   "metadata": {},
   "outputs": [],
   "source": [
    "% Hauptprogramm\n",
    "options = odeset('RelTol',1.0e-6,'Events',@events);\n",
    "[t,y] = ode45(@dgl, tspan, y0, options);\n",
    "....\n",
    "function [value,isterminal,direction]=events(t,y)\n",
    "    %-- Eventfunktion, stoppt Integration bei z=0\n",
    "    isterminal = 1; % stoppe Simulation\n",
    "    direction = -1; % nur bei fallender event-Funktion\n",
    "    value= y(3);"
   ]
  },
  {
   "cell_type": "markdown",
   "id": "42cba5d4-d9a9-41f2-a405-9aee06d8386b",
   "metadata": {},
   "source": [
    "- Folie 202"
   ]
  },
  {
   "cell_type": "code",
   "execution_count": null,
   "id": "d9f7264f-45d4-4fd7-9406-801f1c6d19bc",
   "metadata": {},
   "outputs": [],
   "source": [
    "function masse_abhang\n",
    "    global g m\n",
    "    g = 9.81; m = 2;\n",
    "    y0 = [0 0 0 0 g*m/2];\n",
    "    tspan = [0 20];\n",
    "    M = eye(5); M(5,5)=0;\n",
    "    options = odeset('Mass',M);\n",
    "    [t,z] = ode15s(@dgl, tspan, y0,options);\n",
    "    plot(z(:,1),z(:,3))\n",
    "\n",
    "function dz = dgl(t,z)\n",
    "    global g m\n",
    "    dz(1,1) = z(2);\n",
    "    dz(2,1) = z(5)/m;\n",
    "    dz(3,1) = z(4);\n",
    "    dz(4,1) = g - z(5)/m;\n",
    "    dz(5,1) = g - 2*z(5)/m;"
   ]
  },
  {
   "cell_type": "markdown",
   "id": "00500613-5ca6-44dc-9bd2-7574a86b8d84",
   "metadata": {},
   "source": [
    "## ModSim2"
   ]
  },
  {
   "cell_type": "markdown",
   "id": "2dc84499-b877-4236-818c-2c633d9e7a0e",
   "metadata": {},
   "source": [
    "### Die Potenzmethode – Folie 45"
   ]
  },
  {
   "cell_type": "code",
   "execution_count": null,
   "id": "57e351b4-4338-4936-b70a-7ca557a1deaa",
   "metadata": {},
   "outputs": [],
   "source": [
    "%%file power_iteration.m\n",
    "function x = power_iteration (A, numIterations)\n",
    "\tx = rand ( size (A, 2), 1 ); % random starting vector\n",
    "\tfor i = 1:numIterations\n",
    "\t\tx = A*x ; % calculate matrix- vector product\n",
    "\t\tx = x/norm( x ) ; % normalize\n",
    "\tend"
   ]
  },
  {
   "cell_type": "markdown",
   "id": "760c682b-2f14-4cb7-8b09-a9190a4e5366",
   "metadata": {},
   "source": [
    "- Folie 46"
   ]
  },
  {
   "cell_type": "code",
   "execution_count": null,
   "id": "7c5cb181-fde3-40ec-9989-55eca50c827c",
   "metadata": {},
   "outputs": [],
   "source": [
    "A=[0.7 0.4 ; 0.3 0.6 ] ; % rental bike example\n",
    "power_iteration (A, 1) % 1 iteration\n",
    "power_iteration (A,10) % 10 iterations\n",
    "power_iteration (A, 100) % 100 iterations"
   ]
  },
  {
   "cell_type": "markdown",
   "id": "27da25c2-09ef-45df-8d12-67812c22c11f",
   "metadata": {},
   "source": [
    "### Das QR–Verfahren – Folie 50"
   ]
  },
  {
   "cell_type": "code",
   "execution_count": null,
   "id": "9f6ae03d-4e99-45d9-a0a3-48e341d76d15",
   "metadata": {},
   "outputs": [],
   "source": [
    "%%file qr_iteration.m\n",
    "function A = qr_iteration (A, numIterations )\n",
    "\tfor i =1: numIterations\n",
    "\t\t[Q, R] = qr (A) ; % A = Q*R\n",
    "\t\tA = R*Q;\n",
    "\tend"
   ]
  },
  {
   "cell_type": "markdown",
   "id": "3ce61be5-5f6a-458e-a0e8-5bd620df51a4",
   "metadata": {},
   "source": [
    "### Beispiel: Ein eindimensionaler Stab – Folie 52"
   ]
  },
  {
   "cell_type": "code",
   "execution_count": null,
   "id": "1cf575a9-c6bf-49c9-9e54-8b297fe032c5",
   "metadata": {},
   "outputs": [],
   "source": [
    "[eigenmodes, D] = eig (M\\K) );\n",
    "eigenfreqs = sqrt ( diag (D) );"
   ]
  },
  {
   "cell_type": "markdown",
   "id": "848f49d4-351d-4b34-bcc3-91bb963daa6e",
   "metadata": {},
   "source": [
    "### Beispiel: Verrauschtes Signal – Folie 88"
   ]
  },
  {
   "cell_type": "code",
   "execution_count": null,
   "id": "f9013118-c677-4eea-a9a4-bf7ecbf467ff",
   "metadata": {},
   "outputs": [],
   "source": [
    "% create a function consisting of two sinus waves\n",
    "T=1.5; % end time\n",
    "dt=1e-3; % sampling time\n",
    "t = 0: dt : T-dt ; % Time vector\n",
    "S = 0.7* sin (2* pi *50* t ) + sin (2* pi *120* t ) ;\n",
    "% corrupt signal with noise of variance 4\n",
    "X = S + 2*randn ( size ( t ) ) ;\n",
    "plot ( t ,X) ;\n",
    "xlabel ( 'time [s]' )\n",
    "ylabel ( 'Amplitude' )"
   ]
  },
  {
   "cell_type": "markdown",
   "id": "5822efe3-1e55-41c5-9ea9-a2c19919d770",
   "metadata": {},
   "source": [
    "### Beispiel: Verrauschtes Signal – Folie 90"
   ]
  },
  {
   "cell_type": "code",
   "execution_count": null,
   "id": "2cd057c5-ca8f-4e7f-a79f-7b1c0ceb5869",
   "metadata": {},
   "outputs": [],
   "source": [
    "% calculate (real) spectrum\n",
    "Y = fft (X) ;\n",
    "N = length (Y) ;\n",
    "f = (0:N-1)/T;\n",
    "a = 2* real (Y)/N;\n",
    "b =-2*imag(Y)/N;\n",
    "\n",
    "%plot the results\n",
    "figure ;\n",
    "stem( f (1:N/2) ,[ a (1:N/2); b (1:N/2 ) ] ' ) ;\n",
    "legend ( ' ak ' , 'bk ' ) ;\n",
    "xlabel ( ' Frequency [Hz] ' )\n",
    "ylabel ( ' Amplitude ' )"
   ]
  },
  {
   "cell_type": "markdown",
   "id": "e21a170a-a8d2-4c71-baad-0f146fc3b428",
   "metadata": {},
   "source": [
    "### Zum Testen des Abtast–Theorems: – Folie 95"
   ]
  },
  {
   "cell_type": "code",
   "execution_count": null,
   "id": "70b76cb6-94fd-402f-acaf-23998dcd4d87",
   "metadata": {},
   "outputs": [],
   "source": [
    "%%file an_annoying_script.m\n",
    "fs = 8000;\t% sample frequency\n",
    "T=0.25;\t\t% duration for each sound\n",
    "for f =100:100:12000\n",
    "\t% if f > fs/2 ,f will be captured incorrectly\n",
    "\tdisp ( [ ' f = ' , num2str ( f ) ,' Hz, 2* f / fs = ' , num2str(2* f / fs ) ] )\n",
    "\tdelta_t = 1/ fs ;\n",
    "\tt=0: delta_t :T;\n",
    "\ty=sin (2* pi * f *t ) ;\n",
    "\tsoundsc (y , fs )\n",
    "\tpause (1.05*T)\n",
    "end"
   ]
  },
  {
   "cell_type": "markdown",
   "id": "f88a8e9d-83c5-413b-8fb0-7feb64b6fca5",
   "metadata": {},
   "source": [
    "### Beispiel – Folie 128"
   ]
  },
  {
   "cell_type": "code",
   "execution_count": null,
   "id": "5638927d-9d31-4f40-9677-8a6fe59371b6",
   "metadata": {},
   "outputs": [],
   "source": [
    "% boundary values\n",
    "bvleft = 0;\tbvright = 0;\n",
    "% define 1. order ODE\n",
    "ode = @(x , y)\t[ y (2); -exp (y ( 1 ) ) ] ;\n",
    "% define the BVs as a function handle\n",
    "bcs = @(ya ,yb)\t[ ya(1)-bvleft ; yb(1)-bvright ] ;\n",
    "% define initial guess ( negative parabola w/ zeros at 0 and 1)\n",
    "x = linspace (0, 1, 5);\n",
    "winit = @(x) [20* x.*(1-x ) ; 20*(1-2*x ) ] ;\n",
    "solinit = bvpinit (x, winit ) ;\n",
    "% solve the BVP\n",
    "sol = bvp4c (ode, bcs, solinit) ;"
   ]
  },
  {
   "cell_type": "code",
   "execution_count": null,
   "id": "f2344e1b-a8b9-45d6-a4e2-6776721d6477",
   "metadata": {},
   "outputs": [],
   "source": [
    "sol\n",
    "xdense = linspace (0, 1, 100);\n",
    "ydense = deval ( sol, xdense );"
   ]
  },
  {
   "cell_type": "markdown",
   "id": "f4a23804-4a15-4654-a1e9-b852c055a55f",
   "metadata": {},
   "source": [
    "### Mehrdimensionale Funktionen – Folie 146"
   ]
  },
  {
   "cell_type": "code",
   "execution_count": null,
   "id": "004f9a07-f5bf-4939-b9bf-1057fd0b76af",
   "metadata": {},
   "outputs": [],
   "source": [
    "[X, Y] = meshgrid( -1:0.05:1 ,-1:0.05:1);\n",
    "surf(X, Y, X.^2 + Y. ^ 2 );\n",
    "xlabel( ' x ' );\n",
    "ylabel( ' y ' );\n",
    "zlabel( ' z ' );\n",
    "title( ' z=f (x , y)=x^2 + y^2 ' )"
   ]
  },
  {
   "cell_type": "markdown",
   "id": "5e57464b-f18f-4a72-aae3-ef5321cf5fb1",
   "metadata": {},
   "source": [
    "### Mehrdimensionale Funktionen – Folie 148"
   ]
  },
  {
   "cell_type": "code",
   "execution_count": null,
   "id": "b962afc4-b991-4d85-8cc6-922ba6d51aec",
   "metadata": {},
   "outputs": [],
   "source": [
    "t=linspace (0 ,20 ,100);\n",
    "plot3( cos ( t ), sin( t ), t ) ;\n",
    "xlabel( ' x ' ) ;\n",
    "ylabel( ' y ' ) ;\n",
    "zlabel( ' z ' ) ;"
   ]
  },
  {
   "cell_type": "markdown",
   "id": "67be7776-b4d7-4c59-ad3b-496c3f2fd983",
   "metadata": {},
   "source": [
    "### Linienmethode in Matlab - Hauptroutine – Folie 214"
   ]
  },
  {
   "cell_type": "code",
   "execution_count": null,
   "id": "2a2fcb81-12e4-4cd9-b70f-bc811c99b232",
   "metadata": {},
   "outputs": [],
   "source": [
    "% constant velocity\n",
    "u= 15;\n",
    "% initial condition\n",
    "q0= @(x) exp(-(x-25000).^2*1e-8);\n",
    "% left boundary condition\n",
    "qa= 0;\n",
    "% time domain\n",
    "t0= 0;\t\tt1= 6000;\n",
    "% space domain\n",
    "x0= 0;\t\tx1= 100000;\n",
    "% discretized space domain\n",
    "N= 100;\n",
    "x= linspace (x0 , x1 , N) ;\n",
    "dx= (x1-x0 )/(N-1);\n",
    "\n",
    "%% method of lines\n",
    "A= constructMatrix (N) ;\n",
    "b= zeros (N-1 ,1);\n",
    "b(1)= -qa ;\n",
    "\n",
    "% solve using ode45\n",
    "y0= q0(x (2: end ) ) ' ;\n",
    "ode= @( t , y) -(u/dx)*A*y + b ;\n",
    "[ tmol ,ymol]= ode45(ode , [ t0 , t1 ] , y0 ) ;"
   ]
  },
  {
   "cell_type": "markdown",
   "id": "a8ba8827-cd57-44df-997e-1bf323771200",
   "metadata": {},
   "source": [
    "- Hauptroutine"
   ]
  },
  {
   "cell_type": "code",
   "execution_count": null,
   "id": "46e72c26-6092-43ba-bb28-8168f43def0e",
   "metadata": {},
   "outputs": [],
   "source": [
    "%%file constructMatrix.m\n",
    "function A = constructMatrix (N)\n",
    "%% construct matrix stencil for\n",
    "% backwards differences as a\n",
    "% sparse matrix\n",
    "nnz = 2*N-3;\n",
    "i=zeros (nnz , 1 ) ;\n",
    "j=zeros (nnz , 1 ) ;\n",
    "v=zeros (nnz , 1 ) ;\n",
    "i (1)=1;\n",
    "j (1)=1;\n",
    "v(1)=1;\n",
    "idx = 2;\n",
    "for k=1:N-2\n",
    "\ti ( [ idx  idx +1])=[k+1 k+1];\n",
    "\tj ( [ idx  idx +1])=[k k+1];\n",
    "\tv ( [ idx  idx +1])=[ -1  1 ] ;\n",
    "\tidx = idx + 2;\n",
    "end\n",
    "A=sparse ( i , j , v ,N-1,N-1);\n",
    "end"
   ]
  },
  {
   "cell_type": "markdown",
   "id": "923d85d0-895c-4144-b5f5-6579d71b5c7d",
   "metadata": {},
   "source": [
    "- Visualisierung"
   ]
  },
  {
   "cell_type": "code",
   "execution_count": null,
   "id": "5d857a97-3ff2-44c9-a6fc-9d2f87db5eee",
   "metadata": {},
   "outputs": [],
   "source": [
    "% plot initial conitions\n",
    "figure ;\n",
    "hold on ;\n",
    "hexact = plot (x , q0(x ) , . . .\n",
    "\t' LineWidth ' , 1 . 5 , . . .\n",
    "\t' DisplayName ' , ' exact solution ' ) ;\n",
    "hmol = plot (x , [ qa ymol ( 1 , : ) ] , . . .\n",
    "\t' LineWidth ' , 1 . 5 , . . .\n",
    "\t' DisplayName ' , 'Method of Lines ' ) ;\n",
    "xlabel( ' x ' ) ;\n",
    "ylabel( ' y ' ) ;\n",
    "xlim( [ x0 ,x1 ] )\n",
    "ylim( [ 0 , 1 ] )\n",
    "legend( ' toggle ' )"
   ]
  },
  {
   "cell_type": "markdown",
   "id": "8e5582b2-30be-4bf0-bb51-3fd3e0a4fee6",
   "metadata": {},
   "source": [
    "### Matlab Implementierung – Folie 228"
   ]
  },
  {
   "cell_type": "code",
   "execution_count": null,
   "id": "06158a62-528c-4751-92d6-becfe045a709",
   "metadata": {},
   "outputs": [],
   "source": [
    "%%file heat2d.m\n",
    "% collect all global variables in a structure for better readability\n",
    "global params\n",
    "\n",
    "% parameters\n",
    "params.k = 237;\t% heat conductivity [W/mK]\n",
    "params.c = 900;\t% heat capacity [ J/kgK]\n",
    "params.p = 2700;\t% density [ kg/m^3]\n",
    "params.P = 5;\t% power of the heat source [W]\n",
    "\n",
    "params.sT = 20;\t% surrounding Temperature [C]\n",
    "params.lambda = . . .\t% heat diffusivitiy [m^2/s ]\n",
    "           params.k/(params.c*params.p ) ;\n",
    "\n",
    "params.x1 = 0.07;\t% width the plate [m]\n",
    "params.width = 0.025;\t% thickness of the plate [m]\n",
    "params.t1 = 40;\t% end time [ s ]\n",
    "\n",
    "params.nx = 40;\t% # discretization points in each direction\n",
    "params.dx = . . .\t% x-resolution [m]\n",
    "            params.x1/(params.nx-1);\n",
    "            \n",
    "%% solve the system\n",
    "% initial conditions (BCs are applied in odeFun)\n",
    "T0vec = params.sT*ones ( params.nx^2 ,1);\n",
    "sol = ode15s (@odeFun, [0 , params.t1 ] , T0vec ) ;\n",
    "\n",
    "%% animate the solution\n",
    "[X, Y]=meshgrid ( linspace (0 , params . x1 , params . nx ) ) ;\n",
    "t= linspace (0 , params . t1 , 200);\n",
    "Tvec = deval ( sol , t ) ; %evaluate solution at the given time steps\n",
    "for i =1:length ( t )\n",
    "\tT = reshape (Tvec ( : , i ) , params.nx , params.nx ) ;\n",
    "\tsurf (X,Y,T) ;\t\t% plot Temperature as surface\n",
    "\taxis ([0 , params.x1 , . . . \t% x-axis limits\n",
    "\t          0 , params.x1 , . . . \t% y-axis limits\n",
    "\t          18  32 , . . .\t\t% z-axis limits\n",
    "\t          18 32 ] ) ;\t\t% color axis limits\n",
    "\tcolorbar ;\n",
    "\ttitle ( [ ' t = ' , num2str ( t ( i )) , ' s ' ] )\n",
    "\tzlabel ( 'T [C] ' ) ;\n",
    "\tdrawnow ;\n",
    "end"
   ]
  },
  {
   "cell_type": "code",
   "execution_count": null,
   "id": "c4de7d58-0356-48c3-858d-c6b8eda65436",
   "metadata": {},
   "outputs": [],
   "source": [
    "%%file odeFun.m\n",
    "function dTvec = odeFun( t , Tvec)\n",
    "    % compute the ode for every point on the  plate using Matlabs conv2\n",
    "    global params ; % make sure the parameters are available\n",
    "    T = reshape (Tvec, params.nx, params.nx ) ; % reshape to 2D array\n",
    "    % pad T to obtain zero inflow boundary conditions\n",
    "    T=[T( 1 , : ) ;T;T(end , : ) ] ;\n",
    "    T=[T( : , 1 ) T T( : , end ) ] ;\n",
    "    %convolute T with the 5-point-stencil\n",
    "    stencil = ( params.lambda/params.dx ^ 2 ) * . . .\n",
    "        [0 , 1 , 0;\n",
    "        1 , -4, 1;\n",
    "        0 ,   1 ,0 ] ;\n",
    "    dT = conv2 (T, stencil , 'same ' ) ;\n",
    "    dT = dT(2: end -1,2:end-1); % remove padding\n",
    "    dT = dT + heatsource ( t ) ; % add heat source\n",
    "    dTvec = reshape (dT, params.nx ^2 ,1); % reshape to vector"
   ]
  },
  {
   "cell_type": "code",
   "execution_count": null,
   "id": "dd3231ad-8aa1-4db9-bfb9-fcd5386865c4",
   "metadata": {},
   "outputs": [],
   "source": [
    "%%file heatSource.m\n",
    "function f = heatsource ( t )\n",
    "    % apply the heat sources at (0.02 ,0.05) and (0.02 ,0.035)\n",
    "    global params ; % make sure the parameters are available\n",
    "    % get index of closest points to heat sources\n",
    "    X = (0: params.nx)*params.dx ; \n",
    "    [~ , ix1 ] = min( abs (X-0.02));\n",
    "    [~ , ix2 ] = min( abs (X-0.05));\n",
    "    [~ ,i y] = min( abs (X-0.035));\n",
    "    f = zeros ( params.nx ) ; % 2D (n , n)-array of zeros\n",
    "    % switch heat source off after 20 seconds\n",
    "    Tsource = params.P/(params.c*params.p*params.width*params.dx^2)\n",
    "    if ( t<20 )\n",
    "        f ( iy , ix1 ) = f ( iy , ix1 ) + Tsource ;\n",
    "        f ( iy , ix2 ) = f ( iy , ix2 ) + Tsource ;\n",
    "    end"
   ]
  },
  {
   "cell_type": "markdown",
   "id": "5b70c064-4489-4e1e-8865-5edb1b03cf71",
   "metadata": {},
   "source": [
    "### Beispiel: Elastische Schnur mit Last – Folie 260"
   ]
  },
  {
   "cell_type": "code",
   "execution_count": null,
   "id": "54fc50b2-8164-413c-a722-404b799edf9a",
   "metadata": {},
   "outputs": [],
   "source": [
    "%%file fem_elastic_string.m\n",
    "xa = 0.4; \t\t\t% left boundary of load interval\n",
    "xb = 0 .6;\t\t\t% right boundary of load interval\n",
    "q0 = -1;\t\t\t\t% constant load in load interval\n",
    "k = 1;\t\t\t\t% ” Diffusion ” coefficient\n",
    "L = 1;\t\t\t\t% length of the string\n",
    "alph = 0;\t\t\t\t% left Dirichlet boundary value\n",
    "bet = 0;\t\t\t\t% right Dirichlet boundary value\n",
    "q = @(x) q0*(x>=xa ).*( x<=xb ) ; \t% distributed load depends on x\n",
    "\n",
    "N = 100;\t\t\t\t% number of finite elements\n",
    "h = L/N;\t\t\t\t% stepsize\n",
    "x = linspace (0 ,L ,N+1) ';\t\t% spatial discrete points\n",
    "\n",
    "%% assemble the stiffness matrix\n",
    "nnz = 3*(N-1) -2;\n",
    "i = zeros (nnz , 1 ) ;\n",
    "j = zeros (nnz , 1 ) ;\n",
    "v = zeros (nnz , 1 ) ;\n",
    "% first row\n",
    "i (1:2)=[1 , 1 ] ' ;\n",
    "j (1:2)=[1 , 2 ] ' ;\n",
    "v (1:2)=[2 , -1] ';\n",
    "idx = 3;\n",
    "% rows 2 to N-2\n",
    "for\n",
    "\ti i =2:N-2\n",
    "\ti ( idx : idx+2)=[ ii ,     ii , ii ] ' ;\n",
    "\tj ( idx : idx+2)=[ ii -1, ii , ii +1] ';\n",
    "\tv( idx : idx+2)=[    -1, 2 ,    -1] ';\n",
    "\tidx = idx + 3;\n",
    "end\n",
    "% last row\n",
    "i ( idx : idx+1)=[N-1, N-1] ';\n",
    "j ( idx : idx+1)=[N-2, N-1] ';\n",
    "v( idx : idx+1)=[ -1, 2 ] ' ;\n",
    "A = sparse ( i , j , v ,N-1,N-1);\n",
    "\n",
    "% right- hand-side\n",
    "b = (h^2/k)*q(x (2: end -1));\n",
    "b(1) = b(1) + alph ;\n",
    "b(N-1) = b(N-1) + bet ;\n",
    "\n",
    "%% solve the linear system\n",
    "w = A\\b ;\n",
    "W = [ alph ; w; bet ] ; % apply BCs\n",
    "\n",
    "%% plot the results\n",
    "plot (x ,W, ' LineWidth ' , 1 , . . .\n",
    "\t  ' DisplayName ' , . . .\n",
    "\t  'FEM solut ion ' )\n",
    "legend ( ' toggle ' )"
   ]
  }
 ],
 "metadata": {
  "kernelspec": {
   "display_name": "Octave",
   "language": "octave",
   "name": "octave"
  },
  "language_info": {
   "name": ""
  }
 },
 "nbformat": 4,
 "nbformat_minor": 5
}
