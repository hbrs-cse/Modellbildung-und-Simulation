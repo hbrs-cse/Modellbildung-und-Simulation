{
 "cells": [
  {
   "cell_type": "markdown",
   "id": "946333d6-bf8d-48e3-9d60-024a39242da6",
   "metadata": {},
   "source": [
    "# Matlab Beispiele aus der VL"
   ]
  },
  {
   "cell_type": "markdown",
   "id": "a6a11a88-e7a2-4f82-bdd1-e29f4c600aa4",
   "metadata": {},
   "source": [
    "## ModSim1\n",
    "\n",
    "### Numerische Simulation – Folie 12"
   ]
  },
  {
   "cell_type": "code",
   "execution_count": null,
   "id": "f900703c-9e4c-455e-8845-06c32bca9c41",
   "metadata": {},
   "outputs": [],
   "source": [
    "function energienetz\n",
    "...\n",
    "%-- ELektrolyse\n",
    "i_RE=0 ;i_2E=0;i_SE=0;U_5=V_ref*10;mp_E=0;i_E=0;\n",
    "%-- PV Anlage\n",
    "i_PV=0;i_6=0;i_RPV=0;\n",
    "%-- Anfangswerte\n",
    "y0 = [i_R;U_1;i_B;Q_B;i_BZ;i_S;P_1;m_BZ;U_2;U_K;i_2;i_RE ;i_2E;...\n",
    "i_SE;U_5;mp_E;i_E;i_V;i_PV;i_6;i_RPV];\n",
    "%-- Matrix M, Zeitspanne, Options\n",
    "M = zeros(21);M(4,4)=1;M(7,7)=1;M(10,10)=1;\n",
    "tspan = [0,24*3600];\n",
    "options = odeset( 'Mass' ,M, 'RelTol' ,1.0e-8, 'AbsTol' ,1.0e-6, 'Stats','on' );\n",
    "[t,y] = ode15s(@dgl,tspan,y0,options ,Z1,Z2,Z3);\n",
    "%-- Darstellung\n",
    "plot(t/3600,y, '-o' );\n",
    "legend( 'i_R','U_1(Kennlinie)','i_B','Q_B(Ladung)',....\n",
    "...\n",
    "end\n",
    "function dy = dgl(t,y)\n",
    "%-- rechte Seite des DAE Systems M y'=f(t,y)\n",
    "i_R = y(1); U_1 = y(2); ...\n",
    "...\n",
    "dy(1) =i_R*U_3-U_2*i_BZ; %-- Spannungswandler\n",
    "dy(2) = i_S-i_R; %-- Knoten U2\n",
    "....\n",
    "%--\n",
    "end"
   ]
  },
  {
   "cell_type": "markdown",
   "id": "1a9477ba-6710-4f63-8a1b-be65aca31c34",
   "metadata": {},
   "source": [
    "### Algorithmus – Folie 50"
   ]
  },
  {
   "cell_type": "code",
   "execution_count": null,
   "id": "bfa5fb86-1f0a-48a5-9b9a-9d0e7318fb08",
   "metadata": {},
   "outputs": [],
   "source": [
    "for k=1:n-1 % durchlaufe alle Diagonalelemente\n",
    "\tfaktor = 1/A(k,k)\n",
    "\tfor i=k+1:n % durchlaufe Spalten unterhalb a_kk\n",
    "\t\tA(i,k) = A(i,k)*faktor % merke dir die Zahl mit der\n",
    "\tend % Zeile k multipliziert werden muss\n",
    "\tfor i=k+1:n % alle Zeilen unterhalb\n",
    "\t\tfor j=k+1:n % alle Spalten rechts\n",
    "\t\t\tA(i,j) = A(i,j) - A(i,k)*A(k,j) % Zeile i - Zeile k\n",
    "\t\tend\n",
    "\tend\n",
    "end"
   ]
  },
  {
   "cell_type": "markdown",
   "id": "bf4970fa-0b67-4feb-b647-5b6fdc03ed24",
   "metadata": {},
   "source": [
    "### Algorithmus – Folie 56"
   ]
  },
  {
   "cell_type": "code",
   "execution_count": null,
   "id": "3d852b35-20d5-4e5d-b241-37cd57c105a4",
   "metadata": {},
   "outputs": [],
   "source": [
    "% a) Ly = b (von oben nach unten)\n",
    "for j = 1:n\n",
    "\ty(j) = b(j)\n",
    "\tfor i = j+1:n % schaufele Spalte j\n",
    "\t\tb(i) = b(i) - A(i,j)*y(j) % nach rechts\n",
    "\tend\n",
    "end\n",
    "\n",
    "% b) Ux = y (von unten nach oben)\n",
    "for j = n:-1:1\n",
    "\tx(j) = y(j)/A(j,j)\n",
    "\tfor i = 1:j-1 % schaufele Spalte j\n",
    "\t\ty(i) = y(i) - A(i,j)*x(j) % nach rechts\n",
    "\tend\n",
    "end"
   ]
  },
  {
   "cell_type": "markdown",
   "id": "dfc2e2db-3cf8-42d3-bee6-2fcc02928d3b",
   "metadata": {},
   "source": [
    "- Aufruf in MATLAB: – Folie 57"
   ]
  },
  {
   "cell_type": "code",
   "execution_count": null,
   "id": "0b334589-ea28-4bf8-abbd-1797ddb516e7",
   "metadata": {},
   "outputs": [],
   "source": [
    "A=[4,-1,0; -1,4,-1; 8,-1,4]\n",
    "x=A\\b"
   ]
  },
  {
   "cell_type": "markdown",
   "id": "51e4ee55-5480-485e-85b8-4c70102110a4",
   "metadata": {},
   "source": [
    "### MATLAB-Beispiel – Folie 64"
   ]
  },
  {
   "cell_type": "code",
   "execution_count": null,
   "id": "30004353-2c13-406d-93a9-9f74b1e2fec8",
   "metadata": {},
   "outputs": [],
   "source": [
    "A=[4,-1,0;8,-1,4;-1,4,-1]; b=[2;4;6];\n",
    "[L,U,P]=lu(A) % LU-Zerlegung aufrufen"
   ]
  },
  {
   "cell_type": "markdown",
   "id": "2525f644-e288-4774-911d-505685e7eebc",
   "metadata": {},
   "source": [
    "- Folie 65"
   ]
  },
  {
   "cell_type": "code",
   "execution_count": null,
   "id": "f51297ff-77aa-4901-9997-ddfbe19f586d",
   "metadata": {},
   "outputs": [],
   "source": [
    "y=L\\(P*b); % Rücksubstitution\n",
    "x=U\\y\n",
    "x=A\\b % oder direkt"
   ]
  },
  {
   "cell_type": "markdown",
   "id": "b7ee422d-8335-4c3e-88f0-a397b9f2863c",
   "metadata": {},
   "source": [
    "### Wie hoch ist der Rechenaufwand des GA bzw. der LU-Zerlegung? – Folie 67\n",
    "\n",
    "1. LU-Zerlegung:"
   ]
  },
  {
   "cell_type": "code",
   "execution_count": null,
   "id": "a4760b4d-e1fe-4062-91f9-665ca2ef3fcd",
   "metadata": {},
   "outputs": [],
   "source": [
    "for k=1:n-1\n",
    "\t....\n",
    "\tfor i=k+1:n\n",
    "\t\tfor j=k+1:n\n",
    "\t\t...\n",
    "\t\tend\n",
    "\tend\n",
    "end"
   ]
  },
  {
   "cell_type": "markdown",
   "id": "3fd075f8-f02e-4bb9-83a8-90251306b71d",
   "metadata": {},
   "source": [
    "2. Rücksubstitution:"
   ]
  },
  {
   "cell_type": "code",
   "execution_count": null,
   "id": "228b446d-5d25-4edf-b410-91622c1c7bcb",
   "metadata": {},
   "outputs": [],
   "source": [
    "for j = 1:n\n",
    "\tfor i = j+1:n\n",
    "\t...\n",
    "\tend\n",
    "end\n",
    "for j = n:-1:1\n",
    "\tfor i = 1:j-1\n",
    "\t...\n",
    "\tend\n",
    "end"
   ]
  },
  {
   "cell_type": "markdown",
   "id": "b2e693ce-0aa8-4091-8825-cb3db8fe2dd1",
   "metadata": {},
   "source": [
    "### Eigenschaften der Fixpunktiteration zur Bestimmung von Nullstellen einer Funktion f (x) – Folie 80\n",
    "\n",
    "Die Fixpunktiteration ist sehr einfach zu implementieren (auch für mehrdimensionale Probleme):"
   ]
  },
  {
   "cell_type": "code",
   "execution_count": null,
   "id": "c3f15aa3-9a3c-49f7-8cb4-b3c1e902c8b4",
   "metadata": {},
   "outputs": [],
   "source": [
    "while abs(g(x)-x) > tol begin\n",
    "\tx = g(x)\n",
    "en"
   ]
  },
  {
   "cell_type": "markdown",
   "id": "487ec60b-c1ca-42b3-831e-309353a03988",
   "metadata": {},
   "source": [
    "### Implementierung des Straßenprofils: – Folie 103"
   ]
  },
  {
   "cell_type": "code",
   "execution_count": null,
   "id": "768dcf4b-8cbc-481a-a072-05f997b34a04",
   "metadata": {},
   "outputs": [],
   "source": [
    "function strassenkante\n",
    "load strasse.dat\n",
    "global xi yi p %-- die messwerte werden in der Fkt. fcn benötigt\n",
    "xi = strasse(:,1); yi = strasse(:,2);\n",
    "nx = length(xi)\n",
    "plot(xi,yi); hold on\n",
    "%-- Startwerte und Testplot\n",
    "a = min(yi)\n",
    "b = max(yi)-a\n",
    "diff = abs(yi(2:nx)-yi(1:nx-1)); [diffmax,ii] = max(diff);\n",
    "c = xi(ii)\n",
    "p = 5*(xi(end)-xi(1))/nx\n",
    "params = [a;b;c;p];\n",
    "yi1 = fit_fcn(xi,params);\n",
    "plot(xi,yi,xi,yi1,'r')\n",
    "hold on"
   ]
  },
  {
   "cell_type": "markdown",
   "id": "afa90815-a904-40e3-b232-f6e92fb7fa1a",
   "metadata": {},
   "source": [
    "### Newtonverfahren - Folie 104"
   ]
  },
  {
   "cell_type": "code",
   "execution_count": null,
   "id": "b1f2cc9b-2c1d-4efa-a51b-2ac5002cb247",
   "metadata": {},
   "outputs": [],
   "source": [
    "%-- newtonverfahren\n",
    "tol = 1.0e-6;\n",
    "x0 = params(1:3); %-- startwert des Newtonverfahrens\n",
    "xres = newton(@fcn,x0,tol)\n",
    "xres = [xres;p];\n",
    "yi2 = fit_fcn(xi,xres);\n",
    "plot(xi,yi2,'Linewidth',3)\n",
    "function y = fit_fcn(x,params)\n",
    "a = params(1); b = params(2); c = params(3); p = params(4);\n",
    "y = a + b./(exp((x-c)/p)+1);"
   ]
  },
  {
   "cell_type": "markdown",
   "id": "35de67c2-2db1-49ed-a031-97b947d19407",
   "metadata": {},
   "source": [
    "- Folie 105"
   ]
  },
  {
   "cell_type": "code",
   "execution_count": null,
   "id": "7b3a84f3-1420-40ca-acf2-52eef6e391de",
   "metadata": {},
   "outputs": [],
   "source": [
    "function x = newton(fcn,x0,tol)\n",
    "global xi yi p %-- die messwerte werden in der Fkt. fcn benötigt\n",
    "h = [2*tol;2*tol];\n",
    "x = x0;\n",
    "nit =0;\n",
    "while (norm(h) > tol) && (nit < 20)\n",
    "\tnit = nit+1;\n",
    "\tJ=jac(x,fcn);\n",
    "\tb=-1.*fcn(x);\n",
    "\th=J\\b;\n",
    "\tx = x + h;\n",
    "\tparams = [x;p];\n",
    "end"
   ]
  },
  {
   "cell_type": "markdown",
   "id": "d895f6fa-5e94-4811-90d2-a6de2e4b67ad",
   "metadata": {},
   "source": [
    "- Folie 106"
   ]
  },
  {
   "cell_type": "code",
   "execution_count": null,
   "id": "abe14715-5b97-457f-bc35-ca7100e9c692",
   "metadata": {},
   "outputs": [],
   "source": [
    "function f=fcn(x)\n",
    "global xi yi p %-- die messwerte werden in der Fkt. fcn benötigt\n",
    "a = x(1); b = x(2); c = x(3);\n",
    "params = [x;p];\n",
    "f0 = fit_fcn(xi,params);\n",
    "expp = exp( (xi-c)/p );\n",
    "f(1,1) = sum(f0-yi);\n",
    "f(2,1) = sum( (f0-yi)./(expp + 1) );\n",
    "f(3,1) = sum( (f0-yi)*b/p.* expp./(expp+1).^2 );"
   ]
  },
  {
   "cell_type": "markdown",
   "id": "52ce02f0-9014-43f3-a0a4-ffa851186043",
   "metadata": {},
   "source": [
    "- Folie 107"
   ]
  },
  {
   "cell_type": "code",
   "execution_count": null,
   "id": "e2a06217-6f87-411c-9ef2-d7bacacfd9a8",
   "metadata": {},
   "outputs": [],
   "source": [
    "function J=jac(x,f)\n",
    "n = length(x);\n",
    "f0 = f(x);\n",
    "for i = 1:n\n",
    "\th = sqrt(eps)*max(1.0e-8,abs(x(i)));\n",
    "\tx1 = x; x1(i)=x1(i)+h;\n",
    "\tJ(:,i) = (f(x1)-f0)/h;\n",
    "end"
   ]
  },
  {
   "cell_type": "markdown",
   "id": "a2c80bbd-4f8f-4e30-8e96-92e54174a240",
   "metadata": {},
   "source": [
    "### Wie sehen Interpolationspolynome aus? – Folie 118"
   ]
  },
  {
   "cell_type": "code",
   "execution_count": null,
   "id": "bae67298-d0b1-485d-96b6-1a8d0756f752",
   "metadata": {},
   "outputs": [],
   "source": [
    "x=linspace(-4,4,1000);\n",
    "y=exp(-x.^2);\n",
    "for i=1:9\n",
    "\tx1=linspace(-4,4,i);\n",
    "\ty1=exp(-x1.^2);\n",
    "\tp=polyfit(x1,y1,i-1); % Interpolationsploynom\n",
    "\t\t\t % vom Grade i-1\n",
    "\ty2=polyval(p,x); % Auswertung des Polynoms\n",
    "\tsubplot(3,3,i);\n",
    "\tplot(x,y,x1,y1,'o',x,y2);\n",
    "end"
   ]
  },
  {
   "cell_type": "markdown",
   "id": "0dad2ee7-931e-4897-9df2-6ea7bf4c6027",
   "metadata": {},
   "source": [
    "### Wie sehen Ausgleichspolynome aus? – Folie 126"
   ]
  },
  {
   "cell_type": "code",
   "execution_count": null,
   "id": "447c2f8b-6419-4559-ad33-17dfbf37c906",
   "metadata": {},
   "outputs": [],
   "source": [
    "x=linspace(0,5,1000);\n",
    "y=exp(-x);\n",
    "x1=linspace(0,5,11);\n",
    "y1=exp(-x1);\n",
    "for i=1:4\n",
    "\tp=polyfit(x1,y1,i-1);\n",
    "\ty2=polyval(p,x);\n",
    "\tsubplot(2,2,i);\n",
    "\tplot(x,y,x1,y1,'o',x,y2);\n",
    "end"
   ]
  },
  {
   "cell_type": "markdown",
   "id": "47890c70-e61b-4bb2-bb8f-2b88f0eedd57",
   "metadata": {},
   "source": [
    "- 2) MATLAB Befehle – Folie 130"
   ]
  },
  {
   "cell_type": "code",
   "execution_count": null,
   "id": "3dc9846c-aeb3-428d-be1d-035ae2ee9ffa",
   "metadata": {},
   "outputs": [],
   "source": [
    "load bonn.dat;\n",
    "plot(bonn(:,1),bonn(:,2),'x');"
   ]
  },
  {
   "cell_type": "markdown",
   "id": "8edcd0ab-e0e0-44a6-a789-1125f6cec4c9",
   "metadata": {},
   "source": [
    "- Ausgleichspolynom 3. Grades – Folie 131"
   ]
  },
  {
   "cell_type": "code",
   "execution_count": null,
   "id": "cd886d4d-a9ab-41a8-891e-8c2c59f00487",
   "metadata": {},
   "outputs": [],
   "source": [
    "pp=polyfit(bonn(:,1),bonn(:,2),3)"
   ]
  },
  {
   "cell_type": "markdown",
   "id": "984cf21d-62e1-42c9-875e-27315ae84965",
   "metadata": {},
   "source": [
    "liefert $p(x) = 268.56 + 3.41 x + 0.00616 x^2 + 5.9 \\cdot 10^{-7} x^3$.\n",
    "\n",
    "- Graphische Darstellung"
   ]
  },
  {
   "cell_type": "code",
   "execution_count": null,
   "id": "464452b6-2944-41c8-a703-961cc7c3dce6",
   "metadata": {},
   "outputs": [],
   "source": [
    "y=polyval(pp,bonn(:,1));\n",
    "plot(bonn(:,1),y,bonn(:,1),bonn(:,2),'x');"
   ]
  },
  {
   "cell_type": "markdown",
   "id": "8c222872-1dcf-49d1-996c-0c7b525256ec",
   "metadata": {},
   "source": [
    "### MATLAB – Folie 152"
   ]
  },
  {
   "cell_type": "code",
   "execution_count": null,
   "id": "1621712c-662d-40da-8687-ea1dbdbbd1fc",
   "metadata": {},
   "outputs": [],
   "source": [
    "function f=rohr(x)\n",
    "f=sqrt(4-x.^2);\n",
    "Hauptprogramm (Trapezregel)\n",
    "format long;\n",
    "a=1.0; b=2.0;\n",
    "n=100; h=(b-a)/n;\n",
    "sum=rohr(a)+rohr(b);\n",
    "x=a;\n",
    "for i=1:n-1\n",
    "\tx=x+h;\n",
    "\tsum=sum+2.0*rohr(x);\n",
    "end\n",
    "sum=h*sum/2 \t% ist das Ergebnis"
   ]
  },
  {
   "cell_type": "markdown",
   "id": "a77dfbf6-cb9f-4ec3-9544-3ef581efcd1a",
   "metadata": {},
   "source": [
    "- Folie 153\n",
    "\n",
    "Vergleich: MATLAB-Routine `quad` (=adaptives Simpsonverfahren)"
   ]
  },
  {
   "cell_type": "code",
   "execution_count": null,
   "id": "793ba3d7-225f-44d5-8007-70db260d402e",
   "metadata": {},
   "outputs": [],
   "source": [
    "q=quad(@rohr,1.,2.)"
   ]
  },
  {
   "cell_type": "markdown",
   "id": "9ae01ec0-8593-4509-b3cb-eed846ae556c",
   "metadata": {},
   "source": [
    "### Anwendungsbeispiel zu ode45 – Folie 174\n",
    "\n",
    "Lösung des AWP\n",
    "\n",
    "$$y' = -2y, y(0) = 1$$\n",
    "\n",
    "und Vergleich mit der exakten Lösung $y(t) = e^{-2t}$"
   ]
  },
  {
   "cell_type": "code",
   "execution_count": null,
   "id": "19497360-cf1c-4615-bd32-ed5c099af3f3",
   "metadata": {},
   "outputs": [],
   "source": [
    "y0 = 1;\n",
    "tspan = [0, 3];\n",
    "[t,y] = ode45(@dgl, tspan, y0);\n",
    "plot(t,y,'x',t,exp(-2*t));\n",
    "function dy = dgl(t,y)\n",
    "dy = -2*y;"
   ]
  },
  {
   "cell_type": "markdown",
   "id": "42d37578-c342-4c16-8a99-08d44832ea14",
   "metadata": {},
   "source": [
    "- Folie 175\n",
    "\n",
    "Höhere Genauigkeit = kleinere Zeitschritte"
   ]
  },
  {
   "cell_type": "code",
   "execution_count": null,
   "id": "d5f4e64b-86f8-452d-a542-e39eee30cc90",
   "metadata": {},
   "outputs": [],
   "source": [
    "...\n",
    "options = odeset('RelTol',1.0e-6,'AbsTol',1.0e-8);\n",
    "[t,y] = ode45(@dgl, tspan, y0, options);\n",
    "..."
   ]
  },
  {
   "cell_type": "markdown",
   "id": "19895692-37d1-4114-9ef8-6e90c239e382",
   "metadata": {},
   "source": [
    "### Beispiel – Folie 177\n",
    "\n",
    "Lösung des AWP\n",
    "\n",
    "$$y'' = -y, y(0) = 0, y'(0) = 1$$\n",
    "\n",
    "und Vergleich mit der exakten Lösung $y(t) = \\sin(t)$"
   ]
  },
  {
   "cell_type": "code",
   "execution_count": null,
   "id": "205856d0-4c6e-4669-82c1-137996dad87a",
   "metadata": {},
   "outputs": [],
   "source": [
    "y0 = [0 1];\n",
    "tspan = [0, 2*pi];\n",
    "[t,y] = ode45(@dgl, tspan, y0);\n",
    "plot(t,y(:,1),'x',t,sin(t));\n",
    "function dz = dgl(t,z)\n",
    "dz(1,1) = z(2);\n",
    "dz(2,1) = -z(1);"
   ]
  },
  {
   "cell_type": "markdown",
   "id": "55ad85ac-3e18-48da-b322-fccbc5fb9a9b",
   "metadata": {},
   "source": [
    "### Folie 182"
   ]
  },
  {
   "cell_type": "code",
   "execution_count": null,
   "id": "083c382a-a3fc-45ab-ba34-639373f641e3",
   "metadata": {},
   "outputs": [],
   "source": [
    "function masse_1\n",
    "g = 9.81; x0 = 0; u0 = 10; z0 = 0; v0 = 10;\n",
    "dt = 0.01; k=1; % Zaehler, Zeitschritt\n",
    "x(k) = x0; z(k) = z0; t(k) = 0;\n",
    "while z(k) >= 0\n",
    "\tk = k+1;\n",
    "\tt(k) = t(k-1) + dt;\n",
    "\tx(k) = u0*t(k) + x0;\n",
    "\tz(k) = -0.5*g*t(k)^2 + v0*t(k) + z0;\n",
    "end\n",
    "plot(x,z)"
   ]
  },
  {
   "cell_type": "markdown",
   "id": "14239e01-ab35-4aa8-88ca-515a8b0df5d0",
   "metadata": {},
   "source": [
    "- Folie 183"
   ]
  },
  {
   "cell_type": "code",
   "execution_count": null,
   "id": "9f4ae868-d26f-4572-9037-4f24ab6d3c78",
   "metadata": {},
   "outputs": [],
   "source": [
    "function masse_2\n",
    "% animierte Darstellung\n",
    "g = 9.81; x0 =0; u0 = 10; z0 = 0; v0 = 10;\n",
    "dt = 0.01; k=1; % Zaehler, Zeitschritt\n",
    "x(k) = x0; z(k) = z0; t(k) = 0;\n",
    "axis equal; axis([0 21 0 6]);\n",
    "r = 0.1;\n",
    "kreis = rectangle('Position',[x(k)-r z(k)-r 2*r 2*r],...\n",
    "\t\t'Curvature',[1 1],'FaceColor','r');\n",
    "while z(k) >= 0\n",
    "\tk = k+1;\n",
    "\tt(k) = t(k-1) + dt; x(k) = u0*t(k) + x0;\n",
    "\tz(k) = -0.5*g*t(k)^2 + v0*t(k) + z0;\n",
    "\tset(kreis,'Position',[x(k)-r z(k)-r 2*r 2*r]);\n",
    "\tdrawnow\n",
    "end"
   ]
  },
  {
   "cell_type": "markdown",
   "id": "bed008c9-228e-4d63-88e3-b0f4e3775910",
   "metadata": {},
   "source": [
    "- Folie 186"
   ]
  },
  {
   "cell_type": "code",
   "execution_count": null,
   "id": "e2e41258-e9ff-4d49-8649-a11a4ced644c",
   "metadata": {},
   "outputs": [],
   "source": [
    "function masse_3\n",
    "%--\n",
    "x0 =0; u0 = 10; z0 = 0; v0 = 10;\n",
    "tspan = [0 2];\n",
    "y0 = [x0 u0 z0 v0];\n",
    "options = odeset('RelTol',1.0e-6);\n",
    "[t,y] = ode45(@dgl, tspan, y0, options);\n",
    "plot(y(:,1),y(:,3))\n",
    "function dy = dgl(t,y)\n",
    "g = 9.81;\n",
    "dy(1,1) = y(2);\n",
    "dy(2,1) = 0;\n",
    "dy(3,1) = y(4);\n",
    "dy(4,1) = -g;"
   ]
  },
  {
   "cell_type": "markdown",
   "id": "9ff2d831-6c30-4711-af7d-7996e7257553",
   "metadata": {},
   "source": [
    "- Folie 187\n",
    "\n",
    "mit Animation"
   ]
  },
  {
   "cell_type": "code",
   "execution_count": null,
   "id": "3aeff427-487b-43cc-820f-6b6280388f9c",
   "metadata": {},
   "outputs": [],
   "source": [
    "...\n",
    "[t,y] = ode45(@dgl, tspan, y0, options);\n",
    "r = 0.1;\n",
    "axis equal\n",
    "axis([0 21 0 6]);\n",
    "line(y(:,1),y(:,3))\n",
    "kreis = rectangle('Position',[x0-r z0-r 2*r 2*r],...\n",
    "\t\t'Curvature',[1 1],'FaceColor','r');\n",
    "for i=1:length(t)\n",
    "\tset(kreis,'Position',[y(i,1)-r y(i,3)-r 2*r 2*r]);\n",
    "\tdrawnow\n",
    "\tpause(0.1)\n",
    "end"
   ]
  },
  {
   "cell_type": "markdown",
   "id": "b960a334-8ecf-440b-a9d3-55d239cc7ab5",
   "metadata": {},
   "source": [
    "- Folie 188"
   ]
  },
  {
   "cell_type": "code",
   "execution_count": null,
   "id": "664714d1-68e1-4ad8-ba2e-5ed88dc0e238",
   "metadata": {},
   "outputs": [],
   "source": [
    "% Hauptprogramm\n",
    "options = odeset('RelTol',1.0e-6,'Events',@events);\n",
    "[t,y] = ode45(@dgl, tspan, y0, options);\n",
    "....\n",
    "function [value,isterminal,direction]=events(t,y)\n",
    "%-- Eventfunktion, stoppt Integration bei z=0\n",
    "isterminal = 1; % stoppe Simulation\n",
    "direction = -1; % nur bei fallender event-Funktion\n",
    "value= y(3);"
   ]
  },
  {
   "cell_type": "markdown",
   "id": "42cba5d4-d9a9-41f2-a405-9aee06d8386b",
   "metadata": {},
   "source": [
    "- Folie 202"
   ]
  },
  {
   "cell_type": "code",
   "execution_count": null,
   "id": "d9f7264f-45d4-4fd7-9406-801f1c6d19bc",
   "metadata": {},
   "outputs": [],
   "source": [
    "function masse_abhang\n",
    "global g m\n",
    "g = 9.81; m = 2;\n",
    "y0 = [0 0 0 0 g*m/2];\n",
    "tspan = [0 20];\n",
    "M = eye(5); M(5,5)=0;\n",
    "options = odeset('Mass',M);\n",
    "[t,z] = ode15s(@dgl, tspan, y0,options);\n",
    "plot(z(:,1),z(:,3))\n",
    "function dz = dgl(t,z)\n",
    "global g m\n",
    "dz(1,1) = z(2);\n",
    "dz(2,1) = z(5)/m;\n",
    "dz(3,1) = z(4);\n",
    "dz(4,1) = g - z(5)/m;\n",
    "dz(5,1) = g - 2*z(5)/m;"
   ]
  },
  {
   "cell_type": "markdown",
   "id": "00500613-5ca6-44dc-9bd2-7574a86b8d84",
   "metadata": {},
   "source": [
    "## ModSim2"
   ]
  },
  {
   "cell_type": "code",
   "execution_count": null,
   "id": "ae319de6-6d51-49c1-8ac5-4995ae7632e9",
   "metadata": {},
   "outputs": [],
   "source": []
  }
 ],
 "metadata": {
  "kernelspec": {
   "display_name": "Octave",
   "language": "octave",
   "name": "octave"
  },
  "language_info": {
   "name": ""
  }
 },
 "nbformat": 4,
 "nbformat_minor": 5
}
